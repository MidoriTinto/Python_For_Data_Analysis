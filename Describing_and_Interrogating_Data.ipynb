{
  "nbformat": 4,
  "nbformat_minor": 0,
  "metadata": {
    "colab": {
      "name": "Describing and Interrogating Data.ipynb",
      "provenance": [],
      "collapsed_sections": [],
      "include_colab_link": true
    },
    "kernelspec": {
      "name": "python3",
      "display_name": "Python 3"
    },
    "language_info": {
      "name": "python"
    }
  },
  "cells": [
    {
      "cell_type": "markdown",
      "metadata": {
        "id": "view-in-github",
        "colab_type": "text"
      },
      "source": [
        "<a href=\"https://colab.research.google.com/github/MidoriTinto/Python_Fundamentals/blob/main/Describing_and_Interrogating_Data.ipynb\" target=\"_parent\"><img src=\"https://colab.research.google.com/assets/colab-badge.svg\" alt=\"Open In Colab\"/></a>"
      ]
    },
    {
      "cell_type": "markdown",
      "metadata": {
        "id": "ZlD9__2sD2jr"
      },
      "source": [
        "# Describing and Interrogating Data \n",
        "---\n",
        "\n",
        "When using pandas we first need to import it \n",
        "\n",
        "` import pandas as pd ` \n",
        "\n",
        "\n",
        "When first looking at a dataset, it is important to be able to see information about the data such as summmary statistics, and interrogate it to find information. \n",
        "\n",
        "This is the least risky in terms of bias and inaccurate conclusions as it should focus just on what data is presented to us.\n",
        "\n",
        "### Summary Statistics\n",
        "--- \n",
        "\n",
        "Mean - the average  \n",
        "Median - middle value / 50% of the data (another type of average)   \n",
        "Range - the total range of values (max - min)  \n",
        "\n",
        "### Useful Functions\n",
        "---\n",
        "\n",
        "`head()` will show the first 5 rows of the dataframe. You can show a different amount of rows by putting the number of columns you would like to see in the brackets.    \n",
        "`tail()` same as head() but for the last 5 rows   \n",
        "`info()` will show information about the overall dataset, including how many Null values exist in each column, the data type of each column and dataframes length   \n",
        "`describe()` will show summary statistics for all numeric columns   \n",
        "`iloc[index]`  will show you row / rows at index position or in index range  \n",
        "`unique()` will show all the unique values in a column   \n",
        "`nunique()` will show the number of unique values in a column   \n",
        "`len()` will show the length (can be used on a list, array, column etc)  \n",
        "\n",
        "### Interrogating dataframes \n",
        "---\n",
        "\n",
        "To view subsets:\n",
        "\n",
        "* single column: `dataframe['column'] `\n",
        "* multiple columns: `dataframe[['column1', 'column2']]`\n",
        "* columns by criteria: `dataframe[dataframe['column'] == 'criteria']`\n",
        "* multiple conditions   \n",
        "`dataframe[(dataframe['column'] == condition1) & (dataframe['column'] == condition2)]`\n"
      ]
    },
    {
      "cell_type": "markdown",
      "metadata": {
        "id": "nfhz7LW3Qu9i"
      },
      "source": [
        "## Data Retrieval \n",
        "---\n",
        "\n",
        "In order to load in a dataset you will need to retrieve it. The following code retrieves different types of data. \n",
        "\n",
        "From a webpage:\n",
        "\n",
        "` pd.read_html(\"url\")`\n",
        "\n",
        "From a CSV hosted on Github:\n",
        "\n",
        "`pd.read_csv(\"url\")`\n",
        "\n",
        "From an Excel hosted on Github:\n",
        "\n",
        "`pd.read_excel(\"url\", sheet_name = \"sheet name\")`\n",
        "\n",
        "\n"
      ]
    },
    {
      "cell_type": "markdown",
      "metadata": {
        "id": "c1Vyby7pQOvq"
      },
      "source": [
        "### Exercise 1 - open the Titanic dataset and see descriptive info\n",
        "---\n",
        "\n",
        "The Titanic dataset is stored at this URL:\n",
        "https://raw.githubusercontent.com/pandas-dev/pandas/master/doc/data/titanic.csv\n",
        "\n",
        "1. Read the dataset into a pandas dataframe that you will call **titanic**.\n",
        "\n",
        "\n",
        "2. Write a function called **summary** that will: \n",
        "* Display the first 5 rows of the dataset \n",
        "* Use info() to display a technical summary of the data\n",
        "* Use describe() to display a numerical summary of the data \n",
        "\n",
        "\n",
        "**Expected Output** \n",
        "\n",
        "```\n",
        "   PassengerId  Survived  Pclass  ...     Fare Cabin  Embarked\n",
        "0            1         0       3  ...   7.2500   NaN         S\n",
        "1            2         1       1  ...  71.2833   C85         C\n",
        "2            3         1       3  ...   7.9250   NaN         S\n",
        "3            4         1       1  ...  53.1000  C123         S\n",
        "4            5         0       3  ...   8.0500   NaN         S\n",
        "\n",
        "[5 rows x 12 columns]\n",
        "<class 'pandas.core.frame.DataFrame'>\n",
        "RangeIndex: 891 entries, 0 to 890\n",
        "Data columns (total 12 columns):\n",
        " #   Column       Non-Null Count  Dtype  \n",
        "---  ------       --------------  -----  \n",
        " 0   PassengerId  891 non-null    int64  \n",
        " 1   Survived     891 non-null    int64  \n",
        " 2   Pclass       891 non-null    int64  \n",
        " 3   Name         891 non-null    object \n",
        " 4   Sex          891 non-null    object \n",
        " 5   Age          714 non-null    float64\n",
        " 6   SibSp        891 non-null    int64  \n",
        " 7   Parch        891 non-null    int64  \n",
        " 8   Ticket       891 non-null    object \n",
        " 9   Fare         891 non-null    float64\n",
        " 10  Cabin        204 non-null    object \n",
        " 11  Embarked     889 non-null    object \n",
        "dtypes: float64(2), int64(5), object(5)\n",
        "memory usage: 83.7+ KB\n",
        "None\n",
        "       PassengerId    Survived      Pclass  ...       SibSp       Parch        Fare\n",
        "count   891.000000  891.000000  891.000000  ...  891.000000  891.000000  891.000000\n",
        "mean    446.000000    0.383838    2.308642  ...    0.523008    0.381594   32.204208\n",
        "std     257.353842    0.486592    0.836071  ...    1.102743    0.806057   49.693429\n",
        "min       1.000000    0.000000    1.000000  ...    0.000000    0.000000    0.000000\n",
        "25%     223.500000    0.000000    2.000000  ...    0.000000    0.000000    7.910400\n",
        "50%     446.000000    0.000000    3.000000  ...    0.000000    0.000000   14.454200\n",
        "75%     668.500000    1.000000    3.000000  ...    1.000000    0.000000   31.000000\n",
        "max     891.000000    1.000000    3.000000  ...    8.000000    6.000000  512.329200\n",
        "\n",
        "[8 rows x 7 columns]\n",
        "```"
      ]
    },
    {
      "cell_type": "code",
      "metadata": {
        "id": "lRJhN1GsZSQc",
        "colab": {
          "base_uri": "https://localhost:8080/"
        },
        "outputId": "a97db0d3-78a4-44bd-b3d4-b6ca58b51b08"
      },
      "source": [
        "import pandas as pd\n",
        "\n",
        "url = \"https://raw.githubusercontent.com/pandas-dev/pandas/master/doc/data/titanic.csv\"\n",
        "titanic= pd.read_csv(url)\n",
        "titanic\n",
        "\n",
        "\n",
        "def get_summary(titanic):\n",
        "  # add code below which prints the first 5 rows of the dataset, the info and the numerical summary\n",
        "  \n",
        "  return (titanic)\n",
        "\n",
        "  \n",
        "# run and visually test using example above\n",
        "get_summary(titanic)\n",
        "print(titanic.head())\n",
        "print(titanic.info())\n",
        "print(titanic.describe())\n"
      ],
      "execution_count": null,
      "outputs": [
        {
          "output_type": "stream",
          "name": "stdout",
          "text": [
            "   PassengerId  Survived  Pclass  ...     Fare Cabin  Embarked\n",
            "0            1         0       3  ...   7.2500   NaN         S\n",
            "1            2         1       1  ...  71.2833   C85         C\n",
            "2            3         1       3  ...   7.9250   NaN         S\n",
            "3            4         1       1  ...  53.1000  C123         S\n",
            "4            5         0       3  ...   8.0500   NaN         S\n",
            "\n",
            "[5 rows x 12 columns]\n",
            "<class 'pandas.core.frame.DataFrame'>\n",
            "RangeIndex: 891 entries, 0 to 890\n",
            "Data columns (total 12 columns):\n",
            " #   Column       Non-Null Count  Dtype  \n",
            "---  ------       --------------  -----  \n",
            " 0   PassengerId  891 non-null    int64  \n",
            " 1   Survived     891 non-null    int64  \n",
            " 2   Pclass       891 non-null    int64  \n",
            " 3   Name         891 non-null    object \n",
            " 4   Sex          891 non-null    object \n",
            " 5   Age          714 non-null    float64\n",
            " 6   SibSp        891 non-null    int64  \n",
            " 7   Parch        891 non-null    int64  \n",
            " 8   Ticket       891 non-null    object \n",
            " 9   Fare         891 non-null    float64\n",
            " 10  Cabin        204 non-null    object \n",
            " 11  Embarked     889 non-null    object \n",
            "dtypes: float64(2), int64(5), object(5)\n",
            "memory usage: 83.7+ KB\n",
            "None\n",
            "       PassengerId    Survived      Pclass  ...       SibSp       Parch        Fare\n",
            "count   891.000000  891.000000  891.000000  ...  891.000000  891.000000  891.000000\n",
            "mean    446.000000    0.383838    2.308642  ...    0.523008    0.381594   32.204208\n",
            "std     257.353842    0.486592    0.836071  ...    1.102743    0.806057   49.693429\n",
            "min       1.000000    0.000000    1.000000  ...    0.000000    0.000000    0.000000\n",
            "25%     223.500000    0.000000    2.000000  ...    0.000000    0.000000    7.910400\n",
            "50%     446.000000    0.000000    3.000000  ...    0.000000    0.000000   14.454200\n",
            "75%     668.500000    1.000000    3.000000  ...    1.000000    0.000000   31.000000\n",
            "max     891.000000    1.000000    3.000000  ...    8.000000    6.000000  512.329200\n",
            "\n",
            "[8 rows x 7 columns]\n"
          ]
        }
      ]
    },
    {
      "cell_type": "markdown",
      "metadata": {
        "id": "MReHVTG2a7Yt"
      },
      "source": [
        "### Exercise 2 - displaying other statistics\n",
        "---\n",
        "\n",
        "Take a look at the list of methods available for giving summary statistics [here](https://pandas.pydata.org/docs/user_guide/basics.html#basics-stats) \n",
        "\n",
        "Use panda functions, and your existing knowledge, to display the following summary statistics from the titanic dataset:\n",
        "\n",
        "Write a function called **statistics** which returns:\n",
        "\n",
        "1.  The total number of passengers on the titanic\n",
        "2.  The age of the youngest passenger\n",
        "3.  The most expensive ticket price\n",
        "4.  The range of ticket prices\n",
        "5.  The number of passenges with cabins\n",
        "6.  The code for the port where the highest number of passengers embarked\n",
        "7.  The most populous gender\n",
        "8.  The standard deviation for age"
      ]
    },
    {
      "cell_type": "code",
      "metadata": {
        "id": "nfF3lqNFX_Wr",
        "colab": {
          "base_uri": "https://localhost:8080/"
        },
        "outputId": "a9fb0bc3-c260-4499-84c3-3cc093e8d7f7"
      },
      "source": [
        "import pandas as pd\n",
        "\n",
        "def get_statistics(titanic):\n",
        "  # add code below to return the stats listed above \n",
        "\n",
        "  passengers= titanic[\"PassengerId\"].count()\n",
        "  youngest=titanic[\"Age\"].min()\n",
        "  most_expensive=titanic[\"Fare\"].max()\n",
        "  range_ticket=titanic[\"Fare\"].max()-titanic[\"Fare\"].min()\n",
        "  no_cabins=titanic[\"Cabin\"].count()\n",
        "  embarked=[\"m\"]#titanic.groupby(\"Embarked\").count()\n",
        "  gender=titanic.groupby(\"Sex\")[\"Age\"].mean()  \n",
        "  sd=titanic[\"Age\"].std()\n",
        "\n",
        "  \n",
        "  \n",
        "\n",
        "  return passengers, youngest, most_expensive, range_ticket, no_cabins, embarked[0], gender[0], sd \n",
        "\n",
        "\n",
        "# run and test if answers are correct \n",
        "actual = get_statistics(titanic)\n",
        "expected = (891, 0.42, 512.3292, 512.3292, 204, 'S', 'male', 14.526497332334044)\n",
        "\n",
        "if actual == expected:\n",
        "  print(\"Test passed\", actual)\n",
        "else: \n",
        "  print(\"Test failed, expected\", expected, \"but got\", actual)\n"
      ],
      "execution_count": null,
      "outputs": [
        {
          "output_type": "stream",
          "name": "stdout",
          "text": [
            "Test failed, expected (891, 0.42, 512.3292, 512.3292, 204, 'S', 'male', 14.526497332334044) but got (891, 0.42, 512.3292, 512.3292, 204, 'm', 27.915708812260537, 14.526497332334044)\n"
          ]
        }
      ]
    },
    {
      "cell_type": "markdown",
      "metadata": {
        "id": "DWoxUSTec8-R"
      },
      "source": [
        "### Exercise 3 - aggregating statistics grouped by category\n",
        "---\n",
        "\n",
        "Refer again to the tutorial  \n",
        "[How to calculate summary statistics?](https://pandas.pydata.org/docs/getting_started/intro_tutorials/06_calculate_statistics.html#)   \n",
        "looking particularly at the section on Aggregating statistics grouped by category.\n",
        "\n",
        "Write a function called **grouped** which displays:\n",
        "\n",
        "1.  The mean age for male versus female Titanic passengers?\n",
        "2.  The mean ticket fare price for each of the sex and cabin class combinations?\n",
        "3.  The mean ticket fare price for passengers who embarked at each port?\n",
        "4.  Which passenger class had the highest number of survivors (for now, just show the statistics - it may not be meaningful yet)? *hint: you will need to filter for just survived rows, try using &* \n",
        "\n",
        "**Expected output**\n",
        "```\n",
        "            Age\n",
        " Sex              \n",
        " female  27.915709\n",
        " male    30.726645, \n",
        " \n",
        " Pclass  Sex   \n",
        " 1       female    106.125798\n",
        "         male       67.226127\n",
        " 2       female     21.970121\n",
        "         male       19.741782\n",
        " 3       female     16.118810\n",
        "         male       12.661633\n",
        "\n",
        " Name: Fare, dtype: float64 \n",
        " \n",
        " Embarked\n",
        " C    59.954144\n",
        " Q    13.276030\n",
        " S    27.079812\n",
        " Name: Fare, dtype: float64\n",
        " \n",
        " 0    1\n",
        " dtype: int64\n",
        " ```"
      ]
    },
    {
      "cell_type": "code",
      "metadata": {
        "id": "Q2yydIaYdLqa",
        "colab": {
          "base_uri": "https://localhost:8080/",
          "height": 175
        },
        "outputId": "4d234f3c-044b-40e2-c1dd-1194fcc97303"
      },
      "source": [
        "def get_grouped(titanic):\n",
        "  # add code below to return the above stats \n",
        "\n",
        "  average_age=titanic[[\"Sex\",\"Age\"]].groupby(\"Sex\").mean()\n",
        "  average_fare=titanic.groupby([\"Pclass\",\"Sex\"])[\"Fare\"].mean()\n",
        "  average_embarked=titanic[[\"Embarked\",\"Age\"]].groupby(\"Embarked\").mean()\n",
        "  max_survivors=titanic[[\"Pclass\", \"Survived\"]].groupby(\"Pclass\").mean()\n",
        "  \n",
        "  #return(average_age)\n",
        "  #return(average_fare)\n",
        "  #return(average_embarked)\n",
        "  return(max_survivors)\n",
        "\n",
        "  \n",
        "  \n",
        "\n",
        "\n",
        "\n",
        "# run and test visually using the above expected output \n",
        "get_grouped(titanic)\n",
        "\n",
        "\n"
      ],
      "execution_count": null,
      "outputs": [
        {
          "output_type": "execute_result",
          "data": {
            "text/html": [
              "\n",
              "  <div id=\"df-1e20e88e-279f-4799-b9ca-5bd476cd5cd8\">\n",
              "    <div class=\"colab-df-container\">\n",
              "      <div>\n",
              "<style scoped>\n",
              "    .dataframe tbody tr th:only-of-type {\n",
              "        vertical-align: middle;\n",
              "    }\n",
              "\n",
              "    .dataframe tbody tr th {\n",
              "        vertical-align: top;\n",
              "    }\n",
              "\n",
              "    .dataframe thead th {\n",
              "        text-align: right;\n",
              "    }\n",
              "</style>\n",
              "<table border=\"1\" class=\"dataframe\">\n",
              "  <thead>\n",
              "    <tr style=\"text-align: right;\">\n",
              "      <th></th>\n",
              "      <th>Survived</th>\n",
              "    </tr>\n",
              "    <tr>\n",
              "      <th>Pclass</th>\n",
              "      <th></th>\n",
              "    </tr>\n",
              "  </thead>\n",
              "  <tbody>\n",
              "    <tr>\n",
              "      <th>1</th>\n",
              "      <td>0.629630</td>\n",
              "    </tr>\n",
              "    <tr>\n",
              "      <th>2</th>\n",
              "      <td>0.472826</td>\n",
              "    </tr>\n",
              "    <tr>\n",
              "      <th>3</th>\n",
              "      <td>0.242363</td>\n",
              "    </tr>\n",
              "  </tbody>\n",
              "</table>\n",
              "</div>\n",
              "      <button class=\"colab-df-convert\" onclick=\"convertToInteractive('df-1e20e88e-279f-4799-b9ca-5bd476cd5cd8')\"\n",
              "              title=\"Convert this dataframe to an interactive table.\"\n",
              "              style=\"display:none;\">\n",
              "        \n",
              "  <svg xmlns=\"http://www.w3.org/2000/svg\" height=\"24px\"viewBox=\"0 0 24 24\"\n",
              "       width=\"24px\">\n",
              "    <path d=\"M0 0h24v24H0V0z\" fill=\"none\"/>\n",
              "    <path d=\"M18.56 5.44l.94 2.06.94-2.06 2.06-.94-2.06-.94-.94-2.06-.94 2.06-2.06.94zm-11 1L8.5 8.5l.94-2.06 2.06-.94-2.06-.94L8.5 2.5l-.94 2.06-2.06.94zm10 10l.94 2.06.94-2.06 2.06-.94-2.06-.94-.94-2.06-.94 2.06-2.06.94z\"/><path d=\"M17.41 7.96l-1.37-1.37c-.4-.4-.92-.59-1.43-.59-.52 0-1.04.2-1.43.59L10.3 9.45l-7.72 7.72c-.78.78-.78 2.05 0 2.83L4 21.41c.39.39.9.59 1.41.59.51 0 1.02-.2 1.41-.59l7.78-7.78 2.81-2.81c.8-.78.8-2.07 0-2.86zM5.41 20L4 18.59l7.72-7.72 1.47 1.35L5.41 20z\"/>\n",
              "  </svg>\n",
              "      </button>\n",
              "      \n",
              "  <style>\n",
              "    .colab-df-container {\n",
              "      display:flex;\n",
              "      flex-wrap:wrap;\n",
              "      gap: 12px;\n",
              "    }\n",
              "\n",
              "    .colab-df-convert {\n",
              "      background-color: #E8F0FE;\n",
              "      border: none;\n",
              "      border-radius: 50%;\n",
              "      cursor: pointer;\n",
              "      display: none;\n",
              "      fill: #1967D2;\n",
              "      height: 32px;\n",
              "      padding: 0 0 0 0;\n",
              "      width: 32px;\n",
              "    }\n",
              "\n",
              "    .colab-df-convert:hover {\n",
              "      background-color: #E2EBFA;\n",
              "      box-shadow: 0px 1px 2px rgba(60, 64, 67, 0.3), 0px 1px 3px 1px rgba(60, 64, 67, 0.15);\n",
              "      fill: #174EA6;\n",
              "    }\n",
              "\n",
              "    [theme=dark] .colab-df-convert {\n",
              "      background-color: #3B4455;\n",
              "      fill: #D2E3FC;\n",
              "    }\n",
              "\n",
              "    [theme=dark] .colab-df-convert:hover {\n",
              "      background-color: #434B5C;\n",
              "      box-shadow: 0px 1px 3px 1px rgba(0, 0, 0, 0.15);\n",
              "      filter: drop-shadow(0px 1px 2px rgba(0, 0, 0, 0.3));\n",
              "      fill: #FFFFFF;\n",
              "    }\n",
              "  </style>\n",
              "\n",
              "      <script>\n",
              "        const buttonEl =\n",
              "          document.querySelector('#df-1e20e88e-279f-4799-b9ca-5bd476cd5cd8 button.colab-df-convert');\n",
              "        buttonEl.style.display =\n",
              "          google.colab.kernel.accessAllowed ? 'block' : 'none';\n",
              "\n",
              "        async function convertToInteractive(key) {\n",
              "          const element = document.querySelector('#df-1e20e88e-279f-4799-b9ca-5bd476cd5cd8');\n",
              "          const dataTable =\n",
              "            await google.colab.kernel.invokeFunction('convertToInteractive',\n",
              "                                                     [key], {});\n",
              "          if (!dataTable) return;\n",
              "\n",
              "          const docLinkHtml = 'Like what you see? Visit the ' +\n",
              "            '<a target=\"_blank\" href=https://colab.research.google.com/notebooks/data_table.ipynb>data table notebook</a>'\n",
              "            + ' to learn more about interactive tables.';\n",
              "          element.innerHTML = '';\n",
              "          dataTable['output_type'] = 'display_data';\n",
              "          await google.colab.output.renderOutput(dataTable, element);\n",
              "          const docLink = document.createElement('div');\n",
              "          docLink.innerHTML = docLinkHtml;\n",
              "          element.appendChild(docLink);\n",
              "        }\n",
              "      </script>\n",
              "    </div>\n",
              "  </div>\n",
              "  "
            ],
            "text/plain": [
              "        Survived\n",
              "Pclass          \n",
              "1       0.629630\n",
              "2       0.472826\n",
              "3       0.242363"
            ]
          },
          "metadata": {},
          "execution_count": 6
        }
      ]
    },
    {
      "cell_type": "markdown",
      "metadata": {
        "id": "uK8OYsAzdvQ0"
      },
      "source": [
        "### Exercise 4 - using iloc\n",
        "---\n",
        "Write a function called **get_middle** to:\n",
        "*   display the middle 20 records (use the shape of the dataframe to help you identify the index positions of these)\n"
      ]
    },
    {
      "cell_type": "code",
      "metadata": {
        "id": "2_xKQkKijYlo",
        "colab": {
          "base_uri": "https://localhost:8080/"
        },
        "outputId": "1598b447-aad9-4a9f-ec3a-42079ddb865e"
      },
      "source": [
        "def get_middle(df):\n",
        "  # add code below to return middle 20 records \n",
        "\n",
        "  middle=titanic.loc[436:455]\n",
        "  return middle\n",
        "\n",
        "\n",
        "\n",
        "# run and test if your returned 20 records starts at correct index \n",
        "\n",
        "actual = get_middle(titanic).index[0]\n",
        "expected = 436\n",
        "\n",
        "if actual == expected:\n",
        "  print(\"Test passed\", actual)\n",
        "else: \n",
        "  print(\"Test failed expected index of\", expected, \"got\", actual)\n",
        "\n"
      ],
      "execution_count": null,
      "outputs": [
        {
          "output_type": "stream",
          "name": "stdout",
          "text": [
            "Test passed 436\n"
          ]
        }
      ]
    },
    {
      "cell_type": "markdown",
      "metadata": {
        "id": "MRzwCCb1jYts"
      },
      "source": [
        "### Exercise 5 - migration to and from\n",
        "---\n",
        "\n",
        "The Excel file at this link (which you have already opened above): https://github.com/futureCodersSE/working-with-data/blob/main/Data%20sets/public_use-talent-migration.xlsx?raw=true has three data sheets, \"Country Migration\", \"Industry Migration\" and \"Skill Migration\"\n",
        "\n",
        "Read the data sheet \"Country Migration\" into a variable called **country** \n",
        "\n",
        "Write a function called **get_uk_mig** that will return all the rows which had migration to the United Kingdom "
      ]
    },
    {
      "cell_type": "code",
      "metadata": {
        "id": "4hCS4n2XlPXN",
        "colab": {
          "base_uri": "https://localhost:8080/"
        },
        "outputId": "ac62bdb7-1f07-44e4-9fac-ee215f723816"
      },
      "source": [
        "url= \"https://github.com/futureCodersSE/working-with-data/blob/main/Data%20sets/public_use-talent-migration.xlsx?raw=true\"\n",
        "country=pd.read_excel(url , sheet_name = \"Country Migration\")\n",
        "country\n",
        "\n",
        "\n",
        "def get_uk_mig(country):\n",
        "  # add code below to return all rows which had migration to the UK\n",
        "\n",
        "  uk_mig=country.loc[country[\"target_country_name\"]==\"United Kingdom\"]\n",
        "\n",
        "#testing will returned 122 rows!\n",
        "#get_uk_mig(country)\n",
        "#print (get_uk_mig(country))\n",
        "\n",
        " # run and test if your returned series is the correct length \n",
        "\n",
        "  actual = len(uk_mig(country))\n",
        "  expected = 122\n",
        "\n",
        "if actual == expected:\n",
        "  print(\"Test passed\", actual)\n",
        "else: \n",
        "  print(\"Test failed expected\", expected, \"got\", actual)\n",
        "\n",
        "\n",
        "\n"
      ],
      "execution_count": null,
      "outputs": [
        {
          "output_type": "stream",
          "name": "stdout",
          "text": [
            "Test passed 436\n"
          ]
        }
      ]
    },
    {
      "cell_type": "markdown",
      "metadata": {
        "id": "EgW80B3mlPpl"
      },
      "source": [
        "### Exercise 6 - how many countries are migrated to\n",
        "\n",
        "Using the \"Country Migration\" sheet again, get the total number of unique country names of where people have migrated from.\n"
      ]
    },
    {
      "cell_type": "code",
      "metadata": {
        "id": "ZQTbjWlBlm3S",
        "colab": {
          "base_uri": "https://localhost:8080/"
        },
        "outputId": "96fd3e4b-e526-42ae-9b43-06d2eab4998a"
      },
      "source": [
        "def migration(country):\n",
        "  #add code below to return the total number of unique country names of where people have migrated from \n",
        "\n",
        "  base_country_name=country.base_country_name.unique()\n",
        "  return len(base_country_name)\n",
        "\n",
        "migration(country)\n",
        "print(migration(country))\n",
        "\n",
        "# run and test if you have the correct number of unique countries \n",
        "#actual = migration(country)\n",
        "#expected = 140\n",
        "\n",
        "#if actual == expected:\n",
        "  #print(\"Test passed\", actual)\n",
        "#else: \n",
        "  #print(\"Test failed expected\", expected, \"got\", actual)\n",
        "\n",
        "\n"
      ],
      "execution_count": null,
      "outputs": [
        {
          "output_type": "stream",
          "name": "stdout",
          "text": [
            "140\n"
          ]
        }
      ]
    },
    {
      "cell_type": "markdown",
      "metadata": {
        "id": "pQV2NO8umBSk"
      },
      "source": [
        "# Reflection\n",
        "----\n",
        "\n",
        "## What skills have you demonstrated in completing this notebook?"
      ]
    },
    {
      "cell_type": "markdown",
      "metadata": {
        "id": "NUVvt2r0mCKq"
      },
      "source": [
        "Your answer: I am able to describe and interrogate data by importing libraries (pandas) and calling data files from different sources.  "
      ]
    },
    {
      "cell_type": "markdown",
      "metadata": {
        "id": "SOrbWOuFmObq"
      },
      "source": [
        "## What caused you the most difficulty?"
      ]
    },
    {
      "cell_type": "markdown",
      "metadata": {
        "id": "G_eGng1GmO78"
      },
      "source": [
        "Your answer:I had a bit of difficulty solving exercises 2 (embarked doesn't show me \"S\" and gender returns the average of all female instead of the word \"female\")."
      ]
    }
  ]
}