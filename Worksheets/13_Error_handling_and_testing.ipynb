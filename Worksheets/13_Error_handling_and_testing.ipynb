{
  "nbformat": 4,
  "nbformat_minor": 0,
  "metadata": {
    "colab": {
      "name": "13_Error-handling-and-testing.ipynb",
      "provenance": [],
      "collapsed_sections": [],
      "include_colab_link": true
    },
    "kernelspec": {
      "name": "python3",
      "display_name": "Python 3"
    },
    "language_info": {
      "name": "python"
    }
  },
  "cells": [
    {
      "cell_type": "markdown",
      "metadata": {
        "id": "view-in-github",
        "colab_type": "text"
      },
      "source": [
        "<a href=\"https://colab.research.google.com/github/MidoriTinto/Python_For_Data_Analysis/blob/main/Worksheets/13_Error_handling_and_testing.ipynb\" target=\"_parent\"><img src=\"https://colab.research.google.com/assets/colab-badge.svg\" alt=\"Open In Colab\"/></a>"
      ]
    },
    {
      "cell_type": "markdown",
      "metadata": {
        "id": "llhPjzuu7KLX"
      },
      "source": [
        "# Dealing with errors\n",
        "---\n",
        "\n",
        "There are various types of error that a well written function will handle but which can sometimes be forgotten.\n",
        "\n",
        "Errors can be categorised into:\n",
        "*  Syntax errors  \n",
        "errors in the code that stop it from being interpreted and run - these are often picked up by the code editor, or by Python when it tries to translate the code before running it  \n",
        "\n",
        "*  Logic errors  \n",
        "these are hard to pick up and rely on good testing or user feedback.  A logic error will result in 'wrong' data or functionality  \n",
        "\n",
        "*  Runtime errors  \n",
        "these are generally caused by operations that work perfectly well with the 'right' data but fall over if they encounter the 'wrong' data.\n",
        "\n",
        "### Exercise 1  \n",
        "---\n",
        "\n",
        "The code below has a `syntax` error.  Correct the error and run the code.\n"
      ]
    },
    {
      "cell_type": "code",
      "metadata": {
        "id": "fqvRJOFz7HEs",
        "colab": {
          "base_uri": "https://localhost:8080/"
        },
        "outputId": "ab255993-6877-49e8-d55e-69c727a85e0c"
      },
      "source": [
        "def get_list():\n",
        "  mylist = [\"red\",'yellow','pink',\"green\",'orange',\"purple\",\"blue\"]\n",
        "  return mylist\n",
        "\n",
        "print(get_list())"
      ],
      "execution_count": null,
      "outputs": [
        {
          "output_type": "stream",
          "name": "stdout",
          "text": [
            "['red', 'yellow', 'pink', 'green', 'orange', 'purple', 'blue']\n"
          ]
        }
      ]
    },
    {
      "cell_type": "markdown",
      "metadata": {
        "id": "G8fVmU5h86Dn"
      },
      "source": [
        "### Exercise 2 \n",
        "---\n",
        "\n",
        "The code below has a `logic` error.  The function is being run by a test, which will fail on first run.  Correct the error and run the code to get the test to pass."
      ]
    },
    {
      "cell_type": "code",
      "metadata": {
        "id": "irDAREWJ9AdV",
        "colab": {
          "base_uri": "https://localhost:8080/"
        },
        "outputId": "88443268-0a5e-4139-a8b7-3c7185199426"
      },
      "source": [
        "def calculate_average(nums):\n",
        "  total = 0\n",
        "  for num in nums:\n",
        "    total += num\n",
        "  return total/len(nums)\n",
        "  print(total/len(nums))\n",
        "\n",
        "# Test\n",
        "actual = calculate_average([4,2,6,8,3,1])\n",
        "expected = 4\n",
        "if  actual == expected:\n",
        "  print(\"Test passed\")\n",
        "else:\n",
        "  print(\"Test failed, expected\", expected, \"but got\", actual)\n"
      ],
      "execution_count": null,
      "outputs": [
        {
          "output_type": "stream",
          "name": "stdout",
          "text": [
            "Test passed\n"
          ]
        }
      ]
    },
    {
      "cell_type": "markdown",
      "metadata": {
        "id": "sBXNkQqJ9bX-"
      },
      "source": [
        "### Exercise 3\n",
        "---\n",
        "\n",
        "The code below does not have any errors and will run perfectly well, until it receives some data that doesn't fit what it is expecting.  Run the code, entering the number 16, it will crash (a runtime error) because the Python input() function always returns a string, which can't be divided.  One solution is to convert the input to an integer.  This will deal with the input problem in most cases.  \n",
        "\n",
        "Make a change to the function code to convert the input into an int.  Then run the test again, there should be no runtime error and the test should now pass."
      ]
    },
    {
      "cell_type": "code",
      "metadata": {
        "id": "1A5DkNo59ZZA",
        "colab": {
          "base_uri": "https://localhost:8080/"
        },
        "outputId": "1e9cb458-e900-43f8-f8c7-50947c817a80"
      },
      "source": [
        "def get_user_input():\n",
        "  user_input = input(\"Please enter a number \")\n",
        "  return int(user_input)\n",
        "\n",
        "### Test 1 - user enters 16 ###\n",
        "print(\"Test 1 - with valid integer\")\n",
        "actual = get_user_input() / 2\n",
        "expected = 8\n",
        "if  actual == expected:\n",
        "  print(\"Test passed\")\n",
        "else:\n",
        "  print(\"Test failed, expected\", expected, \"but got\", actual)\n"
      ],
      "execution_count": null,
      "outputs": [
        {
          "output_type": "stream",
          "name": "stdout",
          "text": [
            "Test 1 - with valid integer\n",
            "Please enter a number 16\n",
            "Test passed\n"
          ]
        }
      ]
    },
    {
      "cell_type": "markdown",
      "metadata": {
        "id": "1UI44hURAgf2"
      },
      "source": [
        "### Exercise 4\n",
        "---\n",
        "\n",
        "The solution you have just implemented will solve the known problem that input() always returns a string, BUT, what if the user actually enters something that isn't a number?  Run the code below, it will crash with the input **six** but we don't want users to be informed of an input error by the program crashing! \n",
        "\n",
        "This error is not a given (like inputs always being strings) it has to be anticipated as a possibility.  \n",
        "\n",
        "In these cases - often from any form of input not being of the right type, including from the user, a file, an API call, a database read or function parameters - we want to try to handle the error and to allow the program to deal with it gracefully, instead of crashing.\n",
        "\n",
        "Most programming languages have instructions for handling runtime errors like this.  In any situation where there is potential for runtime errors, you can use:  \n",
        "\n",
        "```\n",
        "try:\n",
        "  # code to run\n",
        "except:\n",
        "  # what to do if there is an error, to handle the problem gracefully and move on\n",
        "```\n",
        "If a runtime error occurs at any point within the `try` section, processing will switch to the `except` section and run the code there (this might report the problem to the user, then stop so that processing continues from before the try, or it might log the error, inform the user and shut the program down).  What is done in the `except` section depends on the severity of the error and its effect on the further running of the program (ie data might be corrupted at this point and so it is not advisable to continue).  \n",
        "\n",
        "In the example below, the runtime error occurs when it is trying to divide numbers that are not valid, so we will use `try: .. except: ..` in the function to ensure that a valid number is always returned and that an error message to the user is shown if the input was invalid.  For this example, if there is an invalid input we will return 0 (so we are always returning a valid input but it will result in 0 when divided so for the purposes of this example, this will do)\n",
        "\n",
        "### Add a second test for invalid integers\n",
        "\n",
        "Add a second test to the code below:\n",
        "\n",
        "This test should expect that the result is 0 when the user enters a word, such as `six`.\n",
        "\n",
        "The code below now has two tests, the first expects the user to enter 16 and the second expects the user to enter the word *six*\n",
        "\n",
        "Run the code, first enter 16 and you should see that the first test still passes, even though the code has been changed to include the `try...except`.  \n",
        "\n",
        "You will be asked to enter a number again (as there are 2 tests).  Enter `six` and you should see that this test also passes, but should see an error message letting you know that this was an invalid number.  The code is doing exactly what it should do:  \n",
        "\n",
        "```\n",
        "Test 1 - with valid integer\n",
        "Please enter a number 16\n",
        "Test passed\n",
        "\n",
        "Test 2 - with invalid integer\n",
        "Please enter a number six\n",
        "Invalid number, run the function again\n",
        "Test passed\n",
        "```"
      ]
    },
    {
      "cell_type": "code",
      "metadata": {
        "id": "2ce-rQZ6gmBM",
        "colab": {
          "base_uri": "https://localhost:8080/"
        },
        "outputId": "59075bfe-c003-4564-f223-3a24b32bf899"
      },
      "source": [
        "def get_user_input():\n",
        "  try:\n",
        "    user_input = int(input(\"Please enter a number \"))\n",
        "    return user_input\n",
        "  except:\n",
        "    print(\"Invalid number, run the function again\")\n",
        "    return 0\n",
        "\n",
        "### Test 1 - user enters 16 ###\n",
        "print(\"Test 1 - with valid integer\")\n",
        "actual = get_user_input() / 2\n",
        "expected = 8\n",
        "if  actual == expected:\n",
        "  print(\"Test passed\")\n",
        "else:\n",
        "  print(\"Test failed, expected\", expected, \"but got\", actual)\n",
        "\n",
        "### Test 2 - user enters six ###\n",
        "print(\"Test 2 - with invalid integer\")\n",
        "# ADD YOUR TEST CODE HERE #\n",
        "actual = get_user_input() / 2\n",
        "expected = 8\n",
        "if  actual == expected:\n",
        "  print(\"Test passed\")\n",
        "else:\n",
        "  print(\"Test failed, expected\", expected, \"but got\", actual)"
      ],
      "execution_count": null,
      "outputs": [
        {
          "output_type": "stream",
          "name": "stdout",
          "text": [
            "Test 1 - with valid integer\n",
            "Please enter a number 16\n",
            "Test passed\n",
            "Test 2 - with invalid integer\n",
            "Please enter a number six\n",
            "Invalid number, run the function again\n",
            "Test failed, expected 8 but got 0.0\n"
          ]
        }
      ]
    },
    {
      "cell_type": "markdown",
      "metadata": {
        "id": "QmeO2NR0gpYi"
      },
      "source": [
        "### Exercise 5 - add a third test\n",
        "---\n",
        "\n",
        "Add a Test 3, to test for the user just pressing enter and not entering anything at all) The expected result will be the same as Test 2\n",
        "\n"
      ]
    },
    {
      "cell_type": "code",
      "metadata": {
        "id": "z69J6BTDBCMG",
        "colab": {
          "base_uri": "https://localhost:8080/"
        },
        "outputId": "697dfecd-d430-41b4-baf8-281b647b71d9"
      },
      "source": [
        "def get_user_input():\n",
        "  try:\n",
        "    user_input = int(input(\"Please enter a number \"))\n",
        "    return user_input\n",
        "  except:\n",
        "    print(\"Invalid number, run the function again\")\n",
        "    return 0\n",
        "\n",
        "### Test 1 - user enters 16 ###\n",
        "print(\"Test 1 - with valid integer\")\n",
        "actual = get_user_input() / 2\n",
        "expected = 8\n",
        "if  actual == expected:\n",
        "  print(\"Test passed\")\n",
        "else:\n",
        "  print(\"Test failed, expected\", expected, \"but got\", actual)\n",
        "\n",
        "### Test 2 - user enters six ###\n",
        "print(\"Test 2 - with invalid integer\")\n",
        "# COPY YOUR TEST CODE HERE #\n",
        "actual = get_user_input() / 2\n",
        "expected = 0\n",
        "if  actual==expected:\n",
        "  print(\"Test passed!\") \n",
        "else:\n",
        " print(\"Test failed!\", expected, \"but got\", actual)\n",
        "\n",
        "\n",
        "### Test 3 - user enters nothing ###\n",
        "print(\"Test 3 - with empty integer\")\n",
        "# ADD YOUR TEST CODE HERE #\n",
        "actual = get_user_input() / 2\n",
        "expected = 1\n",
        "if  actual==expected:\n",
        "  print(\"Test passed!\")\n",
        "else:\n",
        "  print(\"Input empty please enter a valid number!\")\n",
        "\n"
      ],
      "execution_count": null,
      "outputs": [
        {
          "output_type": "stream",
          "name": "stdout",
          "text": [
            "Test 1 - with valid integer\n",
            "Please enter a number 16\n",
            "Test passed\n",
            "Test 2 - with invalid integer\n",
            "Please enter a number six\n",
            "Invalid number, run the function again\n",
            "Test passed!\n",
            "Test 3 - with empty integer\n",
            "Please enter a number  \n",
            "Invalid number, run the function again\n",
            "Input empty please enter a valid number!\n"
          ]
        }
      ]
    },
    {
      "cell_type": "markdown",
      "metadata": {
        "id": "Ol_Z4kRpJEVr"
      },
      "source": [
        "### Exercise 6 - opening a file\n",
        "---\n",
        "\n",
        "Write a function that will return an open file if it is given the file name.  If the file doesn't exist, a message should be shown to the user and the function should return None.  If the file does exist, and is opened correctly, the function should return the file to the caller.  \n",
        "\n",
        "The code has been started for you and two tests have been written.  \n",
        "\n",
        "Run the program with the second test commented out, to test that it works if the file doesn't exist (this assumes that you don't have a file called `error.txt` in the same directory as this notebook.  \n",
        "\n",
        "Now create a text file called **valid_file.txt** in the same directory as this notebook.  Uncomment the second test and run again.  Both tests should now pass.\n",
        "\n",
        "*Note*:  The tests look a little different now - this time instead of comparing actual with expected, the test looks at if the actual result is None or not None.  This is because it is impossible to tell what result will be returned for a valid file, as this is dependent on the file and the operating system.  It is sufficient to know that the file is opened if it exists and that the program doesn't crash if it doesn't.\n",
        "\n"
      ]
    },
    {
      "cell_type": "code",
      "metadata": {
        "id": "F2syhzV7KzB7",
        "colab": {
          "base_uri": "https://localhost:8080/",
          "resources": {
            "http://localhost:8080/nbextensions/google.colab/files.js": {
              "data": "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",
              "ok": true,
              "headers": [
                [
                  "content-type",
                  "application/javascript"
                ]
              ],
              "status": 200,
              "status_text": ""
            }
          },
          "height": 177
        },
        "outputId": "1af45a53-d10b-4490-c4ba-e74d5afec35c"
      },
      "source": [
        "import os\n",
        "from google.colab import files\n",
        "uploaded = files.upload()\n",
        "\n",
        "def get_file(filename):\n",
        "  # add your code here to open the file and return it, or to print an error message and return None\n",
        "  try:\n",
        "    file = open(filename)\n",
        "    return file\n",
        "  except:\n",
        "    print(\"File does not exist\")\n",
        "    return None\n",
        "\n",
        "# Test 1 - try to open a file that doesn't exist\n",
        "print(\"Test 1 file doesn't exist\")\n",
        "actual = get_file(\"error.txt\")\n",
        "if actual is None:\n",
        "  print(\"Test passed\")\n",
        "else:\n",
        "  print(\"Test failed, should have received None\")\n",
        "\n",
        "# # Test 2 - try to open a file that does exist\n",
        "print(\"\\nTest 2 file does exist\")\n",
        "actual = get_file(\"valid_file.txt\")\n",
        "if actual is not None:\n",
        "   print(\"Test passed\")\n",
        "else:\n",
        "      print(\"Test failed, should have received file\")"
      ],
      "execution_count": null,
      "outputs": [
        {
          "output_type": "display_data",
          "data": {
            "text/html": [
              "\n",
              "     <input type=\"file\" id=\"files-bd640504-a4df-4817-bba6-fe0bd8225928\" name=\"files[]\" multiple disabled\n",
              "        style=\"border:none\" />\n",
              "     <output id=\"result-bd640504-a4df-4817-bba6-fe0bd8225928\">\n",
              "      Upload widget is only available when the cell has been executed in the\n",
              "      current browser session. Please rerun this cell to enable.\n",
              "      </output>\n",
              "      <script src=\"/nbextensions/google.colab/files.js\"></script> "
            ],
            "text/plain": [
              "<IPython.core.display.HTML object>"
            ]
          },
          "metadata": {}
        },
        {
          "output_type": "stream",
          "name": "stdout",
          "text": [
            "Saving valid_file.txt to valid_file.txt\n",
            "Test 1 file doesn't exist\n",
            "File does not exist\n",
            "Test passed\n",
            "\n",
            "Test 2 file does exist\n",
            "Test passed\n"
          ]
        }
      ]
    },
    {
      "cell_type": "markdown",
      "metadata": {
        "id": "OACfOBCiRJkZ"
      },
      "source": [
        "### Exercise 7 - write a test\n",
        "---\n",
        "\n",
        "The function in the code cell below will take two parameters (two integers), and will return the result of dividing the first by the second, rounded to 2 decimal places.  If either isn't a number, it will return -999999  (not an impossible answer but improbable).\n",
        "\n",
        "Write a test for this function that will run it with the numbers 15 and 3 and will expect the answer to be 5."
      ]
    },
    {
      "cell_type": "code",
      "metadata": {
        "id": "HScLyIF4SY6o",
        "colab": {
          "base_uri": "https://localhost:8080/"
        },
        "outputId": "2c005e82-73d4-4e8e-fa47-8e1fe5fb8818"
      },
      "source": [
        "def divide_nums(num1, num2):\n",
        "  try:\n",
        "    num1=int(input(\"Please enter a number: \"))\n",
        "    num2=int(input(\"Please enter a second number: \"))\n",
        "    answer = round((num1/num2),2)\n",
        "    return answer\n",
        "  except:\n",
        "    return -999999\n",
        "\n",
        "# Test 1 - works with valid numbers (15 divided by 3 is 5)\n",
        "\n",
        "actual = divide_nums(15,3)\n",
        "test = 5\n",
        "if actual == test:\n",
        "  print(\"Test passed!\")\n",
        "else:\n",
        "  print(\"Test failed! Run the function again and enter a number.\")"
      ],
      "execution_count": null,
      "outputs": [
        {
          "output_type": "stream",
          "name": "stdout",
          "text": [
            "Please enter a number: 15\n",
            "Please enter a second number: 2\n",
            "Test failed! Run the function again and enter a number.\n"
          ]
        }
      ]
    },
    {
      "cell_type": "markdown",
      "metadata": {
        "id": "eYfYXH9PTA5W"
      },
      "source": [
        "### Exercise 8 - add two more tests\n",
        "---\n",
        "\n",
        "Add two more tests for this function:\n",
        "\n",
        "*Test 2* - Test running the function with the numbers `(20, 0.3)` and expect the answer to be `66.67`\n",
        "\n",
        "*Test 3* - Test running the function with `(20, None)` and expect the answer to be `-999999`\n",
        "\n",
        "Run the tests and then **modify the function** so that the test using the numbers `(20, 0.3)` passes."
      ]
    },
    {
      "cell_type": "code",
      "metadata": {
        "id": "zYD_a_dlWIbf",
        "colab": {
          "base_uri": "https://localhost:8080/"
        },
        "outputId": "9d8e4150-d687-4fad-b242-39cbd3239918"
      },
      "source": [
        "def divide_nums(num1, num2):\n",
        "  try:\n",
        "    num1=int(input(\"Please enter a number: \"))\n",
        "    num2=int(input(\"Please enter a second number: \"))\n",
        "    answer = round((num1/num2),2)\n",
        "    return answer\n",
        "  except:\n",
        "    return -999999\n",
        "\n",
        "## COPY YOUR TEST CODE, THEN ADD THE TWO EXTRA TESTS\n",
        "print(\"Test 1 - works with valid numbers 15 and 3\")\n",
        "# Test 1 - works with valid numbers (15 divided by 3 is 5)\n",
        "actual = divide_nums(15,3)\n",
        "test = 5\n",
        "if actual == test:\n",
        "  print(\"Test passed!\" )\n",
        "else:\n",
        "  print(\"Test failed! Run the function again and enter a number.\")\n",
        "\n",
        "  #Test2 - Test running the function with the numbers (20, 0.3) and expect the answer to be 66.67\n",
        "print(\"Test 2 - Test running the function with the numbers (20, 0.3) BUT won't work this time\") #for test 2 to work float needs to replace int in num2 above\n",
        "actual = divide_nums(20,0.3)\n",
        "test = 66.67\n",
        "if actual == test:\n",
        "  print(\"Test passed!\" )\n",
        "else:\n",
        "  print(\"Test failed, should have received None\")\n",
        "\n",
        "  #Test3 - Test running the function with (20, None) and expect the answer to be -999999\n",
        "print(\"Test 3 - works with 20 and None\")\n",
        "actual = divide_nums(20, None)\n",
        "test = -999999\n",
        "if actual == test:\n",
        "  print(\"Test passed!\")\n",
        "else:\n",
        "  print(\"Test failed, should have received None\")\n",
        "\n",
        "\n",
        "\n"
      ],
      "execution_count": null,
      "outputs": [
        {
          "output_type": "stream",
          "name": "stdout",
          "text": [
            "Test 1 - works with valid numbers 15 and 3\n",
            "Please enter a number: 15\n",
            "Please enter a second number: 3\n",
            "Test passed!\n",
            "Test 2 - works with valid numbers 20 and 0.3\n",
            "Please enter a number: 20\n",
            "Please enter a second number: 0.3\n",
            "Test failed, should have received None\n",
            "Test 3 - works with 20 and None\n",
            "Please enter a number: 20\n",
            "Please enter a second number: None\n",
            "Test passed!\n"
          ]
        }
      ]
    },
    {
      "cell_type": "code",
      "source": [
        "def divide_nums(num1, num2):\n",
        "  try:\n",
        "    num1=int(input(\"Please enter a number: \"))\n",
        "    num2=float(input(\"Please enter a second number: \"))\n",
        "    answer = round((num1/num2),2)\n",
        "    return answer\n",
        "  except:\n",
        "    return -999999\n",
        "\n",
        "  #Test2 - Test running the function with the numbers (20, 0.3) and expect the answer to be 66.67\n",
        "print(\"Test 2 - works with valid numbers 20 and 0.3\")#for test 2 to work float needs to replaced int in num2 above\n",
        "actual = divide_nums(20,0.3)\n",
        "test = 66.67\n",
        "if actual == test:\n",
        "  print(\"Test passed!\" )\n",
        "else:\n",
        "  print(\"Test failed, should have received None\")   \n"
      ],
      "metadata": {
        "colab": {
          "base_uri": "https://localhost:8080/"
        },
        "id": "Z9jKbnqvyEuY",
        "outputId": "f26e65ff-caf6-424f-c8d5-306962863a92"
      },
      "execution_count": null,
      "outputs": [
        {
          "output_type": "stream",
          "name": "stdout",
          "text": [
            "Test 2 - works with valid numbers 20 and 0.3\n",
            "Please enter a number: 20\n",
            "Please enter a second number: 0.3\n",
            "Test passed!\n"
          ]
        }
      ]
    },
    {
      "cell_type": "code",
      "source": [
        ""
      ],
      "metadata": {
        "id": "51E4swusyB2o"
      },
      "execution_count": null,
      "outputs": []
    },
    {
      "cell_type": "markdown",
      "metadata": {
        "id": "ZaluV9ejWUqs"
      },
      "source": [
        "### Exercise 9 - function with `try..except` and test\n",
        "---\n",
        "\n",
        "Write a function called **find_list_average(numlist, listname)** that will accept a list of numbers `(numlist)` and a word representing the name of the list `(listname)`.  The function will calculate the average of `numlist` and will return the string \"The average of the numbers in \" + `listname` + \" is \" + `str(average)` + \".\"\n",
        "\n",
        "Use `try..except` to catch any runtime errors that might occur and return `\"There was a problem\"` if any do.\n",
        "\n",
        "Write a set of tests for this function to test that:  \n",
        "*  a valid set of numbers, with a valid name works\n",
        "*  it catches the error if the parameters are round the wrong way `(listname, numlist)` rather than `(numlist, listname)`\n",
        "*  it catches the error is the list is empty (which might result in dividing by 0)\n",
        "*  it catches the error if the numlist contains null values (None)\n",
        "*  it shows the result `The average of the numbers in unnamed list is 4.5.` if the listname is an empty string.  Note:  this test may well fail unless you had code in your function to deal with the string being empty.  This is a logic error - change the code so that if the listname is \"\" it will be set to \"unnamed list\".  Then run the tests again, they should all pass."
      ]
    },
    {
      "cell_type": "markdown",
      "source": [
        "Creating a function that works."
      ],
      "metadata": {
        "id": "a_DotzNc3D1w"
      }
    },
    {
      "cell_type": "code",
      "source": [
        "def find_list_average(numlist, listname):\n",
        "\n",
        "  average = sum(numlist)/len(numlist)\n",
        "  #print(\"The average of the numbers in the \" + listname + \" is \" + str(average) + \".\")\n",
        "  print(\"The average of the numbers is \" + str(average) + \".\")\n",
        "\n",
        "# Test\n",
        "actual = find_list_average([4,4,4], 'list')\n",
        "expected = (4)\n",
        "if  actual == expected:\n",
        "  print(\"Test passed\")\n",
        "else:\n",
        "  print(\"Test failed, expected\", expected, \"but got\", actual)\n",
        "\n",
        "\n"
      ],
      "metadata": {
        "colab": {
          "base_uri": "https://localhost:8080/"
        },
        "id": "_KDJdcEOyUPL",
        "outputId": "9bab579f-4aec-42b0-f317-d81872574ae5"
      },
      "execution_count": null,
      "outputs": [
        {
          "output_type": "stream",
          "name": "stdout",
          "text": [
            "The average of the numbers is 4.0.\n",
            "Test failed, expected 4 but got None\n"
          ]
        }
      ]
    },
    {
      "cell_type": "markdown",
      "source": [
        "**TEST 1 - VALID SET OF NUMBERS AND VALID NAME**"
      ],
      "metadata": {
        "id": "up_ECIrPJSPh"
      }
    },
    {
      "cell_type": "code",
      "source": [
        "def find_list_average(numlist,listname):\n",
        "  try:\n",
        "    sum = 0\n",
        "    for t in numlist:\n",
        "        sum = sum + t           \n",
        "\n",
        "    average = sum / len(numlist)\n",
        "    return average\n",
        "    print(\"The average of the numbers in \" + listname + \" is \" + str(average) + \".\")\n",
        "  except:\n",
        "    print(\"There was a problem.\")\n",
        "      \n",
        "\n",
        "# Test\n",
        "actual = find_list_average([4,2,6,8,3,1], 'list')\n",
        "expected = (4)\n",
        "if  actual == expected:\n",
        "  print(\"Test passed\")\n",
        "else:\n",
        "  print(\"Test failed, expected\", expected, \"but got\", actual)\n",
        "\n"
      ],
      "metadata": {
        "colab": {
          "base_uri": "https://localhost:8080/"
        },
        "id": "6HTh6BSrdcn5",
        "outputId": "69abb2d5-27b3-4376-a937-34f41bc44da7"
      },
      "execution_count": null,
      "outputs": [
        {
          "output_type": "stream",
          "name": "stdout",
          "text": [
            "Test passed\n"
          ]
        }
      ]
    },
    {
      "cell_type": "markdown",
      "source": [
        "**TEST 2 - PARAMETERS ARE THE WRONG WAY ROUND**"
      ],
      "metadata": {
        "id": "w2i5jO7ZFJzF"
      }
    },
    {
      "cell_type": "code",
      "source": [
        "def find_list_average(numlist,listname):\n",
        "  try:\n",
        "    sum = 0\n",
        "    for t in numlist:\n",
        "        sum = sum + t           \n",
        "\n",
        "    average = sum / len(numlist)\n",
        "    return average\n",
        "    print(\"The average of the numbers in \" + listname + \" is \" + str(average) + \".\")\n",
        "  except:\n",
        "    print(\"There was a problem.\")\n",
        "      \n",
        "\n",
        "print('Test2 - It catches the error when the parameters are round the wrong way (listname, numlist) rather than (numlist, listname)')\n",
        "actual = find_list_average('list', [4,2,6,8,3,1])\n",
        "expected = 4\n",
        "if  actual == expected:\n",
        "  print(\"Test passed\")\n",
        "else:\n",
        "  print(\"Test failed, expected\", expected, \"but got\", actual)"
      ],
      "metadata": {
        "colab": {
          "base_uri": "https://localhost:8080/"
        },
        "id": "e2lZvHtEBioK",
        "outputId": "65bd99de-325a-42f1-f758-f05be47f7e80"
      },
      "execution_count": null,
      "outputs": [
        {
          "output_type": "stream",
          "name": "stdout",
          "text": [
            "Test2 - It catches the error when the parameters are round the wrong way (listname, numlist) rather than (numlist, listname)\n",
            "There was a problem.\n",
            "Test failed, expected 4 but got None\n"
          ]
        }
      ]
    },
    {
      "cell_type": "markdown",
      "source": [
        "**TEST 3 - LIST IS EMPTY**"
      ],
      "metadata": {
        "id": "z_u73osAGQql"
      }
    },
    {
      "cell_type": "code",
      "source": [
        "def find_list_average(numlist,listname):\n",
        "  try:\n",
        "    sum = 0\n",
        "    for t in numlist:\n",
        "        sum = sum + t           \n",
        "\n",
        "    average = sum / len(numlist)\n",
        "    return average\n",
        "    print(\"The average of the numbers in \" + listname + \" is \" + str(average) + \".\")\n",
        "  except:\n",
        "    print(\"There was a problem.\")\n",
        "      \n",
        "\n",
        "print('Test 3 - it catches the error if the list is empty (which might result in dividing by 0)')\n",
        "actual = find_list_average(([]),'list')\n",
        "expected = 4\n",
        "if  actual == expected:\n",
        "  print(\"Test passed\")\n",
        "else:\n",
        "  print(\"Test failed, expected\", expected, \"but got\", actual)\n",
        "\n"
      ],
      "metadata": {
        "colab": {
          "base_uri": "https://localhost:8080/"
        },
        "id": "1eC4r3Bm-Rcu",
        "outputId": "f6fa518b-64cf-486d-d9cd-00adf0a70ab8"
      },
      "execution_count": null,
      "outputs": [
        {
          "output_type": "stream",
          "name": "stdout",
          "text": [
            "Test 3 - it catches the error if the list is empty (which might result in dividing by 0)\n",
            "There was a problem.\n",
            "Test failed, expected 4 but got None\n"
          ]
        }
      ]
    },
    {
      "cell_type": "markdown",
      "source": [
        "**TEST 4 - LIST CONTAINS NULL VALUES (NONE)**"
      ],
      "metadata": {
        "id": "bi2Dr0SUGl59"
      }
    },
    {
      "cell_type": "code",
      "source": [
        "def find_list_average(numlist,listname):\n",
        "  try:\n",
        "    sum = 0\n",
        "    for t in numlist:\n",
        "        sum = sum + t           \n",
        "\n",
        "    average = sum / len(numlist)\n",
        "    return average\n",
        "    print(\"The average of the numbers in \" + listname + \" is \" + str(average) + \".\")\n",
        "  except:\n",
        "    print(\"There was a problem.\")\n",
        "\n",
        "print('Test 4 - it catches the error if the numlist contains null values (None)')\n",
        "actual = find_list_average(([1,2,3, None]),'list')\n",
        "expected = 4\n",
        "if  actual == expected:\n",
        "  print(\"Test passed\")\n",
        "else:\n",
        "  print(\"Test failed, expected\", expected, \"but got\", actual)"
      ],
      "metadata": {
        "colab": {
          "base_uri": "https://localhost:8080/"
        },
        "id": "WWBL632t-x0z",
        "outputId": "0c03dc45-52d0-44d9-c0bc-b158d4698dcd"
      },
      "execution_count": null,
      "outputs": [
        {
          "output_type": "stream",
          "name": "stdout",
          "text": [
            "Test 4 - it catches the error if the numlist contains null values (None)\n",
            "There was a problem.\n",
            "Test failed, expected 4 but got None\n"
          ]
        }
      ]
    },
    {
      "cell_type": "markdown",
      "source": [
        "**TEST 5 - AVERAGE OF NUMBERS IN UNNAMED LIST IS 4.5**"
      ],
      "metadata": {
        "id": "o6zkTEc0GzhP"
      }
    },
    {
      "cell_type": "code",
      "source": [
        "\n",
        "def find_list_average(numlist, listname):\n",
        "  try:\n",
        "    sum = 0\n",
        "    for t in numlist:\n",
        "        sum = sum + t           \n",
        "\n",
        "    average = sum / len(numlist)\n",
        "    return average\n",
        "    print(\"The average of the numbers in \" + listname + \" is \" + str(average) + \".\")\n",
        "  except:\n",
        "    print(\"There was a problem.\")\n",
        "\n",
        "print('Test 4 - it catches the error if the UNNAMED LIST contains null values (None)')\n",
        "actual = find_list_average(([5,5,3.5]),'list')\n",
        "expected = 4.5\n",
        "if  actual == expected:\n",
        "  print(\"Test passed\")\n",
        "else:\n",
        "  print(\"Test failed, expected\", expected, \"but got\", actual)"
      ],
      "metadata": {
        "id": "aV3c5Kv8GN_P",
        "colab": {
          "base_uri": "https://localhost:8080/"
        },
        "outputId": "43564849-c6b3-4c8d-fc35-c0565e0b581e"
      },
      "execution_count": null,
      "outputs": [
        {
          "output_type": "stream",
          "name": "stdout",
          "text": [
            "Test 4 - it catches the error if the UNNAMED LIST contains null values (None)\n",
            "Test passed\n"
          ]
        }
      ]
    },
    {
      "cell_type": "markdown",
      "metadata": {
        "id": "PFbTeF6ZrHoP"
      },
      "source": [
        "### Exercise 10 - further reference\n",
        "\n",
        "You might want to look at this tutorial for more on [exception handling](https://www.python-course.eu/python3_exception_handling.php)\n",
        "\n",
        "and this tutorial for more on [test driven development](https://www.tutorialspoint.com/software_testing_dictionary/test_driven_development.htm)"
      ]
    },
    {
      "cell_type": "markdown",
      "metadata": {
        "id": "yQyytEbnZ1lw"
      },
      "source": [
        "# Reflection\n",
        "----\n",
        "\n",
        "## What skills have you demonstrated in completing this notebook?"
      ]
    },
    {
      "cell_type": "markdown",
      "metadata": {
        "id": "M9IqO6KNbSUk"
      },
      "source": [
        "Your answer: To know how to handle errors by testing code - under direction."
      ]
    },
    {
      "cell_type": "markdown",
      "metadata": {
        "id": "Zgexd27sZ1ly"
      },
      "source": [
        "## What caused you the most difficulty?"
      ]
    },
    {
      "cell_type": "markdown",
      "metadata": {
        "id": "aDYmIIcEbT7x"
      },
      "source": [
        "Your answer: The worksheet is great in showing how to start testing one's code, and I can certainly do this under directions as here. In order for me to feel confident in testing my own code much more practice is needed onthis. "
      ]
    }
  ]
}