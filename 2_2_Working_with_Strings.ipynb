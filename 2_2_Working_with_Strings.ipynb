{
  "nbformat": 4,
  "nbformat_minor": 0,
  "metadata": {
    "colab": {
      "name": "2.2 Working with Strings.ipynb",
      "provenance": [],
      "collapsed_sections": [],
      "include_colab_link": true
    },
    "kernelspec": {
      "name": "python3",
      "display_name": "Python 3"
    }
  },
  "cells": [
    {
      "cell_type": "markdown",
      "metadata": {
        "id": "view-in-github",
        "colab_type": "text"
      },
      "source": [
        "<a href=\"https://colab.research.google.com/github/MidoriTinto/Python_Fundamentals/blob/main/2_2_Working_with_Strings.ipynb\" target=\"_parent\"><img src=\"https://colab.research.google.com/assets/colab-badge.svg\" alt=\"Open In Colab\"/></a>"
      ]
    },
    {
      "cell_type": "markdown",
      "metadata": {
        "id": "GdT0fwTCa4gI"
      },
      "source": [
        "# Working with Strings\n",
        "---\n",
        "\n",
        "The pandas library has a similar set of string functions to those available in python generally.  Because we often want to perform operations on a whole series of data values in a dataframe, we can use pandas string functions to do this:\n",
        "\n"
      ]
    },
    {
      "cell_type": "markdown",
      "metadata": {
        "id": "ozWLM6Pfa7d_"
      },
      "source": [
        "### Splitting data \n",
        "---\n",
        "\n",
        "Series.str.split() *to split a column's strings into components*    \n",
        "Series.str.get() *to get one of the components after the split*  \n",
        "\n",
        "You can **daisychain** these together:   \n",
        "\n",
        "`Series.str.split().str.get()`\n",
        "\n",
        "* `split()` will split by white space unless specified, for example if you wanted to split by \"/\" you would use `split(\"/\")`  \n",
        "\n",
        "* `get()` requires a parameter of the value position of the string you would like to 'get'. If you want the first word eg 1999, use `get(0)`.\n",
        "\n",
        "\n",
        "*Hint: remember to save your result into a new column* \n",
        "\n",
        "### Exercise 1 strings\n",
        "---\n",
        "\n",
        "Let's use the data set 'Housing in London' at 'https://raw.githubusercontent.com/futureCodersSE/working-with-data/main/Data%20sets/housing_in_london_yearly_variables.csv'\n",
        "\n",
        "The date, in this dataset is a string.   To filter for a particular year, we will need to extract the first four letters as a substring.  We can create a new column called **year**, which just contains the year, stored as a number.\n",
        "\n",
        "The date is written in the format yyyy-mm-dd.  We can split the year around the '-' and then use the first component.\n",
        "\n",
        "\n",
        "Create a function called **get_year()** which splits the data from the date column, and creates a year column with just the year before returning the year column.\n",
        "\n",
        "\n",
        "**Test output**:  \n",
        "\n",
        "```\n",
        "0       1999\n",
        "1       1999\n",
        "2       1999\n",
        "3       1999\n",
        "4       1999\n",
        "        ... \n",
        "1066    2019\n",
        "1067    2019\n",
        "1068    2019\n",
        "1069    2019\n",
        "1070    2019\n",
        "Name: year, Length: 1071, dtype: object\n",
        "```"
      ]
    },
    {
      "cell_type": "code",
      "metadata": {
        "id": "ZuLewd421t_c",
        "colab": {
          "base_uri": "https://localhost:8080/"
        },
        "outputId": "468adfb2-1137-4532-e977-312aa1fa805d"
      },
      "source": [
        "import pandas as pd\n",
        "\n",
        "url= 'https://raw.githubusercontent.com/futureCodersSE/working-with-data/main/Data%20sets/housing_in_london_yearly_variables.csv'\n",
        "housing=pd.read_csv(url)\n",
        "housing\n",
        "\n",
        "def get_year():\n",
        "  # add code below to return a new year column, with just years \n",
        "\n",
        "  #print(housing)\n",
        "  #return(housing.head())\n",
        "  #print(housing.info())\n",
        "\n",
        "  year=housing[\"date\"].str.split(\"-\").str.get(0)\n",
        "  #Code below to test output is correct without using the code below which gives me an error\n",
        "  #result is as expected using formula above\n",
        "  return(year)\n",
        "get_year()\n",
        "print(get_year())\n",
        "\n",
        "\n",
        "# run and test if returned series is of correct length and has correct first row \n",
        "\n",
        "actual_len = len(get_year())\n",
        "actual_value = get_year().iloc[0]\n",
        "expected_len = 1071\n",
        "expected_val = \"1999\"\n",
        "\n",
        "if actual_len == expected_len and actual_value == expected_val:\n",
        "  print(\"Test passed expected length 1071 and first value 1999 and got\", actual_len, actual_value)\n",
        "else: \n",
        "  print(\"Test failed expected length 1071 and first value 1999 and got length\", actual_len, \"value\", actual_value)\n",
        "\n",
        "\n"
      ],
      "execution_count": null,
      "outputs": [
        {
          "output_type": "stream",
          "name": "stdout",
          "text": [
            "0       1999\n",
            "1       1999\n",
            "2       1999\n",
            "3       1999\n",
            "4       1999\n",
            "        ... \n",
            "1066    2019\n",
            "1067    2019\n",
            "1068    2019\n",
            "1069    2019\n",
            "1070    2019\n",
            "Name: date, Length: 1071, dtype: object\n",
            "Test passed expected length 1071 and first value 1999 and got 1071 1999\n"
          ]
        }
      ]
    },
    {
      "cell_type": "markdown",
      "metadata": {
        "id": "IPAgjR5U1utf"
      },
      "source": [
        "### Exercise 2\n",
        "---\n",
        "\n",
        "In exercise 1 you have extracted the year, but it's dtype is 'object' (it is still a string).  You can convert to integer by adding  .astype(int) to the daisychain.\n",
        "\n",
        "Create a new function called **get_int_year()**, `return` the year column with values of type int. \n",
        "\n",
        "**Test output**:  \n",
        "\n",
        "```\n",
        "...\n",
        "Name: year, Length: 1071, dtype: int64\n",
        "```\n",
        "\n"
      ]
    },
    {
      "cell_type": "code",
      "metadata": {
        "id": "3SuKrrvD2f1b",
        "colab": {
          "base_uri": "https://localhost:8080/"
        },
        "outputId": "73d737bd-6f47-4c94-a50a-7218112593f7"
      },
      "source": [
        "\n",
        "def get_int_year():\n",
        "  # add code below to return a year column where values are of integer type\n",
        "\n",
        "\n",
        "  year=housing[\"date\"].str.split(\"-\").str.get(0).astype(int)\n",
        "\n",
        "  #Code below to test output is correct without using the code below which gives me an error\n",
        "  #result is as expected using formula above\n",
        "  return(year)\n",
        "get_int_year()\n",
        "print(get_int_year())\n",
        "\n",
        "\n",
        "\n",
        "# run and test if your returned series is of type int\n",
        "\n",
        "#import numpy as np\n",
        "\n",
        "#actual = get_int_year().dtype\n",
        "#expected = np.int64\n",
        "\n",
        "#if actual == expected:\n",
        "  #print(\"Test passed\", actual)\n",
        "#else:\n",
        "  #print(\"Test failed, expected\", expected, \"got\", actual)"
      ],
      "execution_count": null,
      "outputs": [
        {
          "output_type": "stream",
          "name": "stdout",
          "text": [
            "0       1999\n",
            "1       1999\n",
            "2       1999\n",
            "3       1999\n",
            "4       1999\n",
            "        ... \n",
            "1066    2019\n",
            "1067    2019\n",
            "1068    2019\n",
            "1069    2019\n",
            "1070    2019\n",
            "Name: date, Length: 1071, dtype: int64\n"
          ]
        }
      ]
    },
    {
      "cell_type": "markdown",
      "metadata": {
        "id": "spoUBwxT2gSi"
      },
      "source": [
        "### Exercise 3\n",
        "---\n",
        "\n",
        "All the areas in the data set are in lower case.  To prepare the data for reporting, you may want to capitalise.  Use .str.title() to do this.\n",
        "\n",
        "Create the function **get_title_areas()** to do this. `Return` the newly capitalised area column "
      ]
    },
    {
      "cell_type": "code",
      "metadata": {
        "id": "5fLUjUYk4AyI",
        "colab": {
          "base_uri": "https://localhost:8080/"
        },
        "outputId": "c1adbffa-2f90-4628-d0db-2ea10b5a663e"
      },
      "source": [
        "def get_title_areas():\n",
        "  # add code below to capitalise the first letter of each string in the column area\n",
        "\n",
        "  title_areas=housing[\"area\"].str.title()\n",
        "\n",
        "  return title_areas\n",
        "\n",
        "\n",
        "\n",
        "\n",
        "\n",
        "# run and test if the first row of the area column is now correct \n",
        "\n",
        "actual = get_title_areas().iloc[0]\n",
        "expected = \"City Of London\"\n",
        "\n",
        "if actual == expected:\n",
        "  print(\"Test passed\", actual)\n",
        "else:\n",
        "  print(\"Test failed, expected\", expected, \"got\", actual)"
      ],
      "execution_count": null,
      "outputs": [
        {
          "output_type": "stream",
          "name": "stdout",
          "text": [
            "Test passed City Of London\n"
          ]
        }
      ]
    },
    {
      "cell_type": "markdown",
      "metadata": {
        "id": "FuUQQF2a4CPX"
      },
      "source": [
        "### Exercise 4 - Filter all areas to find all with 'and' in the name\n",
        "---\n",
        "\n",
        "Create a function called **get_and()** which uses `str.contains()` and a search (e.g. df[df['area'].str.contains()]) to filter and `return` all areas with 'And' in the name\n",
        "\n",
        "**Test output**:  \n",
        "105 rows × 13 columns\n"
      ]
    },
    {
      "cell_type": "code",
      "metadata": {
        "id": "pmT32YMq4BA8",
        "colab": {
          "base_uri": "https://localhost:8080/"
        },
        "outputId": "74c60327-512d-4f2f-b0c1-12fa53201df9"
      },
      "source": [
        "def get_and():\n",
        "# add code to return just rows which area contains 'And'\n",
        "\n",
        " areas=housing[housing[\"area\"].str.contains(\" and \")]# important is spacing left and right of /and/\n",
        "\n",
        " return areas\n",
        "\n",
        "get_and()\n",
        "print(get_and())\n",
        "\n",
        "\n",
        "\n",
        "# run and test if returned is correct length \n",
        "\n",
        "actual = len(get_and())\n",
        "expected = 105\n",
        "\n",
        "if actual == expected:\n",
        "  print(\"Test passed\", actual)\n",
        "else:\n",
        "  print(\"Test failed, expected\", expected, \"got\", actual)"
      ],
      "execution_count": null,
      "outputs": [
        {
          "output_type": "stream",
          "name": "stdout",
          "text": [
            "           code                      area  ... no_of_houses  borough_flag\n",
            "1     E09000002      barking and dagenham  ...          NaN             1\n",
            "12    E09000013    hammersmith and fulham  ...          NaN             1\n",
            "19    E09000020    kensington and chelsea  ...          NaN             1\n",
            "35    E12000003  yorkshire and the humber  ...          NaN             0\n",
            "47    K04000001         england and wales  ...          NaN             0\n",
            "...         ...                       ...  ...          ...           ...\n",
            "1021  E09000002      barking and dagenham  ...          NaN             1\n",
            "1032  E09000013    hammersmith and fulham  ...          NaN             1\n",
            "1039  E09000020    kensington and chelsea  ...          NaN             1\n",
            "1055  E12000003  yorkshire and the humber  ...          NaN             0\n",
            "1067  K04000001         england and wales  ...          NaN             0\n",
            "\n",
            "[105 rows x 12 columns]\n",
            "Test passed 105\n"
          ]
        }
      ]
    },
    {
      "cell_type": "markdown",
      "metadata": {
        "id": "8ChmyffT7wDK"
      },
      "source": [
        "### Exercise 5\n",
        "---\n",
        "\n",
        "Filter the data for all areas starting with 'Ba'  \n",
        "\n",
        "*hint: use `startswith()`*\n",
        "\n",
        "**Test Ouput:**  \n",
        "42 rows, first row has area 'Barking and Dagenham'"
      ]
    },
    {
      "cell_type": "code",
      "metadata": {
        "id": "li8sAN3O8Zxp",
        "colab": {
          "base_uri": "https://localhost:8080/"
        },
        "outputId": "9a05248b-ba14-4d21-99b2-ff841da8cda4"
      },
      "source": [
        "def get_ba():\n",
        "  # add code to filter for all areas starting with Ba \n",
        "  \n",
        " ba_areas=housing[housing[\"area\"].str.startswith(\"ba\")]\n",
        " return ba_areas\n",
        "get_ba()\n",
        "print(get_ba())\n",
        "\n",
        "\n",
        "# run and test if your returned rows are the right length \n",
        "\n",
        "actual = len(get_ba())\n",
        "expected = 42 \n",
        "\n",
        "if actual == expected:\n",
        "  print(\"Test passed\", actual)\n",
        "else:\n",
        "  print(\"Test failed, expected\", expected, \"got\", actual)\n"
      ],
      "execution_count": null,
      "outputs": [
        {
          "output_type": "stream",
          "name": "stdout",
          "text": [
            "           code                  area  ... no_of_houses  borough_flag\n",
            "1     E09000002  barking and dagenham  ...          NaN             1\n",
            "2     E09000003                barnet  ...          NaN             1\n",
            "52    E09000002  barking and dagenham  ...          NaN             1\n",
            "53    E09000003                barnet  ...          NaN             1\n",
            "103   E09000002  barking and dagenham  ...      68298.0             1\n",
            "104   E09000003                barnet  ...     130515.0             1\n",
            "154   E09000002  barking and dagenham  ...      68526.0             1\n",
            "155   E09000003                barnet  ...     130801.0             1\n",
            "205   E09000002  barking and dagenham  ...      68837.0             1\n",
            "206   E09000003                barnet  ...     131883.0             1\n",
            "256   E09000002  barking and dagenham  ...      68899.0             1\n",
            "257   E09000003                barnet  ...     132856.0             1\n",
            "307   E09000002  barking and dagenham  ...      69261.0             1\n",
            "308   E09000003                barnet  ...     133902.0             1\n",
            "358   E09000002  barking and dagenham  ...      69529.0             1\n",
            "359   E09000003                barnet  ...     134941.0             1\n",
            "409   E09000002  barking and dagenham  ...      69835.0             1\n",
            "410   E09000003                barnet  ...     135429.0             1\n",
            "460   E09000002  barking and dagenham  ...      70551.0             1\n",
            "461   E09000003                barnet  ...     136680.0             1\n",
            "511   E09000002  barking and dagenham  ...      70839.0             1\n",
            "512   E09000003                barnet  ...     137769.0             1\n",
            "562   E09000002  barking and dagenham  ...      70946.0             1\n",
            "563   E09000003                barnet  ...     138616.0             1\n",
            "613   E09000002  barking and dagenham  ...      71079.0             1\n",
            "614   E09000003                barnet  ...     139346.0             1\n",
            "664   E09000002  barking and dagenham  ...      71431.0             1\n",
            "665   E09000003                barnet  ...     141461.0             1\n",
            "715   E09000002  barking and dagenham  ...      71937.0             1\n",
            "716   E09000003                barnet  ...     142835.0             1\n",
            "766   E09000002  barking and dagenham  ...      72668.0             1\n",
            "767   E09000003                barnet  ...     143948.0             1\n",
            "817   E09000002  barking and dagenham  ...      73182.0             1\n",
            "818   E09000003                barnet  ...     145272.0             1\n",
            "868   E09000002  barking and dagenham  ...      73914.0             1\n",
            "869   E09000003                barnet  ...     146730.0             1\n",
            "919   E09000002  barking and dagenham  ...      74510.0             1\n",
            "920   E09000003                barnet  ...     148529.0             1\n",
            "970   E09000002  barking and dagenham  ...      74923.0             1\n",
            "971   E09000003                barnet  ...     150737.0             1\n",
            "1021  E09000002  barking and dagenham  ...          NaN             1\n",
            "1022  E09000003                barnet  ...          NaN             1\n",
            "\n",
            "[42 rows x 12 columns]\n",
            "Test passed 42\n"
          ]
        }
      ]
    },
    {
      "cell_type": "markdown",
      "metadata": {
        "id": "OrSsOstK8Z9_"
      },
      "source": [
        "### Exercise 6\n",
        "---\n",
        "Create function called **get_ham()** to filter and `return` the data for all areas ending with 'ham', for the year 2000\n",
        "\n",
        "*hint: use `endswith()`*   \n",
        "\n",
        "**Test output**:  \n",
        "4 rows (barking and dagenham, hammersmith and fulham, lewisham, newham)  "
      ]
    },
    {
      "cell_type": "code",
      "metadata": {
        "id": "lMJckNo-ab3z",
        "colab": {
          "base_uri": "https://localhost:8080/"
        },
        "outputId": "02493133-a9d6-4e6f-d9a4-b767e48c2016"
      },
      "source": [
        "def get_ham():\n",
        "  # add code to return rows which end with ham for the year 2000\n",
        "  \n",
        "  ham_areas=housing[housing[\"area\"].str.split(\" - \").str.get(0).str.endswith(\"ham\")]\n",
        "\n",
        "  return ham_areas\n",
        "get_ham()\n",
        "print(get_ham())\n",
        "  \n",
        "\n",
        "\n",
        "\n",
        "# run and test if correct number of rows are returned\n",
        "actual = len(get_ham())\n",
        "expected = 4 \n",
        "\n",
        "if actual == expected:\n",
        "  print(\"Test passed\", actual)\n",
        "else:\n",
        "  print(\"Test failed, expected\", expected, \"got\", actual)\n"
      ],
      "execution_count": null,
      "outputs": [
        {
          "output_type": "stream",
          "name": "stdout",
          "text": [
            "           code                    area  ... no_of_houses  borough_flag\n",
            "1     E09000002    barking and dagenham  ...          NaN             1\n",
            "12    E09000013  hammersmith and fulham  ...          NaN             1\n",
            "22    E09000023                lewisham  ...          NaN             1\n",
            "24    E09000025                  newham  ...          NaN             1\n",
            "52    E09000002    barking and dagenham  ...          NaN             1\n",
            "...         ...                     ...  ...          ...           ...\n",
            "993   E09000025                  newham  ...     114474.0             1\n",
            "1021  E09000002    barking and dagenham  ...          NaN             1\n",
            "1032  E09000013  hammersmith and fulham  ...          NaN             1\n",
            "1042  E09000023                lewisham  ...          NaN             1\n",
            "1044  E09000025                  newham  ...          NaN             1\n",
            "\n",
            "[84 rows x 12 columns]\n",
            "Test failed, expected 4 got 84\n"
          ]
        }
      ]
    },
    {
      "cell_type": "markdown",
      "metadata": {
        "id": "t_niKyF39X4q"
      },
      "source": [
        "### Exercise 7 - new data set\n",
        "---\n",
        "\n",
        "Use the data set here:  https://github.com/futureCodersSE/working-with-data/blob/main/Data%20sets/public_use-talent-migration.xlsx?raw=true\n",
        "\n",
        "Read the data from the sheet 'Skill Migration'  \n",
        "\n",
        "Write a function called **create_new_df()** which will inspect the data, then create and return new dataframe with the following changes:\n",
        "\n",
        "1.  Remove the word 'Skills' from the 'skill_group_category' column   \n",
        "  *hint: you can use the `str.rstrip()` function*\n",
        "2.  Convert country_code to uppercase    \n",
        "  *hint: try `upper()`*  \n",
        "4.  Remove the skill_group_id and the wb_income columns\n",
        "3.  Filter for regions containing 'Asia'  \n",
        "  *hint: you might have to `return` it*\n",
        "\n",
        "**Test output**:  \n",
        "9969 rows × 10 columns"
      ]
    },
    {
      "cell_type": "code",
      "metadata": {
        "id": "UGfVBX1FCjZj",
        "colab": {
          "base_uri": "https://localhost:8080/",
          "height": 236
        },
        "outputId": "8220f43f-cd67-48e1-b249-2e5c55fb7abb"
      },
      "source": [
        "import pandas as pd\n",
        "\n",
        "url= \"https://github.com/futureCodersSE/working-with-data/blob/main/Data%20sets/public_use-talent-migration.xlsx?raw=true\"\n",
        "migration=pd.read_excel(url, sheet_name = \"Skill Migration\")\n",
        "migration\n",
        "\n",
        "def create_new_df(migration):\n",
        "  # add code below to return a df with 'Skills' removed, country_code in uppercase, no skill_group_id or wb_income columns and only for regions containing Asia \n",
        "  \n",
        "  #r.strip\n",
        "  skills_strip=migration[\"skill_group_category\"].str.rstrip(\"Skills\")\n",
        "  #converting country_code to uppercase\n",
        "  country_upper=migration[\"country_code\"].str.upper()\n",
        "  #dropping skill_group_id and wb_income column\n",
        "  skills_drop=migration.drop(columns=['skill_group_id', 'wb_income'])\n",
        "  #filtering regions contain \"Asia\"\n",
        "  migr_Asia=migration[migration[\"wb_region\"].str.contains(\"Asia\")]\n",
        "\n",
        "  #return(migration.info())\n",
        "  return skills_strip,country_upper,skills_drop, migr_Asia\n",
        "\n",
        "#create_new_df(migration)\n",
        "#print(create_new_df(migration)) \n",
        "\n",
        "\n",
        "\n",
        "\n",
        "# run and test if returned dataframe is correct length, with the right number of columns  and first row skill_group_category is correct \n",
        "test_df = create_new_df(migration)\n",
        "actual_len = len(test_df)\n",
        "actual_col = len(test_df.columns)\n",
        "expected_len = 9969\n",
        "expected_col = 10\n",
        "actual_skill = test_df['skill_group_category'].iloc[0]\n",
        "expected_skill = 'Tech '\n",
        "\n",
        "if actual_len == expected_len and actual_col == expected_col and actual_skill == expected_skill:\n",
        "  print(\"Test passed\", actual_len, \"x\", actual_col, actual_skill)\n",
        "else:\n",
        "  print(\"Test failed, expected\", expected_len, \"x\", expected_col, expected_skill, \"got\", actual_len, \"x\", actual_col, actual_skill)"
      ],
      "execution_count": null,
      "outputs": [
        {
          "output_type": "error",
          "ename": "AttributeError",
          "evalue": "ignored",
          "traceback": [
            "\u001b[0;31m---------------------------------------------------------------------------\u001b[0m",
            "\u001b[0;31mAttributeError\u001b[0m                            Traceback (most recent call last)",
            "\u001b[0;32m<ipython-input-106-cbbe5313d660>\u001b[0m in \u001b[0;36m<module>\u001b[0;34m()\u001b[0m\n\u001b[1;32m     29\u001b[0m \u001b[0mtest_df\u001b[0m \u001b[0;34m=\u001b[0m \u001b[0mcreate_new_df\u001b[0m\u001b[0;34m(\u001b[0m\u001b[0mmigration\u001b[0m\u001b[0;34m)\u001b[0m\u001b[0;34m\u001b[0m\u001b[0;34m\u001b[0m\u001b[0m\n\u001b[1;32m     30\u001b[0m \u001b[0mactual_len\u001b[0m \u001b[0;34m=\u001b[0m \u001b[0mlen\u001b[0m\u001b[0;34m(\u001b[0m\u001b[0mtest_df\u001b[0m\u001b[0;34m)\u001b[0m\u001b[0;34m\u001b[0m\u001b[0;34m\u001b[0m\u001b[0m\n\u001b[0;32m---> 31\u001b[0;31m \u001b[0mactual_col\u001b[0m \u001b[0;34m=\u001b[0m \u001b[0mlen\u001b[0m\u001b[0;34m(\u001b[0m\u001b[0mtest_df\u001b[0m\u001b[0;34m.\u001b[0m\u001b[0mcolumn\u001b[0m\u001b[0;34m)\u001b[0m\u001b[0;34m\u001b[0m\u001b[0;34m\u001b[0m\u001b[0m\n\u001b[0m\u001b[1;32m     32\u001b[0m \u001b[0mexpected_len\u001b[0m \u001b[0;34m=\u001b[0m \u001b[0;36m9969\u001b[0m\u001b[0;34m\u001b[0m\u001b[0;34m\u001b[0m\u001b[0m\n\u001b[1;32m     33\u001b[0m \u001b[0mexpected_col\u001b[0m \u001b[0;34m=\u001b[0m \u001b[0;36m10\u001b[0m\u001b[0;34m\u001b[0m\u001b[0;34m\u001b[0m\u001b[0m\n",
            "\u001b[0;31mAttributeError\u001b[0m: 'tuple' object has no attribute 'column'"
          ]
        }
      ]
    },
    {
      "cell_type": "markdown",
      "metadata": {
        "id": "r_i4oQaoEKoY"
      },
      "source": [
        "### Exercise 8\n",
        "---\n",
        "\n",
        "Write a function called **clean_skills()** that will:\n",
        "1. rename the **net_per_10K_year** columns to be just the year\n",
        "2. in the **skill_group_category** column replace the 'z' in 'specialized' with 's' to Anglicise the spelling. \n",
        "\n",
        "The function should `return` the cleaned data.  \n",
        "\n",
        "Hint:  You can use the `replace()` function to replace substring's and characters in both column headings and the actual data.  \n",
        "* `.str.replace(\"old\",\"new\")`\n",
        "\n",
        "**Test output**:  \n",
        "17617 rows × 12 columns, with z replace by s in Specialized  \n",
        "Column names: country_code\tcountry_name\twb_income\twb_region\tskill_group_id\tskill_group_category\tskill_group_name\t2015\t2016\t2017\t2018\t2019"
      ]
    },
    {
      "cell_type": "code",
      "metadata": {
        "id": "AEWS56l4JKx3",
        "colab": {
          "base_uri": "https://localhost:8080/",
          "height": 461
        },
        "outputId": "aadbf868-163e-4ca6-f33c-87c484f616af"
      },
      "source": [
        "def clean_skills(migration):\n",
        "  #add code to anglicise Specialized in the skill category column and rename the net_per_10K columns\n",
        "  clean_skills=migration.rename(columns={\"net_per_10K_2015\": \"2015\",\n",
        "                                \"net_per_10K_2016\": \"2016\",\n",
        "                                \"net_per_10K_2017\": \"2017\",\n",
        "                                \"net_per_10K_2018\": \"2018,\",\n",
        "                                \"net_per_10K_2019\": \"2019\"},\n",
        "                                inplace=True)\n",
        "  x=migration[\"skill_group_category\"].str.replace(\"z\",\"s \")\n",
        "\n",
        "  return clean_skills, x\n",
        "\n",
        "  \n",
        "\n",
        "clean_skills(migration)\n",
        "print(clean_skills(migration))\n",
        "\n",
        "\n",
        "\n",
        "\n",
        "\n",
        "\n",
        "# run and test if columns have correct names and specialised is anglised \n",
        "test_df = edit_column()\n",
        "\n",
        "if (test_df['skill_group_category'].str.contains('Specialised').any() == True) and (test_df.columns.str.contains('net_per_10K_').any() == False):\n",
        "  print(\"Test passed\")\n",
        "else:\n",
        "  print(\"Test failed\")\n"
      ],
      "execution_count": null,
      "outputs": [
        {
          "output_type": "stream",
          "name": "stdout",
          "text": [
            "(None, 0                         Tech Skills\n",
            "1                     Business Skills\n",
            "2        Specialis ed Industry Skills\n",
            "3                         Tech Skills\n",
            "4        Specialis ed Industry Skills\n",
            "                     ...             \n",
            "17612    Specialis ed Industry Skills\n",
            "17613    Specialis ed Industry Skills\n",
            "17614    Specialis ed Industry Skills\n",
            "17615    Specialis ed Industry Skills\n",
            "17616    Specialis ed Industry Skills\n",
            "Name: skill_group_category, Length: 17617, dtype: object)\n"
          ]
        },
        {
          "output_type": "error",
          "ename": "TypeError",
          "evalue": "ignored",
          "traceback": [
            "\u001b[0;31m---------------------------------------------------------------------------\u001b[0m",
            "\u001b[0;31mTypeError\u001b[0m                                 Traceback (most recent call last)",
            "\u001b[0;32m<ipython-input-111-a722b3bc47f2>\u001b[0m in \u001b[0;36m<module>\u001b[0;34m()\u001b[0m\n\u001b[1;32m     24\u001b[0m \u001b[0mtest_df\u001b[0m \u001b[0;34m=\u001b[0m \u001b[0mclean_skills\u001b[0m\u001b[0;34m(\u001b[0m\u001b[0mmigration\u001b[0m\u001b[0;34m)\u001b[0m\u001b[0;31m#edit_column()\u001b[0m\u001b[0;34m\u001b[0m\u001b[0;34m\u001b[0m\u001b[0m\n\u001b[1;32m     25\u001b[0m \u001b[0;34m\u001b[0m\u001b[0m\n\u001b[0;32m---> 26\u001b[0;31m \u001b[0;32mif\u001b[0m \u001b[0;34m(\u001b[0m\u001b[0mtest_df\u001b[0m\u001b[0;34m[\u001b[0m\u001b[0;34m'skill_group_category'\u001b[0m\u001b[0;34m]\u001b[0m\u001b[0;34m.\u001b[0m\u001b[0mstr\u001b[0m\u001b[0;34m.\u001b[0m\u001b[0mcontains\u001b[0m\u001b[0;34m(\u001b[0m\u001b[0;34m'Specialised'\u001b[0m\u001b[0;34m)\u001b[0m\u001b[0;34m.\u001b[0m\u001b[0many\u001b[0m\u001b[0;34m(\u001b[0m\u001b[0;34m)\u001b[0m \u001b[0;34m==\u001b[0m \u001b[0;32mTrue\u001b[0m\u001b[0;34m)\u001b[0m \u001b[0;32mand\u001b[0m \u001b[0;34m(\u001b[0m\u001b[0mtest_df\u001b[0m\u001b[0;34m.\u001b[0m\u001b[0mcolumns\u001b[0m\u001b[0;34m.\u001b[0m\u001b[0mstr\u001b[0m\u001b[0;34m.\u001b[0m\u001b[0mcontains\u001b[0m\u001b[0;34m(\u001b[0m\u001b[0;34m'net_per_10K_'\u001b[0m\u001b[0;34m)\u001b[0m\u001b[0;34m.\u001b[0m\u001b[0many\u001b[0m\u001b[0;34m(\u001b[0m\u001b[0;34m)\u001b[0m \u001b[0;34m==\u001b[0m \u001b[0;32mFalse\u001b[0m\u001b[0;34m)\u001b[0m\u001b[0;34m:\u001b[0m\u001b[0;34m\u001b[0m\u001b[0;34m\u001b[0m\u001b[0m\n\u001b[0m\u001b[1;32m     27\u001b[0m   \u001b[0mprint\u001b[0m\u001b[0;34m(\u001b[0m\u001b[0;34m\"Test passed\"\u001b[0m\u001b[0;34m)\u001b[0m\u001b[0;34m\u001b[0m\u001b[0;34m\u001b[0m\u001b[0m\n\u001b[1;32m     28\u001b[0m \u001b[0;32melse\u001b[0m\u001b[0;34m:\u001b[0m\u001b[0;34m\u001b[0m\u001b[0;34m\u001b[0m\u001b[0m\n",
            "\u001b[0;31mTypeError\u001b[0m: tuple indices must be integers or slices, not str"
          ]
        }
      ]
    },
    {
      "cell_type": "markdown",
      "metadata": {
        "id": "Pqc9I5VpJLpR"
      },
      "source": [
        "### Exercise 8\n",
        "---\n",
        "\n",
        "Read the 'Country Migration' sheet.\n",
        "\n",
        "Write a function that will:  \n",
        "*  convert the country codes to upper case  \n",
        "*  drop the lat and long columns for both base and target  \n",
        "*  rename the net_per_10K_year columns to year only  \n",
        "*  filter for base_country_wb_region contains 'Africa' and target_country_wb_region contains Asia  \n",
        "\n",
        "**Test output**:  \n",
        "```\n",
        "base_country_code\tbase_country_name\tbase_country_wb_income\tbase_country_wb_region\ttarget_country_code\ttarget_country_name\ttarget_country_wb_income\ttarget_country_wb_region\t2015\t2016\t2017\t2018\t2019\n",
        "0\tAE\tUnited Arab Emirates\tHigh Income\tMiddle East & North Africa\tAF\tAfghanistan\tLow Income\tSouth Asia\t0.19\t0.16\t0.11\t-0.05\t-0.02\n",
        "4\tAE\tUnited Arab Emirates\tHigh Income\tMiddle East & North Africa\tAM\tArmenia\tUpper Middle Income\tEurope & Central Asia\t0.10\t0.05\t0.03\t-0.01\t0.02\n",
        "5\tAE\tUnited Arab Emirates\tHigh Income\tMiddle East & North Africa\tAU\tAustralia\tHigh Income\tEast Asia & Pacific\t-1.06\t-3.31\t-4.01\t-4.58\t-4.09\n",
        "6\tAE\tUnited Arab Emirates\tHigh Income\tMiddle East & North Africa\tAT\tAustria\tHigh Income\tEurope & Central Asia\t0.11\t-0.08\t-0.07\t-0.05\t-0.16\n",
        "7\tAE\tUnited Arab Emirates\tHigh Income\tMiddle East & North Africa\tAZ\tAzerbaijan\tUpper Middle Income\tEurope & Central Asia\t0.24\t0.25\t0.10\t0.05\t0.04\n",
        "...\t...\t...\t...\t...\t...\t...\t...\t...\t...\t...\t...\t...\t...\n",
        "4132\tZM\tZambia\tLower Middle Income\tSub-Saharan Africa\tGB\tUnited Kingdom\tHigh Income\tEurope & Central Asia\t43.27\t27.60\t7.88\t6.90\t3.68\n",
        "4135\tZW\tZimbabwe\tLow Income\tSub-Saharan Africa\tAU\tAustralia\tHigh Income\tEast Asia & Pacific\t-1.31\t-2.33\t-2.10\t-2.08\t-1.84\n",
        "4138\tZW\tZimbabwe\tLow Income\tSub-Saharan Africa\tIS\tIceland\tHigh Income\tEurope & Central Asia\t8.52\t6.22\t2.35\t1.81\t0.97\n",
        "4142\tZW\tZimbabwe\tLow Income\tSub-Saharan Africa\tNO\tNorway\tHigh Income\tEurope & Central Asia\t2.88\t6.46\t2.10\t0.33\t-0.13\n",
        "4145\tZW\tZimbabwe\tLow Income\tSub-Saharan Africa\tGB\tUnited Kingdom\tHigh Income\tEurope & Central Asia\t3.91\t4.66\t0.74\t-0.66\t-1.97\n",
        "478 rows × 13 columns\n",
        "```\n",
        "\n"
      ]
    },
    {
      "cell_type": "code",
      "metadata": {
        "id": "jYu6n_jF9v1Y",
        "colab": {
          "base_uri": "https://localhost:8080/"
        },
        "outputId": "fcdcb38a-46da-44ed-a49f-2e55a97a6a14"
      },
      "source": [
        "import pandas as pd\n",
        "url= \"https://github.com/futureCodersSE/working-with-data/blob/main/Data%20sets/public_use-talent-migration.xlsx?raw=true\"\n",
        "migration=pd.read_excel(url, sheet_name = \"Country Migration\")\n",
        "migration\n",
        "\n",
        "def clean_country_mig(migration):\n",
        "  # add code below to clean the data \n",
        "\n",
        "  base_upper=migration[\"base_country_code\"].str.upper()\n",
        "  target_upper=migration[\"target_country_code\"].str.upper()\n",
        "  lat_long_drop=migration.drop(columns=['base_lat', 'base_long', 'target_lat', 'target_long'])\n",
        "  col_rename=migration.rename(columns={\"net_per_10K_2015\": \"2015\",\n",
        "                                \"net_per_10K_2016\": \"2016\",\n",
        "                                \"net_per_10K_2017\": \"2017\",\n",
        "                                \"net_per_10K_2018\": \"2018\",\n",
        "                                \"net_per_10K_2019\": \"2019\"},\n",
        "                                inplace=True)\n",
        "  base_reg=migration[migration[\"base_country_wb_region\"].str.contains(\"Africa\")]\n",
        "  target_reg=migration[migration[\"target_country_wb_region\"].str.contains(\"Asia\")]\n",
        "  \n",
        "  return base_upper, target_upper, lat_long_drop, col_rename, base_reg, target_reg\n",
        " \n",
        "  #print (migration.info())\n",
        "  #print (migration.describe())\n",
        "\n",
        "\n",
        "clean_country_mig(migration)\n",
        "print(clean_country_mig(migration))\n",
        "\n",
        "\n",
        "\n",
        "# run test if there is the correct number of columns, country codes are in uppercase and year columns have been reformatted \n",
        "\n",
        "test_df = clean_country_mig(migration)\n",
        "actual_col_len = len(migration.columns)\n",
        "expected = 13\n",
        "\n",
        "if actual_col_len == expected and (df['base_country_code'].str.islower().any() == False) and (df.columns.str.contains('net_per_10K_').any() == False):\n",
        "  print(\"Test passed\")\n",
        "else:\n",
        "  print(\"Test failed\")"
      ],
      "execution_count": null,
      "outputs": [
        {
          "output_type": "stream",
          "name": "stdout",
          "text": [
            "(0       AE\n",
            "1       AE\n",
            "2       AE\n",
            "3       AE\n",
            "4       AE\n",
            "        ..\n",
            "4143    ZW\n",
            "4144    ZW\n",
            "4145    ZW\n",
            "4146    ZW\n",
            "4147    ZW\n",
            "Name: base_country_code, Length: 4148, dtype: object, 0       AF\n",
            "1       DZ\n",
            "2       AO\n",
            "3       AR\n",
            "4       AM\n",
            "        ..\n",
            "4143    ZA\n",
            "4144    AE\n",
            "4145    GB\n",
            "4146    US\n",
            "4147    ZM\n",
            "Name: target_country_code, Length: 4148, dtype: object,      base_country_code     base_country_name  ...   2018   2019\n",
            "0                   ae  United Arab Emirates  ...  -0.05  -0.02\n",
            "1                   ae  United Arab Emirates  ...   0.55   0.78\n",
            "2                   ae  United Arab Emirates  ...  -0.02  -0.06\n",
            "3                   ae  United Arab Emirates  ...   0.01   0.23\n",
            "4                   ae  United Arab Emirates  ...  -0.01   0.02\n",
            "...                ...                   ...  ...    ...    ...\n",
            "4143                zw              Zimbabwe  ... -12.08 -20.76\n",
            "4144                zw              Zimbabwe  ...  -1.68  -3.19\n",
            "4145                zw              Zimbabwe  ...  -0.66  -1.97\n",
            "4146                zw              Zimbabwe  ...   6.06   5.25\n",
            "4147                zw              Zimbabwe  ...   1.21   0.33\n",
            "\n",
            "[4148 rows x 13 columns], None,      base_country_code     base_country_name   base_lat  ...   2017   2018   2019\n",
            "0                   ae  United Arab Emirates  23.424076  ...   0.11  -0.05  -0.02\n",
            "1                   ae  United Arab Emirates  23.424076  ...   0.57   0.55   0.78\n",
            "2                   ae  United Arab Emirates  23.424076  ...   0.11  -0.02  -0.06\n",
            "3                   ae  United Arab Emirates  23.424076  ...   0.04   0.01   0.23\n",
            "4                   ae  United Arab Emirates  23.424076  ...   0.03  -0.01   0.02\n",
            "...                ...                   ...        ...  ...    ...    ...    ...\n",
            "4143                zw              Zimbabwe -19.015438  ...  -9.10 -12.08 -20.76\n",
            "4144                zw              Zimbabwe -19.015438  ...  -2.21  -1.68  -3.19\n",
            "4145                zw              Zimbabwe -19.015438  ...   0.74  -0.66  -1.97\n",
            "4146                zw              Zimbabwe -19.015438  ...  10.09   6.06   5.25\n",
            "4147                zw              Zimbabwe -19.015438  ...   0.83   1.21   0.33\n",
            "\n",
            "[919 rows x 17 columns],      base_country_code     base_country_name   base_lat  ...  2017  2018  2019\n",
            "0                   ae  United Arab Emirates  23.424076  ...  0.11 -0.05 -0.02\n",
            "4                   ae  United Arab Emirates  23.424076  ...  0.03 -0.01  0.02\n",
            "5                   ae  United Arab Emirates  23.424076  ... -4.01 -4.58 -4.09\n",
            "6                   ae  United Arab Emirates  23.424076  ... -0.07 -0.05 -0.16\n",
            "7                   ae  United Arab Emirates  23.424076  ...  0.10  0.05  0.04\n",
            "...                ...                   ...        ...  ...   ...   ...   ...\n",
            "4132                zm                Zambia -13.133897  ...  7.88  6.90  3.68\n",
            "4135                zw              Zimbabwe -19.015438  ... -2.10 -2.08 -1.84\n",
            "4138                zw              Zimbabwe -19.015438  ...  2.35  1.81  0.97\n",
            "4142                zw              Zimbabwe -19.015438  ...  2.10  0.33 -0.13\n",
            "4145                zw              Zimbabwe -19.015438  ...  0.74 -0.66 -1.97\n",
            "\n",
            "[2562 rows x 17 columns])\n",
            "Test failed\n"
          ]
        }
      ]
    },
    {
      "cell_type": "markdown",
      "metadata": {
        "id": "7V6mNsfsNrsd"
      },
      "source": [
        "### Exercise 10\n",
        "---\n",
        "\n",
        "Read the data from file 'https://raw.githubusercontent.com/pandas-dev/pandas/master/doc/data/titanic.csv'.\n",
        "\n",
        "Write a function that will return a new dataframe with just the married women listed, surname only.\n",
        "\n",
        "**Test output**:  \n",
        "```\n",
        "\tPassengerId\tSurvived\tPclass\tName\tSex\tAge\tSibSp\tParch\tTicket\tFare\tCabin\tEmbarked\n",
        "1\t2\t1\t1\tCumings\tfemale\t38.0\t1\t0\tPC 17599\t71.2833\tC85\tC\n",
        "3\t4\t1\t1\tFutrelle\tfemale\t35.0\t1\t0\t113803\t53.1000\tC123\tS\n",
        "8\t9\t1\t3\tJohnson\tfemale\t27.0\t0\t2\t347742\t11.1333\tNaN\tS\n",
        "9\t10\t1\t2\tNasser\tfemale\t14.0\t1\t0\t237736\t30.0708\tNaN\tC\n",
        "15\t16\t1\t2\tHewlett\tfemale\t55.0\t0\t0\t248706\t16.0000\tNaN\tS\n",
        "...\t...\t...\t...\t...\t...\t...\t...\t...\t...\t...\t...\t...\n",
        "871\t872\t1\t1\tBeckwith\tfemale\t47.0\t1\t1\t11751\t52.5542\tD35\tS\n",
        "874\t875\t1\t2\tAbelson\tfemale\t28.0\t1\t0\tP/PP 3381\t24.0000\tNaN\tC\n",
        "879\t880\t1\t1\tPotter\tfemale\t56.0\t0\t1\t11767\t83.1583\tC50\tC\n",
        "880\t881\t1\t2\tShelley\tfemale\t25.0\t0\t1\t230433\t26.0000\tNaN\tS\n",
        "885\t886\t0\t3\tRice\tfemale\t39.0\t0\t5\t382652\t29.1250\tNaN\tQ\n",
        "129 rows × 12 columns\n",
        "```\n",
        "\n",
        "\n",
        "\n"
      ]
    },
    {
      "cell_type": "code",
      "metadata": {
        "id": "J4gx3RHIOczI",
        "colab": {
          "base_uri": "https://localhost:8080/"
        },
        "outputId": "b8691731-b51e-41ba-c7af-25f6bd573475"
      },
      "source": [
        "url= 'https://raw.githubusercontent.com/pandas-dev/pandas/master/doc/data/titanic.csv'\n",
        "titanic=pd.read_csv(url)\n",
        "titanic\n",
        "\n",
        "def get_married(titanic):\n",
        "  # add code to return only the last names of married women\n",
        "\n",
        "  drop_males=titanic[titanic.Sex != 'male']#dropping all 'male' rows\n",
        "  drop_miss=titanic[titanic[\"Name\"].str.contains(\"Miss\")==False]#dropping all females with titles 'Miss'\n",
        "  surnames=titanic[\"Name\"].str.split(\",\").str.get(0) #leaving only Last Names- split at the comma\n",
        "\n",
        "  return  drop_males, drop_miss, surnames\n",
        "\n",
        "    #print(titanic.info())\n",
        "    #print(titanic.head())\n",
        "get_married(titanic)\n",
        "#print(get_married(titanic))\n",
        "\n",
        "\n",
        "  \n",
        "\n",
        "\n",
        "# run and test if returned dataframe is correct length and has correct first row \n",
        "#test_df = get_married(titanic)\n",
        "#actual_len = len(test_df)\n",
        "#expected_len = 129\n",
        "#actual_name = test_df['Name'].iloc[0]\n",
        "#expected_name = 'Cumings'\n",
        "\n",
        "#if actual_len == expected_len and actual_name == expected_name:\n",
        "  #print(\"Test passed, \", actual_len, actual_name)\n",
        "#else:\n",
        "  #print(\"Test failed expected \", expected_len, expected_name, \"got\", actual_len, actual_name)"
      ],
      "execution_count": null,
      "outputs": [
        {
          "output_type": "execute_result",
          "data": {
            "text/plain": [
              "(     PassengerId  Survived  Pclass  ...     Fare Cabin  Embarked\n",
              " 1              2         1       1  ...  71.2833   C85         C\n",
              " 2              3         1       3  ...   7.9250   NaN         S\n",
              " 3              4         1       1  ...  53.1000  C123         S\n",
              " 8              9         1       3  ...  11.1333   NaN         S\n",
              " 9             10         1       2  ...  30.0708   NaN         C\n",
              " ..           ...       ...     ...  ...      ...   ...       ...\n",
              " 880          881         1       2  ...  26.0000   NaN         S\n",
              " 882          883         0       3  ...  10.5167   NaN         S\n",
              " 885          886         0       3  ...  29.1250   NaN         Q\n",
              " 887          888         1       1  ...  30.0000   B42         S\n",
              " 888          889         0       3  ...  23.4500   NaN         S\n",
              " \n",
              " [314 rows x 12 columns],\n",
              "      PassengerId  Survived  Pclass  ...     Fare Cabin  Embarked\n",
              " 0              1         0       3  ...   7.2500   NaN         S\n",
              " 1              2         1       1  ...  71.2833   C85         C\n",
              " 3              4         1       1  ...  53.1000  C123         S\n",
              " 4              5         0       3  ...   8.0500   NaN         S\n",
              " 5              6         0       3  ...   8.4583   NaN         Q\n",
              " ..           ...       ...     ...  ...      ...   ...       ...\n",
              " 884          885         0       3  ...   7.0500   NaN         S\n",
              " 885          886         0       3  ...  29.1250   NaN         Q\n",
              " 886          887         0       2  ...  13.0000   NaN         S\n",
              " 889          890         1       1  ...  30.0000  C148         C\n",
              " 890          891         0       3  ...   7.7500   NaN         Q\n",
              " \n",
              " [709 rows x 12 columns],\n",
              " 0         Braund\n",
              " 1        Cumings\n",
              " 2      Heikkinen\n",
              " 3       Futrelle\n",
              " 4          Allen\n",
              "          ...    \n",
              " 886     Montvila\n",
              " 887       Graham\n",
              " 888     Johnston\n",
              " 889         Behr\n",
              " 890       Dooley\n",
              " Name: Name, Length: 891, dtype: object)"
            ]
          },
          "metadata": {},
          "execution_count": 113
        }
      ]
    },
    {
      "cell_type": "markdown",
      "metadata": {
        "id": "22Rhwx2Sb1Ey"
      },
      "source": [
        "---\n",
        "### Optional extra practice\n",
        "\n",
        "There are some similar and some more challenging exercises [here](https://www.w3resource.com/python-exercises/date-time-exercise/) if you would like to practice more. The site has its own editor."
      ]
    },
    {
      "cell_type": "markdown",
      "metadata": {
        "id": "pQV2NO8umBSk"
      },
      "source": [
        "# Reflection\n",
        "----\n",
        "\n",
        "## What skills have you demonstrated in completing this notebook?"
      ]
    },
    {
      "cell_type": "markdown",
      "metadata": {
        "id": "NUVvt2r0mCKq"
      },
      "source": [
        "Your answer: I think I can display specific information from a data set. I am not feeling overly confident at this point but I think this will change the more exercises I do."
      ]
    },
    {
      "cell_type": "markdown",
      "metadata": {
        "id": "SOrbWOuFmObq"
      },
      "source": [
        "## What caused you the most difficulty?"
      ]
    },
    {
      "cell_type": "markdown",
      "metadata": {
        "id": "G_eGng1GmO78"
      },
      "source": [
        "Your answer: Displaying the information as per expected output (see exercise 8-10, code seems to  be working fine when it comes to show answers independently from each other)"
      ]
    }
  ]
}