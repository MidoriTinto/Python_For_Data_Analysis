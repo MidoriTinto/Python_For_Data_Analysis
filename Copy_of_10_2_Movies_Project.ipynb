{
  "nbformat": 4,
  "nbformat_minor": 0,
  "metadata": {
    "colab": {
      "name": "Copy of 10.2 Movies Project.ipynb",
      "provenance": [],
      "collapsed_sections": [],
      "include_colab_link": true
    },
    "kernelspec": {
      "name": "python3",
      "display_name": "Python 3"
    },
    "language_info": {
      "name": "python"
    }
  },
  "cells": [
    {
      "cell_type": "markdown",
      "metadata": {
        "id": "view-in-github",
        "colab_type": "text"
      },
      "source": [
        "<a href=\"https://colab.research.google.com/github/MidoriTinto/Python_Fundamentals/blob/main/Copy_of_10_2_Movies_Project.ipynb\" target=\"_parent\"><img src=\"https://colab.research.google.com/assets/colab-badge.svg\" alt=\"Open In Colab\"/></a>"
      ]
    },
    {
      "cell_type": "markdown",
      "metadata": {
        "id": "iNinIL0w_DHu"
      },
      "source": [
        "# Movies Mini-project\n",
        "---\n",
        "\n",
        "In the previous worksheet you converted an SQL relational database to a single pandas dataframe and downloaded it. You will be analysing it today.\n",
        "\n",
        "If you were unable to download the file, there is a copy located here: \n",
        "\n",
        "\"https://github.com/lilaceri/Working-with-data-/blob/main/Data%20Sets%20for%20code%20divisio/movies.csv?raw=true\"\n",
        "\n"
      ]
    },
    {
      "cell_type": "markdown",
      "metadata": {
        "id": "TlOJOk3vMN2C"
      },
      "source": [
        "### Inspect the dataset \n",
        "---"
      ]
    },
    {
      "cell_type": "code",
      "metadata": {
        "id": "Le5KSKHY_BM9",
        "colab": {
          "base_uri": "https://localhost:8080/",
          "height": 424
        },
        "outputId": "281a77b3-4c0b-4934-c254-a883ad50daae"
      },
      "source": [
        "import pandas as pd\n",
        "url=\"https://github.com/lilaceri/Working-with-data-/blob/main/Data%20Sets%20for%20code%20divisio/movies.csv?raw=true\"\n",
        "movies=pd.read_csv(url)\n",
        "movies"
      ],
      "execution_count": 1,
      "outputs": [
        {
          "output_type": "execute_result",
          "data": {
            "text/html": [
              "\n",
              "  <div id=\"df-29db381e-5886-4c1f-a353-e82e5ea43fce\">\n",
              "    <div class=\"colab-df-container\">\n",
              "      <div>\n",
              "<style scoped>\n",
              "    .dataframe tbody tr th:only-of-type {\n",
              "        vertical-align: middle;\n",
              "    }\n",
              "\n",
              "    .dataframe tbody tr th {\n",
              "        vertical-align: top;\n",
              "    }\n",
              "\n",
              "    .dataframe thead th {\n",
              "        text-align: right;\n",
              "    }\n",
              "</style>\n",
              "<table border=\"1\" class=\"dataframe\">\n",
              "  <thead>\n",
              "    <tr style=\"text-align: right;\">\n",
              "      <th></th>\n",
              "      <th>Unnamed: 0</th>\n",
              "      <th>first_name</th>\n",
              "      <th>last_name</th>\n",
              "      <th>name</th>\n",
              "      <th>year</th>\n",
              "      <th>rank</th>\n",
              "      <th>genre</th>\n",
              "    </tr>\n",
              "  </thead>\n",
              "  <tbody>\n",
              "    <tr>\n",
              "      <th>0</th>\n",
              "      <td>0</td>\n",
              "      <td>Les</td>\n",
              "      <td>12 Poissons</td>\n",
              "      <td>Rondo pour trompette</td>\n",
              "      <td>2002</td>\n",
              "      <td>NaN</td>\n",
              "      <td>Short</td>\n",
              "    </tr>\n",
              "    <tr>\n",
              "      <th>1</th>\n",
              "      <td>1</td>\n",
              "      <td>Lejaren</td>\n",
              "      <td>a'Hiller</td>\n",
              "      <td>Sleep of Cyma Roget, The</td>\n",
              "      <td>1920</td>\n",
              "      <td>NaN</td>\n",
              "      <td>Drama</td>\n",
              "    </tr>\n",
              "    <tr>\n",
              "      <th>2</th>\n",
              "      <td>2</td>\n",
              "      <td>Khairiya</td>\n",
              "      <td>A-Mansour</td>\n",
              "      <td>Churches in Iraq</td>\n",
              "      <td>1988</td>\n",
              "      <td>NaN</td>\n",
              "      <td>Documentary</td>\n",
              "    </tr>\n",
              "    <tr>\n",
              "      <th>3</th>\n",
              "      <td>3</td>\n",
              "      <td>Ricardo</td>\n",
              "      <td>A. Solla</td>\n",
              "      <td>Foto, La</td>\n",
              "      <td>2001</td>\n",
              "      <td>NaN</td>\n",
              "      <td>Drama</td>\n",
              "    </tr>\n",
              "    <tr>\n",
              "      <th>4</th>\n",
              "      <td>4</td>\n",
              "      <td>Ricardo</td>\n",
              "      <td>A. Solla</td>\n",
              "      <td>Foto, La</td>\n",
              "      <td>2001</td>\n",
              "      <td>NaN</td>\n",
              "      <td>Short</td>\n",
              "    </tr>\n",
              "    <tr>\n",
              "      <th>...</th>\n",
              "      <td>...</td>\n",
              "      <td>...</td>\n",
              "      <td>...</td>\n",
              "      <td>...</td>\n",
              "      <td>...</td>\n",
              "      <td>...</td>\n",
              "      <td>...</td>\n",
              "    </tr>\n",
              "    <tr>\n",
              "      <th>368889</th>\n",
              "      <td>368889</td>\n",
              "      <td>Yusuf</td>\n",
              "      <td>Ünal</td>\n",
              "      <td>Kalbim agliyor</td>\n",
              "      <td>1988</td>\n",
              "      <td>NaN</td>\n",
              "      <td>Drama</td>\n",
              "    </tr>\n",
              "    <tr>\n",
              "      <th>368890</th>\n",
              "      <td>368890</td>\n",
              "      <td>Ahmet</td>\n",
              "      <td>Ündag</td>\n",
              "      <td>Ve gnese kan siradi</td>\n",
              "      <td>1972</td>\n",
              "      <td>NaN</td>\n",
              "      <td>Adventure</td>\n",
              "    </tr>\n",
              "    <tr>\n",
              "      <th>368891</th>\n",
              "      <td>368891</td>\n",
              "      <td>Idil</td>\n",
              "      <td>Üner</td>\n",
              "      <td>Liebenden vom Hotel von Osman, Die</td>\n",
              "      <td>2001</td>\n",
              "      <td>8.5</td>\n",
              "      <td>Short</td>\n",
              "    </tr>\n",
              "    <tr>\n",
              "      <th>368892</th>\n",
              "      <td>368892</td>\n",
              "      <td>Yüksel</td>\n",
              "      <td>Ünsal</td>\n",
              "      <td>Evvel zaman iinde</td>\n",
              "      <td>1951</td>\n",
              "      <td>NaN</td>\n",
              "      <td>Animation</td>\n",
              "    </tr>\n",
              "    <tr>\n",
              "      <th>368893</th>\n",
              "      <td>368893</td>\n",
              "      <td>Yüksel</td>\n",
              "      <td>Ünsal</td>\n",
              "      <td>Evvel zaman iinde</td>\n",
              "      <td>1951</td>\n",
              "      <td>NaN</td>\n",
              "      <td>Comedy</td>\n",
              "    </tr>\n",
              "  </tbody>\n",
              "</table>\n",
              "<p>368894 rows × 7 columns</p>\n",
              "</div>\n",
              "      <button class=\"colab-df-convert\" onclick=\"convertToInteractive('df-29db381e-5886-4c1f-a353-e82e5ea43fce')\"\n",
              "              title=\"Convert this dataframe to an interactive table.\"\n",
              "              style=\"display:none;\">\n",
              "        \n",
              "  <svg xmlns=\"http://www.w3.org/2000/svg\" height=\"24px\"viewBox=\"0 0 24 24\"\n",
              "       width=\"24px\">\n",
              "    <path d=\"M0 0h24v24H0V0z\" fill=\"none\"/>\n",
              "    <path d=\"M18.56 5.44l.94 2.06.94-2.06 2.06-.94-2.06-.94-.94-2.06-.94 2.06-2.06.94zm-11 1L8.5 8.5l.94-2.06 2.06-.94-2.06-.94L8.5 2.5l-.94 2.06-2.06.94zm10 10l.94 2.06.94-2.06 2.06-.94-2.06-.94-.94-2.06-.94 2.06-2.06.94z\"/><path d=\"M17.41 7.96l-1.37-1.37c-.4-.4-.92-.59-1.43-.59-.52 0-1.04.2-1.43.59L10.3 9.45l-7.72 7.72c-.78.78-.78 2.05 0 2.83L4 21.41c.39.39.9.59 1.41.59.51 0 1.02-.2 1.41-.59l7.78-7.78 2.81-2.81c.8-.78.8-2.07 0-2.86zM5.41 20L4 18.59l7.72-7.72 1.47 1.35L5.41 20z\"/>\n",
              "  </svg>\n",
              "      </button>\n",
              "      \n",
              "  <style>\n",
              "    .colab-df-container {\n",
              "      display:flex;\n",
              "      flex-wrap:wrap;\n",
              "      gap: 12px;\n",
              "    }\n",
              "\n",
              "    .colab-df-convert {\n",
              "      background-color: #E8F0FE;\n",
              "      border: none;\n",
              "      border-radius: 50%;\n",
              "      cursor: pointer;\n",
              "      display: none;\n",
              "      fill: #1967D2;\n",
              "      height: 32px;\n",
              "      padding: 0 0 0 0;\n",
              "      width: 32px;\n",
              "    }\n",
              "\n",
              "    .colab-df-convert:hover {\n",
              "      background-color: #E2EBFA;\n",
              "      box-shadow: 0px 1px 2px rgba(60, 64, 67, 0.3), 0px 1px 3px 1px rgba(60, 64, 67, 0.15);\n",
              "      fill: #174EA6;\n",
              "    }\n",
              "\n",
              "    [theme=dark] .colab-df-convert {\n",
              "      background-color: #3B4455;\n",
              "      fill: #D2E3FC;\n",
              "    }\n",
              "\n",
              "    [theme=dark] .colab-df-convert:hover {\n",
              "      background-color: #434B5C;\n",
              "      box-shadow: 0px 1px 3px 1px rgba(0, 0, 0, 0.15);\n",
              "      filter: drop-shadow(0px 1px 2px rgba(0, 0, 0, 0.3));\n",
              "      fill: #FFFFFF;\n",
              "    }\n",
              "  </style>\n",
              "\n",
              "      <script>\n",
              "        const buttonEl =\n",
              "          document.querySelector('#df-29db381e-5886-4c1f-a353-e82e5ea43fce button.colab-df-convert');\n",
              "        buttonEl.style.display =\n",
              "          google.colab.kernel.accessAllowed ? 'block' : 'none';\n",
              "\n",
              "        async function convertToInteractive(key) {\n",
              "          const element = document.querySelector('#df-29db381e-5886-4c1f-a353-e82e5ea43fce');\n",
              "          const dataTable =\n",
              "            await google.colab.kernel.invokeFunction('convertToInteractive',\n",
              "                                                     [key], {});\n",
              "          if (!dataTable) return;\n",
              "\n",
              "          const docLinkHtml = 'Like what you see? Visit the ' +\n",
              "            '<a target=\"_blank\" href=https://colab.research.google.com/notebooks/data_table.ipynb>data table notebook</a>'\n",
              "            + ' to learn more about interactive tables.';\n",
              "          element.innerHTML = '';\n",
              "          dataTable['output_type'] = 'display_data';\n",
              "          await google.colab.output.renderOutput(dataTable, element);\n",
              "          const docLink = document.createElement('div');\n",
              "          docLink.innerHTML = docLinkHtml;\n",
              "          element.appendChild(docLink);\n",
              "        }\n",
              "      </script>\n",
              "    </div>\n",
              "  </div>\n",
              "  "
            ],
            "text/plain": [
              "        Unnamed: 0 first_name    last_name  ...  year  rank        genre\n",
              "0                0        Les  12 Poissons  ...  2002   NaN        Short\n",
              "1                1    Lejaren     a'Hiller  ...  1920   NaN        Drama\n",
              "2                2   Khairiya    A-Mansour  ...  1988   NaN  Documentary\n",
              "3                3    Ricardo     A. Solla  ...  2001   NaN        Drama\n",
              "4                4    Ricardo     A. Solla  ...  2001   NaN        Short\n",
              "...            ...        ...          ...  ...   ...   ...          ...\n",
              "368889      368889      Yusuf         Ünal  ...  1988   NaN        Drama\n",
              "368890      368890      Ahmet        Ündag  ...  1972   NaN    Adventure\n",
              "368891      368891       Idil         Üner  ...  2001   8.5        Short\n",
              "368892      368892     Yüksel        Ünsal  ...  1951   NaN    Animation\n",
              "368893      368893     Yüksel        Ünsal  ...  1951   NaN       Comedy\n",
              "\n",
              "[368894 rows x 7 columns]"
            ]
          },
          "metadata": {},
          "execution_count": 1
        }
      ]
    },
    {
      "cell_type": "markdown",
      "source": [
        "** Looking at the null values, column names and datatypes in dataframe 'movies'**"
      ],
      "metadata": {
        "id": "iA_sQN10Sm1o"
      }
    },
    {
      "cell_type": "code",
      "source": [
        "movies.info()"
      ],
      "metadata": {
        "colab": {
          "base_uri": "https://localhost:8080/"
        },
        "id": "w1v8egJmRo5J",
        "outputId": "e378cb03-153b-4d4e-87ae-370c7972c2ed"
      },
      "execution_count": null,
      "outputs": [
        {
          "output_type": "stream",
          "name": "stdout",
          "text": [
            "<class 'pandas.core.frame.DataFrame'>\n",
            "RangeIndex: 368894 entries, 0 to 368893\n",
            "Data columns (total 7 columns):\n",
            " #   Column      Non-Null Count   Dtype  \n",
            "---  ------      --------------   -----  \n",
            " 0   Unnamed: 0  368894 non-null  int64  \n",
            " 1   first_name  368894 non-null  object \n",
            " 2   last_name   368894 non-null  object \n",
            " 3   name        368894 non-null  object \n",
            " 4   year        368894 non-null  int64  \n",
            " 5   rank        113376 non-null  float64\n",
            " 6   genre       368894 non-null  object \n",
            "dtypes: float64(1), int64(2), object(4)\n",
            "memory usage: 19.7+ MB\n"
          ]
        }
      ]
    },
    {
      "cell_type": "markdown",
      "source": [
        "**Spotting any inconsistencies in column names**"
      ],
      "metadata": {
        "id": "eizRZCTfTBsE"
      }
    },
    {
      "cell_type": "code",
      "source": [
        "movies.columns"
      ],
      "metadata": {
        "colab": {
          "base_uri": "https://localhost:8080/"
        },
        "id": "WeX_bZDXRvX4",
        "outputId": "981229aa-335a-4066-9284-ac9716f21e9b"
      },
      "execution_count": 2,
      "outputs": [
        {
          "output_type": "execute_result",
          "data": {
            "text/plain": [
              "Index(['Unnamed: 0', 'first_name', 'last_name', 'name', 'year', 'rank',\n",
              "       'genre'],\n",
              "      dtype='object')"
            ]
          },
          "metadata": {},
          "execution_count": 2
        }
      ]
    },
    {
      "cell_type": "code",
      "source": [
        "movies.describe\n"
      ],
      "metadata": {
        "colab": {
          "base_uri": "https://localhost:8080/"
        },
        "id": "dDCFkg-9R7Jk",
        "outputId": "a9fa40b8-7ce3-43d5-8e7c-f6c6b53720ac"
      },
      "execution_count": null,
      "outputs": [
        {
          "output_type": "execute_result",
          "data": {
            "text/plain": [
              "<bound method NDFrame.describe of         Unnamed: 0 first_name    last_name  ...  year  rank        genre\n",
              "0                0        Les  12 Poissons  ...  2002   NaN        Short\n",
              "1                1    Lejaren     a'Hiller  ...  1920   NaN        Drama\n",
              "2                2   Khairiya    A-Mansour  ...  1988   NaN  Documentary\n",
              "3                3    Ricardo     A. Solla  ...  2001   NaN        Drama\n",
              "4                4    Ricardo     A. Solla  ...  2001   NaN        Short\n",
              "...            ...        ...          ...  ...   ...   ...          ...\n",
              "368889      368889      Yusuf         Ünal  ...  1988   NaN        Drama\n",
              "368890      368890      Ahmet        Ündag  ...  1972   NaN    Adventure\n",
              "368891      368891       Idil         Üner  ...  2001   8.5        Short\n",
              "368892      368892     Yüksel        Ünsal  ...  1951   NaN    Animation\n",
              "368893      368893     Yüksel        Ünsal  ...  1951   NaN       Comedy\n",
              "\n",
              "[368894 rows x 7 columns]>"
            ]
          },
          "metadata": {},
          "execution_count": 9
        }
      ]
    },
    {
      "cell_type": "markdown",
      "source": [
        "**Finding out the number of rows and columns in dataframe 'movies'**"
      ],
      "metadata": {
        "id": "cLVt3H5HTTww"
      }
    },
    {
      "cell_type": "code",
      "source": [
        "movies.shape "
      ],
      "metadata": {
        "colab": {
          "base_uri": "https://localhost:8080/"
        },
        "id": "zL5V7G6TSLic",
        "outputId": "ee94062b-9517-4184-8e7c-555573216941"
      },
      "execution_count": null,
      "outputs": [
        {
          "output_type": "execute_result",
          "data": {
            "text/plain": [
              "(368894, 7)"
            ]
          },
          "metadata": {},
          "execution_count": 9
        }
      ]
    },
    {
      "cell_type": "markdown",
      "metadata": {
        "id": "wIRDoCnxMRj8"
      },
      "source": [
        "### Clean the dataset \n",
        "---\n"
      ]
    },
    {
      "cell_type": "markdown",
      "source": [
        "**Dropping null values from column ['rank']**"
      ],
      "metadata": {
        "id": "v_PwRSZhTvfQ"
      }
    },
    {
      "cell_type": "code",
      "metadata": {
        "id": "LgY60bsbMUc8",
        "colab": {
          "base_uri": "https://localhost:8080/"
        },
        "outputId": "52d06250-2421-4711-d760-27c0c84db946"
      },
      "source": [
        "movies_drop=movies.dropna(subset=[\"rank\"])\n",
        "movies_drop.info()"
      ],
      "execution_count": 3,
      "outputs": [
        {
          "output_type": "stream",
          "name": "stdout",
          "text": [
            "<class 'pandas.core.frame.DataFrame'>\n",
            "Int64Index: 113376 entries, 77 to 368891\n",
            "Data columns (total 7 columns):\n",
            " #   Column      Non-Null Count   Dtype  \n",
            "---  ------      --------------   -----  \n",
            " 0   Unnamed: 0  113376 non-null  int64  \n",
            " 1   first_name  113376 non-null  object \n",
            " 2   last_name   113376 non-null  object \n",
            " 3   name        113376 non-null  object \n",
            " 4   year        113376 non-null  int64  \n",
            " 5   rank        113376 non-null  float64\n",
            " 6   genre       113376 non-null  object \n",
            "dtypes: float64(1), int64(2), object(4)\n",
            "memory usage: 6.9+ MB\n"
          ]
        }
      ]
    },
    {
      "cell_type": "code",
      "source": [
        "movies_drop"
      ],
      "metadata": {
        "colab": {
          "base_uri": "https://localhost:8080/",
          "height": 424
        },
        "id": "lMITIYFVhvyo",
        "outputId": "c6a14bd3-68ab-4699-bdb7-cf60e885daa2"
      },
      "execution_count": null,
      "outputs": [
        {
          "output_type": "execute_result",
          "data": {
            "text/html": [
              "\n",
              "  <div id=\"df-9b164260-24ba-4346-b5a5-df7504844123\">\n",
              "    <div class=\"colab-df-container\">\n",
              "      <div>\n",
              "<style scoped>\n",
              "    .dataframe tbody tr th:only-of-type {\n",
              "        vertical-align: middle;\n",
              "    }\n",
              "\n",
              "    .dataframe tbody tr th {\n",
              "        vertical-align: top;\n",
              "    }\n",
              "\n",
              "    .dataframe thead th {\n",
              "        text-align: right;\n",
              "    }\n",
              "</style>\n",
              "<table border=\"1\" class=\"dataframe\">\n",
              "  <thead>\n",
              "    <tr style=\"text-align: right;\">\n",
              "      <th></th>\n",
              "      <th>Unnamed: 0</th>\n",
              "      <th>first_name</th>\n",
              "      <th>last_name</th>\n",
              "      <th>name</th>\n",
              "      <th>year</th>\n",
              "      <th>rank</th>\n",
              "      <th>genre</th>\n",
              "    </tr>\n",
              "  </thead>\n",
              "  <tbody>\n",
              "    <tr>\n",
              "      <th>77</th>\n",
              "      <td>77</td>\n",
              "      <td>Rostislav</td>\n",
              "      <td>Aalto</td>\n",
              "      <td>Cleaning Up!</td>\n",
              "      <td>2002</td>\n",
              "      <td>8.3</td>\n",
              "      <td>Documentary</td>\n",
              "    </tr>\n",
              "    <tr>\n",
              "      <th>78</th>\n",
              "      <td>78</td>\n",
              "      <td>Veikko</td>\n",
              "      <td>Aaltonen</td>\n",
              "      <td>Is meidn</td>\n",
              "      <td>1993</td>\n",
              "      <td>6.8</td>\n",
              "      <td>Drama</td>\n",
              "    </tr>\n",
              "    <tr>\n",
              "      <th>79</th>\n",
              "      <td>79</td>\n",
              "      <td>Veikko</td>\n",
              "      <td>Aaltonen</td>\n",
              "      <td>Juoksuhaudantie</td>\n",
              "      <td>2004</td>\n",
              "      <td>6.3</td>\n",
              "      <td>Comedy</td>\n",
              "    </tr>\n",
              "    <tr>\n",
              "      <th>80</th>\n",
              "      <td>80</td>\n",
              "      <td>Veikko</td>\n",
              "      <td>Aaltonen</td>\n",
              "      <td>Juoksuhaudantie</td>\n",
              "      <td>2004</td>\n",
              "      <td>6.3</td>\n",
              "      <td>Drama</td>\n",
              "    </tr>\n",
              "    <tr>\n",
              "      <th>81</th>\n",
              "      <td>81</td>\n",
              "      <td>Veikko</td>\n",
              "      <td>Aaltonen</td>\n",
              "      <td>Maa</td>\n",
              "      <td>2001</td>\n",
              "      <td>6.0</td>\n",
              "      <td>Documentary</td>\n",
              "    </tr>\n",
              "    <tr>\n",
              "      <th>...</th>\n",
              "      <td>...</td>\n",
              "      <td>...</td>\n",
              "      <td>...</td>\n",
              "      <td>...</td>\n",
              "      <td>...</td>\n",
              "      <td>...</td>\n",
              "      <td>...</td>\n",
              "    </tr>\n",
              "    <tr>\n",
              "      <th>368837</th>\n",
              "      <td>368837</td>\n",
              "      <td>Memduh</td>\n",
              "      <td>Ün</td>\n",
              "      <td>Garip</td>\n",
              "      <td>1986</td>\n",
              "      <td>7.9</td>\n",
              "      <td>Comedy</td>\n",
              "    </tr>\n",
              "    <tr>\n",
              "      <th>368838</th>\n",
              "      <td>368838</td>\n",
              "      <td>Memduh</td>\n",
              "      <td>Ün</td>\n",
              "      <td>Garip</td>\n",
              "      <td>1986</td>\n",
              "      <td>7.9</td>\n",
              "      <td>Drama</td>\n",
              "    </tr>\n",
              "    <tr>\n",
              "      <th>368861</th>\n",
              "      <td>368861</td>\n",
              "      <td>Memduh</td>\n",
              "      <td>Ün</td>\n",
              "      <td>Sezercik aslan parcasi</td>\n",
              "      <td>1972</td>\n",
              "      <td>6.0</td>\n",
              "      <td>Drama</td>\n",
              "    </tr>\n",
              "    <tr>\n",
              "      <th>368862</th>\n",
              "      <td>368862</td>\n",
              "      <td>Memduh</td>\n",
              "      <td>Ün</td>\n",
              "      <td>Sezercik aslan parcasi</td>\n",
              "      <td>1972</td>\n",
              "      <td>6.0</td>\n",
              "      <td>Romance</td>\n",
              "    </tr>\n",
              "    <tr>\n",
              "      <th>368891</th>\n",
              "      <td>368891</td>\n",
              "      <td>Idil</td>\n",
              "      <td>Üner</td>\n",
              "      <td>Liebenden vom Hotel von Osman, Die</td>\n",
              "      <td>2001</td>\n",
              "      <td>8.5</td>\n",
              "      <td>Short</td>\n",
              "    </tr>\n",
              "  </tbody>\n",
              "</table>\n",
              "<p>113376 rows × 7 columns</p>\n",
              "</div>\n",
              "      <button class=\"colab-df-convert\" onclick=\"convertToInteractive('df-9b164260-24ba-4346-b5a5-df7504844123')\"\n",
              "              title=\"Convert this dataframe to an interactive table.\"\n",
              "              style=\"display:none;\">\n",
              "        \n",
              "  <svg xmlns=\"http://www.w3.org/2000/svg\" height=\"24px\"viewBox=\"0 0 24 24\"\n",
              "       width=\"24px\">\n",
              "    <path d=\"M0 0h24v24H0V0z\" fill=\"none\"/>\n",
              "    <path d=\"M18.56 5.44l.94 2.06.94-2.06 2.06-.94-2.06-.94-.94-2.06-.94 2.06-2.06.94zm-11 1L8.5 8.5l.94-2.06 2.06-.94-2.06-.94L8.5 2.5l-.94 2.06-2.06.94zm10 10l.94 2.06.94-2.06 2.06-.94-2.06-.94-.94-2.06-.94 2.06-2.06.94z\"/><path d=\"M17.41 7.96l-1.37-1.37c-.4-.4-.92-.59-1.43-.59-.52 0-1.04.2-1.43.59L10.3 9.45l-7.72 7.72c-.78.78-.78 2.05 0 2.83L4 21.41c.39.39.9.59 1.41.59.51 0 1.02-.2 1.41-.59l7.78-7.78 2.81-2.81c.8-.78.8-2.07 0-2.86zM5.41 20L4 18.59l7.72-7.72 1.47 1.35L5.41 20z\"/>\n",
              "  </svg>\n",
              "      </button>\n",
              "      \n",
              "  <style>\n",
              "    .colab-df-container {\n",
              "      display:flex;\n",
              "      flex-wrap:wrap;\n",
              "      gap: 12px;\n",
              "    }\n",
              "\n",
              "    .colab-df-convert {\n",
              "      background-color: #E8F0FE;\n",
              "      border: none;\n",
              "      border-radius: 50%;\n",
              "      cursor: pointer;\n",
              "      display: none;\n",
              "      fill: #1967D2;\n",
              "      height: 32px;\n",
              "      padding: 0 0 0 0;\n",
              "      width: 32px;\n",
              "    }\n",
              "\n",
              "    .colab-df-convert:hover {\n",
              "      background-color: #E2EBFA;\n",
              "      box-shadow: 0px 1px 2px rgba(60, 64, 67, 0.3), 0px 1px 3px 1px rgba(60, 64, 67, 0.15);\n",
              "      fill: #174EA6;\n",
              "    }\n",
              "\n",
              "    [theme=dark] .colab-df-convert {\n",
              "      background-color: #3B4455;\n",
              "      fill: #D2E3FC;\n",
              "    }\n",
              "\n",
              "    [theme=dark] .colab-df-convert:hover {\n",
              "      background-color: #434B5C;\n",
              "      box-shadow: 0px 1px 3px 1px rgba(0, 0, 0, 0.15);\n",
              "      filter: drop-shadow(0px 1px 2px rgba(0, 0, 0, 0.3));\n",
              "      fill: #FFFFFF;\n",
              "    }\n",
              "  </style>\n",
              "\n",
              "      <script>\n",
              "        const buttonEl =\n",
              "          document.querySelector('#df-9b164260-24ba-4346-b5a5-df7504844123 button.colab-df-convert');\n",
              "        buttonEl.style.display =\n",
              "          google.colab.kernel.accessAllowed ? 'block' : 'none';\n",
              "\n",
              "        async function convertToInteractive(key) {\n",
              "          const element = document.querySelector('#df-9b164260-24ba-4346-b5a5-df7504844123');\n",
              "          const dataTable =\n",
              "            await google.colab.kernel.invokeFunction('convertToInteractive',\n",
              "                                                     [key], {});\n",
              "          if (!dataTable) return;\n",
              "\n",
              "          const docLinkHtml = 'Like what you see? Visit the ' +\n",
              "            '<a target=\"_blank\" href=https://colab.research.google.com/notebooks/data_table.ipynb>data table notebook</a>'\n",
              "            + ' to learn more about interactive tables.';\n",
              "          element.innerHTML = '';\n",
              "          dataTable['output_type'] = 'display_data';\n",
              "          await google.colab.output.renderOutput(dataTable, element);\n",
              "          const docLink = document.createElement('div');\n",
              "          docLink.innerHTML = docLinkHtml;\n",
              "          element.appendChild(docLink);\n",
              "        }\n",
              "      </script>\n",
              "    </div>\n",
              "  </div>\n",
              "  "
            ],
            "text/plain": [
              "        Unnamed: 0 first_name last_name  ...  year  rank        genre\n",
              "77              77  Rostislav     Aalto  ...  2002   8.3  Documentary\n",
              "78              78     Veikko  Aaltonen  ...  1993   6.8        Drama\n",
              "79              79     Veikko  Aaltonen  ...  2004   6.3       Comedy\n",
              "80              80     Veikko  Aaltonen  ...  2004   6.3        Drama\n",
              "81              81     Veikko  Aaltonen  ...  2001   6.0  Documentary\n",
              "...            ...        ...       ...  ...   ...   ...          ...\n",
              "368837      368837     Memduh        Ün  ...  1986   7.9       Comedy\n",
              "368838      368838     Memduh        Ün  ...  1986   7.9        Drama\n",
              "368861      368861     Memduh        Ün  ...  1972   6.0        Drama\n",
              "368862      368862     Memduh        Ün  ...  1972   6.0      Romance\n",
              "368891      368891       Idil      Üner  ...  2001   8.5        Short\n",
              "\n",
              "[113376 rows x 7 columns]"
            ]
          },
          "metadata": {},
          "execution_count": 8
        }
      ]
    },
    {
      "cell_type": "markdown",
      "source": [
        ""
      ],
      "metadata": {
        "id": "NUjTibZZk8_I"
      }
    },
    {
      "cell_type": "markdown",
      "source": [
        "**First and last names are in different columns. Create one column containing both names**"
      ],
      "metadata": {
        "id": "Cgy0g7lsK_Tp"
      }
    },
    {
      "cell_type": "code",
      "source": [
        " #adding a new column called directors that contains first and last name of each director\n",
        "movies_drop['directors']= movies_drop['first_name']+' ' +movies_drop['last_name']\n",
        "print(movies_drop)\n"
      ],
      "metadata": {
        "colab": {
          "base_uri": "https://localhost:8080/"
        },
        "id": "LVcMK6-sL2t7",
        "outputId": "dad6cfcf-0996-40cf-92ec-da38a0fd9672"
      },
      "execution_count": null,
      "outputs": [
        {
          "output_type": "stream",
          "name": "stdout",
          "text": [
            "        Unnamed: 0 first_name last_name  ... rank        genre        directors\n",
            "77              77  Rostislav     Aalto  ...  8.3  Documentary  Rostislav Aalto\n",
            "78              78     Veikko  Aaltonen  ...  6.8        Drama  Veikko Aaltonen\n",
            "79              79     Veikko  Aaltonen  ...  6.3       Comedy  Veikko Aaltonen\n",
            "80              80     Veikko  Aaltonen  ...  6.3        Drama  Veikko Aaltonen\n",
            "81              81     Veikko  Aaltonen  ...  6.0  Documentary  Veikko Aaltonen\n",
            "...            ...        ...       ...  ...  ...          ...              ...\n",
            "368837      368837     Memduh        Ün  ...  7.9       Comedy        Memduh Ün\n",
            "368838      368838     Memduh        Ün  ...  7.9        Drama        Memduh Ün\n",
            "368861      368861     Memduh        Ün  ...  6.0        Drama        Memduh Ün\n",
            "368862      368862     Memduh        Ün  ...  6.0      Romance        Memduh Ün\n",
            "368891      368891       Idil      Üner  ...  8.5        Short        Idil Üner\n",
            "\n",
            "[113376 rows x 8 columns]\n"
          ]
        },
        {
          "output_type": "stream",
          "name": "stderr",
          "text": [
            "/usr/local/lib/python3.7/dist-packages/ipykernel_launcher.py:2: SettingWithCopyWarning: \n",
            "A value is trying to be set on a copy of a slice from a DataFrame.\n",
            "Try using .loc[row_indexer,col_indexer] = value instead\n",
            "\n",
            "See the caveats in the documentation: https://pandas.pydata.org/pandas-docs/stable/user_guide/indexing.html#returning-a-view-versus-a-copy\n",
            "  \n"
          ]
        }
      ]
    },
    {
      "cell_type": "markdown",
      "metadata": {
        "id": "00Vb1k3FMdei"
      },
      "source": [
        "### How many movies of each genre are there?\n",
        "---"
      ]
    },
    {
      "cell_type": "code",
      "metadata": {
        "id": "V6MsN8OcQn0u",
        "colab": {
          "base_uri": "https://localhost:8080/"
        },
        "outputId": "d284b25d-0d34-438a-8c29-8faab9ef5819"
      },
      "source": [
        "genre=movies_drop[['name', 'genre']].groupby('genre').count()\n",
        "print(genre)"
      ],
      "execution_count": null,
      "outputs": [
        {
          "output_type": "stream",
          "name": "stdout",
          "text": [
            "              name\n",
            "genre             \n",
            "Action        5873\n",
            "Adventure     3932\n",
            "Animation     4727\n",
            "Comedy       20633\n",
            "Crime         4488\n",
            "Documentary   4296\n",
            "Drama        24696\n",
            "Family        4845\n",
            "Fantasy       2123\n",
            "Film-Noir      415\n",
            "Horror        4227\n",
            "Music          908\n",
            "Musical       2491\n",
            "Mystery       2012\n",
            "Romance       5476\n",
            "Sci-Fi        2699\n",
            "Short         9894\n",
            "Thriller      5440\n",
            "War           1837\n",
            "Western       2364\n"
          ]
        }
      ]
    },
    {
      "cell_type": "markdown",
      "metadata": {
        "id": "itYpwLPpQnZM"
      },
      "source": [
        "### Which director has the highest ranked movies?\n",
        "---"
      ]
    },
    {
      "cell_type": "markdown",
      "source": [
        "Carole Roussopoulos has 5 movies ranked at 9.9 (which is the highest a movie is ranked at)"
      ],
      "metadata": {
        "id": "dPYqtDDFaaA7"
      }
    },
    {
      "cell_type": "code",
      "metadata": {
        "id": "dkW23Q27Qu0A",
        "colab": {
          "base_uri": "https://localhost:8080/"
        },
        "outputId": "a6621956-cdb4-4829-f7ac-dedcab0e878e"
      },
      "source": [
        "\n",
        "def count_movies():\n",
        "  #finding all directors with a rank over 9\n",
        " director=movies_drop[movies_drop['rank'] == 9.9].groupby('directors')['rank'].count()\n",
        " return director\n",
        "\n",
        "count_movies()\n"
      ],
      "execution_count": null,
      "outputs": [
        {
          "output_type": "execute_result",
          "data": {
            "text/plain": [
              "directors\n",
              "Abel Gance              1\n",
              "Andrew Cappelletti      2\n",
              "András Salamon          1\n",
              "Arünas Zebriünas        1\n",
              "Ben Holmes              2\n",
              "Benjamin Christensen    1\n",
              "Carole Roussopoulos     5\n",
              "Debs Tarrier            2\n",
              "Fedor Hanzekovic        1\n",
              "Georgi Daneliya         1\n",
              "Gregg Zehentner         3\n",
              "Ioana Wieder            2\n",
              "Ishmael Bernal          1\n",
              "Isidor Annensky         1\n",
              "Ivanka Grybcheva        1\n",
              "Jim Jarmusch            1\n",
              "Jirí (I) Trnka          1\n",
              "John Cassavetes         2\n",
              "Jonathan Demme          2\n",
              "Julio (I) Bracho        3\n",
              "Kirsten Tretbar         1\n",
              "Marcell Jankovics       1\n",
              "Matthew Crandall        2\n",
              "Satyen Bose             3\n",
              "Scott Barkan            3\n",
              "See-Yuen Ng             1\n",
              "Sergei M. Eisenstein    1\n",
              "Sergiu Nicolaescu       2\n",
              "Vsevolod Pudovkin       1\n",
              "William T. Hurtz        2\n",
              "Zack Resnicoff          4\n",
              "Name: rank, dtype: int64"
            ]
          },
          "metadata": {},
          "execution_count": 13
        }
      ]
    },
    {
      "cell_type": "markdown",
      "metadata": {
        "id": "naiCl5kCQvS-"
      },
      "source": [
        "### How many movies have ranks of over 9?\n",
        "---\n"
      ]
    },
    {
      "cell_type": "markdown",
      "source": [
        "828 movies "
      ],
      "metadata": {
        "id": "CrdKPUe4atgK"
      }
    },
    {
      "cell_type": "code",
      "metadata": {
        "id": "Rb7v7WXEQ3Xl",
        "colab": {
          "base_uri": "https://localhost:8080/"
        },
        "outputId": "0b72c88c-8512-40b2-e693-4fbb4609b072"
      },
      "source": [
        "def count_movies():\n",
        "  \n",
        "  #finding all movies with a rank over 9 within the dataframe in which the null values have been dropped\n",
        " movies_over_nine=movies_drop[movies_drop['rank'] > 9].groupby('name')['rank'].max()\n",
        " \n",
        " return movies_over_nine\n",
        "\n",
        "count_movies()"
      ],
      "execution_count": 7,
      "outputs": [
        {
          "output_type": "execute_result",
          "data": {
            "text/plain": [
              "name\n",
              "$40,000                       9.6\n",
              "+1 -1                         9.6\n",
              "12 (2003/II)                  9.8\n",
              "12 stulyev                    9.3\n",
              "14 Million Dreams             9.5\n",
              "                             ... \n",
              "ber lmok                      9.2\n",
              "brio, O                       9.2\n",
              "gigr f                        9.5\n",
              "ltima llamada, La (1996/I)    9.5\n",
              "tre avec                      9.4\n",
              "Name: rank, Length: 828, dtype: float64"
            ]
          },
          "metadata": {},
          "execution_count": 7
        }
      ]
    },
    {
      "cell_type": "code",
      "source": [
        "def count_movies():\n",
        "  #using a dataframe in which null values and duplicates have been dropped\n",
        " movies_drop_dupes=movies_drop.drop_duplicates(['name'])\n",
        "#finding all movies with a rank over 9\n",
        " movies_over_nine=movies_drop_dupes[movies_drop_dupes['rank'] > 9].groupby('name')['rank'].max()\n",
        "\n",
        " return movies_over_nine\n",
        "\n",
        "count_movies()"
      ],
      "metadata": {
        "colab": {
          "base_uri": "https://localhost:8080/"
        },
        "id": "9AXKmz3r6oIe",
        "outputId": "105f7d36-90c8-430d-95de-928af74b355a"
      },
      "execution_count": 8,
      "outputs": [
        {
          "output_type": "execute_result",
          "data": {
            "text/plain": [
              "name\n",
              "$40,000                       9.6\n",
              "+1 -1                         9.6\n",
              "12 (2003/II)                  9.8\n",
              "12 stulyev                    9.3\n",
              "14 Million Dreams             9.5\n",
              "                             ... \n",
              "ber lmok                      9.2\n",
              "brio, O                       9.2\n",
              "gigr f                        9.5\n",
              "ltima llamada, La (1996/I)    9.5\n",
              "tre avec                      9.4\n",
              "Name: rank, Length: 806, dtype: float64"
            ]
          },
          "metadata": {},
          "execution_count": 8
        }
      ]
    },
    {
      "cell_type": "markdown",
      "metadata": {
        "id": "qSM1LAZGQ32W"
      },
      "source": [
        "### Plot a bar chart of mean rank and genre\n",
        "---"
      ]
    },
    {
      "cell_type": "code",
      "metadata": {
        "id": "oDk-3bkpRUfs",
        "colab": {
          "base_uri": "https://localhost:8080/",
          "height": 336
        },
        "outputId": "5e18031a-f279-4bf9-dff0-8b606b18fa8a"
      },
      "source": [
        "import matplotlib.pyplot as plt\n",
        "import pandas as pd\n",
        "\n",
        "url=\"https://github.com/lilaceri/Working-with-data-/blob/main/Data%20Sets%20for%20code%20divisio/movies.csv?raw=true\"\n",
        "movies=pd.read_csv(url)\n",
        "movies\n",
        "\n",
        "\n",
        "\n",
        "ranking=movies_drop.groupby(['genre'])['rank'].mean()\n",
        "labels=ranking.keys()\n",
        "plt.bar(labels,ranking, width=0.3, align='center')\n",
        "plt.xlabel('Genres')\n",
        "plt.xticks(rotation=60)\n",
        "plt.ylabel('Rank')\n",
        "#barchart=ranking.plot(x='genre', y=ranking, kind=\"bar\")\n",
        "plt.show()\n",
        "\n",
        "\n",
        "\n",
        "\n",
        "\n"
      ],
      "execution_count": null,
      "outputs": [
        {
          "output_type": "display_data",
          "data": {
            "image/png": "[encoded data removed]",
            "text/plain": [
              "<Figure size 432x288 with 1 Axes>"
            ]
          },
          "metadata": {
            "needs_background": "light"
          }
        }
      ]
    },
    {
      "cell_type": "markdown",
      "metadata": {
        "id": "O6srkKPnRbh_"
      },
      "source": [
        "### Plot a pie chart of how many movies of each genre there are \n",
        "---\n"
      ]
    },
    {
      "cell_type": "code",
      "metadata": {
        "id": "suiaWhkF6Odd",
        "colab": {
          "base_uri": "https://localhost:8080/",
          "height": 552
        },
        "outputId": "fd8f8d12-f871-4652-9177-802db0c40583"
      },
      "source": [
        "import matplotlib.pyplot as plt\n",
        "\n",
        "genre=movies_drop[['name', 'genre']].groupby('genre').count()\n",
        "data = genre['name']\n",
        "#data\n",
        "labels=data.keys()\n",
        "#plt.title('Movies per genre')\n",
        "plt.figure(figsize=(8,10))\n",
        "plt.pie(data, labels = labels, rotatelabels=180, textprops ={\"fontsize\":15})\n",
        "\n",
        "plt.show()"
      ],
      "execution_count": null,
      "outputs": [
        {
          "output_type": "display_data",
          "data": {
            "image/png": "[encoded data removed]",
            "text/plain": [
              "<Figure size 576x720 with 1 Axes>"
            ]
          },
          "metadata": {}
        }
      ]
    },
    {
      "cell_type": "markdown",
      "metadata": {
        "id": "Cm9HjL_K6bvo"
      },
      "source": [
        "### Plot a graph showing the mean Rank for each year "
      ]
    },
    {
      "cell_type": "code",
      "metadata": {
        "id": "mgwSHrCt6luB",
        "colab": {
          "base_uri": "https://localhost:8080/",
          "height": 296
        },
        "outputId": "dfd0eb55-016f-49d8-bc6d-362818ff6545"
      },
      "source": [
        "ranking=movies_drop.groupby(['year'])['rank'].mean()\n",
        "labels=ranking.keys()\n",
        "plt.figure(figsize=(20,4))\n",
        "plt.bar(labels,ranking, width=0.7, align='center')\n",
        "plt.xlabel('Year')\n",
        "plt.xticks(rotation=60)\n",
        "plt.ylabel('Rank')\n",
        "plt.show()"
      ],
      "execution_count": null,
      "outputs": [
        {
          "output_type": "display_data",
          "data": {
            "image/png": "[encoded data removed]",
            "text/plain": [
              "<Figure size 1440x288 with 1 Axes>"
            ]
          },
          "metadata": {
            "needs_background": "light"
          }
        }
      ]
    },
    {
      "cell_type": "markdown",
      "metadata": {
        "id": "FvzMjQ5X6oeU"
      },
      "source": [
        "### What else can you find out from this dataset?\n",
        "---\n",
        "Make a plan of 3 further things you can do to interrogate and analyse this dataset"
      ]
    },
    {
      "cell_type": "markdown",
      "metadata": {
        "id": "a46YOmLd64zb"
      },
      "source": [
        "Type your answer here  \n",
        "\n",
        "1.  what genre has the most movies made in the last century? maybe into a certain period e.g. 1980 - 1990\n",
        "2.  how many movies has a director  worked on/directed? This might hint at experience\n",
        "3.  Which directors made the most movies in the 70s?\n"
      ]
    },
    {
      "cell_type": "markdown",
      "metadata": {
        "id": "es_Uyz_f6-1F"
      },
      "source": [
        "### Complete the tasks you have set out in the exercise above. \n",
        "---\n"
      ]
    },
    {
      "cell_type": "markdown",
      "source": [
        "**What genre has the most movies made?**\n",
        "The genre that has the more movies released between 1900 and 2000 is Drama followed relatively closely by Comedy. Looking at specific data from 1970 to 2000 shows a very similar pattern. Although the data clearly shows the type of movies directors may possibly get funded for this do not reflect audience predilection."
      ],
      "metadata": {
        "id": "rcWfnVTG4pxi"
      }
    },
    {
      "cell_type": "code",
      "metadata": {
        "id": "GY-HzjZb7L5q",
        "colab": {
          "base_uri": "https://localhost:8080/",
          "height": 868
        },
        "outputId": "34284f02-ef1c-4603-d913-fa29ff577cd4"
      },
      "source": [
        "def genre_most_mov():\n",
        "  x=movies_drop.groupby(['genre'])['year'].count()\n",
        "\n",
        "  labels=x.keys()\n",
        "  plt.figure(figsize=(20,7))\n",
        "  plt.bar(labels,x, width=0.7, align='center')\n",
        "  plt.xlabel('Genres')\n",
        "  plt.xticks(rotation=60)\n",
        "  plt.ylabel('Number of movies per category')\n",
        "  plt.show()\n",
        "  return x\n",
        "\n",
        "\n",
        "\n",
        "\n",
        "genre_most_mov()"
      ],
      "execution_count": null,
      "outputs": [
        {
          "output_type": "display_data",
          "data": {
            "image/png": "[encoded data removed]",
            "text/plain": [
              "<Figure size 1440x504 with 1 Axes>"
            ]
          },
          "metadata": {
            "needs_background": "light"
          }
        },
        {
          "output_type": "execute_result",
          "data": {
            "text/plain": [
              "genre\n",
              "Action          5873\n",
              "Adventure       3932\n",
              "Animation       4727\n",
              "Comedy         20633\n",
              "Crime           4488\n",
              "Documentary     4296\n",
              "Drama          24696\n",
              "Family          4845\n",
              "Fantasy         2123\n",
              "Film-Noir        415\n",
              "Horror          4227\n",
              "Music            908\n",
              "Musical         2491\n",
              "Mystery         2012\n",
              "Romance         5476\n",
              "Sci-Fi          2699\n",
              "Short           9894\n",
              "Thriller        5440\n",
              "War             1837\n",
              "Western         2364\n",
              "Name: year, dtype: int64"
            ]
          },
          "metadata": {},
          "execution_count": 44
        }
      ]
    },
    {
      "cell_type": "markdown",
      "source": [
        "**What genres where made between 1990 and 2000?**"
      ],
      "metadata": {
        "id": "JvF45T1cKqN2"
      }
    },
    {
      "cell_type": "markdown",
      "source": [
        "Genres between 1990 and 2000 -> Drama followed by Comedy,  Action and Romance."
      ],
      "metadata": {
        "id": "wpCjoAyXK3lB"
      }
    },
    {
      "cell_type": "code",
      "source": [
        "import matplotlib.pyplot as plt\n",
        "import pandas as pd\n",
        "\n",
        "url=\"https://github.com/lilaceri/Working-with-data-/blob/main/Data%20Sets%20for%20code%20divisio/movies.csv?raw=true\"\n",
        "movies=pd.read_csv(url)\n",
        "movies\n",
        "\n",
        "def genre_most_mov():\n",
        " \n",
        " name=movies_drop[(movies_drop['year']>1990) & (movies_drop['year']<2001)].groupby(['genre'])['year'].count()\n",
        "\n",
        " \n",
        " return name\n",
        "genre_most_mov()"
      ],
      "metadata": {
        "colab": {
          "base_uri": "https://localhost:8080/"
        },
        "id": "BAKGg6We7bC1",
        "outputId": "702d5adc-3641-41fe-e6ea-d2fa717190b6"
      },
      "execution_count": null,
      "outputs": [
        {
          "output_type": "execute_result",
          "data": {
            "text/plain": [
              "genre\n",
              "Action         1965\n",
              "Adventure       701\n",
              "Animation       763\n",
              "Comedy         4792\n",
              "Crime           966\n",
              "Documentary    1564\n",
              "Drama          6270\n",
              "Family          709\n",
              "Fantasy         526\n",
              "Horror          982\n",
              "Music           231\n",
              "Musical         252\n",
              "Mystery         398\n",
              "Romance        1585\n",
              "Sci-Fi          692\n",
              "Short          2507\n",
              "Thriller       1958\n",
              "War             203\n",
              "Western          86\n",
              "Name: year, dtype: int64"
            ]
          },
          "metadata": {},
          "execution_count": 42
        }
      ]
    },
    {
      "cell_type": "markdown",
      "source": [
        "**What genres where made between 1980 and 1990?**"
      ],
      "metadata": {
        "id": "noiZ7mFTEeuj"
      }
    },
    {
      "cell_type": "markdown",
      "source": [
        "Between 1980 and 1990 the most movies made were in the genres Drama,Commedy, Action followed by Horror. Romantic movies were less. "
      ],
      "metadata": {
        "id": "PzmiHLiOkpct"
      }
    },
    {
      "cell_type": "code",
      "source": [
        "import matplotlib.pyplot as plt\n",
        "import pandas as pd\n",
        "\n",
        "url=\"https://github.com/lilaceri/Working-with-data-/blob/main/Data%20Sets%20for%20code%20divisio/movies.csv?raw=true\"\n",
        "movies=pd.read_csv(url)\n",
        "movies\n",
        "\n",
        "def genre_most_mov():\n",
        " name=movies_drop[(movies_drop['year']>1979) & (movies_drop['year']<1991)].groupby(['genre'])['year'].count()\n",
        "\n",
        " \n",
        " return name\n",
        "genre_most_mov()"
      ],
      "metadata": {
        "colab": {
          "base_uri": "https://localhost:8080/"
        },
        "id": "o1YCq-Xntibg",
        "outputId": "96b74fd8-69f1-4df6-f47a-e87f527dad77"
      },
      "execution_count": null,
      "outputs": [
        {
          "output_type": "execute_result",
          "data": {
            "text/plain": [
              "genre\n",
              "Action         1338\n",
              "Adventure       578\n",
              "Animation       496\n",
              "Comedy         2872\n",
              "Crime           656\n",
              "Documentary     554\n",
              "Drama          3585\n",
              "Family          493\n",
              "Fantasy         432\n",
              "Horror         1095\n",
              "Music           198\n",
              "Musical         242\n",
              "Mystery         218\n",
              "Romance         622\n",
              "Sci-Fi          654\n",
              "Short           552\n",
              "Thriller        920\n",
              "War             258\n",
              "Western          66\n",
              "Name: year, dtype: int64"
            ]
          },
          "metadata": {},
          "execution_count": 57
        }
      ]
    },
    {
      "cell_type": "markdown",
      "source": [
        "**What genres where made between 1980 and 1990?**"
      ],
      "metadata": {
        "id": "42RTujB6EpwR"
      }
    },
    {
      "cell_type": "markdown",
      "source": [
        "Drama and Comedy"
      ],
      "metadata": {
        "id": "sS_WmJiZEs4j"
      }
    },
    {
      "cell_type": "code",
      "source": [
        "import matplotlib.pyplot as plt\n",
        "import pandas as pd\n",
        "\n",
        "url=\"https://github.com/lilaceri/Working-with-data-/blob/main/Data%20Sets%20for%20code%20divisio/movies.csv?raw=true\"\n",
        "movies=pd.read_csv(url)\n",
        "movies\n",
        "\n",
        "def genre_most_mov():\n",
        " name=movies_drop[(movies_drop['year']>1969) & (movies_drop['year']<1981)].groupby(['genre'])['year'].count()\n",
        "\n",
        " \n",
        " return name\n",
        "genre_most_mov()"
      ],
      "metadata": {
        "colab": {
          "base_uri": "https://localhost:8080/"
        },
        "id": "s-7lD51aMuZN",
        "outputId": "5a0b3a1e-869e-432f-b53c-66bc4e78cb08"
      },
      "execution_count": null,
      "outputs": [
        {
          "output_type": "execute_result",
          "data": {
            "text/plain": [
              "genre\n",
              "Action          898\n",
              "Adventure       497\n",
              "Animation       298\n",
              "Comedy         2059\n",
              "Crime           692\n",
              "Documentary     477\n",
              "Drama          3028\n",
              "Family          444\n",
              "Fantasy         239\n",
              "Horror          814\n",
              "Music           145\n",
              "Musical         230\n",
              "Mystery         232\n",
              "Romance         386\n",
              "Sci-Fi          362\n",
              "Short           420\n",
              "Thriller        693\n",
              "War             206\n",
              "Western         308\n",
              "Name: year, dtype: int64"
            ]
          },
          "metadata": {},
          "execution_count": 58
        }
      ]
    },
    {
      "cell_type": "markdown",
      "source": [
        "**How many movies has a director worked on/directed?**\n",
        "\n",
        "\n",
        "1.   A movie might appear twice on the list due to the many genres they might belong to. Hence, for this exercise a new dataframe was created in which no 'name'(movies) duplicates exist. df is called movies_drop_dupes\n",
        "2.   Directors are then grouped depending on the number of movies they have directed e.g 11000 directors have directed only one movie, 5000 directors have directed two movies and so on.\n",
        "\n"
      ],
      "metadata": {
        "id": "H67V2pEtIb6-"
      }
    },
    {
      "cell_type": "markdown",
      "source": [
        "It was found that over 11000 directors worked on/directed only one movie.  Directors who have directed more movies are very few - because of the amount of movies these directors have worked on they might be considered experienced."
      ],
      "metadata": {
        "id": "B6aBGR7v5hlk"
      }
    },
    {
      "cell_type": "code",
      "source": [
        "def genre_most_mov():\n",
        " \n",
        "  \n",
        "  movies_drop_dupes=movies_drop.drop_duplicates(['name'])#dropping all duplicates based on column 'name'\n",
        "  #return movies_drop_dupes\n",
        "  x=movies_drop_dupes.groupby(['directors'])['name'].count()#the times a director has directed a movie\n",
        "  #return x\n",
        "  new_df=pd.DataFrame(x)\n",
        "  #return new_df,\n",
        "  sum=new_df['name'].value_counts() #counting how many times directors have released movies e.g a movie or 2 movies o 3 movies\n",
        "  #return  sum #on the list there seems to be \n",
        "\n",
        "  labels=sum.keys()\n",
        "  plt.figure(figsize=(20,7))\n",
        "  plt.bar(labels,sum, align='center', color='red')\n",
        "  plt.xlabel('Numbers of directors')\n",
        "  plt.xticks(rotation=60)\n",
        "  plt.ylabel('Number f movies directors have worked on')\n",
        "  plt.xlim(0,80 ) \n",
        "  plt.ylim(0, 12000)\n",
        "  plt.show()\n",
        "\n",
        "genre_most_mov()"
      ],
      "metadata": {
        "colab": {
          "base_uri": "https://localhost:8080/",
          "height": 440
        },
        "id": "oae3hS_2Ioqa",
        "outputId": "c85b6ce0-b415-42b0-f886-f35d8a8b985f"
      },
      "execution_count": null,
      "outputs": [
        {
          "output_type": "display_data",
          "data": {
            "image/png": "[encoded data removed]",
            "text/plain": [
              "<Figure size 1440x504 with 1 Axes>"
            ]
          },
          "metadata": {
            "needs_background": "light"
          }
        }
      ]
    },
    {
      "cell_type": "markdown",
      "source": [
        "**Which directors made the most movies in the 70s?**\n",
        "The aim of this exercise was to find out the names of the directors who made highest number of movies during the 70s. However, due to the large amount of data obtained as result the plot is not adequeate. In order to visualize this data further filtering is necessary - e.g looking at just one director, or maybe a few, or maybe focussing on movies of a certain genre."
      ],
      "metadata": {
        "id": "GRwje1liNtGy"
      }
    },
    {
      "cell_type": "code",
      "source": [
        "def genre_most_mov():\n",
        " \n",
        "  \n",
        "  movies_drop_dupes=movies_drop.drop_duplicates(['name'])#dropping all duplicates based on column 'name'\n",
        "  #return movies_drop_dupes\n",
        "  x=movies_drop_dupes.groupby(['directors'])['name'].count()#the times a director has directed a movie\n",
        "  #return x\n",
        "  x=movies_drop_dupes[(movies_drop_dupes['year']>1970) & (movies_drop_dupes['year']<1981)].groupby(['directors'])['name'].count()#the times a director has di#the times a director has directed a movierected a movie\n",
        "  pd.options.display.max_rows\n",
        "  return x\n",
        "\n",
        "\n",
        " \n",
        "genre_most_mov()"
      ],
      "metadata": {
        "colab": {
          "base_uri": "https://localhost:8080/"
        },
        "id": "6St5MLlrNgP0",
        "outputId": "fc06fd5a-9f09-4834-9619-890cc0e849b2"
      },
      "execution_count": null,
      "outputs": [
        {
          "output_type": "execute_result",
          "data": {
            "text/plain": [
              "directors\n",
              "A. Bhimsingh         1\n",
              "Abbas Kiarostami     1\n",
              "Abel Gance           1\n",
              "Adolf Winkelmann     1\n",
              "Adolfo Aristarain    1\n",
              "                    ..\n",
              "Zoltan G. Spencer    1\n",
              "Zoltán Fábri         3\n",
              "Zoltán Huszárik      2\n",
              "Zoran Calic          3\n",
              "Zélia Feijó Costa    3\n",
              "Name: name, Length: 2987, dtype: int64"
            ]
          },
          "metadata": {},
          "execution_count": 41
        }
      ]
    },
    {
      "cell_type": "markdown",
      "metadata": {
        "id": "pQV2NO8umBSk"
      },
      "source": [
        "# Reflection\n",
        "----\n",
        "\n",
        "## What skills have you demonstrated in completing this notebook?"
      ]
    },
    {
      "cell_type": "markdown",
      "metadata": {
        "id": "NUVvt2r0mCKq"
      },
      "source": [
        "Your answer:"
      ]
    },
    {
      "cell_type": "markdown",
      "metadata": {
        "id": "SOrbWOuFmObq"
      },
      "source": [
        "## What caused you the most difficulty?"
      ]
    },
    {
      "cell_type": "markdown",
      "metadata": {
        "id": "G_eGng1GmO78"
      },
      "source": [
        "Your answer:"
      ]
    }
  ]
}