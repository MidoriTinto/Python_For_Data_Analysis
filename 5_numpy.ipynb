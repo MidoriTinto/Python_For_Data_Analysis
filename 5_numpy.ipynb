{
  "nbformat": 4,
  "nbformat_minor": 0,
  "metadata": {
    "colab": {
      "name": " 5. numpy.ipynb",
      "provenance": [],
      "collapsed_sections": [],
      "include_colab_link": true
    },
    "kernelspec": {
      "name": "python3",
      "display_name": "Python 3"
    },
    "language_info": {
      "name": "python"
    }
  },
  "cells": [
    {
      "cell_type": "markdown",
      "metadata": {
        "id": "view-in-github",
        "colab_type": "text"
      },
      "source": [
        "<a href=\"https://colab.research.google.com/github/MidoriTinto/Python_For_Data_Analysis/blob/main/5_numpy.ipynb\" target=\"_parent\"><img src=\"https://colab.research.google.com/assets/colab-badge.svg\" alt=\"Open In Colab\"/></a>"
      ]
    },
    {
      "cell_type": "markdown",
      "metadata": {
        "id": "M21YTen340ZU"
      },
      "source": [
        "# Using numpy for processing lists of number data\n",
        "\n",
        "---"
      ]
    },
    {
      "cell_type": "markdown",
      "metadata": {
        "id": "lvCryMxH47we"
      },
      "source": [
        "## numpy is a high performance array processing library for Python\n",
        "\n",
        "Python lists can contain any type of data, including objects.  numpy arrays are specialised and can only contain numbers.\n",
        "\n",
        "You can customise the memory usage so that arrays can use less memory and items are always stored contiguously, which isn't always the case for Python lists.  This means that it is more efficient at storing, and faster at processing, large data sets.\n",
        "\n",
        "Use numpy arrays to **store and manipulate large lists of numbers** (for other data types use plain Python lists or a panda series)\n",
        "\n",
        "Use numpy arrays to **process panda series (columns) where these contain numerical data and a large number of records**.\n",
        "\n",
        "Use numpy arrays to **create new sets of data** to add to a dataframe.\n",
        "\n",
        "For this course we are going to focus on using numpy arrays as a means of holding and working with a list of data from a pandas dataframe column.\n"
      ]
    },
    {
      "cell_type": "markdown",
      "metadata": {
        "id": "MxKEUfvp54QO"
      },
      "source": [
        "---\n",
        "## Creating a new numpy array (maybe for a new series or an extended series)\n",
        "\n",
        "To use numpy, you will need to import it.  The conventional way to import numpy is to import the whole library and use an *alias*\n",
        "\n",
        "`import numpy as np`\n",
        "\n",
        "Every time you want to use a function from the numpy library you use the syntax:  \n",
        "\n",
        "`np.function_name()`  \n",
        "\n",
        "Create a new numpy array from a Python list of numbers\n",
        "   \n",
        "`arr = np.array([1,2,3])`\n",
        "\n",
        "Or a new numpy matrix from a Python 2 dimensional list of numbers\n",
        "\n",
        "`matrix = np.array([1,2,3],[4,5,6])`\n",
        "\n",
        "Create a numpy array from a dataframe column (series):\n",
        "\n",
        "`arr = df['column name'].to_numpy(datatype)`\n",
        "\n",
        "where the datatype matches the data type of the column (`df.info()` will give this information if you are unsure).\n",
        "\n"
      ]
    },
    {
      "cell_type": "markdown",
      "metadata": {
        "id": "s2HQHeHE6r4n"
      },
      "source": [
        "### Exercise 1 - create a new numpy array to hold the numbers from 1 to 100\n",
        "---\n",
        "\n",
        "Write a function called `make_array()` which will:\n",
        "*   create a list of the numbers 1 to 10  \n",
        "*   create a new numpy array called **new_array** from that list\n",
        "*   print `new_array`\n",
        "\n",
        "Expected output:  \n",
        "`[1 2 3 4 5 6 7 8 9 10] ` \n",
        "\n"
      ]
    },
    {
      "cell_type": "code",
      "metadata": {
        "id": "-WWVDSRq7QDN",
        "colab": {
          "base_uri": "https://localhost:8080/"
        },
        "outputId": "35b7f135-75f2-46df-8024-152d1a16162e"
      },
      "source": [
        "import numpy as np\n",
        "\n",
        "def make_array(num_list):\n",
        "  # add your code below here\n",
        "  num_list=range(1,11)\n",
        "  new_array=np.array(num_list)\n",
        "  print(new_array)\n",
        "\n",
        "\n",
        "# run and test the function against the expected output\n",
        "make_array([1, 2, 3, 4, 5, 6, 7, 8, 9, 10])"
      ],
      "execution_count": null,
      "outputs": [
        {
          "output_type": "stream",
          "name": "stdout",
          "text": [
            "[ 1  2  3  4  5  6  7  8  9 10]\n"
          ]
        }
      ]
    },
    {
      "cell_type": "markdown",
      "metadata": {
        "id": "X2qc0-nc7qZV"
      },
      "source": [
        "## Setting the number type in memory\n",
        "\n",
        "numpy allows you to set the type of number in memory (e.g. `int8`, `int32`) when you create the array.  This allows memory allocation to be as small as possible.  \n",
        "\n",
        "`new_matrix = np.array([1, 2, 3], np.int8)`    \n",
        "\n",
        "This creates a list of whole numbers which are all small enough to fit in 1 byte of memory storage.\n",
        "\n",
        "---\n",
        "### Exercise 2 - create list of smallish numbers\n",
        "\n",
        "Write a function which will:\n",
        "*   accept a parameter **num_list**    \n",
        "*   create a new numpy array called **new_array** from `num_list`, with data size `int16`\n",
        "*   print `new_array`  \n",
        "\n",
        "Test input:  \n",
        "`[31112, 32321, 24567,456,324,789]`\n",
        "\n",
        "Expected output:   \n",
        "```\n",
        "[31112 32321 24567 456 324 789]\n",
        "```"
      ]
    },
    {
      "cell_type": "code",
      "metadata": {
        "id": "XUMfMwhLACzH",
        "colab": {
          "base_uri": "https://localhost:8080/"
        },
        "outputId": "d8c3784d-6e50-486d-bfe2-8e4b07133ebd"
      },
      "source": [
        "import numpy as np\n",
        "\n",
        "def create_new_array(num_list):\n",
        "  # add your code below here to turn num_list into a numpy array\n",
        " new_matrix=np.array(num_list, np.int16)\n",
        " print(new_matrix)\n",
        "\n",
        "\n",
        "# run and test the code against the expected output\n",
        "create_new_array([[31112, 32321, 24567],[456,324,789]])"
      ],
      "execution_count": null,
      "outputs": [
        {
          "output_type": "stream",
          "name": "stdout",
          "text": [
            "[[31112 32321 24567]\n",
            " [  456   324   789]]\n"
          ]
        }
      ]
    },
    {
      "cell_type": "markdown",
      "metadata": {
        "id": "oC8rsm3yBLRd"
      },
      "source": [
        "---\n",
        "### Exercise 3 - create a numpy array from a pandas dataframe column\n",
        "\n",
        "Write a function which  will first create a dataframe from the titanic data set, and then will create a numpy array from the Fare column.\n",
        "\n",
        "*Recap*:  *the Fare column is df['Fare'] (assuming your dataframe is called df)*\n",
        "\n",
        "*  create a dataframe from the data set in the file at this url:  https://raw.githubusercontent.com/pandas-dev/pandas/master/doc/data/titanic.csv  \n",
        "*  create a new numpy array called **fare** from the `Fare` column (*remember to specify the data type e.g. np.int32, float64 when using* `df.to_numpy()`)  \n",
        "*  print the `fare` array\n",
        "\n",
        "Expected output:  \n",
        "```\n",
        "array([  7.25  ,  71.2833,   7.925 , ......  23.45  ,  30.    ,   7.75  ])\n",
        "```\n",
        "\n",
        "  "
      ]
    },
    {
      "cell_type": "code",
      "metadata": {
        "id": "QCs2eDFEBhr8",
        "colab": {
          "base_uri": "https://localhost:8080/"
        },
        "outputId": "71dcf30b-566b-4e93-ecda-775b48c3c0ad"
      },
      "source": [
        "import pandas as pd\n",
        "import numpy as np\n",
        "\n",
        "def create_fare_series(num_list):\n",
        "  \n",
        "  # add your code below here to read the data set into a dataframe and then create a numpy array from the Fare column and print it\n",
        "  url=\"https://raw.githubusercontent.com/pandas-dev/pandas/master/doc/data/titanic.csv\"\n",
        "  titanic=pd.read_csv(url)\n",
        "  titanic\n",
        "\n",
        "  fare_series=titanic[\"Fare\"].to_numpy(np.float32)\n",
        "\n",
        "  return(fare_series)\n",
        "\n",
        "\n",
        "# run the function and test against the expected output.\n",
        "create_fare_series([[1,2,3], [4,5,6], [3,4,5]])"
      ],
      "execution_count": null,
      "outputs": [
        {
          "output_type": "execute_result",
          "data": {
            "text/plain": [
              "array([  7.25  ,  71.2833,   7.925 ,  53.1   ,   8.05  ,   8.4583,\n",
              "        51.8625,  21.075 ,  11.1333,  30.0708,  16.7   ,  26.55  ,\n",
              "         8.05  ,  31.275 ,   7.8542,  16.    ,  29.125 ,  13.    ,\n",
              "        18.    ,   7.225 ,  26.    ,  13.    ,   8.0292,  35.5   ,\n",
              "        21.075 ,  31.3875,   7.225 , 263.    ,   7.8792,   7.8958,\n",
              "        27.7208, 146.5208,   7.75  ,  10.5   ,  82.1708,  52.    ,\n",
              "         7.2292,   8.05  ,  18.    ,  11.2417,   9.475 ,  21.    ,\n",
              "         7.8958,  41.5792,   7.8792,   8.05  ,  15.5   ,   7.75  ,\n",
              "        21.6792,  17.8   ,  39.6875,   7.8   ,  76.7292,  26.    ,\n",
              "        61.9792,  35.5   ,  10.5   ,   7.2292,  27.75  ,  46.9   ,\n",
              "         7.2292,  80.    ,  83.475 ,  27.9   ,  27.7208,  15.2458,\n",
              "        10.5   ,   8.1583,   7.925 ,   8.6625,  10.5   ,  46.9   ,\n",
              "        73.5   ,  14.4542,  56.4958,   7.65  ,   7.8958,   8.05  ,\n",
              "        29.    ,  12.475 ,   9.    ,   9.5   ,   7.7875,  47.1   ,\n",
              "        10.5   ,  15.85  ,  34.375 ,   8.05  , 263.    ,   8.05  ,\n",
              "         8.05  ,   7.8542,  61.175 ,  20.575 ,   7.25  ,   8.05  ,\n",
              "        34.6542,  63.3583,  23.    ,  26.    ,   7.8958,   7.8958,\n",
              "        77.2875,   8.6542,   7.925 ,   7.8958,   7.65  ,   7.775 ,\n",
              "         7.8958,  24.15  ,  52.    ,  14.4542,   8.05  ,   9.825 ,\n",
              "        14.4583,   7.925 ,   7.75  ,  21.    , 247.5208,  31.275 ,\n",
              "        73.5   ,   8.05  ,  30.0708,  13.    ,  77.2875,  11.2417,\n",
              "         7.75  ,   7.1417,  22.3583,   6.975 ,   7.8958,   7.05  ,\n",
              "        14.5   ,  26.    ,  13.    ,  15.0458,  26.2833,  53.1   ,\n",
              "         9.2167,  79.2   ,  15.2458,   7.75  ,  15.85  ,   6.75  ,\n",
              "        11.5   ,  36.75  ,   7.7958,  34.375 ,  26.    ,  13.    ,\n",
              "        12.525 ,  66.6   ,   8.05  ,  14.5   ,   7.3125,  61.3792,\n",
              "         7.7333,   8.05  ,   8.6625,  69.55  ,  16.1   ,  15.75  ,\n",
              "         7.775 ,   8.6625,  39.6875,  20.525 ,  55.    ,  27.9   ,\n",
              "        25.925 ,  56.4958,  33.5   ,  29.125 ,  11.1333,   7.925 ,\n",
              "        30.6958,   7.8542,  25.4667,  28.7125,  13.    ,   0.    ,\n",
              "        69.55  ,  15.05  ,  31.3875,  39.    ,  22.025 ,  50.    ,\n",
              "        15.5   ,  26.55  ,  15.5   ,   7.8958,  13.    ,  13.    ,\n",
              "         7.8542,  26.    ,  27.7208, 146.5208,   7.75  ,   8.4042,\n",
              "         7.75  ,  13.    ,   9.5   ,  69.55  ,   6.4958,   7.225 ,\n",
              "         8.05  ,  10.4625,  15.85  ,  18.7875,   7.75  ,  31.    ,\n",
              "         7.05  ,  21.    ,   7.25  ,  13.    ,   7.75  , 113.275 ,\n",
              "         7.925 ,  27.    ,  76.2917,  10.5   ,   8.05  ,  13.    ,\n",
              "         8.05  ,   7.8958,  90.    ,   9.35  ,  10.5   ,   7.25  ,\n",
              "        13.    ,  25.4667,  83.475 ,   7.775 ,  13.5   ,  31.3875,\n",
              "        10.5   ,   7.55  ,  26.    ,  26.25  ,  10.5   ,  12.275 ,\n",
              "        14.4542,  15.5   ,  10.5   ,   7.125 ,   7.225 ,  90.    ,\n",
              "         7.775 ,  14.5   ,  52.5542,  26.    ,   7.25  ,  10.4625,\n",
              "        26.55  ,  16.1   ,  20.2125,  15.2458,  79.2   ,  86.5   ,\n",
              "       512.3292,  26.    ,   7.75  ,  31.3875,  79.65  ,   0.    ,\n",
              "         7.75  ,  10.5   ,  39.6875,   7.775 , 153.4625, 135.6333,\n",
              "        31.    ,   0.    ,  19.5   ,  29.7   ,   7.75  ,  77.9583,\n",
              "         7.75  ,   0.    ,  29.125 ,  20.25  ,   7.75  ,   7.8542,\n",
              "         9.5   ,   8.05  ,  26.    ,   8.6625,   9.5   ,   7.8958,\n",
              "        13.    ,   7.75  ,  78.85  ,  91.0792,  12.875 ,   8.85  ,\n",
              "         7.8958,  27.7208,   7.2292, 151.55  ,  30.5   , 247.5208,\n",
              "         7.75  ,  23.25  ,   0.    ,  12.35  ,   8.05  , 151.55  ,\n",
              "       110.8833, 108.9   ,  24.    ,  56.9292,  83.1583, 262.375 ,\n",
              "        26.    ,   7.8958,  26.25  ,   7.8542,  26.    ,  14.    ,\n",
              "       164.8667, 134.5   ,   7.25  ,   7.8958,  12.35  ,  29.    ,\n",
              "        69.55  , 135.6333,   6.2375,  13.    ,  20.525 ,  57.9792,\n",
              "        23.25  ,  28.5   , 153.4625,  18.    , 133.65  ,   7.8958,\n",
              "        66.6   , 134.5   ,   8.05  ,  35.5   ,  26.    , 263.    ,\n",
              "        13.    ,  13.    ,  13.    ,  13.    ,  13.    ,  16.1   ,\n",
              "        15.9   ,   8.6625,   9.225 ,  35.    ,   7.2292,  17.8   ,\n",
              "         7.225 ,   9.5   ,  55.    ,  13.    ,   7.8792,   7.8792,\n",
              "        27.9   ,  27.7208,  14.4542,   7.05  ,  15.5   ,   7.25  ,\n",
              "        75.25  ,   7.2292,   7.75  ,  69.3   ,  55.4417,   6.4958,\n",
              "         8.05  , 135.6333,  21.075 ,  82.1708,   7.25  , 211.5   ,\n",
              "         4.0125,   7.775 , 227.525 ,  15.7417,   7.925 ,  52.    ,\n",
              "         7.8958,  73.5   ,  46.9   ,  13.    ,   7.7292,  12.    ,\n",
              "       120.    ,   7.7958,   7.925 , 113.275 ,  16.7   ,   7.7958,\n",
              "         7.8542,  26.    ,  10.5   ,  12.65  ,   7.925 ,   8.05  ,\n",
              "         9.825 ,  15.85  ,   8.6625,  21.    ,   7.75  ,  18.75  ,\n",
              "         7.775 ,  25.4667,   7.8958,   6.8583,  90.    ,   0.    ,\n",
              "         7.925 ,   8.05  ,  32.5   ,  13.    ,  13.    ,  24.15  ,\n",
              "         7.8958,   7.7333,   7.875 ,  14.4   ,  20.2125,   7.25  ,\n",
              "        26.    ,  26.    ,   7.75  ,   8.05  ,  26.55  ,  16.1   ,\n",
              "        26.    ,   7.125 ,  55.9   , 120.    ,  34.375 ,  18.75  ,\n",
              "       263.    ,  10.5   ,  26.25  ,   9.5   ,   7.775 ,  13.    ,\n",
              "         8.1125,  81.8583,  19.5   ,  26.55  ,  19.2583,  30.5   ,\n",
              "        27.75  ,  19.9667,  27.75  ,  89.1042,   8.05  ,   7.8958,\n",
              "        26.55  ,  51.8625,  10.5   ,   7.75  ,  26.55  ,   8.05  ,\n",
              "        38.5   ,  13.    ,   8.05  ,   7.05  ,   0.    ,  26.55  ,\n",
              "         7.725 ,  19.2583,   7.25  ,   8.6625,  27.75  ,  13.7917,\n",
              "         9.8375,  52.    ,  21.    ,   7.0458,   7.5208,  12.2875,\n",
              "        46.9   ,   0.    ,   8.05  ,   9.5875,  91.0792,  25.4667,\n",
              "        90.    ,  29.7   ,   8.05  ,  15.9   ,  19.9667,   7.25  ,\n",
              "        30.5   ,  49.5042,   8.05  ,  14.4583,  78.2667,  15.1   ,\n",
              "       151.55  ,   7.7958,   8.6625,   7.75  ,   7.6292,   9.5875,\n",
              "        86.5   , 108.9   ,  26.    ,  26.55  ,  22.525 ,  56.4958,\n",
              "         7.75  ,   8.05  ,  26.2875,  59.4   ,   7.4958,  34.0208,\n",
              "        10.5   ,  24.15  ,  26.    ,   7.8958,  93.5   ,   7.8958,\n",
              "         7.225 ,  57.9792,   7.2292,   7.75  ,  10.5   , 221.7792,\n",
              "         7.925 ,  11.5   ,  26.    ,   7.2292,   7.2292,  22.3583,\n",
              "         8.6625,  26.25  ,  26.55  , 106.425 ,  14.5   ,  49.5   ,\n",
              "        71.    ,  31.275 ,  31.275 ,  26.    , 106.425 ,  26.    ,\n",
              "        26.    ,  13.8625,  20.525 ,  36.75  , 110.8833,  26.    ,\n",
              "         7.8292,   7.225 ,   7.775 ,  26.55  ,  39.6   , 227.525 ,\n",
              "        79.65  ,  17.4   ,   7.75  ,   7.8958,  13.5   ,   8.05  ,\n",
              "         8.05  ,  24.15  ,   7.8958,  21.075 ,   7.2292,   7.8542,\n",
              "        10.5   ,  51.4792,  26.3875,   7.75  ,   8.05  ,  14.5   ,\n",
              "        13.    ,  55.9   ,  14.4583,   7.925 ,  30.    , 110.8833,\n",
              "        26.    ,  40.125 ,   8.7125,  79.65  ,  15.    ,  79.2   ,\n",
              "         8.05  ,   8.05  ,   7.125 ,  78.2667,   7.25  ,   7.75  ,\n",
              "        26.    ,  24.15  ,  33.    ,   0.    ,   7.225 ,  56.9292,\n",
              "        27.    ,   7.8958,  42.4   ,   8.05  ,  26.55  ,  15.55  ,\n",
              "         7.8958,  30.5   ,  41.5792, 153.4625,  31.275 ,   7.05  ,\n",
              "        15.5   ,   7.75  ,   8.05  ,  65.    ,  14.4   ,  16.1   ,\n",
              "        39.    ,  10.5   ,  14.4542,  52.5542,  15.7417,   7.8542,\n",
              "        16.1   ,  32.3208,  12.35  ,  77.9583,   7.8958,   7.7333,\n",
              "        30.    ,   7.0542,  30.5   ,   0.    ,  27.9   ,  13.    ,\n",
              "         7.925 ,  26.25  ,  39.6875,  16.1   ,   7.8542,  69.3   ,\n",
              "        27.9   ,  56.4958,  19.2583,  76.7292,   7.8958,  35.5   ,\n",
              "         7.55  ,   7.55  ,   7.8958,  23.    ,   8.4333,   7.8292,\n",
              "         6.75  ,  73.5   ,   7.8958,  15.5   ,  13.    , 113.275 ,\n",
              "       133.65  ,   7.225 ,  25.5875,   7.4958,   7.925 ,  73.5   ,\n",
              "        13.    ,   7.775 ,   8.05  ,  52.    ,  39.    ,  52.    ,\n",
              "        10.5   ,  13.    ,   0.    ,   7.775 ,   8.05  ,   9.8417,\n",
              "        46.9   , 512.3292,   8.1375,  76.7292,   9.225 ,  46.9   ,\n",
              "        39.    ,  41.5792,  39.6875,  10.1708,   7.7958, 211.3375,\n",
              "        57.    ,  13.4167,  56.4958,   7.225 ,  26.55  ,  13.5   ,\n",
              "         8.05  ,   7.7333, 110.8833,   7.65  , 227.525 ,  26.2875,\n",
              "        14.4542,   7.7417,   7.8542,  26.    ,  13.5   ,  26.2875,\n",
              "       151.55  ,  15.2458,  49.5042,  26.55  ,  52.    ,   9.4833,\n",
              "        13.    ,   7.65  , 227.525 ,  10.5   ,  15.5   ,   7.775 ,\n",
              "        33.    ,   7.0542,  13.    ,  13.    ,  53.1   ,   8.6625,\n",
              "        21.    ,   7.7375,  26.    ,   7.925 , 211.3375,  18.7875,\n",
              "         0.    ,  13.    ,  13.    ,  16.1   ,  34.375 , 512.3292,\n",
              "         7.8958,   7.8958,  30.    ,  78.85  , 262.375 ,  16.1   ,\n",
              "         7.925 ,  71.    ,  20.25  ,  13.    ,  53.1   ,   7.75  ,\n",
              "        23.    ,  12.475 ,   9.5   ,   7.8958,  65.    ,  14.5   ,\n",
              "         7.7958,  11.5   ,   8.05  ,  86.5   ,  14.5   ,   7.125 ,\n",
              "         7.2292, 120.    ,   7.775 ,  77.9583,  39.6   ,   7.75  ,\n",
              "        24.15  ,   8.3625,   9.5   ,   7.8542,  10.5   ,   7.225 ,\n",
              "        23.    ,   7.75  ,   7.75  ,  12.475 ,   7.7375, 211.3375,\n",
              "         7.2292,  57.    ,  30.    ,  23.45  ,   7.05  ,   7.25  ,\n",
              "         7.4958,  29.125 ,  20.575 ,  79.2   ,   7.75  ,  26.    ,\n",
              "        69.55  ,  30.6958,   7.8958,  13.    ,  25.9292,   8.6833,\n",
              "         7.2292,  24.15  ,  13.    ,  26.25  , 120.    ,   8.5167,\n",
              "         6.975 ,   7.775 ,   0.    ,   7.775 ,  13.    ,  53.1   ,\n",
              "         7.8875,  24.15  ,  10.5   ,  31.275 ,   8.05  ,   0.    ,\n",
              "         7.925 ,  37.0042,   6.45  ,  27.9   ,  93.5   ,   8.6625,\n",
              "         0.    ,  12.475 ,  39.6875,   6.95  ,  56.4958,  37.0042,\n",
              "         7.75  ,  80.    ,  14.4542,  18.75  ,   7.2292,   7.8542,\n",
              "         8.3   ,  83.1583,   8.6625,   8.05  ,  56.4958,  29.7   ,\n",
              "         7.925 ,  10.5   ,  31.    ,   6.4375,   8.6625,   7.55  ,\n",
              "        69.55  ,   7.8958,  33.    ,  89.1042,  31.275 ,   7.775 ,\n",
              "        15.2458,  39.4   ,  26.    ,   9.35  , 164.8667,  26.55  ,\n",
              "        19.2583,   7.2292,  14.1083,  11.5   ,  25.9292,  69.55  ,\n",
              "        13.    ,  13.    ,  13.8583,  50.4958,   9.5   ,  11.1333,\n",
              "         7.8958,  52.5542,   5.    ,   9.    ,  24.    ,   7.225 ,\n",
              "         9.8458,   7.8958,   7.8958,  83.1583,  26.    ,   7.8958,\n",
              "        10.5167,  10.5   ,   7.05  ,  29.125 ,  13.    ,  30.    ,\n",
              "        23.45  ,  30.    ,   7.75  ], dtype=float32)"
            ]
          },
          "metadata": {},
          "execution_count": 28
        }
      ]
    },
    {
      "cell_type": "markdown",
      "metadata": {
        "id": "qf3xj2T9CRmT"
      },
      "source": [
        "---\n",
        "### Exercise 4 - get some statistics from a numpy array created from a data series\n",
        "\n",
        "This exercise will use data on income in certain US states.  The link is: https://github.com/futureCodersSE/working-with-data/blob/main/Data%20sets/Income-Data.xlsx?raw=true  This spreadsheet just has one sheet.  \n",
        "\n",
        "Write a function which will create a numpy array from the `Age` column in the income dataset and will print the following:\n",
        "\n",
        "*  the average (mean) age of those surveyed  \n",
        "*  the age of the oldest person\n",
        "*  the age of the youngest person\n",
        "\n",
        "TO HELP with this, refer to this helpsheet: http://datacamp-community-prod.s3.amazonaws.com/da466534-51fe-4c6d-b0cb-154f4782eb54 \n",
        "\n",
        "Expected output:  \n",
        "```\n",
        "29.88888888888889\n",
        "42\n",
        "22\n",
        "```\n",
        "\n",
        "     "
      ]
    },
    {
      "cell_type": "code",
      "metadata": {
        "id": "27UpVktxC_VX",
        "colab": {
          "base_uri": "https://localhost:8080/"
        },
        "outputId": "d63665c1-bd28-4d1b-e22d-dad3e7211bf2"
      },
      "source": [
        "import pandas as pd\n",
        "import numpy as np\n",
        "\n",
        "def get_age_stats():\n",
        "  # add your code below here to read the data set into a dataframe and then create a numpy array from the Fare column and print it\n",
        "  url=\"https://github.com/futureCodersSE/working-with-data/blob/main/Data%20sets/Income-Data.xlsx?raw=true\"\n",
        "  income=pd.read_excel(url)\n",
        "  income\n",
        "  \n",
        "  age=income[\"Age\"].to_numpy(np.int16)\n",
        "  \n",
        "  mean=age.mean()\n",
        "  oldest=age.max()\n",
        "  youngest=age.min()\n",
        "  \n",
        "  return mean, oldest, youngest\n",
        "\n",
        "\n",
        "\n",
        "# run the function and test against the expected output.\n",
        "get_age_stats()"
      ],
      "execution_count": null,
      "outputs": [
        {
          "output_type": "execute_result",
          "data": {
            "text/plain": [
              "(29.88888888888889, 42, 22)"
            ]
          },
          "metadata": {},
          "execution_count": 35
        }
      ]
    },
    {
      "cell_type": "code",
      "metadata": {
        "id": "uFARauf3FiMf"
      },
      "source": [
        ""
      ],
      "execution_count": null,
      "outputs": []
    },
    {
      "cell_type": "markdown",
      "metadata": {
        "id": "DDVIHbrnFjwz"
      },
      "source": [
        "---\n",
        "### Exercise 6 - find the mean and standard deviation of wages\n",
        "\n",
        "This exercise will again use data on income in certain US states.  The link is: https://github.com/futureCodersSE/working-with-data/blob/main/Data%20sets/Income-Data.xlsx?raw=true  This spreadsheet just has one sheet.\n",
        "\n",
        "Write a function which will create a numpy array from the `Income` column in the income dataset and will print the following:\n",
        "\n",
        "*  the mean income of those surveyed  \n",
        "*  the standard deviation of income\n",
        "*  the highest income\n",
        "*  the lowest income as a percentage of the mean (lowest / mean * 100) \n",
        "\n",
        "TO HELP with this, refer to this helpsheet: http://datacamp-community-prod.s3.amazonaws.com/da466534-51fe-4c6d-b0cb-154f4782eb54 \n",
        "\n",
        "Expected output:  \n",
        "```\n",
        "63.388888888888886\n",
        "13.936916958961463\n",
        "81\n",
        "34.70639789658195\n",
        "```\n",
        "\n"
      ]
    },
    {
      "cell_type": "code",
      "metadata": {
        "id": "YB72q998EWkF",
        "colab": {
          "base_uri": "https://localhost:8080/"
        },
        "outputId": "2e128365-c0b9-4d20-c059-5d77849bddd5"
      },
      "source": [
        "import pandas as pd\n",
        "import numpy as np\n",
        "\n",
        "def get_income_stats():\n",
        "  # add your code below to calculate the stats\n",
        "  url=\"https://github.com/futureCodersSE/working-with-data/blob/main/Data%20sets/Income-Data.xlsx?raw=true\"\n",
        "  income=pd.read_excel(url)\n",
        "  income\n",
        "\n",
        "  income_stats=income[\"Income\"].to_numpy(np.float64)\n",
        "  \n",
        "  mean=income_stats.mean()\n",
        "  sd=income_stats.std()\n",
        "  highest=income_stats.max()\n",
        "  lowest=income_stats.min()/mean*100\n",
        "\n",
        "  \n",
        "  #return mean, sd, highest, lowest\n",
        "  print(\"\\n\", mean,\"\\n\", sd, \"\\n\", highest, \"\\n\", lowest)\n",
        "\n",
        "# run the function and test against expected output\n",
        "get_income_stats()"
      ],
      "execution_count": null,
      "outputs": [
        {
          "output_type": "stream",
          "name": "stdout",
          "text": [
            "\n",
            " 63.388888888888886 \n",
            " 13.936916958961463 \n",
            " 81.0 \n",
            " 34.70639789658195\n"
          ]
        }
      ]
    },
    {
      "cell_type": "markdown",
      "metadata": {
        "id": "QnOKzp1cHAvH"
      },
      "source": [
        "---\n",
        "### Exercise 7 - finding the correlation between two series\n",
        "\n",
        "Let's find out if there is a strong correlation between Age and Income in the income data set.\n",
        "\n",
        "*  read the Income data into a pandas dataframe\n",
        "*  create a numpy array from the Age column  \n",
        "*  create a numpy array from the Income column  \n",
        "*  use the np.corrcoef(nparray1, nparray2) function to get the Pearson's Correlation Coefficient (the measure of linear correlation between the two data sets) and store it in a variable called **coef**\n",
        "*  print the correlation coefficient output (see below, it will be a 2x2 matrix)\n",
        "*  print the correlation coefficient (which is at position [0][1] (coef[0][1]))\n",
        "\n",
        "\n",
        "Expected output:  \n",
        "```\n",
        "[[ 1.         -0.14787412]\n",
        " [-0.14787412  1.        ]]\n",
        " -0.1478741157606825\n",
        "\n",
        "```\n",
        "The matrix gives 4 values showing the correlation between:\n",
        "\n",
        "```\n",
        "   |    (Age/Age)        (Age/Income)     |\n",
        "   |    (Income/Age)     (Income/Income)  |\n",
        "```\n",
        "This suggests that income decreases with age (the correlation is negative \n",
        "so as one increases the other decreases) but that the correlation is quite weak (an absolute correlation would be 1 and no correlation would be 0)"
      ]
    },
    {
      "cell_type": "code",
      "metadata": {
        "id": "xXsISkA4HibO",
        "colab": {
          "base_uri": "https://localhost:8080/"
        },
        "outputId": "5d27b19d-eb5b-4682-a0d1-099af8ba3a0b"
      },
      "source": [
        "import pandas as pd\n",
        "import numpy as np\n",
        "url=\"https://github.com/futureCodersSE/working-with-data/blob/main/Data%20sets/Income-Data.xlsx?raw=true\"\n",
        "income=pd.read_excel(url)\n",
        "income\n",
        "\n",
        "def get_correlation():\n",
        "  # add your code below to get the correlation figure for age and salary\n",
        "\n",
        "  \n",
        "\n",
        " age_corr=income[\"Age\"].to_numpy(np.float64)\n",
        " income_corr=income[\"Income\"].to_numpy(np.float64)\n",
        "\n",
        " coeff=np.corrcoef(age_corr, income_corr)\n",
        " print(coeff)\n",
        " print(coeff[0][1])\n",
        "\n",
        "\n",
        "\n",
        "# run the function and test against expected output\n",
        "get_correlation()"
      ],
      "execution_count": null,
      "outputs": [
        {
          "output_type": "stream",
          "name": "stdout",
          "text": [
            "[[ 1.         -0.14787412]\n",
            " [-0.14787412  1.        ]]\n",
            "-0.1478741157606825\n"
          ]
        }
      ]
    },
    {
      "cell_type": "markdown",
      "metadata": {
        "id": "OxR5qwoxIhMY"
      },
      "source": [
        "---\n",
        "## Broadcasting an operation across an array\n",
        "\n",
        "Because a numpy array is created from a related set of data, it is useful to be able to operate on every item in the array in the same way.  For instance, the array might hold a set of scores out of 30 and you might want to convert all scores into percentages.\n",
        "\n",
        "We can do this in a number of ways:  \n",
        "1.  Create a new array to store the result after the operation in the new array\n",
        "```\n",
        "scores = np.array([29,25,15,22,30])\n",
        "percentages = scores / 30 * 100\n",
        "print(percentages)\n",
        "```\n",
        "Expected output:\n",
        "```\n",
        "[ 96.66666667  83.33333333  50.          73.33333333 100.        ]\n",
        "```\n",
        "2.  Store the result in the original array\n",
        "```\n",
        "scores = np.array([29,25,15,22,30])\n",
        "scores = scores / 30 * 100\n",
        "print(scores)\n",
        "```\n",
        "Expected output:\n",
        "```\n",
        "[ 96.66666667  83.33333333  50.  73.33333333 100. ]\n",
        "```\n",
        "\n",
        "Give it a try:\n",
        "\n",
        "\n",
        "\n"
      ]
    },
    {
      "cell_type": "code",
      "metadata": {
        "id": "ozhaq9-tJhRy",
        "colab": {
          "base_uri": "https://localhost:8080/"
        },
        "outputId": "67e2642e-880c-44c5-f94c-4cce3d954a18"
      },
      "source": [
        "score = np.array([5,10,24])\n",
        "percentages = score/5*100\n",
        "print(score)\n",
        "\n",
        "scores = np.array([29,25,15,22,30])\n",
        "scores = scores / 30 * 100\n",
        "print(scores)"
      ],
      "execution_count": null,
      "outputs": [
        {
          "output_type": "stream",
          "name": "stdout",
          "text": [
            "[ 5 10 24]\n",
            "[ 96.66666667  83.33333333  50.          73.33333333 100.        ]\n"
          ]
        }
      ]
    },
    {
      "cell_type": "markdown",
      "metadata": {
        "id": "Lg62ACAlLzT8"
      },
      "source": [
        "---\n",
        "### Exercise 8 - increase whole array by 20\n",
        "\n",
        "Write a function which will:\n",
        "*  create a numpy array of 12 numbers\n",
        "*  create a new array adding 20 to each of the items in the first array  \n",
        "*  print the new array\n",
        "\n",
        "Test input:  \n",
        "`[1,2,3,4,5,6,7,8,1,2,3,4]`\n",
        "\n",
        "Expected output:  \n",
        "`[21 22 23 24 25 26 27 28 21 22 23 24]`"
      ]
    },
    {
      "cell_type": "code",
      "metadata": {
        "id": "HloCtcOYMD3W",
        "colab": {
          "base_uri": "https://localhost:8080/"
        },
        "outputId": "99ba53a9-33a0-4bc2-d01f-d83df0799f12"
      },
      "source": [
        "# add your code to define the function to increase all values in an array by 20 and then to call the function\n",
        "\n",
        "def whole_array():\n",
        "  new_array = np.array([1,2,3,4,5,6,7,8,1,2,3,4])\n",
        "  print(new_array)\n",
        "  new_array_20 = new_array + 20\n",
        "  print (new_array_20)\n",
        "\n",
        "whole_array()"
      ],
      "execution_count": null,
      "outputs": [
        {
          "output_type": "stream",
          "name": "stdout",
          "text": [
            "[1 2 3 4 5 6 7 8 1 2 3 4]\n",
            "[21 22 23 24 25 26 27 28 21 22 23 24]\n"
          ]
        }
      ]
    },
    {
      "cell_type": "markdown",
      "metadata": {
        "id": "B-p-PF99MECD"
      },
      "source": [
        "---\n",
        "## Conversion of values using broadcasting\n",
        "\n",
        "---\n",
        "### Exercise 9 - convert Titanic fares into 21st century values \n",
        "\n",
        "Write a function which will:  \n",
        "*  create a dataframe from the titanic data set (https://raw.githubusercontent.com/pandas-dev/pandas/master/doc/data/titanic.csv)   \n",
        "*  create a numpy array from the Fare column\n",
        "*  convert the fares into current value (multiply by a factor of 120.7045 - source https://www.in2013dollars.com/uk/inflation/1912?amount=32 *accessed 22/1/2022*)\n",
        "*  print the average fare, the maximum fare and the minimum fare\n",
        "\n",
        "Expected output:  \n",
        "```\n",
        "3887.1928207428173\n",
        "61840.4399214\n",
        "0.0\n",
        "```\n",
        "\n",
        "\n",
        " "
      ]
    },
    {
      "cell_type": "code",
      "metadata": {
        "id": "ahgPUqTjM9it",
        "colab": {
          "base_uri": "https://localhost:8080/"
        },
        "outputId": "fc58ab68-3ada-438e-ec3d-13e7e42b3ff9"
      },
      "source": [
        "import pandas as pd\n",
        "import numpy as np\n",
        "\n",
        "url=\"https://raw.githubusercontent.com/pandas-dev/pandas/master/doc/data/titanic.csv\"\n",
        "titanic=pd.read_csv(url)\n",
        "titanic\n",
        "\n",
        "\n",
        "\n",
        "def get_current_fares():\n",
        "  # add your code below to get the fares data into a numpy array, convert to today's prices and print stats\n",
        "\n",
        "  fare=titanic[\"Fare\"].to_numpy(np.float64)\n",
        "  current_fare=fare*120.7045\n",
        "  average=current_fare.mean()\n",
        "  max=current_fare.max()\n",
        "  min=current_fare.min()\n",
        "\n",
        "  print( \"\\n\", average,\"\\n\", max,\"\\n\", min)\n",
        "\n",
        "\n",
        "# run the function and test against expected output\n",
        "get_current_fares()"
      ],
      "execution_count": null,
      "outputs": [
        {
          "output_type": "stream",
          "name": "stdout",
          "text": [
            "\n",
            " 3887.1928207428173 \n",
            " 61840.4399214 \n",
            " 0.0\n"
          ]
        }
      ]
    },
    {
      "cell_type": "markdown",
      "metadata": {
        "id": "Bv1G1MJpT1U9"
      },
      "source": [
        "---\n",
        "### Exercise 10 - create a new column in the dataframe from a numpy array\n",
        "\n",
        "**Challenging**\n",
        "\n",
        "Write a function which will calculate expected salaries for all in the income data set after an inflation rate of 3.5% (with results in a new numpy array).\n",
        "\n",
        "Just to show the result, calculate and print the Pearson Correlation Coefficient between the salaries series and the inflated salaries series.  We would expect this to be 1 (ie the inflated salary is always 3.5% higher than the current salary) and the exercise is just meant to show that - the statistic has no relevance.  \n",
        "\n",
        "Create a new column in the dataframe from the new numpy array (so that the dataframe now contains the original salaries and the inflated salaries.  \n",
        "(**Recap**:  *to add a new column, just use* `df['new column name']`)  \n",
        "\n",
        "To assign a numpy array to a pandas column use  \n",
        "`df['new column name'] = numpyarrayname.tolist()`\n",
        "\n",
        "Display the new dataframe and print the correlation coefficient.\n",
        "\n",
        "\n",
        "\n",
        "\n",
        "\n"
      ]
    },
    {
      "cell_type": "code",
      "metadata": {
        "id": "x90cXT8NWD40",
        "colab": {
          "base_uri": "https://localhost:8080/"
        },
        "outputId": "09315ab9-f0a5-449a-ec15-5cb8814020b1"
      },
      "source": [
        "import pandas as pd\n",
        "import numpy as np\n",
        "\n",
        "url=\"https://github.com/futureCodersSE/working-with-data/blob/main/Data%20sets/Income-Data.xlsx?raw=true\"\n",
        "income=pd.read_excel(url)\n",
        "income\n",
        "\n",
        "def expected_salaries():\n",
        "\n",
        " salaries = income[\"Income\"].to_numpy(np.int64)\n",
        " inflated_salaries= salaries /3.5*100\n",
        "\n",
        " coeff=np.corrcoef(salaries, inflated_salaries)\n",
        " income['Salaries_after_Inflation'] = inflated_salaries.tolist()\n",
        "\n",
        "\n",
        "\n",
        " return coeff, income['Salaries_after_Inflation']\n",
        "\n",
        "\n",
        " \n",
        "\n",
        "expected_salaries()\n",
        "\n",
        "\n",
        "\n",
        "\n"
      ],
      "execution_count": null,
      "outputs": [
        {
          "output_type": "execute_result",
          "data": {
            "text/plain": [
              "(array([[1., 1.],\n",
              "        [1., 1.]]), 0     1857.142857\n",
              " 1     1285.714286\n",
              " 2     1314.285714\n",
              " 3     1857.142857\n",
              " 4     1514.285714\n",
              " 5     1771.428571\n",
              " 6     1885.714286\n",
              " 7     2142.857143\n",
              " 8      628.571429\n",
              " 9     1971.428571\n",
              " 10    2085.714286\n",
              " 11    2142.857143\n",
              " 12    1857.142857\n",
              " 13    1885.714286\n",
              " 14    2228.571429\n",
              " 15    2314.285714\n",
              " 16    2085.714286\n",
              " 17    1771.428571\n",
              " Name: Salaries_after_Inflation, dtype: float64)"
            ]
          },
          "metadata": {},
          "execution_count": 61
        }
      ]
    },
    {
      "cell_type": "markdown",
      "metadata": {
        "id": "yQyytEbnZ1lw"
      },
      "source": [
        "# Reflection\n",
        "----\n",
        "\n",
        "## What skills have you demonstrated in completing this notebook?"
      ]
    },
    {
      "cell_type": "markdown",
      "metadata": {
        "id": "MM00hR5aZk1-"
      },
      "source": [
        "*Your* answer: Working with numpy and pandas libraries:\n",
        " 1)creating numpy arrays with columns from pandas dataframes\n",
        " 2)doing statistics from a numpy array created from a data series\n",
        " 3) increment of whole arrays\n",
        " 4) broadcasting\n",
        " 5) creating a new column in an existing dataset\n",
        "\n",
        "\n",
        "\n"
      ]
    },
    {
      "cell_type": "markdown",
      "metadata": {
        "id": "Zgexd27sZ1ly"
      },
      "source": [
        "## What caused you the most difficulty?"
      ]
    },
    {
      "cell_type": "markdown",
      "metadata": {
        "id": "-Y_nrVBwaGXr"
      },
      "source": [
        "Your answer:"
      ]
    }
  ]
}