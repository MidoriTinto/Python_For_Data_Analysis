{
  "nbformat": 4,
  "nbformat_minor": 0,
  "metadata": {
    "colab": {
      "name": "JobScrawler.ipynb",
      "provenance": [],
      "collapsed_sections": [],
      "authorship_tag": "ABX9TyNh5nanmgNvjQl25/ZNdRiB",
      "include_colab_link": true
    },
    "kernelspec": {
      "name": "python3",
      "display_name": "Python 3"
    },
    "language_info": {
      "name": "python"
    }
  },
  "cells": [
    {
      "cell_type": "markdown",
      "metadata": {
        "id": "view-in-github",
        "colab_type": "text"
      },
      "source": [
        "<a href=\"https://colab.research.google.com/github/MidoriTinto/Python_For_Data_Analysis/blob/main/JobScrawler.ipynb\" target=\"_parent\"><img src=\"https://colab.research.google.com/assets/colab-badge.svg\" alt=\"Open In Colab\"/></a>"
      ]
    },
    {
      "cell_type": "code",
      "source": [
        "from bs4 import BeautifulSoup\n",
        "import urllib.request as ur\n",
        "import re\n",
        "import sys\n"
      ],
      "metadata": {
        "id": "a2itXGA2D8IJ"
      },
      "execution_count": 7,
      "outputs": []
    },
    {
      "cell_type": "code",
      "source": [
        "red_flags = [\"senior\", \"intern\", \"contract\", \"staff\"] #List of words to avoid in job title\n",
        "#required = [\"software\"] #Can also check for required words\n",
        "\n",
        "def qualifies(title):\n",
        "    title = title.lower()\n",
        "    #Define a function to check if a job title is worth checking out  \n",
        "    for word in red_flags:\n",
        "        if word in title: return False\n",
        "    return True\n",
        "\n",
        "#test:\n",
        "qualifies(\"Data Analyst\")"
      ],
      "metadata": {
        "colab": {
          "base_uri": "https://localhost:8080/"
        },
        "id": "ipUpT-8oHGWR",
        "outputId": "bd220fb7-0e65-40fb-bad9-941041221252"
      },
      "execution_count": 8,
      "outputs": [
        {
          "output_type": "execute_result",
          "data": {
            "text/plain": [
              "True"
            ]
          },
          "metadata": {},
          "execution_count": 8
        }
      ]
    },
    {
      "cell_type": "code",
      "source": [
        "# Now define the Regex, \n",
        "# 1. Should not have the phrase 1+ years, 1-2 Years, so on..\n",
        "p1 = re.compile('[2-9]\\s*\\+?-?\\s*[1-9]?\\s*[yY]e?a?[rR][Ss]?')\n",
        "# 2. Should not have mention of \"Citizenship\", \"Citizens\", so on..\n",
        "p2 = re.compile('[Cc]itizens?(ship)?')\n",
        "\n",
        "t1 = p1.search(\"2+ Years of experience\")\n",
        "t2 = p1.search(\"0-1 Year\")\n",
        "print (t1, \"\\n\",t2)"
      ],
      "metadata": {
        "colab": {
          "base_uri": "https://localhost:8080/"
        },
        "id": "qXu3a-M4He3S",
        "outputId": "4a99796c-fac8-4832-f579-869942148e4f"
      },
      "execution_count": 9,
      "outputs": [
        {
          "output_type": "stream",
          "name": "stdout",
          "text": [
            "<re.Match object; span=(0, 8), match='2+ Years'> \n",
            " None\n"
          ]
        }
      ]
    },
    {
      "cell_type": "code",
      "source": [
        "#The first page with search results\n",
        "url_base = \"https://uk.indeed.com/jobs?q=data%20analyst%20information&l=Scotland&sc=0kf%3Aattr(DSQF7)%3B&vjk=85b36a773db262d3\"\n",
        "pgno = 0\n",
        "try:\n",
        "        response = ur.urlopen(url_base+str(pgno))\n",
        "        html_doc = response.read()\n",
        "except:\n",
        "        print(\"URL not accesible\")\n",
        "        exit();\n",
        "soup = BeautifulSoup(html_doc, 'html.parser')\n",
        "\"Ready.\""
      ],
      "metadata": {
        "colab": {
          "base_uri": "https://localhost:8080/",
          "height": 35
        },
        "id": "XnGj4s4_JbMy",
        "outputId": "0f7b731b-4a85-47de-9b9c-c0745bf825c4"
      },
      "execution_count": 10,
      "outputs": [
        {
          "output_type": "execute_result",
          "data": {
            "text/plain": [
              "'Ready.'"
            ],
            "application/vnd.google.colaboratory.intrinsic+json": {
              "type": "string"
            }
          },
          "metadata": {},
          "execution_count": 10
        }
      ]
    },
    {
      "cell_type": "code",
      "source": [
        "try:\n",
        "    total_results = soup.find(id=\"searchCount\").get_text()\n",
        "    last_page = int(int(total_results[total_results.index(\"of\")+2: total_results.index(\"jobs\")].strip()) / 10) * 10\n",
        "    print(last_page)\n",
        "except:\n",
        "    print (\"No jobs found\")"
      ],
      "metadata": {
        "colab": {
          "base_uri": "https://localhost:8080/"
        },
        "id": "qPa1S2dEK2-d",
        "outputId": "b836e668-4af1-4a4b-d230-6ee0b80d23b3"
      },
      "execution_count": 11,
      "outputs": [
        {
          "output_type": "stream",
          "name": "stdout",
          "text": [
            "50\n"
          ]
        }
      ]
    },
    {
      "cell_type": "code",
      "source": [
        "jobs_per_page = 10\n",
        "goodlinks = []\n",
        "for pgno in range(0,last_page,jobs_per_page):\n",
        "    if pgno > 0:\n",
        "        try:\n",
        "            response = ur.urlopen(url_base+str(pgno))\n",
        "            html_doc = response.read()\n",
        "        except:\n",
        "            break;\n",
        "        soup = BeautifulSoup(html_doc, 'html.parser')\n",
        "    for job in soup.find_all(class_='result'):\n",
        "        link = job.find(class_=\"turnstileLink\")\n",
        "        try:\n",
        "            jt = link.get('title')\n",
        "        except:\n",
        "            jt = \"\"\n",
        "        try:\n",
        "            comp = job.find(class_='company').get_text().strip()\n",
        "        except:\n",
        "            comp = \"\"\n",
        "\n",
        "        if jt :\n",
        "        #(qualifies(jt.lower()))\n",
        "            toVisit = \"https://uk.indeed.com\"+link.get('href')\n",
        "            try:\n",
        "                html_doc = ur.urlopen(toVisit).read().decode('utf-8')\n",
        "            except:\n",
        "                continue;\n",
        "            m = p1.search(html_doc)\n",
        "            n = p2.search(html_doc)\n",
        "            if not m and not n:\n",
        "                print(jt,\",\",comp,\":\",toVisit,\"\\n\")\n",
        "                goodlinks.append(toVisit)"
      ],
      "metadata": {
        "id": "NvJ30LhYLCS0"
      },
      "execution_count": 21,
      "outputs": []
    }
  ]
}
