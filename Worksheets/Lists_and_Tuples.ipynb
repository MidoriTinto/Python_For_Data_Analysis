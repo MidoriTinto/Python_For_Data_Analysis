{
  "nbformat": 4,
  "nbformat_minor": 0,
  "metadata": {
    "colab": {
      "name": "Lists and Tuples.ipynb",
      "provenance": [],
      "collapsed_sections": [],
      "include_colab_link": true
    },
    "kernelspec": {
      "name": "python3",
      "display_name": "Python 3"
    },
    "language_info": {
      "name": "python"
    }
  },
  "cells": [
    {
      "cell_type": "markdown",
      "metadata": {
        "id": "view-in-github",
        "colab_type": "text"
      },
      "source": [
        "<a href=\"https://colab.research.google.com/github/MidoriTinto/Python_Fundamentals/blob/main/Lists_and_Tuples.ipynb\" target=\"_parent\"><img src=\"https://colab.research.google.com/assets/colab-badge.svg\" alt=\"Open In Colab\"/></a>"
      ]
    },
    {
      "cell_type": "markdown",
      "metadata": {
        "id": "Z-M-RCWATK71"
      },
      "source": [
        "# Lists and tuples\n",
        "\n",
        "Often we need to store a number of single items of data together so that they can be processed together. This might be because all the data refers to one person (e.g. name, age, gender, etc) OR it might be because we have a set of data (e.g. all the items that should be displayed in a drop down list, such as all the years from this year back to 100 years ago so that someone can select their year of birth)\n",
        "\n",
        "Python has a range of data structures available including:\n",
        "*   lists  \n",
        "*   tuples  \n",
        "*   dictionaries  \n",
        "*   sets\n",
        "\n",
        "This worksheet looks at lists and tuples.\n",
        "\n",
        "## List\n",
        "A list is a set of related, individual data objects, that are indexed and can be processed as a whole, as subsets or as individual items.  Lists are stored, essentially, as contiguous items in memory so that access can be as quick as possible.  However, they are mutable (they can be changed after they are created and stored) and so those mechanisms need to include extra functionality to deal with changing list sizes.\n",
        "\n",
        "## Tuple\n",
        "Essentially the same as a list but it is immutable.  Once it has been created it can't be changed.  It is stored in memory as contiguous items, with the size required being fixed right from the start.  This makes it faster to access.\n",
        "\n",
        "The code below will create two lists and a tuple.\n",
        "*   the first list contains 1000 random numbers between 1 and 100\n",
        "*   the second list is of random length (up to 5000) and each item is one of the 9 characteristics that are protected under the Equality Act in the UK.\n",
        "*   the tuple contains the 9 protected characteristics\n",
        "\n",
        "Before you start the exercises, run the code below.  It will generate the lists and tuple so that you can use them in the exercises.  If you need to recreate the lists again (because you have changed them and need to work on the originals, just run this cell again).\n",
        "\n",
        "***Note:***  *a list variable contains a reference to the start of the list in memory, rather than storing the list itself.  This means that if you assign the list to another variable (to make a copy), it will only copy across the reference.  If you change the copy, you change the original list.*\n",
        "\n",
        "*If you need to make a copy of the list you will need to use a loop to create a new list and copy all items across.*"
      ]
    },
    {
      "cell_type": "code",
      "metadata": {
        "id": "BDRckXeQXFMT",
        "colab": {
          "base_uri": "https://localhost:8080/"
        },
        "outputId": "79f4a2eb-9aa1-4785-d7fe-faec5ab79ee2"
      },
      "source": [
        "from random import randint, choice\n",
        "\n",
        "def get_num_list():\n",
        "  num_list = [randint(1,100) for n in range(1000)]\n",
        "  return num_list\n",
        "\n",
        "def get_protected_characteristics():\n",
        "  characteristics_tuple = ('age','disability','gender reassignment','marriage and civil partnership','pregnancy and maternity','race','religion or belief','sex','sexual orientation')\n",
        "  return characteristics_tuple\n",
        "\n",
        "def get_protected_characteristic_list(protected_characteristics):\n",
        "  char_list = [choice(protected_characteristics) for ch in range(randint(1,5000))]\n",
        "  return char_list\n",
        "\n",
        "nums = get_num_list()\n",
        "protected_characteristics = get_protected_characteristics()\n",
        "characteristics = get_protected_characteristic_list(protected_characteristics)\n",
        "\n",
        "print(nums)#list\n",
        "print(protected_characteristics)#tuple\n",
        "print(characteristics)#list"
      ],
      "execution_count": 2,
      "outputs": [
        {
          "output_type": "stream",
          "name": "stdout",
          "text": [
            "[49, 82, 8, 60, 97, 30, 12, 70, 2, 65, 91, 60, 31, 31, 34, 80, 42, 32, 34, 51, 4, 98, 94, 69, 17, 31, 68, 70, 3, 49, 95, 26, 15, 77, 51, 40, 86, 8, 21, 27, 49, 9, 24, 97, 11, 91, 50, 14, 20, 96, 5, 26, 68, 14, 1, 52, 68, 42, 85, 96, 43, 52, 82, 25, 10, 36, 55, 28, 17, 52, 84, 56, 62, 13, 21, 40, 58, 86, 17, 31, 96, 100, 12, 60, 77, 75, 69, 1, 80, 58, 72, 2, 14, 72, 40, 54, 50, 20, 53, 63, 20, 73, 37, 43, 75, 3, 62, 31, 38, 82, 91, 2, 70, 74, 85, 88, 53, 47, 26, 11, 24, 71, 91, 75, 42, 20, 97, 48, 90, 5, 16, 31, 23, 75, 55, 98, 10, 46, 68, 34, 37, 69, 96, 46, 34, 64, 28, 35, 31, 12, 37, 43, 19, 14, 16, 55, 64, 82, 16, 75, 68, 49, 58, 33, 79, 37, 51, 79, 28, 67, 77, 42, 97, 32, 37, 19, 17, 54, 6, 33, 7, 86, 94, 81, 22, 10, 16, 80, 48, 49, 53, 31, 82, 28, 10, 97, 6, 75, 6, 22, 69, 51, 1, 67, 65, 56, 36, 70, 8, 64, 84, 11, 15, 18, 5, 82, 45, 92, 94, 14, 33, 54, 13, 64, 99, 62, 11, 66, 55, 66, 51, 74, 90, 16, 95, 17, 83, 54, 31, 91, 71, 57, 43, 44, 61, 96, 58, 24, 96, 21, 91, 86, 50, 61, 95, 74, 31, 32, 99, 72, 89, 100, 91, 47, 9, 11, 94, 31, 46, 60, 97, 40, 26, 11, 70, 27, 50, 77, 56, 16, 62, 77, 95, 100, 15, 28, 26, 44, 90, 3, 32, 21, 25, 27, 1, 92, 31, 76, 82, 79, 80, 30, 28, 78, 32, 40, 13, 59, 78, 15, 86, 69, 67, 98, 48, 39, 91, 90, 37, 41, 9, 17, 85, 93, 7, 98, 9, 6, 95, 9, 16, 75, 74, 2, 47, 93, 51, 83, 69, 65, 4, 19, 69, 100, 18, 77, 2, 51, 39, 24, 89, 42, 78, 1, 88, 17, 70, 4, 98, 60, 47, 2, 17, 88, 23, 39, 44, 58, 42, 73, 63, 73, 46, 18, 96, 32, 25, 1, 15, 58, 48, 76, 12, 44, 44, 10, 17, 76, 86, 12, 42, 27, 43, 27, 1, 50, 59, 32, 90, 94, 23, 2, 14, 40, 62, 90, 87, 14, 68, 27, 15, 78, 70, 16, 23, 7, 84, 22, 6, 42, 24, 43, 51, 11, 91, 31, 38, 72, 18, 88, 84, 1, 38, 16, 23, 4, 36, 30, 22, 28, 71, 28, 20, 5, 63, 45, 37, 89, 15, 43, 18, 86, 81, 6, 33, 48, 62, 61, 99, 21, 81, 34, 57, 73, 4, 29, 75, 89, 20, 40, 32, 22, 16, 34, 100, 92, 26, 73, 61, 38, 17, 72, 80, 49, 12, 37, 82, 12, 23, 53, 30, 56, 81, 57, 46, 21, 66, 65, 83, 17, 49, 91, 81, 72, 79, 28, 12, 29, 55, 12, 97, 30, 71, 93, 9, 72, 80, 69, 88, 43, 12, 23, 59, 61, 20, 85, 50, 61, 50, 63, 27, 60, 43, 53, 86, 16, 84, 1, 70, 57, 10, 55, 65, 5, 37, 77, 40, 24, 22, 52, 25, 22, 97, 85, 33, 81, 7, 69, 7, 30, 71, 88, 54, 81, 40, 67, 98, 19, 74, 99, 94, 46, 74, 65, 96, 96, 12, 16, 77, 83, 61, 1, 17, 51, 24, 35, 15, 38, 98, 61, 66, 25, 15, 45, 19, 69, 68, 17, 63, 18, 3, 41, 32, 40, 46, 14, 77, 44, 100, 85, 11, 33, 45, 80, 33, 68, 38, 17, 58, 98, 82, 44, 84, 23, 26, 35, 93, 60, 32, 89, 62, 98, 1, 30, 61, 65, 46, 23, 7, 17, 31, 24, 64, 43, 98, 49, 90, 67, 4, 75, 38, 98, 10, 14, 88, 23, 51, 56, 97, 21, 16, 63, 47, 69, 19, 31, 71, 94, 84, 94, 76, 82, 22, 30, 28, 96, 8, 3, 3, 27, 62, 9, 84, 5, 43, 65, 32, 50, 19, 65, 37, 46, 67, 79, 28, 19, 82, 88, 41, 69, 57, 100, 37, 89, 42, 20, 47, 72, 25, 41, 15, 91, 66, 21, 42, 46, 100, 29, 54, 61, 76, 96, 29, 61, 51, 96, 25, 5, 33, 30, 69, 27, 97, 35, 78, 17, 86, 21, 60, 83, 38, 32, 72, 54, 88, 43, 83, 40, 83, 68, 34, 65, 15, 42, 74, 45, 53, 89, 85, 86, 96, 57, 55, 23, 53, 97, 28, 67, 86, 90, 47, 53, 82, 25, 92, 25, 46, 95, 7, 36, 80, 77, 57, 83, 59, 37, 76, 26, 48, 19, 7, 30, 23, 95, 52, 24, 56, 50, 18, 69, 74, 78, 52, 4, 6, 28, 96, 82, 72, 77, 68, 23, 46, 41, 14, 2, 58, 34, 99, 92, 22, 15, 78, 26, 72, 28, 74, 83, 68, 82, 46, 43, 73, 35, 80, 99, 18, 83, 95, 36, 30, 43, 29, 1, 69, 94, 24, 4, 50, 16, 98, 62, 29, 71, 72, 44, 95, 48, 19, 24, 95, 86, 34, 59, 10, 29, 21, 86, 72, 61, 10, 44, 62, 46, 75, 7, 44, 78, 31, 55, 17, 68, 28, 86, 35, 87, 66, 94, 72, 58, 99, 86, 18, 81, 32, 14, 81, 85, 72, 76, 81, 25, 9, 57, 57, 64, 62, 96, 75, 87, 52, 30, 51, 69, 3, 24, 47, 24, 33, 9, 29, 42, 12, 20, 40, 98, 1, 77, 93, 84, 55, 88, 86, 5, 65, 29, 8, 66, 50, 16, 15, 97, 86, 71, 46, 44, 79, 6, 74, 64, 16, 24, 58, 39, 24, 12, 42, 70, 53, 40, 61, 83, 44, 92, 67, 38, 25, 19, 44, 14, 54, 74, 11, 93, 10, 52, 88, 64, 74, 19, 81, 57, 11, 97, 35, 45, 94, 13, 91, 5, 74, 52, 55, 53, 90, 92, 51, 29, 40, 3]\n",
            "('age', 'disability', 'gender reassignment', 'marriage and civil partnership', 'pregnancy and maternity', 'race', 'religion or belief', 'sex', 'sexual orientation')\n",
            "['sexual orientation', 'gender reassignment', 'sexual orientation', 'sex', 'race', 'disability', 'disability', 'gender reassignment', 'race', 'gender reassignment', 'marriage and civil partnership', 'sexual orientation', 'race', 'pregnancy and maternity', 'race', 'sex', 'religion or belief', 'age', 'race', 'sex', 'gender reassignment', 'sexual orientation', 'religion or belief', 'sexual orientation', 'sexual orientation', 'religion or belief', 'gender reassignment', 'gender reassignment', 'race', 'disability', 'religion or belief', 'age', 'religion or belief', 'sexual orientation', 'pregnancy and maternity', 'age', 'disability', 'religion or belief', 'gender reassignment', 'age', 'sexual orientation', 'sex', 'race', 'pregnancy and maternity', 'sexual orientation', 'age', 'sex', 'sexual orientation', 'sexual orientation', 'disability', 'race', 'disability', 'sexual orientation', 'sexual orientation', 'sex', 'race', 'disability', 'disability', 'gender reassignment', 'sex', 'sexual orientation', 'religion or belief', 'marriage and civil partnership', 'gender reassignment', 'disability', 'age', 'pregnancy and maternity', 'sex', 'race', 'sex', 'gender reassignment', 'pregnancy and maternity', 'religion or belief', 'gender reassignment', 'religion or belief', 'gender reassignment', 'age', 'age', 'marriage and civil partnership', 'age', 'disability', 'sex', 'age', 'sexual orientation', 'pregnancy and maternity', 'marriage and civil partnership', 'sex', 'disability', 'race', 'race', 'gender reassignment', 'gender reassignment', 'age', 'disability', 'religion or belief', 'sexual orientation', 'sex', 'race', 'religion or belief', 'disability', 'pregnancy and maternity', 'sexual orientation', 'marriage and civil partnership', 'sexual orientation', 'gender reassignment', 'age', 'disability', 'sexual orientation', 'race', 'race', 'gender reassignment', 'sexual orientation', 'marriage and civil partnership', 'marriage and civil partnership', 'race', 'sex', 'sexual orientation', 'sex', 'sexual orientation', 'race', 'marriage and civil partnership', 'pregnancy and maternity', 'gender reassignment', 'disability', 'pregnancy and maternity', 'disability', 'age', 'sexual orientation', 'disability', 'sex', 'sexual orientation', 'religion or belief', 'pregnancy and maternity', 'pregnancy and maternity', 'sexual orientation', 'sexual orientation', 'gender reassignment', 'gender reassignment', 'marriage and civil partnership', 'age', 'race', 'gender reassignment', 'pregnancy and maternity', 'disability', 'race', 'race', 'disability', 'pregnancy and maternity', 'sex', 'disability', 'religion or belief', 'age', 'marriage and civil partnership', 'sex', 'sexual orientation', 'gender reassignment', 'marriage and civil partnership', 'gender reassignment', 'age', 'disability', 'marriage and civil partnership', 'marriage and civil partnership', 'marriage and civil partnership', 'age', 'age', 'sex', 'age', 'disability', 'disability', 'sex', 'sex', 'pregnancy and maternity', 'religion or belief', 'race', 'age', 'marriage and civil partnership', 'marriage and civil partnership', 'age', 'sexual orientation', 'sexual orientation', 'race', 'race', 'sex', 'disability', 'age', 'age', 'gender reassignment', 'sex', 'race', 'sexual orientation', 'race', 'race', 'sex', 'age', 'religion or belief', 'race', 'race', 'disability', 'gender reassignment', 'gender reassignment', 'pregnancy and maternity', 'sex', 'race', 'disability', 'sex', 'marriage and civil partnership', 'religion or belief', 'sexual orientation', 'disability', 'disability', 'marriage and civil partnership', 'disability', 'age', 'religion or belief', 'gender reassignment', 'pregnancy and maternity', 'race', 'disability', 'age', 'gender reassignment', 'religion or belief', 'race', 'pregnancy and maternity', 'race', 'disability', 'sexual orientation', 'sexual orientation', 'religion or belief', 'gender reassignment', 'sexual orientation', 'sexual orientation', 'gender reassignment', 'gender reassignment', 'sex', 'gender reassignment', 'race', 'age', 'gender reassignment', 'race', 'disability', 'age', 'pregnancy and maternity', 'race', 'religion or belief', 'age', 'religion or belief', 'religion or belief', 'disability', 'pregnancy and maternity', 'age', 'sexual orientation', 'age', 'age', 'marriage and civil partnership', 'religion or belief', 'marriage and civil partnership', 'pregnancy and maternity', 'sexual orientation', 'marriage and civil partnership', 'disability', 'gender reassignment', 'sexual orientation', 'gender reassignment', 'sexual orientation', 'marriage and civil partnership', 'marriage and civil partnership', 'gender reassignment', 'disability', 'age', 'religion or belief', 'religion or belief', 'sexual orientation', 'gender reassignment', 'disability', 'sex', 'age', 'disability', 'religion or belief', 'sexual orientation', 'sex', 'sexual orientation', 'religion or belief', 'disability', 'marriage and civil partnership', 'race', 'sex', 'sex', 'disability', 'race', 'sex', 'race', 'disability', 'gender reassignment', 'disability', 'gender reassignment', 'disability', 'pregnancy and maternity', 'gender reassignment', 'disability', 'sex', 'marriage and civil partnership', 'pregnancy and maternity', 'pregnancy and maternity', 'age', 'disability', 'religion or belief', 'marriage and civil partnership', 'sexual orientation', 'sex', 'pregnancy and maternity', 'religion or belief', 'marriage and civil partnership', 'marriage and civil partnership', 'sex', 'race', 'sex', 'gender reassignment', 'age', 'sex', 'gender reassignment', 'religion or belief', 'sexual orientation', 'age', 'disability', 'age', 'religion or belief', 'sexual orientation', 'sex', 'race', 'age', 'sex', 'disability', 'race', 'gender reassignment', 'age', 'religion or belief', 'disability', 'pregnancy and maternity', 'pregnancy and maternity', 'religion or belief', 'marriage and civil partnership', 'pregnancy and maternity', 'sex', 'age', 'disability', 'age', 'marriage and civil partnership', 'sex', 'marriage and civil partnership', 'religion or belief', 'religion or belief', 'sexual orientation', 'race', 'disability', 'disability', 'marriage and civil partnership', 'pregnancy and maternity', 'race', 'sexual orientation', 'sex', 'gender reassignment', 'marriage and civil partnership', 'religion or belief', 'pregnancy and maternity', 'age', 'race', 'sex', 'marriage and civil partnership', 'race', 'sexual orientation', 'religion or belief', 'sexual orientation', 'marriage and civil partnership', 'gender reassignment', 'pregnancy and maternity', 'age', 'sex', 'race', 'age', 'race', 'sex', 'sexual orientation', 'race', 'disability', 'sexual orientation', 'religion or belief', 'age', 'race', 'race', 'disability', 'pregnancy and maternity', 'disability', 'marriage and civil partnership', 'sexual orientation', 'religion or belief', 'gender reassignment', 'marriage and civil partnership', 'religion or belief', 'disability', 'religion or belief', 'race', 'sex', 'sex', 'race', 'race', 'pregnancy and maternity', 'sex', 'sex', 'race', 'race', 'disability', 'marriage and civil partnership', 'sex', 'sexual orientation', 'gender reassignment', 'religion or belief', 'race', 'age', 'sex', 'marriage and civil partnership', 'pregnancy and maternity', 'disability', 'sex', 'sex', 'sexual orientation', 'gender reassignment', 'sex', 'pregnancy and maternity', 'gender reassignment', 'disability', 'race', 'race', 'religion or belief', 'disability', 'sexual orientation', 'disability', 'race', 'religion or belief', 'gender reassignment', 'marriage and civil partnership', 'religion or belief', 'religion or belief', 'pregnancy and maternity', 'age', 'age', 'race', 'age', 'race', 'pregnancy and maternity', 'disability', 'pregnancy and maternity', 'age', 'gender reassignment', 'sexual orientation', 'sexual orientation', 'age', 'disability', 'gender reassignment', 'pregnancy and maternity', 'gender reassignment', 'gender reassignment', 'gender reassignment', 'sex', 'age', 'age', 'religion or belief', 'marriage and civil partnership', 'marriage and civil partnership', 'religion or belief', 'pregnancy and maternity', 'disability', 'religion or belief', 'gender reassignment', 'pregnancy and maternity', 'religion or belief', 'sexual orientation', 'sexual orientation', 'race', 'pregnancy and maternity', 'gender reassignment', 'age', 'marriage and civil partnership', 'age', 'gender reassignment', 'marriage and civil partnership', 'sexual orientation', 'race', 'race', 'pregnancy and maternity', 'disability', 'pregnancy and maternity', 'race', 'marriage and civil partnership', 'pregnancy and maternity', 'race', 'marriage and civil partnership', 'marriage and civil partnership', 'race', 'sex', 'marriage and civil partnership', 'race', 'religion or belief', 'disability', 'sexual orientation', 'marriage and civil partnership', 'sex', 'sex', 'age', 'marriage and civil partnership', 'gender reassignment', 'age', 'race', 'disability', 'marriage and civil partnership', 'marriage and civil partnership', 'sex', 'religion or belief', 'gender reassignment', 'marriage and civil partnership', 'sexual orientation', 'marriage and civil partnership', 'gender reassignment', 'sex', 'marriage and civil partnership', 'marriage and civil partnership', 'disability', 'pregnancy and maternity', 'race', 'religion or belief', 'sex', 'disability', 'sex', 'disability', 'religion or belief', 'sex', 'gender reassignment', 'age', 'sexual orientation', 'gender reassignment', 'disability', 'disability', 'disability', 'religion or belief', 'pregnancy and maternity', 'religion or belief', 'gender reassignment', 'race', 'sex', 'religion or belief', 'race', 'sexual orientation', 'sexual orientation', 'race', 'disability', 'disability', 'sex', 'sexual orientation', 'marriage and civil partnership', 'sexual orientation', 'age', 'pregnancy and maternity', 'age', 'pregnancy and maternity', 'religion or belief', 'pregnancy and maternity', 'gender reassignment', 'gender reassignment', 'disability', 'pregnancy and maternity', 'age', 'race', 'religion or belief', 'disability', 'religion or belief', 'race', 'sexual orientation', 'marriage and civil partnership', 'disability', 'sexual orientation', 'sex', 'disability', 'sexual orientation', 'age', 'pregnancy and maternity', 'age', 'sex', 'disability', 'race', 'pregnancy and maternity', 'race', 'age', 'pregnancy and maternity', 'religion or belief', 'pregnancy and maternity', 'gender reassignment', 'gender reassignment', 'sexual orientation', 'marriage and civil partnership', 'race', 'pregnancy and maternity', 'sex', 'sex', 'sexual orientation', 'age', 'pregnancy and maternity', 'age', 'religion or belief', 'age', 'gender reassignment', 'sexual orientation', 'marriage and civil partnership', 'marriage and civil partnership', 'race', 'sex', 'sexual orientation', 'sexual orientation', 'age', 'age', 'religion or belief', 'sexual orientation', 'marriage and civil partnership', 'disability', 'religion or belief', 'age', 'race', 'marriage and civil partnership', 'sexual orientation', 'sex', 'religion or belief', 'marriage and civil partnership', 'sexual orientation', 'sex', 'disability', 'pregnancy and maternity', 'sex', 'disability', 'gender reassignment', 'sex', 'disability', 'marriage and civil partnership', 'religion or belief', 'age', 'sex', 'gender reassignment', 'age', 'sexual orientation', 'disability', 'sex', 'gender reassignment', 'race', 'religion or belief', 'sexual orientation', 'religion or belief', 'religion or belief', 'pregnancy and maternity', 'marriage and civil partnership', 'sex', 'marriage and civil partnership', 'sex', 'gender reassignment', 'race', 'sexual orientation', 'marriage and civil partnership', 'pregnancy and maternity', 'sexual orientation', 'sexual orientation', 'sexual orientation', 'sex', 'sexual orientation', 'sex', 'race', 'disability', 'marriage and civil partnership', 'race', 'religion or belief', 'religion or belief', 'religion or belief', 'sexual orientation', 'disability', 'sexual orientation', 'gender reassignment', 'gender reassignment', 'gender reassignment', 'pregnancy and maternity', 'pregnancy and maternity', 'religion or belief', 'marriage and civil partnership', 'age', 'age', 'sexual orientation', 'disability', 'gender reassignment', 'disability', 'pregnancy and maternity', 'disability', 'sexual orientation', 'religion or belief', 'race', 'marriage and civil partnership', 'sex', 'disability', 'disability', 'race', 'religion or belief', 'marriage and civil partnership', 'pregnancy and maternity', 'sexual orientation', 'sex', 'sex', 'religion or belief', 'marriage and civil partnership', 'religion or belief', 'sex', 'sex', 'gender reassignment', 'marriage and civil partnership', 'religion or belief', 'religion or belief', 'religion or belief', 'marriage and civil partnership', 'gender reassignment', 'marriage and civil partnership', 'sexual orientation', 'marriage and civil partnership', 'sexual orientation', 'religion or belief', 'race', 'race', 'race', 'disability', 'disability', 'religion or belief', 'religion or belief', 'marriage and civil partnership', 'gender reassignment', 'age', 'race', 'marriage and civil partnership', 'disability', 'sex', 'age', 'sex', 'religion or belief', 'gender reassignment', 'disability', 'marriage and civil partnership', 'gender reassignment', 'sexual orientation', 'religion or belief', 'pregnancy and maternity', 'gender reassignment', 'sexual orientation', 'religion or belief', 'age', 'gender reassignment', 'sexual orientation', 'sex', 'race', 'race', 'marriage and civil partnership', 'disability', 'disability', 'marriage and civil partnership', 'race', 'sexual orientation', 'pregnancy and maternity', 'gender reassignment', 'age', 'sexual orientation', 'age', 'marriage and civil partnership', 'sexual orientation', 'disability', 'disability', 'gender reassignment', 'marriage and civil partnership', 'age', 'sexual orientation', 'age', 'gender reassignment', 'sexual orientation', 'disability', 'marriage and civil partnership', 'marriage and civil partnership', 'marriage and civil partnership', 'disability', 'marriage and civil partnership', 'sexual orientation', 'age', 'pregnancy and maternity', 'gender reassignment', 'pregnancy and maternity', 'gender reassignment', 'age', 'sexual orientation', 'race', 'religion or belief', 'religion or belief', 'marriage and civil partnership', 'marriage and civil partnership', 'race', 'marriage and civil partnership', 'pregnancy and maternity', 'marriage and civil partnership', 'disability', 'gender reassignment', 'gender reassignment', 'sexual orientation', 'pregnancy and maternity', 'gender reassignment', 'disability', 'race', 'sexual orientation', 'sexual orientation', 'religion or belief', 'age', 'gender reassignment', 'disability', 'race', 'sex', 'sexual orientation', 'sexual orientation', 'sex', 'sex', 'disability', 'pregnancy and maternity', 'sex', 'disability', 'sexual orientation', 'pregnancy and maternity', 'sex', 'sexual orientation', 'age', 'race', 'marriage and civil partnership', 'marriage and civil partnership', 'sexual orientation', 'marriage and civil partnership', 'sexual orientation', 'age', 'religion or belief', 'disability', 'sexual orientation', 'gender reassignment', 'sex', 'sexual orientation', 'pregnancy and maternity', 'gender reassignment', 'gender reassignment', 'race', 'religion or belief', 'race', 'pregnancy and maternity', 'pregnancy and maternity', 'disability', 'pregnancy and maternity', 'age', 'age', 'religion or belief', 'marriage and civil partnership', 'race', 'sex', 'religion or belief', 'sex', 'religion or belief', 'race', 'sexual orientation', 'pregnancy and maternity', 'race', 'age', 'religion or belief', 'religion or belief', 'race', 'age', 'religion or belief', 'religion or belief', 'religion or belief', 'marriage and civil partnership', 'religion or belief', 'sexual orientation', 'pregnancy and maternity', 'pregnancy and maternity', 'religion or belief', 'age', 'disability', 'age', 'race', 'gender reassignment', 'sex', 'age', 'religion or belief', 'religion or belief', 'sexual orientation', 'sexual orientation', 'sex', 'disability', 'religion or belief', 'marriage and civil partnership', 'marriage and civil partnership', 'gender reassignment', 'gender reassignment', 'gender reassignment', 'race', 'age', 'religion or belief', 'pregnancy and maternity', 'religion or belief', 'age', 'race', 'race', 'age', 'pregnancy and maternity', 'marriage and civil partnership', 'pregnancy and maternity', 'marriage and civil partnership', 'sex', 'gender reassignment', 'religion or belief', 'race', 'gender reassignment', 'sexual orientation', 'race', 'gender reassignment', 'sex', 'gender reassignment', 'sex', 'age', 'sexual orientation', 'marriage and civil partnership', 'race', 'pregnancy and maternity', 'sexual orientation', 'sex', 'gender reassignment', 'race', 'sex', 'sex', 'disability', 'sexual orientation', 'sex', 'disability', 'religion or belief', 'race', 'gender reassignment', 'gender reassignment', 'gender reassignment', 'sexual orientation', 'pregnancy and maternity', 'marriage and civil partnership', 'gender reassignment', 'pregnancy and maternity', 'sex', 'disability', 'age', 'disability', 'sexual orientation', 'disability', 'gender reassignment', 'religion or belief', 'sexual orientation', 'marriage and civil partnership', 'age', 'sexual orientation', 'age', 'sex', 'sexual orientation', 'disability', 'disability', 'religion or belief', 'sexual orientation', 'age', 'pregnancy and maternity', 'sexual orientation', 'sexual orientation', 'race', 'sexual orientation', 'age', 'marriage and civil partnership', 'pregnancy and maternity', 'disability', 'gender reassignment', 'gender reassignment', 'marriage and civil partnership', 'sexual orientation', 'sexual orientation', 'race', 'age', 'gender reassignment', 'race', 'pregnancy and maternity', 'sex', 'age', 'marriage and civil partnership', 'sex', 'race', 'marriage and civil partnership', 'disability', 'sex', 'marriage and civil partnership', 'disability', 'disability', 'marriage and civil partnership', 'age', 'sexual orientation', 'pregnancy and maternity', 'sexual orientation', 'race', 'pregnancy and maternity', 'pregnancy and maternity', 'gender reassignment', 'pregnancy and maternity', 'gender reassignment', 'marriage and civil partnership', 'age', 'religion or belief', 'sex', 'gender reassignment', 'age', 'race', 'marriage and civil partnership', 'race', 'religion or belief', 'sexual orientation', 'race', 'age', 'disability', 'pregnancy and maternity', 'religion or belief', 'religion or belief', 'gender reassignment', 'religion or belief', 'sexual orientation', 'religion or belief', 'race', 'disability', 'race', 'pregnancy and maternity', 'sex', 'pregnancy and maternity', 'pregnancy and maternity', 'pregnancy and maternity', 'race', 'religion or belief', 'age', 'religion or belief', 'disability', 'sex', 'pregnancy and maternity', 'religion or belief', 'disability', 'gender reassignment', 'marriage and civil partnership', 'disability', 'gender reassignment', 'sex', 'sex', 'pregnancy and maternity', 'sexual orientation', 'marriage and civil partnership', 'religion or belief', 'pregnancy and maternity', 'disability', 'marriage and civil partnership', 'pregnancy and maternity', 'pregnancy and maternity', 'pregnancy and maternity', 'sexual orientation', 'gender reassignment', 'marriage and civil partnership', 'religion or belief', 'religion or belief', 'race', 'disability', 'disability', 'age', 'age', 'age', 'pregnancy and maternity', 'sex', 'gender reassignment', 'gender reassignment', 'sex', 'age', 'gender reassignment', 'sex', 'sexual orientation', 'pregnancy and maternity', 'race', 'disability', 'sex', 'sex', 'pregnancy and maternity', 'race', 'marriage and civil partnership', 'race', 'sexual orientation', 'race', 'race', 'religion or belief', 'disability', 'age', 'gender reassignment', 'marriage and civil partnership', 'religion or belief', 'disability', 'sexual orientation', 'race', 'religion or belief', 'marriage and civil partnership', 'disability', 'pregnancy and maternity', 'age', 'disability', 'gender reassignment', 'sexual orientation', 'religion or belief', 'age', 'race', 'pregnancy and maternity', 'gender reassignment', 'religion or belief', 'disability', 'sexual orientation', 'gender reassignment', 'disability', 'disability', 'sex', 'race', 'gender reassignment', 'sex', 'disability', 'pregnancy and maternity', 'marriage and civil partnership', 'religion or belief', 'gender reassignment', 'disability', 'sexual orientation', 'gender reassignment', 'disability', 'religion or belief', 'gender reassignment', 'disability', 'marriage and civil partnership', 'marriage and civil partnership', 'age', 'sexual orientation', 'disability', 'sex', 'disability', 'race', 'race', 'pregnancy and maternity', 'sexual orientation', 'marriage and civil partnership', 'disability', 'pregnancy and maternity', 'gender reassignment', 'sexual orientation', 'sex', 'marriage and civil partnership', 'age', 'sexual orientation', 'pregnancy and maternity', 'age', 'sex', 'pregnancy and maternity', 'age', 'religion or belief', 'age', 'gender reassignment', 'sexual orientation', 'disability', 'race', 'age', 'gender reassignment', 'age', 'sexual orientation', 'age', 'gender reassignment', 'marriage and civil partnership', 'gender reassignment', 'marriage and civil partnership', 'marriage and civil partnership', 'race', 'sexual orientation', 'religion or belief', 'religion or belief', 'sexual orientation', 'disability', 'marriage and civil partnership', 'sex', 'age', 'disability', 'sexual orientation', 'marriage and civil partnership', 'pregnancy and maternity', 'religion or belief', 'disability', 'sexual orientation', 'gender reassignment', 'sex', 'age', 'race', 'religion or belief', 'gender reassignment', 'sex', 'marriage and civil partnership', 'marriage and civil partnership', 'marriage and civil partnership', 'disability', 'marriage and civil partnership', 'religion or belief', 'age', 'disability', 'gender reassignment', 'pregnancy and maternity', 'religion or belief', 'disability', 'religion or belief', 'sex', 'sex', 'religion or belief', 'marriage and civil partnership', 'pregnancy and maternity', 'gender reassignment', 'age', 'marriage and civil partnership', 'gender reassignment', 'gender reassignment', 'religion or belief', 'gender reassignment', 'gender reassignment', 'gender reassignment', 'age', 'pregnancy and maternity', 'religion or belief', 'disability', 'religion or belief', 'gender reassignment', 'religion or belief', 'pregnancy and maternity', 'marriage and civil partnership', 'marriage and civil partnership', 'marriage and civil partnership', 'sex', 'pregnancy and maternity', 'marriage and civil partnership', 'sex', 'sexual orientation', 'sex', 'religion or belief', 'marriage and civil partnership', 'religion or belief', 'race', 'sexual orientation', 'religion or belief', 'pregnancy and maternity', 'age', 'marriage and civil partnership', 'marriage and civil partnership', 'pregnancy and maternity', 'race', 'sexual orientation', 'age', 'pregnancy and maternity', 'gender reassignment', 'age', 'disability', 'gender reassignment', 'religion or belief', 'religion or belief', 'gender reassignment', 'sexual orientation', 'religion or belief', 'race', 'pregnancy and maternity', 'disability', 'religion or belief', 'sex', 'age', 'pregnancy and maternity', 'religion or belief', 'race', 'disability', 'gender reassignment', 'race', 'race', 'gender reassignment', 'age', 'gender reassignment', 'gender reassignment', 'race', 'sex', 'pregnancy and maternity', 'race', 'marriage and civil partnership', 'disability', 'religion or belief', 'disability', 'marriage and civil partnership', 'gender reassignment', 'race', 'religion or belief', 'sexual orientation', 'sex', 'race', 'disability', 'religion or belief', 'disability', 'race', 'race', 'sexual orientation', 'age', 'disability', 'age', 'gender reassignment', 'religion or belief', 'religion or belief', 'sexual orientation', 'race', 'pregnancy and maternity', 'disability', 'marriage and civil partnership', 'race', 'sex', 'race', 'sex', 'gender reassignment', 'religion or belief', 'disability', 'disability', 'disability', 'pregnancy and maternity', 'age', 'disability', 'race', 'disability', 'disability', 'sex', 'gender reassignment', 'pregnancy and maternity', 'religion or belief', 'sexual orientation', 'disability', 'disability', 'sexual orientation', 'sexual orientation', 'race', 'age', 'pregnancy and maternity', 'religion or belief', 'sex', 'age', 'pregnancy and maternity', 'marriage and civil partnership', 'pregnancy and maternity', 'marriage and civil partnership', 'sexual orientation', 'sexual orientation', 'religion or belief', 'sex', 'religion or belief', 'marriage and civil partnership', 'sex', 'age', 'disability', 'pregnancy and maternity', 'age', 'age', 'marriage and civil partnership', 'marriage and civil partnership', 'sex', 'religion or belief', 'race', 'disability', 'disability', 'disability', 'sexual orientation', 'pregnancy and maternity', 'disability', 'marriage and civil partnership', 'age', 'sexual orientation', 'race', 'marriage and civil partnership', 'race', 'marriage and civil partnership', 'pregnancy and maternity', 'religion or belief', 'marriage and civil partnership', 'sex', 'marriage and civil partnership', 'religion or belief', 'race', 'sexual orientation', 'race', 'religion or belief', 'religion or belief', 'disability', 'religion or belief', 'sexual orientation', 'gender reassignment', 'marriage and civil partnership', 'disability', 'gender reassignment', 'marriage and civil partnership', 'gender reassignment', 'race', 'religion or belief', 'sexual orientation', 'disability', 'marriage and civil partnership', 'religion or belief', 'sexual orientation', 'marriage and civil partnership', 'disability', 'marriage and civil partnership', 'marriage and civil partnership', 'sexual orientation', 'disability', 'marriage and civil partnership', 'marriage and civil partnership', 'gender reassignment', 'marriage and civil partnership', 'pregnancy and maternity', 'marriage and civil partnership', 'age', 'sex', 'religion or belief', 'age', 'sex', 'age', 'disability', 'race', 'age', 'gender reassignment', 'religion or belief', 'pregnancy and maternity', 'disability', 'age', 'marriage and civil partnership', 'disability', 'sexual orientation', 'marriage and civil partnership', 'pregnancy and maternity', 'disability', 'sex', 'gender reassignment', 'race', 'pregnancy and maternity', 'age', 'marriage and civil partnership', 'sex', 'disability', 'disability', 'gender reassignment', 'pregnancy and maternity', 'gender reassignment', 'age', 'sex', 'gender reassignment', 'religion or belief', 'sex', 'pregnancy and maternity', 'sex', 'gender reassignment', 'sexual orientation', 'race', 'age', 'disability', 'sex', 'sexual orientation', 'race', 'pregnancy and maternity', 'age', 'religion or belief', 'pregnancy and maternity', 'disability', 'race', 'marriage and civil partnership', 'marriage and civil partnership', 'race', 'sexual orientation', 'race', 'disability', 'religion or belief', 'age', 'gender reassignment', 'pregnancy and maternity', 'gender reassignment', 'marriage and civil partnership', 'race', 'gender reassignment', 'disability', 'sex', 'religion or belief', 'sexual orientation', 'gender reassignment', 'gender reassignment', 'marriage and civil partnership', 'religion or belief', 'sex', 'race', 'age', 'gender reassignment', 'race', 'sex', 'age', 'race', 'disability', 'sexual orientation', 'marriage and civil partnership', 'religion or belief', 'race', 'age', 'religion or belief', 'age', 'age', 'marriage and civil partnership', 'marriage and civil partnership', 'sex', 'marriage and civil partnership', 'sex', 'disability', 'disability', 'race', 'race', 'disability', 'age', 'disability', 'marriage and civil partnership', 'marriage and civil partnership', 'religion or belief', 'sex', 'religion or belief', 'pregnancy and maternity', 'gender reassignment', 'age', 'sex', 'sexual orientation', 'gender reassignment', 'age', 'sexual orientation', 'gender reassignment', 'sexual orientation', 'sex', 'sexual orientation', 'marriage and civil partnership', 'gender reassignment', 'marriage and civil partnership', 'disability', 'sex', 'disability', 'age', 'age', 'gender reassignment', 'pregnancy and maternity', 'gender reassignment', 'pregnancy and maternity', 'pregnancy and maternity', 'sex', 'race', 'disability', 'sexual orientation', 'gender reassignment', 'age', 'disability', 'pregnancy and maternity', 'marriage and civil partnership', 'pregnancy and maternity', 'pregnancy and maternity', 'pregnancy and maternity', 'age', 'pregnancy and maternity', 'sex', 'pregnancy and maternity', 'sexual orientation', 'disability', 'marriage and civil partnership', 'disability', 'pregnancy and maternity', 'sex', 'gender reassignment', 'gender reassignment', 'sexual orientation', 'age', 'age', 'race', 'disability', 'sex', 'sexual orientation', 'pregnancy and maternity', 'race', 'sexual orientation', 'pregnancy and maternity', 'race', 'disability', 'pregnancy and maternity', 'gender reassignment', 'age', 'sex', 'sex', 'disability', 'sexual orientation', 'disability', 'age', 'sexual orientation', 'age', 'gender reassignment', 'disability', 'sex', 'age', 'marriage and civil partnership', 'gender reassignment', 'age', 'marriage and civil partnership', 'disability', 'marriage and civil partnership', 'disability', 'race', 'religion or belief', 'age', 'sex', 'sexual orientation', 'gender reassignment', 'sex', 'disability', 'disability', 'race', 'sex', 'religion or belief', 'disability', 'sex', 'disability', 'religion or belief', 'disability', 'pregnancy and maternity', 'marriage and civil partnership', 'gender reassignment', 'pregnancy and maternity', 'pregnancy and maternity', 'disability', 'religion or belief', 'sex', 'age', 'sex', 'pregnancy and maternity', 'pregnancy and maternity', 'sex', 'religion or belief', 'race', 'race', 'religion or belief', 'age', 'religion or belief', 'pregnancy and maternity', 'marriage and civil partnership', 'religion or belief', 'pregnancy and maternity', 'sex', 'sexual orientation', 'disability', 'gender reassignment', 'religion or belief', 'marriage and civil partnership', 'race', 'sexual orientation', 'gender reassignment', 'disability', 'pregnancy and maternity', 'gender reassignment', 'age', 'pregnancy and maternity', 'gender reassignment', 'sexual orientation', 'sex', 'marriage and civil partnership', 'gender reassignment', 'sex', 'age', 'marriage and civil partnership', 'sex', 'gender reassignment', 'age', 'marriage and civil partnership', 'age', 'gender reassignment', 'race', 'sexual orientation', 'religion or belief', 'marriage and civil partnership', 'religion or belief', 'religion or belief', 'religion or belief', 'religion or belief', 'race', 'marriage and civil partnership', 'disability', 'religion or belief', 'sexual orientation', 'pregnancy and maternity', 'age', 'sex', 'sexual orientation', 'gender reassignment', 'religion or belief', 'sexual orientation', 'sex', 'religion or belief', 'age', 'age', 'pregnancy and maternity', 'marriage and civil partnership', 'marriage and civil partnership', 'gender reassignment', 'sexual orientation', 'sexual orientation', 'sexual orientation', 'disability', 'race', 'sex', 'disability', 'race', 'disability', 'gender reassignment', 'disability', 'religion or belief', 'marriage and civil partnership', 'disability', 'religion or belief', 'religion or belief', 'race', 'religion or belief', 'pregnancy and maternity', 'religion or belief', 'disability', 'sexual orientation', 'race', 'age', 'religion or belief', 'age', 'marriage and civil partnership', 'sexual orientation', 'religion or belief', 'gender reassignment', 'race', 'sexual orientation', 'sexual orientation', 'sex', 'race', 'pregnancy and maternity', 'marriage and civil partnership', 'race', 'sexual orientation', 'religion or belief', 'race', 'disability', 'religion or belief', 'marriage and civil partnership', 'gender reassignment', 'pregnancy and maternity', 'sexual orientation', 'race', 'pregnancy and maternity', 'pregnancy and maternity', 'disability', 'pregnancy and maternity', 'disability', 'sex', 'gender reassignment', 'marriage and civil partnership', 'gender reassignment', 'marriage and civil partnership', 'religion or belief', 'race', 'pregnancy and maternity', 'age', 'sexual orientation', 'sexual orientation', 'gender reassignment', 'pregnancy and maternity', 'gender reassignment', 'sex', 'sexual orientation', 'pregnancy and maternity', 'sexual orientation', 'sexual orientation', 'religion or belief', 'marriage and civil partnership', 'religion or belief', 'sexual orientation', 'religion or belief', 'pregnancy and maternity', 'pregnancy and maternity', 'gender reassignment', 'marriage and civil partnership', 'sexual orientation', 'age', 'race', 'race', 'gender reassignment', 'disability', 'marriage and civil partnership', 'gender reassignment', 'religion or belief', 'sexual orientation', 'age', 'disability', 'religion or belief', 'pregnancy and maternity', 'marriage and civil partnership', 'disability', 'marriage and civil partnership', 'disability', 'age', 'religion or belief', 'gender reassignment', 'religion or belief', 'marriage and civil partnership', 'sexual orientation', 'pregnancy and maternity', 'gender reassignment', 'religion or belief', 'gender reassignment', 'pregnancy and maternity', 'marriage and civil partnership', 'pregnancy and maternity', 'sexual orientation', 'pregnancy and maternity', 'disability', 'sexual orientation', 'age', 'gender reassignment', 'gender reassignment', 'religion or belief', 'pregnancy and maternity', 'marriage and civil partnership', 'sexual orientation', 'disability', 'sexual orientation', 'gender reassignment', 'race', 'age', 'marriage and civil partnership', 'gender reassignment', 'gender reassignment', 'sex', 'sex', 'sex', 'pregnancy and maternity', 'sex', 'disability', 'marriage and civil partnership', 'marriage and civil partnership', 'gender reassignment', 'age', 'sexual orientation', 'religion or belief', 'age', 'race', 'disability', 'race', 'age', 'religion or belief', 'sex', 'disability', 'marriage and civil partnership', 'sex', 'race', 'disability', 'sex', 'marriage and civil partnership', 'sex', 'disability', 'religion or belief', 'sexual orientation', 'religion or belief', 'race', 'race', 'sex', 'disability', 'sexual orientation', 'pregnancy and maternity', 'age', 'race', 'pregnancy and maternity', 'sex', 'sex', 'age', 'disability', 'sex', 'disability', 'disability', 'age', 'gender reassignment', 'sex', 'gender reassignment', 'disability', 'pregnancy and maternity', 'marriage and civil partnership', 'religion or belief', 'sex', 'age', 'pregnancy and maternity', 'gender reassignment', 'religion or belief', 'religion or belief', 'religion or belief', 'sexual orientation', 'sexual orientation', 'age', 'race', 'marriage and civil partnership', 'race', 'gender reassignment', 'age', 'sexual orientation', 'sexual orientation', 'sex', 'age', 'race', 'sex', 'sexual orientation', 'race', 'marriage and civil partnership', 'sex', 'gender reassignment', 'marriage and civil partnership', 'sexual orientation', 'pregnancy and maternity', 'age', 'age', 'religion or belief', 'gender reassignment', 'pregnancy and maternity', 'gender reassignment', 'pregnancy and maternity', 'disability', 'religion or belief', 'sex', 'race', 'disability', 'marriage and civil partnership', 'religion or belief', 'race', 'sexual orientation', 'disability', 'sex', 'religion or belief', 'marriage and civil partnership', 'age', 'religion or belief', 'disability', 'sex', 'race', 'sex', 'sex', 'disability', 'disability', 'religion or belief', 'marriage and civil partnership', 'disability', 'sexual orientation', 'age', 'race', 'age', 'sex', 'sexual orientation', 'religion or belief', 'gender reassignment', 'marriage and civil partnership', 'marriage and civil partnership', 'marriage and civil partnership', 'age', 'sex', 'disability', 'race', 'disability', 'sexual orientation', 'marriage and civil partnership', 'age', 'pregnancy and maternity', 'religion or belief', 'age', 'religion or belief', 'race', 'sexual orientation', 'race', 'marriage and civil partnership', 'gender reassignment', 'religion or belief', 'gender reassignment', 'gender reassignment', 'race', 'marriage and civil partnership', 'sex', 'race', 'pregnancy and maternity', 'age', 'religion or belief', 'pregnancy and maternity', 'age', 'sex', 'sexual orientation', 'religion or belief', 'sex', 'sexual orientation', 'sexual orientation', 'pregnancy and maternity', 'sex', 'religion or belief', 'age', 'race', 'gender reassignment', 'sexual orientation', 'marriage and civil partnership', 'marriage and civil partnership', 'marriage and civil partnership', 'religion or belief', 'gender reassignment', 'sexual orientation', 'sexual orientation', 'race', 'disability', 'sex', 'disability', 'pregnancy and maternity', 'age', 'marriage and civil partnership', 'sex', 'sex', 'gender reassignment', 'disability', 'pregnancy and maternity', 'sex', 'religion or belief', 'religion or belief', 'gender reassignment', 'race', 'religion or belief', 'age', 'sexual orientation', 'gender reassignment', 'disability', 'age', 'marriage and civil partnership', 'marriage and civil partnership', 'disability', 'pregnancy and maternity', 'race', 'race', 'sex', 'sexual orientation', 'sexual orientation', 'sex', 'disability', 'disability', 'gender reassignment', 'religion or belief', 'sexual orientation', 'pregnancy and maternity', 'disability', 'gender reassignment', 'sex', 'religion or belief', 'sex', 'sexual orientation', 'disability', 'age', 'gender reassignment', 'pregnancy and maternity', 'religion or belief', 'religion or belief', 'disability', 'religion or belief', 'sex', 'sex', 'religion or belief', 'sexual orientation', 'race', 'sex', 'race', 'age', 'religion or belief', 'religion or belief', 'gender reassignment', 'race', 'race', 'disability', 'gender reassignment', 'marriage and civil partnership', 'religion or belief', 'age', 'disability', 'age', 'gender reassignment', 'sex', 'disability', 'religion or belief', 'sex', 'disability', 'pregnancy and maternity', 'race', 'gender reassignment', 'pregnancy and maternity', 'race', 'gender reassignment', 'age', 'sex', 'race', 'race', 'marriage and civil partnership', 'age', 'sex', 'pregnancy and maternity', 'pregnancy and maternity', 'race', 'marriage and civil partnership', 'marriage and civil partnership', 'marriage and civil partnership', 'marriage and civil partnership', 'age', 'disability', 'gender reassignment', 'sex', 'disability', 'sexual orientation', 'sex', 'gender reassignment', 'disability', 'disability', 'race', 'religion or belief', 'sexual orientation', 'marriage and civil partnership', 'sex', 'sexual orientation', 'sex', 'sex', 'religion or belief', 'sexual orientation', 'disability', 'marriage and civil partnership', 'sex', 'sex', 'disability', 'sex', 'sex', 'race', 'sexual orientation', 'race', 'disability', 'marriage and civil partnership', 'marriage and civil partnership', 'pregnancy and maternity', 'age', 'age', 'sexual orientation', 'marriage and civil partnership', 'sex', 'marriage and civil partnership', 'race', 'disability', 'gender reassignment', 'disability', 'pregnancy and maternity', 'disability', 'sexual orientation', 'age', 'marriage and civil partnership', 'sex', 'gender reassignment', 'sexual orientation', 'age', 'gender reassignment', 'disability', 'age', 'gender reassignment', 'age', 'sexual orientation', 'marriage and civil partnership', 'marriage and civil partnership', 'race', 'sexual orientation', 'pregnancy and maternity', 'sex', 'pregnancy and maternity', 'disability', 'disability', 'gender reassignment', 'age', 'pregnancy and maternity', 'age', 'disability', 'sex', 'sex', 'race', 'race', 'disability', 'race', 'marriage and civil partnership', 'race', 'age', 'age', 'pregnancy and maternity', 'pregnancy and maternity', 'marriage and civil partnership', 'race', 'sex', 'race', 'sex', 'pregnancy and maternity', 'religion or belief', 'age', 'pregnancy and maternity', 'sex', 'age', 'marriage and civil partnership', 'pregnancy and maternity', 'race', 'pregnancy and maternity', 'sex', 'age', 'religion or belief', 'pregnancy and maternity', 'race', 'pregnancy and maternity', 'sexual orientation', 'marriage and civil partnership', 'race', 'gender reassignment', 'marriage and civil partnership', 'age', 'sexual orientation', 'sex', 'race', 'disability', 'sex', 'gender reassignment', 'sex', 'pregnancy and maternity', 'sexual orientation', 'disability', 'pregnancy and maternity', 'pregnancy and maternity', 'disability', 'marriage and civil partnership', 'race', 'sex', 'race', 'disability', 'disability', 'pregnancy and maternity', 'age', 'disability', 'gender reassignment', 'marriage and civil partnership', 'sex', 'disability', 'age', 'disability', 'religion or belief', 'pregnancy and maternity', 'sexual orientation', 'sex', 'marriage and civil partnership', 'race', 'religion or belief', 'marriage and civil partnership', 'gender reassignment', 'age', 'pregnancy and maternity', 'pregnancy and maternity', 'sex', 'gender reassignment', 'sex', 'religion or belief', 'race', 'marriage and civil partnership', 'disability', 'marriage and civil partnership', 'sexual orientation', 'gender reassignment', 'marriage and civil partnership', 'marriage and civil partnership', 'sexual orientation', 'age', 'religion or belief', 'sex', 'gender reassignment', 'age', 'sex', 'sex', 'sexual orientation', 'sexual orientation', 'disability', 'religion or belief', 'age', 'disability', 'marriage and civil partnership', 'sex', 'marriage and civil partnership', 'gender reassignment', 'marriage and civil partnership', 'disability', 'race', 'sex', 'sexual orientation', 'sexual orientation', 'pregnancy and maternity', 'marriage and civil partnership', 'gender reassignment', 'gender reassignment', 'sexual orientation', 'pregnancy and maternity', 'age', 'sexual orientation', 'age', 'disability', 'religion or belief', 'age', 'marriage and civil partnership', 'marriage and civil partnership', 'sexual orientation', 'disability', 'sex', 'gender reassignment', 'disability', 'religion or belief', 'marriage and civil partnership', 'pregnancy and maternity', 'race', 'gender reassignment', 'pregnancy and maternity', 'sexual orientation', 'age', 'sex', 'race', 'sex', 'disability', 'disability', 'disability', 'religion or belief', 'marriage and civil partnership', 'sex', 'marriage and civil partnership', 'gender reassignment', 'marriage and civil partnership', 'race', 'religion or belief', 'religion or belief', 'race', 'sex', 'disability', 'disability', 'race', 'age', 'disability', 'marriage and civil partnership', 'sex', 'marriage and civil partnership', 'disability', 'sexual orientation', 'sexual orientation', 'sex', 'race', 'race', 'gender reassignment', 'religion or belief', 'disability', 'disability', 'sex', 'sex', 'sex', 'gender reassignment', 'disability', 'religion or belief', 'sex', 'sex', 'sex', 'marriage and civil partnership', 'disability', 'gender reassignment', 'pregnancy and maternity', 'race', 'gender reassignment', 'age', 'pregnancy and maternity', 'sexual orientation', 'race', 'religion or belief', 'sexual orientation', 'gender reassignment', 'sexual orientation', 'race', 'sex', 'sex', 'pregnancy and maternity', 'age', 'religion or belief', 'race', 'pregnancy and maternity', 'gender reassignment', 'race', 'race', 'pregnancy and maternity', 'sexual orientation', 'race', 'sex', 'race', 'race', 'sexual orientation', 'sex', 'race', 'gender reassignment', 'sexual orientation', 'disability', 'religion or belief', 'sexual orientation', 'marriage and civil partnership', 'race', 'marriage and civil partnership', 'marriage and civil partnership', 'gender reassignment', 'age', 'age', 'sex', 'gender reassignment', 'age', 'pregnancy and maternity', 'sex', 'sex', 'pregnancy and maternity', 'sexual orientation', 'race', 'disability', 'sexual orientation', 'age', 'marriage and civil partnership', 'race', 'disability', 'religion or belief', 'gender reassignment', 'gender reassignment', 'sex', 'age', 'age', 'marriage and civil partnership', 'race', 'age', 'sexual orientation', 'marriage and civil partnership', 'sexual orientation', 'marriage and civil partnership', 'gender reassignment', 'sex', 'sexual orientation', 'race', 'gender reassignment', 'marriage and civil partnership', 'disability', 'pregnancy and maternity', 'marriage and civil partnership', 'gender reassignment', 'religion or belief', 'disability', 'sex', 'age', 'marriage and civil partnership', 'sex', 'race', 'age', 'pregnancy and maternity', 'religion or belief', 'marriage and civil partnership', 'religion or belief', 'marriage and civil partnership', 'race', 'age', 'sexual orientation', 'gender reassignment', 'religion or belief', 'sex', 'marriage and civil partnership', 'gender reassignment', 'disability', 'gender reassignment', 'sexual orientation', 'gender reassignment', 'religion or belief', 'age', 'race', 'pregnancy and maternity', 'pregnancy and maternity', 'gender reassignment', 'pregnancy and maternity', 'sex', 'age', 'sexual orientation', 'marriage and civil partnership', 'disability', 'sex', 'gender reassignment', 'marriage and civil partnership', 'sexual orientation', 'sex', 'religion or belief', 'age', 'race', 'disability', 'race', 'sex', 'sex', 'age', 'marriage and civil partnership', 'pregnancy and maternity', 'religion or belief', 'age', 'age', 'marriage and civil partnership', 'disability', 'race', 'sex', 'gender reassignment', 'disability', 'race', 'disability', 'age', 'disability', 'religion or belief', 'sex', 'race', 'marriage and civil partnership', 'marriage and civil partnership', 'sex', 'marriage and civil partnership', 'sexual orientation', 'disability', 'sexual orientation', 'gender reassignment', 'disability', 'age', 'disability', 'marriage and civil partnership', 'sexual orientation', 'disability', 'pregnancy and maternity', 'religion or belief', 'gender reassignment', 'pregnancy and maternity', 'disability', 'disability', 'marriage and civil partnership', 'pregnancy and maternity', 'marriage and civil partnership', 'gender reassignment', 'pregnancy and maternity', 'gender reassignment', 'sex', 'disability', 'race', 'age', 'marriage and civil partnership', 'race', 'disability', 'disability', 'disability', 'sex', 'disability', 'sex', 'disability', 'sexual orientation', 'gender reassignment', 'sexual orientation', 'sexual orientation', 'marriage and civil partnership', 'pregnancy and maternity', 'gender reassignment', 'pregnancy and maternity', 'disability', 'gender reassignment', 'gender reassignment', 'sexual orientation', 'marriage and civil partnership', 'marriage and civil partnership', 'gender reassignment', 'sex', 'pregnancy and maternity', 'gender reassignment', 'age', 'pregnancy and maternity', 'race', 'gender reassignment', 'gender reassignment', 'sex', 'sexual orientation', 'religion or belief', 'age', 'gender reassignment', 'religion or belief', 'religion or belief', 'sex', 'religion or belief', 'disability', 'pregnancy and maternity', 'race', 'race', 'sexual orientation', 'age', 'sex', 'race', 'disability', 'gender reassignment', 'religion or belief', 'sexual orientation', 'marriage and civil partnership', 'race', 'marriage and civil partnership', 'sexual orientation', 'sexual orientation', 'sex', 'gender reassignment', 'age', 'pregnancy and maternity', 'age', 'sex', 'race', 'sex', 'marriage and civil partnership', 'pregnancy and maternity', 'religion or belief', 'gender reassignment', 'sexual orientation', 'race', 'disability', 'race', 'sexual orientation', 'gender reassignment', 'sex', 'gender reassignment', 'age', 'marriage and civil partnership', 'gender reassignment', 'marriage and civil partnership', 'gender reassignment', 'sex', 'race', 'age', 'disability', 'religion or belief', 'gender reassignment', 'gender reassignment', 'pregnancy and maternity', 'gender reassignment', 'sex', 'gender reassignment', 'race', 'pregnancy and maternity', 'age', 'religion or belief', 'sexual orientation', 'marriage and civil partnership', 'disability', 'pregnancy and maternity', 'disability', 'gender reassignment', 'disability', 'age', 'marriage and civil partnership', 'disability', 'disability', 'age', 'age', 'sex', 'sex', 'sex', 'race', 'gender reassignment', 'race', 'marriage and civil partnership', 'age', 'gender reassignment', 'pregnancy and maternity', 'religion or belief', 'gender reassignment', 'gender reassignment', 'sex', 'age', 'marriage and civil partnership', 'race', 'sex', 'pregnancy and maternity', 'sex', 'disability', 'gender reassignment', 'sexual orientation', 'gender reassignment', 'sexual orientation', 'age', 'disability', 'race', 'sexual orientation', 'sexual orientation', 'religion or belief', 'marriage and civil partnership', 'gender reassignment', 'marriage and civil partnership', 'race', 'race', 'disability', 'sexual orientation', 'disability', 'sex', 'age', 'sexual orientation', 'marriage and civil partnership', 'religion or belief', 'disability', 'marriage and civil partnership', 'sex', 'sexual orientation', 'age', 'marriage and civil partnership', 'age', 'gender reassignment', 'sexual orientation', 'gender reassignment', 'gender reassignment', 'race', 'gender reassignment', 'age', 'disability', 'sex', 'marriage and civil partnership', 'sexual orientation', 'disability', 'sex', 'age', 'sex', 'pregnancy and maternity', 'religion or belief', 'age', 'disability', 'race', 'race', 'race', 'pregnancy and maternity', 'sex', 'race', 'race', 'gender reassignment', 'gender reassignment', 'gender reassignment', 'race', 'gender reassignment', 'age', 'sexual orientation', 'pregnancy and maternity', 'sex', 'disability', 'race', 'pregnancy and maternity', 'pregnancy and maternity', 'sexual orientation', 'sex', 'marriage and civil partnership', 'sex', 'disability', 'pregnancy and maternity', 'race', 'pregnancy and maternity', 'gender reassignment', 'race', 'race', 'pregnancy and maternity', 'disability', 'religion or belief', 'marriage and civil partnership', 'gender reassignment', 'marriage and civil partnership', 'age', 'disability', 'pregnancy and maternity', 'gender reassignment', 'religion or belief', 'religion or belief', 'disability', 'pregnancy and maternity', 'marriage and civil partnership', 'gender reassignment', 'race', 'disability', 'gender reassignment', 'marriage and civil partnership', 'marriage and civil partnership', 'marriage and civil partnership', 'gender reassignment', 'pregnancy and maternity', 'sexual orientation', 'gender reassignment', 'gender reassignment', 'sex', 'marriage and civil partnership', 'marriage and civil partnership', 'sexual orientation', 'disability', 'religion or belief', 'race', 'gender reassignment', 'religion or belief', 'marriage and civil partnership', 'religion or belief', 'sexual orientation', 'sexual orientation', 'age', 'age', 'religion or belief', 'sexual orientation', 'religion or belief', 'race', 'pregnancy and maternity', 'religion or belief', 'pregnancy and maternity', 'disability', 'gender reassignment', 'pregnancy and maternity', 'age', 'pregnancy and maternity', 'age', 'religion or belief', 'sexual orientation', 'marriage and civil partnership', 'gender reassignment', 'marriage and civil partnership', 'race', 'marriage and civil partnership', 'race', 'age', 'gender reassignment', 'sex', 'sex', 'marriage and civil partnership', 'disability', 'gender reassignment', 'sex', 'disability', 'age', 'gender reassignment', 'sexual orientation', 'sexual orientation', 'sexual orientation', 'sexual orientation', 'sexual orientation', 'pregnancy and maternity', 'age', 'religion or belief', 'religion or belief', 'pregnancy and maternity', 'gender reassignment', 'age', 'marriage and civil partnership', 'race', 'sex', 'religion or belief', 'disability', 'marriage and civil partnership', 'religion or belief', 'pregnancy and maternity', 'sexual orientation', 'pregnancy and maternity', 'gender reassignment', 'gender reassignment', 'sexual orientation', 'pregnancy and maternity', 'race', 'disability', 'sex', 'religion or belief', 'race', 'sexual orientation', 'sex', 'gender reassignment', 'pregnancy and maternity', 'sex', 'age', 'gender reassignment', 'age', 'pregnancy and maternity', 'sex', 'religion or belief', 'religion or belief', 'religion or belief', 'gender reassignment', 'sexual orientation', 'pregnancy and maternity', 'religion or belief', 'race', 'pregnancy and maternity', 'gender reassignment', 'pregnancy and maternity', 'sex', 'age', 'age', 'race', 'race', 'disability', 'sexual orientation', 'pregnancy and maternity', 'religion or belief', 'sex', 'race', 'pregnancy and maternity', 'age', 'sex', 'sex', 'marriage and civil partnership', 'religion or belief', 'pregnancy and maternity', 'marriage and civil partnership', 'pregnancy and maternity', 'pregnancy and maternity', 'pregnancy and maternity', 'disability', 'sexual orientation', 'religion or belief', 'marriage and civil partnership', 'marriage and civil partnership', 'disability', 'religion or belief', 'gender reassignment', 'sexual orientation', 'religion or belief', 'religion or belief', 'sexual orientation', 'age', 'sex', 'age', 'religion or belief', 'religion or belief', 'sex', 'marriage and civil partnership', 'age', 'sexual orientation', 'disability', 'pregnancy and maternity', 'disability', 'pregnancy and maternity', 'race', 'sexual orientation', 'marriage and civil partnership', 'gender reassignment', 'pregnancy and maternity', 'age', 'gender reassignment', 'sexual orientation', 'sex', 'religion or belief', 'pregnancy and maternity', 'gender reassignment', 'pregnancy and maternity', 'disability', 'race', 'sex', 'race', 'sexual orientation', 'sex', 'sex', 'sex', 'pregnancy and maternity', 'disability', 'age', 'gender reassignment', 'sexual orientation', 'race', 'pregnancy and maternity', 'sexual orientation', 'sex', 'marriage and civil partnership', 'marriage and civil partnership', 'sexual orientation', 'sex', 'gender reassignment', 'gender reassignment', 'race', 'pregnancy and maternity', 'age', 'religion or belief', 'gender reassignment', 'pregnancy and maternity', 'sex', 'gender reassignment', 'sex', 'marriage and civil partnership', 'sexual orientation', 'disability', 'age', 'marriage and civil partnership', 'disability', 'sexual orientation', 'gender reassignment', 'marriage and civil partnership', 'sex', 'race', 'disability', 'age', 'sexual orientation', 'marriage and civil partnership', 'disability', 'gender reassignment', 'sexual orientation', 'pregnancy and maternity', 'sex', 'disability', 'sex', 'gender reassignment', 'marriage and civil partnership', 'religion or belief', 'gender reassignment', 'marriage and civil partnership', 'age', 'religion or belief', 'age', 'sex', 'religion or belief', 'pregnancy and maternity', 'gender reassignment', 'pregnancy and maternity', 'race', 'race', 'disability', 'sex', 'race', 'age', 'pregnancy and maternity', 'age', 'race', 'religion or belief', 'sexual orientation', 'race', 'sex', 'disability', 'gender reassignment', 'pregnancy and maternity', 'marriage and civil partnership', 'disability', 'sexual orientation', 'sexual orientation', 'marriage and civil partnership', 'religion or belief', 'age', 'gender reassignment', 'pregnancy and maternity', 'pregnancy and maternity', 'sexual orientation', 'pregnancy and maternity', 'pregnancy and maternity', 'race', 'age', 'gender reassignment', 'sexual orientation', 'sexual orientation', 'marriage and civil partnership', 'gender reassignment', 'gender reassignment', 'race', 'race', 'religion or belief', 'pregnancy and maternity', 'age', 'pregnancy and maternity', 'sex', 'disability', 'race', 'disability', 'pregnancy and maternity', 'pregnancy and maternity', 'religion or belief', 'disability', 'age', 'age', 'gender reassignment', 'gender reassignment', 'gender reassignment', 'religion or belief', 'sex', 'sexual orientation', 'marriage and civil partnership', 'religion or belief', 'race', 'disability', 'disability', 'sexual orientation', 'age', 'sex', 'age', 'sexual orientation', 'race', 'pregnancy and maternity', 'marriage and civil partnership', 'sexual orientation', 'sex', 'pregnancy and maternity', 'race', 'gender reassignment', 'sexual orientation', 'religion or belief', 'pregnancy and maternity', 'race', 'religion or belief', 'sex', 'sexual orientation', 'pregnancy and maternity', 'age', 'marriage and civil partnership', 'religion or belief', 'pregnancy and maternity', 'sex', 'marriage and civil partnership', 'pregnancy and maternity', 'pregnancy and maternity', 'marriage and civil partnership', 'sex', 'age', 'sexual orientation', 'religion or belief', 'gender reassignment', 'race', 'religion or belief', 'disability', 'religion or belief', 'race', 'gender reassignment', 'sexual orientation', 'gender reassignment', 'race', 'marriage and civil partnership', 'pregnancy and maternity', 'marriage and civil partnership', 'race', 'pregnancy and maternity', 'race', 'age', 'disability', 'gender reassignment', 'pregnancy and maternity', 'disability', 'religion or belief', 'sex', 'gender reassignment', 'marriage and civil partnership', 'age', 'age', 'disability', 'religion or belief', 'sexual orientation', 'sex', 'marriage and civil partnership', 'race', 'sexual orientation', 'pregnancy and maternity', 'marriage and civil partnership', 'religion or belief', 'sexual orientation', 'race', 'sexual orientation', 'marriage and civil partnership', 'pregnancy and maternity', 'race', 'age', 'sexual orientation', 'marriage and civil partnership', 'age', 'religion or belief', 'race', 'age', 'pregnancy and maternity', 'race', 'race', 'marriage and civil partnership', 'disability', 'marriage and civil partnership', 'religion or belief', 'pregnancy and maternity', 'marriage and civil partnership', 'race', 'pregnancy and maternity', 'religion or belief', 'religion or belief', 'marriage and civil partnership', 'disability', 'gender reassignment', 'pregnancy and maternity', 'race', 'marriage and civil partnership', 'age', 'religion or belief', 'pregnancy and maternity', 'gender reassignment', 'age', 'race', 'disability', 'sex', 'religion or belief', 'religion or belief', 'sexual orientation', 'religion or belief', 'disability', 'gender reassignment', 'race', 'pregnancy and maternity', 'religion or belief', 'sex', 'religion or belief', 'age', 'sex', 'disability', 'sexual orientation', 'age', 'age', 'sexual orientation', 'gender reassignment', 'age', 'religion or belief', 'marriage and civil partnership', 'sexual orientation', 'marriage and civil partnership', 'gender reassignment', 'sexual orientation', 'sexual orientation', 'disability', 'marriage and civil partnership', 'race', 'disability', 'age', 'sex', 'gender reassignment', 'pregnancy and maternity', 'race', 'gender reassignment', 'pregnancy and maternity', 'gender reassignment', 'age', 'age', 'sexual orientation', 'sexual orientation', 'gender reassignment', 'age', 'race', 'disability', 'sex', 'age', 'sex', 'sex', 'sex', 'marriage and civil partnership', 'gender reassignment', 'pregnancy and maternity', 'sexual orientation', 'marriage and civil partnership', 'race', 'race', 'race', 'religion or belief', 'age', 'gender reassignment', 'pregnancy and maternity', 'sex', 'pregnancy and maternity', 'religion or belief', 'disability', 'disability', 'disability', 'religion or belief', 'pregnancy and maternity', 'pregnancy and maternity', 'marriage and civil partnership', 'disability', 'pregnancy and maternity', 'religion or belief', 'sex', 'religion or belief', 'age', 'disability', 'age', 'religion or belief', 'marriage and civil partnership', 'sexual orientation', 'sex', 'gender reassignment', 'pregnancy and maternity', 'pregnancy and maternity', 'age', 'sexual orientation', 'age', 'pregnancy and maternity', 'religion or belief', 'gender reassignment', 'marriage and civil partnership', 'race', 'gender reassignment', 'marriage and civil partnership', 'gender reassignment', 'marriage and civil partnership', 'marriage and civil partnership', 'sexual orientation', 'sex', 'religion or belief', 'sexual orientation', 'age', 'marriage and civil partnership', 'marriage and civil partnership', 'pregnancy and maternity', 'sex', 'sex', 'age', 'disability', 'gender reassignment', 'race', 'disability', 'marriage and civil partnership', 'sexual orientation', 'pregnancy and maternity', 'marriage and civil partnership', 'disability', 'sexual orientation', 'marriage and civil partnership', 'religion or belief', 'sexual orientation', 'race', 'disability', 'race', 'age', 'age', 'race', 'race', 'gender reassignment', 'age', 'sex', 'pregnancy and maternity', 'disability', 'disability', 'disability', 'religion or belief', 'race', 'disability', 'age', 'sexual orientation', 'pregnancy and maternity', 'race', 'race', 'gender reassignment', 'gender reassignment', 'age', 'pregnancy and maternity', 'sexual orientation', 'disability', 'sex', 'race', 'marriage and civil partnership', 'disability', 'marriage and civil partnership', 'race', 'race', 'disability', 'religion or belief', 'sex', 'sexual orientation', 'sex', 'race', 'sexual orientation', 'religion or belief', 'marriage and civil partnership', 'pregnancy and maternity', 'pregnancy and maternity', 'gender reassignment', 'sex', 'age', 'age', 'disability', 'gender reassignment', 'disability', 'gender reassignment', 'sexual orientation', 'race', 'gender reassignment', 'sexual orientation', 'sexual orientation', 'sexual orientation', 'sexual orientation', 'sex', 'pregnancy and maternity', 'religion or belief', 'gender reassignment', 'gender reassignment', 'marriage and civil partnership', 'religion or belief', 'religion or belief', 'disability', 'race', 'sex', 'race', 'marriage and civil partnership', 'sexual orientation', 'race', 'pregnancy and maternity', 'sexual orientation', 'race', 'marriage and civil partnership', 'age', 'marriage and civil partnership', 'age', 'marriage and civil partnership', 'religion or belief', 'gender reassignment', 'sex', 'race', 'disability', 'gender reassignment', 'gender reassignment', 'gender reassignment', 'age', 'religion or belief', 'disability', 'sexual orientation', 'sexual orientation', 'marriage and civil partnership', 'sex', 'pregnancy and maternity', 'race', 'disability', 'marriage and civil partnership', 'religion or belief', 'gender reassignment', 'race', 'gender reassignment', 'age', 'sexual orientation', 'age', 'age', 'pregnancy and maternity', 'religion or belief', 'race', 'sex', 'sex', 'marriage and civil partnership', 'race', 'sex', 'sexual orientation', 'sex', 'race', 'pregnancy and maternity', 'race', 'disability', 'race', 'gender reassignment', 'religion or belief', 'marriage and civil partnership', 'pregnancy and maternity', 'race', 'religion or belief', 'race', 'marriage and civil partnership', 'race', 'religion or belief', 'pregnancy and maternity', 'race', 'marriage and civil partnership', 'sexual orientation', 'gender reassignment', 'sexual orientation', 'race', 'sexual orientation', 'pregnancy and maternity', 'age', 'religion or belief', 'disability', 'marriage and civil partnership', 'sexual orientation', 'age', 'race', 'disability', 'pregnancy and maternity', 'marriage and civil partnership', 'religion or belief', 'religion or belief', 'pregnancy and maternity', 'sexual orientation', 'religion or belief', 'marriage and civil partnership', 'religion or belief', 'pregnancy and maternity', 'religion or belief', 'disability', 'pregnancy and maternity', 'marriage and civil partnership', 'marriage and civil partnership', 'gender reassignment', 'age', 'marriage and civil partnership', 'race', 'pregnancy and maternity', 'sex', 'gender reassignment', 'race', 'gender reassignment', 'disability', 'race', 'sexual orientation', 'marriage and civil partnership', 'sexual orientation', 'pregnancy and maternity', 'disability', 'pregnancy and maternity', 'pregnancy and maternity', 'gender reassignment', 'pregnancy and maternity', 'marriage and civil partnership', 'religion or belief', 'race', 'disability', 'sex', 'religion or belief', 'gender reassignment', 'sex', 'marriage and civil partnership', 'gender reassignment', 'religion or belief', 'disability', 'pregnancy and maternity', 'marriage and civil partnership', 'marriage and civil partnership', 'religion or belief', 'gender reassignment', 'gender reassignment', 'sex', 'marriage and civil partnership', 'race', 'race', 'pregnancy and maternity', 'sexual orientation', 'sexual orientation', 'pregnancy and maternity', 'gender reassignment', 'disability', 'pregnancy and maternity', 'gender reassignment', 'sex', 'gender reassignment', 'sexual orientation', 'marriage and civil partnership', 'age', 'disability', 'age', 'sex', 'sexual orientation', 'sex', 'pregnancy and maternity', 'sex', 'disability', 'age', 'race', 'religion or belief', 'religion or belief', 'age', 'race', 'disability', 'race', 'sex', 'sex', 'sex', 'sex', 'marriage and civil partnership', 'pregnancy and maternity', 'race', 'sexual orientation', 'gender reassignment', 'sex', 'sexual orientation', 'marriage and civil partnership', 'race', 'marriage and civil partnership', 'religion or belief', 'race', 'religion or belief', 'race', 'religion or belief', 'marriage and civil partnership', 'race', 'sexual orientation', 'sexual orientation', 'marriage and civil partnership', 'sex', 'marriage and civil partnership', 'pregnancy and maternity', 'disability', 'gender reassignment', 'sexual orientation', 'race', 'pregnancy and maternity', 'disability', 'marriage and civil partnership', 'marriage and civil partnership', 'disability', 'gender reassignment', 'age', 'race', 'gender reassignment', 'pregnancy and maternity', 'disability', 'sex', 'age', 'religion or belief', 'gender reassignment', 'sexual orientation', 'sexual orientation', 'age', 'gender reassignment', 'age', 'sexual orientation', 'sex', 'gender reassignment', 'sex', 'disability', 'sexual orientation', 'sexual orientation', 'age', 'pregnancy and maternity', 'religion or belief', 'disability', 'age', 'marriage and civil partnership', 'marriage and civil partnership', 'disability', 'marriage and civil partnership', 'sexual orientation', 'religion or belief', 'pregnancy and maternity', 'sex', 'race', 'gender reassignment', 'marriage and civil partnership', 'race', 'age', 'sexual orientation', 'pregnancy and maternity', 'gender reassignment', 'marriage and civil partnership', 'pregnancy and maternity', 'gender reassignment', 'religion or belief', 'sexual orientation', 'disability', 'sexual orientation', 'sex', 'race', 'pregnancy and maternity', 'disability', 'marriage and civil partnership', 'disability', 'marriage and civil partnership', 'religion or belief', 'sexual orientation', 'disability', 'gender reassignment', 'pregnancy and maternity', 'sex', 'gender reassignment', 'religion or belief', 'sex', 'gender reassignment', 'pregnancy and maternity', 'sexual orientation', 'gender reassignment', 'pregnancy and maternity', 'age', 'race', 'disability', 'religion or belief', 'sex', 'sex', 'race', 'race', 'disability', 'race', 'disability', 'age', 'sexual orientation', 'religion or belief', 'gender reassignment', 'religion or belief', 'disability', 'sexual orientation', 'religion or belief', 'sex', 'religion or belief', 'disability', 'age', 'religion or belief', 'race', 'pregnancy and maternity', 'race', 'religion or belief', 'sexual orientation', 'gender reassignment', 'race', 'marriage and civil partnership', 'marriage and civil partnership', 'race', 'pregnancy and maternity', 'race', 'marriage and civil partnership', 'sex', 'religion or belief', 'sex', 'age', 'marriage and civil partnership', 'pregnancy and maternity', 'marriage and civil partnership', 'disability', 'age', 'pregnancy and maternity', 'age', 'disability', 'marriage and civil partnership', 'sex', 'pregnancy and maternity', 'age', 'sex', 'race', 'pregnancy and maternity', 'sexual orientation', 'race', 'age', 'marriage and civil partnership', 'gender reassignment', 'age', 'gender reassignment', 'race', 'sexual orientation', 'sexual orientation', 'pregnancy and maternity', 'disability', 'age', 'pregnancy and maternity', 'sexual orientation', 'sex', 'religion or belief', 'race', 'gender reassignment', 'race', 'marriage and civil partnership', 'marriage and civil partnership', 'religion or belief', 'religion or belief', 'marriage and civil partnership', 'disability', 'sex', 'race', 'marriage and civil partnership', 'religion or belief', 'disability', 'age', 'religion or belief', 'gender reassignment', 'sex', 'gender reassignment', 'race', 'race', 'sex', 'age', 'age', 'race', 'age', 'age', 'marriage and civil partnership', 'sex', 'gender reassignment', 'sexual orientation', 'sexual orientation', 'sexual orientation', 'marriage and civil partnership', 'pregnancy and maternity', 'gender reassignment', 'age', 'marriage and civil partnership', 'religion or belief', 'disability', 'age', 'disability', 'religion or belief', 'gender reassignment', 'age', 'gender reassignment', 'marriage and civil partnership', 'gender reassignment', 'sexual orientation', 'gender reassignment', 'pregnancy and maternity', 'age', 'marriage and civil partnership', 'age', 'sexual orientation', 'marriage and civil partnership', 'marriage and civil partnership', 'gender reassignment', 'race', 'marriage and civil partnership', 'disability', 'gender reassignment', 'race', 'sex', 'marriage and civil partnership', 'pregnancy and maternity', 'disability', 'religion or belief', 'marriage and civil partnership', 'gender reassignment', 'sex', 'disability', 'pregnancy and maternity', 'gender reassignment', 'marriage and civil partnership', 'religion or belief', 'gender reassignment', 'religion or belief', 'gender reassignment', 'sexual orientation', 'race', 'sexual orientation', 'sexual orientation', 'gender reassignment', 'marriage and civil partnership', 'gender reassignment', 'sexual orientation', 'race', 'religion or belief', 'religion or belief', 'religion or belief', 'sex', 'disability', 'gender reassignment', 'sex', 'disability', 'race', 'sex', 'gender reassignment', 'pregnancy and maternity', 'age', 'age', 'marriage and civil partnership', 'sexual orientation', 'age', 'marriage and civil partnership', 'marriage and civil partnership', 'sexual orientation', 'pregnancy and maternity', 'marriage and civil partnership', 'race', 'sex', 'pregnancy and maternity', 'age', 'sexual orientation', 'pregnancy and maternity', 'disability', 'sex', 'disability', 'pregnancy and maternity', 'race', 'religion or belief', 'pregnancy and maternity', 'race', 'pregnancy and maternity', 'marriage and civil partnership', 'sex', 'marriage and civil partnership', 'marriage and civil partnership', 'race', 'gender reassignment', 'sex', 'disability', 'age', 'marriage and civil partnership', 'pregnancy and maternity', 'race', 'gender reassignment', 'race', 'marriage and civil partnership', 'marriage and civil partnership', 'age', 'marriage and civil partnership', 'race', 'race', 'age', 'pregnancy and maternity', 'sex', 'sexual orientation', 'sexual orientation', 'disability', 'sex', 'gender reassignment', 'sex', 'age', 'pregnancy and maternity', 'gender reassignment', 'gender reassignment', 'sex', 'age', 'gender reassignment', 'race', 'sexual orientation', 'age', 'race', 'disability', 'disability', 'sexual orientation', 'marriage and civil partnership', 'sexual orientation', 'race', 'disability', 'gender reassignment', 'pregnancy and maternity', 'disability', 'age', 'sex', 'pregnancy and maternity', 'marriage and civil partnership', 'age', 'sexual orientation', 'sexual orientation', 'gender reassignment', 'age', 'religion or belief', 'religion or belief', 'religion or belief', 'marriage and civil partnership', 'race', 'sex', 'disability', 'sex', 'pregnancy and maternity', 'marriage and civil partnership', 'race', 'sex', 'disability', 'sexual orientation', 'race', 'race', 'disability', 'pregnancy and maternity', 'gender reassignment', 'race', 'sexual orientation', 'disability', 'disability', 'race', 'marriage and civil partnership', 'sexual orientation', 'disability', 'race', 'race', 'sexual orientation', 'sexual orientation', 'gender reassignment', 'age', 'sexual orientation', 'age', 'race', 'religion or belief', 'sex', 'sex', 'sexual orientation', 'age', 'religion or belief', 'marriage and civil partnership', 'age', 'race', 'disability', 'religion or belief', 'disability', 'gender reassignment', 'gender reassignment', 'race', 'age', 'religion or belief', 'sexual orientation', 'pregnancy and maternity', 'sex', 'gender reassignment', 'sex', 'marriage and civil partnership', 'sexual orientation', 'marriage and civil partnership', 'sex', 'pregnancy and maternity', 'race', 'sex', 'gender reassignment', 'age', 'disability', 'marriage and civil partnership', 'religion or belief', 'religion or belief', 'religion or belief', 'sexual orientation', 'race', 'disability', 'gender reassignment', 'sexual orientation', 'religion or belief', 'sexual orientation', 'race', 'disability', 'sex', 'disability', 'disability', 'pregnancy and maternity', 'age', 'race', 'disability', 'disability', 'disability', 'marriage and civil partnership', 'religion or belief', 'religion or belief', 'disability', 'sex', 'age', 'marriage and civil partnership', 'sex', 'gender reassignment', 'age', 'disability', 'marriage and civil partnership', 'sexual orientation', 'sex', 'age', 'sexual orientation', 'religion or belief', 'age', 'religion or belief', 'sex', 'race', 'gender reassignment', 'sexual orientation', 'marriage and civil partnership', 'disability', 'sex', 'religion or belief', 'religion or belief', 'sexual orientation', 'race', 'disability', 'marriage and civil partnership', 'sexual orientation', 'marriage and civil partnership', 'marriage and civil partnership', 'pregnancy and maternity', 'sexual orientation', 'race', 'age', 'sex', 'marriage and civil partnership', 'sex', 'gender reassignment', 'religion or belief', 'sex', 'sex', 'gender reassignment', 'sexual orientation', 'disability', 'gender reassignment', 'disability', 'disability', 'marriage and civil partnership', 'pregnancy and maternity', 'age', 'pregnancy and maternity', 'age', 'pregnancy and maternity', 'sex', 'sexual orientation', 'age', 'pregnancy and maternity', 'age', 'religion or belief', 'religion or belief', 'pregnancy and maternity', 'age', 'sex', 'sex', 'sexual orientation', 'race', 'religion or belief', 'marriage and civil partnership', 'race', 'religion or belief', 'sexual orientation', 'marriage and civil partnership', 'age', 'sex', 'disability', 'pregnancy and maternity', 'race', 'disability', 'disability', 'pregnancy and maternity', 'race', 'gender reassignment', 'religion or belief', 'religion or belief', 'marriage and civil partnership', 'marriage and civil partnership', 'sex', 'pregnancy and maternity', 'race', 'pregnancy and maternity', 'pregnancy and maternity', 'marriage and civil partnership', 'disability', 'race', 'marriage and civil partnership', 'sexual orientation', 'disability', 'disability', 'religion or belief', 'marriage and civil partnership', 'age', 'sexual orientation', 'sex', 'sex', 'religion or belief', 'sex']\n"
          ]
        }
      ]
    },
    {
      "cell_type": "markdown",
      "metadata": {
        "id": "xXT38-4ZV45n"
      },
      "source": [
        "## The exercises below will use the lists:  \n",
        "*   **nums** (a list of between 1 and 1000 random numbers, each number is between 0 and 1000)\n",
        "*   **characteristics** (a list of 5000 random protected_characteristics)\n",
        "\n",
        "and the tuple:\n",
        "*  **protected_characteristics** (a set of the 9 protected characteristics identified in the Equality Act)\n",
        "\n",
        "## You can run the cell above any number of times to generate new lists."
      ]
    },
    {
      "cell_type": "markdown",
      "metadata": {
        "id": "Ft0dXl7fUuaK"
      },
      "source": [
        "---\n",
        "### Exercise 1 - list head, tail and shape\n",
        "\n",
        "Write a function, **describe_list()** which will:\n",
        "*  print the length of the list `nums`\n",
        "*  print the first 10 items in `nums`  \n",
        "*  print the last 5 items in `nums`"
      ]
    },
    {
      "cell_type": "code",
      "metadata": {
        "id": "jUcZD7mmTJdA",
        "colab": {
          "base_uri": "https://localhost:8080/"
        },
        "outputId": "968a7a1f-f8ea-47c4-924c-23dbbc1a8d51"
      },
      "source": [
        "from random import randint, choice\n",
        "def describe_list():\n",
        "\n",
        "  \n",
        "  return(nums)\n",
        "nums = get_num_list()\n",
        "print(len(nums))#length of list 'nums'\n",
        "print(nums[:10])#first 10 items on nums\n",
        "print(nums[995:])#last 5 items on nums \n",
        "\n"
      ],
      "execution_count": 18,
      "outputs": [
        {
          "output_type": "stream",
          "name": "stdout",
          "text": [
            "1000\n",
            "[83, 57, 6, 60, 90, 98, 22, 74, 20, 94]\n",
            "[3, 46, 100, 62, 32]\n"
          ]
        }
      ]
    },
    {
      "cell_type": "markdown",
      "metadata": {
        "id": "yNWg08k6bXv0"
      },
      "source": [
        "---\n",
        "### Exercise 2 - show tuple items\n",
        "\n",
        "Write a function which will:\n",
        "*   use a loop to print the list of protected characteristics from the `protected_characteristics` tuple.\n"
      ]
    },
    {
      "cell_type": "code",
      "metadata": {
        "id": "P2HnCG9pb1BS",
        "colab": {
          "base_uri": "https://localhost:8080/"
        },
        "outputId": "848816de-a22b-4eb8-f884-0e59fa17524f"
      },
      "source": [
        "from random import randint, choice\n",
        "def protected_characteristics_list():\n",
        "  protected_characteristics = get_protected_characteristics()\n",
        "  for i in (protected_characteristics):\n",
        "    return(i)\n",
        "\n",
        "\n",
        "\n",
        "protected_characteristics = get_protected_characteristics()\n",
        "print(protected_characteristics)"
      ],
      "execution_count": 19,
      "outputs": [
        {
          "output_type": "stream",
          "name": "stdout",
          "text": [
            "('age', 'disability', 'gender reassignment', 'marriage and civil partnership', 'pregnancy and maternity', 'race', 'religion or belief', 'sex', 'sexual orientation')\n"
          ]
        }
      ]
    },
    {
      "cell_type": "markdown",
      "metadata": {
        "id": "RTSuQZs4b1JU"
      },
      "source": [
        "---\n",
        "### Exercise 3 - list a random subset\n",
        "\n",
        "Write a function which will:\n",
        "*  calculate the position of the middle item in the `characteristics` list   \n",
        "(*Hint: use len() to help with this*)\n",
        "*  calculate the position of the item that is 5 places before the middle item\n",
        "*  calculate the position of the item that is 5 places after the middle item\n",
        "*  print the part of the list that includes the items from 5 places before to 5 places after.  \n",
        "\n",
        "Expected output:  \n",
        "Your list will include 11 items."
      ]
    },
    {
      "cell_type": "code",
      "metadata": {
        "id": "OwhFnH2kdC11",
        "colab": {
          "base_uri": "https://localhost:8080/"
        },
        "outputId": "8420e9a4-6fdd-430e-b021-d15a12e4401a"
      },
      "source": [
        "\n",
        "from random import randint, choice\n",
        "  \n",
        "def random_subset(characteristics):\n",
        "  #characteristics = get_protected_characteristic_list(protected_characteristics)\n",
        "  middle=int(len(characteristics))/2\n",
        "  return(middle)\n",
        "\n",
        "\n",
        "\n",
        "middle=int(len(characteristics))/2\n",
        "print(len(characteristics))\n",
        "print(middle)\n",
        "print(middle-5)"
      ],
      "execution_count": 41,
      "outputs": [
        {
          "output_type": "stream",
          "name": "stdout",
          "text": [
            "4663\n",
            "2331.5\n",
            "2326.5\n"
          ]
        }
      ]
    },
    {
      "cell_type": "markdown",
      "metadata": {
        "id": "KS0x3oFNePI9"
      },
      "source": [
        "---\n",
        "### Exercise 4 - create a copy\n",
        "\n",
        "Write a function which will: use a for loop to create a copy of the `nums` list:\n",
        "\n",
        "*   create a new, empty, list called **new_nums**  (*Hint: an empty list is [ ]*)\n",
        "*   use a for loop which uses the following syntax:  `for num in nums:`\n",
        "*   each time round the loop append `num` to `new_nums`  ( *`new_nums.append(num)`*)\n",
        "*   print the first 10 items of `new_nums`\n",
        "*   print the first 10 items of `nums`\n",
        "*   print the length of both lists"
      ]
    },
    {
      "cell_type": "code",
      "metadata": {
        "id": "mpK1Ip3we-uC"
      },
      "source": [
        ""
      ],
      "execution_count": null,
      "outputs": []
    },
    {
      "cell_type": "markdown",
      "metadata": {
        "id": "deUIFWjRe-3G"
      },
      "source": [
        "\n",
        "\n",
        "```\n",
        "# This is formatted as code\n",
        "```\n",
        "\n",
        "---\n",
        "### Exercise 5 - count the occurrence of age in characteristics\n",
        "\n",
        "Write a function which will use the list method:\n",
        "\n",
        "`list_name.count(item)`\n",
        "\n",
        "to count the number of occurrences of 'age' in the `characteristics` list.  Print the result."
      ]
    },
    {
      "cell_type": "code",
      "metadata": {
        "id": "b9TrHQ9hfoIU",
        "colab": {
          "base_uri": "https://localhost:8080/"
        },
        "outputId": "ed22dabd-5a35-40d4-a742-613a97dea7ac"
      },
      "source": [
        "from random import randint, choice\n",
        "\n",
        "def ocurrence_of_age(characteristics):\n",
        "  characteristics = get_protected_characteristic_list(protected_characteristics)\n",
        "  #list_name.count(item) list is characteristics and item is age\n",
        "  return (characteristics.count(\"age\"))\n",
        "\n",
        "characteristics.count(\"age\")\n",
        "print(characteristics.count(\"age\"))\n",
        "\n"
      ],
      "execution_count": 63,
      "outputs": [
        {
          "output_type": "stream",
          "name": "stdout",
          "text": [
            "395\n"
          ]
        }
      ]
    },
    {
      "cell_type": "markdown",
      "metadata": {
        "id": "zm2VI5RmfoSy"
      },
      "source": [
        "---\n",
        "### Exercise 6 - sort the nums list\n",
        "\n",
        "Write a function which will:\n",
        "*   call the function `get_num_list()` and store the result in a new list called **sort_nums**\n",
        "*   print the first, and last, 20 items in the `sort_nums` list\n",
        "*   use the `list_name.sort()` method to sort the `sort_nums` list into ascending order\n",
        "*   print the first, and last, 20 items again  \n",
        "*   use the `list_name.sort()` method again to sort the `sort_nums` list into descending order\n",
        "*   print the first, and last, 20 items again"
      ]
    },
    {
      "cell_type": "code",
      "metadata": {
        "id": "Fksgpj9JgWDs"
      },
      "source": [
        "from random import randint, choice\n",
        "\n",
        "def get_num_list():\n",
        "  num_list = [randint(1,100) for n in range(1000)]\n",
        "  return num_list\n",
        "#nums = get_num_list()\n",
        "#print(nums)\n",
        "\n",
        "def get_sort_nums(nums):\n",
        "  #nums=get_num_list()\n",
        "  sort_nums=nums\n",
        "  return(sort_nums)#prints nums as sort_nums\n",
        "  return(sort_nums[:20])#prints first 20 items on nums\n",
        "  return(sort_nums[-20])#prints last 20 items on nums\n",
        "  \n",
        "  #sort_nums.sort() \n",
        "  return(sort_nums()) #sorts items in ascending order\n",
        "  return(sort_nums[:20])#supposed to get first 20 of the ascending order but for some reason  now all results are order(?)\n",
        "  return(sort_nums[-20])\n",
        "  \n",
        "  \n",
        "  \n",
        "\n",
        " \n",
        "\n",
        "\n",
        "sort_nums=nums\n",
        "print(sort_nums)\n",
        "print(sort_nums[:20])\n",
        "print(sort_nums[-20:])\n",
        "print(sort_nums)\n",
        "print(sort_nums[:20])\n",
        "print(sort_nums[-20])\n",
        "\n",
        "\n"
      ],
      "execution_count": null,
      "outputs": []
    },
    {
      "cell_type": "markdown",
      "metadata": {
        "id": "_OF-Xuj1UrW0"
      },
      "source": [
        "---\n",
        "### Exercise 7 - get statistics (max(), min(), sum() )\n",
        "\n",
        "Write a function which will:\n",
        "*   print the maximum and minimum numbers in the `nums` list  \n",
        "*   print the sum of the `nums` list\n",
        "*   calculate and print the average of the `nums` list (using `len()` to help)"
      ]
    },
    {
      "cell_type": "code",
      "metadata": {
        "id": "9YmYMenZVGod",
        "colab": {
          "base_uri": "https://localhost:8080/"
        },
        "outputId": "02c8e927-39bf-45b1-df32-78fc750cf695"
      },
      "source": [
        "from random import randint, choice\n",
        "\n",
        "def get_num_list():\n",
        "  num_list = [randint(1,100) for n in range(1000)]\n",
        "  return num_list\n",
        "nums = get_num_list()\n",
        "print(nums)\n",
        "\n",
        "def get_statistics(nums):\n",
        "\n",
        "  return(max(nums))\n",
        "  return(min(nums))\n",
        "\n",
        "print(max(nums))\n",
        "print(min(nums))"
      ],
      "execution_count": 53,
      "outputs": [
        {
          "output_type": "stream",
          "name": "stdout",
          "text": [
            "[7, 66, 69, 11, 80, 3, 38, 12, 43, 12, 58, 80, 65, 62, 26, 90, 93, 26, 29, 97, 66, 24, 40, 10, 35, 57, 6, 77, 86, 42, 62, 24, 50, 35, 44, 90, 90, 1, 91, 90, 81, 80, 61, 89, 2, 40, 24, 60, 23, 76, 63, 5, 93, 3, 26, 25, 80, 36, 66, 82, 24, 17, 83, 55, 68, 6, 39, 20, 50, 66, 6, 80, 62, 31, 72, 56, 45, 29, 11, 28, 29, 55, 57, 89, 88, 93, 11, 92, 6, 14, 59, 4, 30, 78, 66, 10, 3, 37, 85, 62, 15, 68, 48, 81, 35, 60, 20, 40, 46, 81, 42, 2, 95, 15, 4, 12, 28, 41, 77, 68, 31, 24, 56, 99, 75, 12, 77, 25, 16, 96, 54, 78, 80, 90, 56, 13, 11, 27, 57, 44, 56, 16, 23, 63, 76, 56, 25, 23, 8, 72, 66, 36, 62, 24, 95, 52, 78, 12, 33, 2, 71, 58, 43, 65, 37, 96, 98, 83, 74, 61, 49, 8, 82, 4, 16, 23, 76, 21, 93, 68, 70, 7, 73, 38, 20, 77, 75, 86, 33, 87, 50, 40, 60, 98, 29, 21, 40, 40, 15, 31, 69, 9, 6, 59, 38, 41, 89, 3, 1, 10, 94, 100, 2, 89, 45, 87, 3, 39, 67, 61, 86, 45, 80, 17, 93, 72, 97, 81, 20, 64, 92, 93, 7, 35, 70, 50, 25, 61, 33, 27, 89, 19, 57, 6, 30, 55, 74, 50, 28, 18, 31, 33, 6, 67, 71, 17, 13, 19, 91, 19, 34, 100, 70, 2, 55, 38, 83, 43, 20, 31, 82, 65, 2, 44, 63, 67, 100, 19, 72, 19, 35, 38, 52, 69, 78, 45, 69, 65, 41, 38, 57, 87, 7, 11, 92, 2, 36, 5, 25, 44, 35, 49, 8, 22, 31, 90, 90, 32, 56, 8, 62, 82, 62, 36, 56, 92, 20, 35, 22, 65, 65, 78, 48, 51, 98, 58, 6, 43, 90, 57, 60, 11, 48, 6, 3, 50, 54, 58, 44, 79, 69, 45, 2, 69, 74, 76, 44, 75, 32, 50, 66, 70, 70, 71, 65, 79, 1, 77, 71, 95, 74, 40, 77, 43, 75, 68, 88, 8, 70, 43, 19, 1, 29, 52, 17, 56, 40, 84, 45, 7, 33, 27, 82, 13, 74, 52, 43, 57, 90, 58, 71, 72, 18, 95, 5, 98, 1, 48, 89, 91, 33, 88, 3, 80, 53, 78, 6, 97, 74, 2, 22, 72, 63, 48, 56, 60, 63, 71, 5, 96, 37, 10, 16, 18, 48, 86, 59, 22, 24, 4, 97, 76, 12, 28, 20, 15, 65, 100, 94, 53, 53, 8, 94, 66, 55, 72, 44, 54, 39, 5, 94, 28, 72, 74, 69, 67, 15, 51, 100, 48, 63, 5, 56, 15, 26, 41, 68, 47, 91, 69, 91, 48, 53, 83, 69, 51, 39, 6, 85, 76, 16, 59, 13, 91, 66, 96, 86, 10, 8, 22, 96, 75, 23, 83, 89, 99, 58, 57, 92, 16, 84, 97, 71, 92, 68, 64, 76, 34, 7, 97, 72, 28, 71, 50, 55, 5, 81, 55, 27, 44, 87, 1, 72, 52, 76, 13, 25, 56, 38, 46, 93, 59, 2, 41, 6, 82, 69, 12, 46, 18, 46, 19, 95, 82, 49, 72, 91, 92, 73, 69, 64, 10, 39, 76, 61, 21, 17, 3, 28, 93, 85, 90, 76, 89, 96, 69, 6, 88, 7, 98, 53, 50, 42, 95, 10, 20, 66, 2, 4, 14, 9, 42, 75, 49, 77, 22, 81, 86, 96, 50, 14, 82, 65, 7, 24, 81, 44, 32, 100, 65, 66, 84, 73, 53, 52, 43, 89, 64, 26, 73, 60, 26, 16, 64, 40, 27, 53, 45, 12, 60, 62, 86, 3, 23, 86, 23, 33, 14, 26, 45, 6, 5, 85, 51, 89, 25, 34, 89, 40, 59, 11, 84, 50, 51, 95, 23, 40, 46, 43, 6, 60, 38, 47, 28, 67, 29, 52, 55, 6, 93, 62, 89, 10, 86, 89, 74, 6, 3, 46, 86, 17, 15, 25, 85, 51, 75, 76, 93, 78, 10, 3, 43, 57, 73, 70, 43, 78, 100, 15, 45, 87, 24, 15, 86, 2, 91, 68, 32, 21, 99, 84, 22, 39, 59, 99, 35, 97, 72, 54, 26, 95, 98, 60, 25, 48, 85, 85, 11, 24, 78, 77, 66, 25, 71, 52, 42, 64, 75, 80, 34, 50, 82, 22, 86, 94, 52, 28, 87, 82, 12, 54, 80, 100, 50, 9, 80, 41, 29, 30, 74, 34, 88, 76, 88, 40, 95, 71, 82, 11, 23, 4, 94, 98, 3, 23, 83, 11, 75, 27, 98, 27, 11, 66, 35, 6, 10, 55, 27, 51, 21, 54, 77, 14, 86, 40, 26, 35, 68, 32, 76, 86, 96, 54, 95, 36, 78, 3, 39, 74, 29, 14, 51, 85, 48, 55, 41, 14, 60, 26, 7, 35, 77, 79, 59, 4, 43, 94, 95, 10, 55, 17, 43, 76, 76, 59, 23, 41, 37, 83, 87, 70, 38, 59, 97, 17, 97, 50, 35, 28, 59, 68, 82, 60, 5, 68, 48, 7, 41, 19, 74, 34, 45, 36, 85, 68, 31, 93, 93, 12, 86, 50, 12, 11, 81, 76, 17, 81, 61, 2, 47, 83, 88, 93, 98, 90, 77, 97, 56, 14, 2, 72, 13, 29, 23, 33, 50, 80, 60, 54, 48, 45, 75, 86, 78, 33, 63, 86, 96, 89, 80, 75, 35, 93, 86, 80, 44, 5, 18, 40, 76, 88, 34, 53, 35, 96, 73, 52, 55, 12, 74, 30, 91, 27, 77, 7, 83, 94, 81, 79, 90, 44, 50, 25, 45, 62, 81, 93, 68, 71, 12, 21, 98, 11, 61, 49, 30, 48, 51, 66, 10, 52, 77, 75, 89, 72, 74, 2, 38, 27, 54, 62, 59, 62, 37, 68, 36, 44, 82, 60, 49, 18, 41, 89, 34, 37, 22, 22, 3, 20, 27, 36, 55, 35, 60, 49, 35, 25, 68, 1, 35, 91, 48, 69, 29, 5, 36, 82, 19, 19, 38]\n",
            "100\n",
            "1\n"
          ]
        }
      ]
    },
    {
      "cell_type": "markdown",
      "metadata": {
        "id": "Mn4tHQ_KVbHa"
      },
      "source": [
        "---\n",
        "### Exercise 8 - percentage difference\n",
        "\n",
        "Write a function which will:\n",
        "*   generate a new list called **ex8_nums** using `get_num_list()`\n",
        "*   calculate and print the percentage difference between the first number in each list (as a percentage of the number in the nums list) (Hint:  find the difference between the two numbers, divide the difference by the number in `nums` and multiply by 100)\n",
        "*   calculate and print the percentage difference between the last numbers in each list in the same way\n",
        "*   calculate and print the percentage difference between the middle numbers in each list in the same way.\n",
        "*   calculate and print the percentage difference between the sums of each list in the same way"
      ]
    },
    {
      "cell_type": "code",
      "metadata": {
        "id": "nJCQjZIeZL0e"
      },
      "source": [
        ""
      ],
      "execution_count": null,
      "outputs": []
    },
    {
      "cell_type": "markdown",
      "metadata": {
        "id": "HNs3lZmYawFO"
      },
      "source": [
        "---\n",
        "### Exercise 9 - characteristic counts\n",
        "\n",
        "Write a function which will:\n",
        "*  iterate through the `protected_characteristics` tuple and for each **characteristic**:\n",
        "*   *   count the number of occurrences of that `characteristic` in the `characteristics` list\n",
        "*   *   print the `protected_characteristic` and the **count**  \n",
        "\n",
        "Example expected output:\n",
        "\n",
        "age 100  \n",
        "disability 120  \n",
        "gender reassignment 120  \n",
        "marriage and civil partnership 111  \n",
        "pregnancy and maternity 103  \n",
        "race 106  \n",
        "religion or belief 95  \n",
        "sex 110  \n",
        "sexual orientation 113  \n",
        "\n",
        "Extra learning:  you can read [here](https://thispointer.com/python-how-to-pad-strings-with-zero-space-or-some-other-character/) how to justify the printed characteristic so that the output is organised into two columns as shown below:  \n",
        "![tabulated output](https://drive.google.com/uc?id=1CCXfX6K5ZeDefnq7vUsqxCDmqvcfY8Mz)\n",
        "\n",
        "\n",
        "\n"
      ]
    },
    {
      "cell_type": "code",
      "metadata": {
        "id": "GURT11albqUs"
      },
      "source": [
        ""
      ],
      "execution_count": null,
      "outputs": []
    },
    {
      "cell_type": "markdown",
      "metadata": {
        "id": "9Po7yQj-ds38"
      },
      "source": [
        "---\n",
        "### Exercise 10 - characteristics statistics\n",
        "\n",
        "Assuming that the `characteristics` list may have been taken from a study of cases that have been taken to court in relation to the Equality Act.  \n",
        "\n",
        "Write a function which will:\n",
        "\n",
        "*   find the most common characteristic resulting in court action, from this population\n",
        "*   print this in a message, e.g. The characteristic with the highest number of court cases is:  *characteristic*\n",
        "*   print the list of `protected_characteristics`, on one line if possible - see [here](https://www.geeksforgeeks.org/g-fact-25-print-single-multiple-variable-python/)\n",
        "*   ask the user to enter a characteristic that they would like to see statistics on and use a while loop to continue until the user has entered a valid characteristic\n",
        "*   print the characteristic, its frequency and the percentage that this frequency is of the whole population."
      ]
    },
    {
      "cell_type": "code",
      "metadata": {
        "id": "uk_I5z7UgbDs"
      },
      "source": [
        ""
      ],
      "execution_count": null,
      "outputs": []
    }
  ]
}