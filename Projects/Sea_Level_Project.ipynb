{
  "nbformat": 4,
  "nbformat_minor": 0,
  "metadata": {
    "colab": {
      "name": "  Sea-Level-Project.ipynb",
      "provenance": [],
      "collapsed_sections": [],
      "include_colab_link": true
    },
    "kernelspec": {
      "name": "python3",
      "display_name": "Python 3"
    },
    "language_info": {
      "name": "python"
    }
  },
  "cells": [
    {
      "cell_type": "markdown",
      "metadata": {
        "id": "view-in-github",
        "colab_type": "text"
      },
      "source": [
        "<a href=\"https://colab.research.google.com/github/MidoriTinto/Python_For_Data_Analysis/blob/main/Sea_Level_Project.ipynb\" target=\"_parent\"><img src=\"https://colab.research.google.com/assets/colab-badge.svg\" alt=\"Open In Colab\"/></a>"
      ]
    },
    {
      "cell_type": "markdown",
      "source": [
        "# Looking for correlation between time data and sea level rise using Numpy array\n",
        "---\n",
        "\n",
        "### Data Source\n",
        "Global Average Absolute Sea Level Change, 1880-2014 from the US Environmental Protection Agency using data from CSIRO, 2015; NOAA, 2015.\n",
        "https://datahub.io/core/sea-level-rise\n",
        "\n",
        "The data describes annual sea level changes around the world from 1880 to 2013 based on a combination of long-term tide gauge measurements and satellite measurements. Measures are adjusted using two standards: Commonwealth Scientific and Industrial Research Organisation(CSIRO) and National Oceanic and Atmospheric Administration (NOAA)  \n",
        "\n",
        "Raw Data file:  https://raw.githubusercontent.com/freeCodeCamp/boilerplate-sea-level-predictor/master/epa-sea-level.csv\n",
        "\n",
        "\n",
        "*On average, the ocean floor has been gradually sinking since the last Ice Age peak- almost 20000 years ago.(source: https://datahub.io/core/sea-level-rise)*"
      ],
      "metadata": {
        "id": "jBYNdCdQ9_cu"
      }
    },
    {
      "cell_type": "markdown",
      "source": [
        "### 1. Investigating the data set\n",
        "---\n",
        "The data set is imported. The data frame is called 'sea_level'."
      ],
      "metadata": {
        "id": "k3Qo0-0-C6Be"
      }
    },
    {
      "cell_type": "code",
      "source": [
        "import pandas as pd \n",
        "import numpy as np\n",
        "from scipy.stats import linregress\n",
        "\n",
        "url=\"https://raw.githubusercontent.com/freeCodeCamp/boilerplate-sea-level-predictor/master/epa-sea-level.csv\"\n",
        "sea_level_predictor=pd.read_csv(url)\n",
        "sea_level_predictor\n"
      ],
      "metadata": {
        "id": "r1XUCWHV_Cj9",
        "colab": {
          "base_uri": "https://localhost:8080/",
          "height": 424
        },
        "outputId": "31550f2a-d712-48ec-bf8e-5e6782032e81"
      },
      "execution_count": null,
      "outputs": [
        {
          "output_type": "execute_result",
          "data": {
            "text/plain": [
              "     Year  CSIRO Adjusted Sea Level  Lower Error Bound  Upper Error Bound  \\\n",
              "0    1880                  0.000000          -0.952756           0.952756   \n",
              "1    1881                  0.220472          -0.732283           1.173228   \n",
              "2    1882                 -0.440945          -1.346457           0.464567   \n",
              "3    1883                 -0.232283          -1.129921           0.665354   \n",
              "4    1884                  0.590551          -0.283465           1.464567   \n",
              "..    ...                       ...                ...                ...   \n",
              "129  2009                  8.586614           8.311024           8.862205   \n",
              "130  2010                  8.901575           8.618110           9.185039   \n",
              "131  2011                  8.964567           8.661417           9.267717   \n",
              "132  2012                  9.326772           8.992126           9.661417   \n",
              "133  2013                  8.980315           8.622047           9.338583   \n",
              "\n",
              "     NOAA Adjusted Sea Level  \n",
              "0                        NaN  \n",
              "1                        NaN  \n",
              "2                        NaN  \n",
              "3                        NaN  \n",
              "4                        NaN  \n",
              "..                       ...  \n",
              "129                 8.046354  \n",
              "130                 8.122973  \n",
              "131                 8.053065  \n",
              "132                 8.457058  \n",
              "133                 8.546648  \n",
              "\n",
              "[134 rows x 5 columns]"
            ],
            "text/html": [
              "\n",
              "  <div id=\"df-49c62335-bc31-4010-a5d9-5cccd64b31cd\">\n",
              "    <div class=\"colab-df-container\">\n",
              "      <div>\n",
              "<style scoped>\n",
              "    .dataframe tbody tr th:only-of-type {\n",
              "        vertical-align: middle;\n",
              "    }\n",
              "\n",
              "    .dataframe tbody tr th {\n",
              "        vertical-align: top;\n",
              "    }\n",
              "\n",
              "    .dataframe thead th {\n",
              "        text-align: right;\n",
              "    }\n",
              "</style>\n",
              "<table border=\"1\" class=\"dataframe\">\n",
              "  <thead>\n",
              "    <tr style=\"text-align: right;\">\n",
              "      <th></th>\n",
              "      <th>Year</th>\n",
              "      <th>CSIRO Adjusted Sea Level</th>\n",
              "      <th>Lower Error Bound</th>\n",
              "      <th>Upper Error Bound</th>\n",
              "      <th>NOAA Adjusted Sea Level</th>\n",
              "    </tr>\n",
              "  </thead>\n",
              "  <tbody>\n",
              "    <tr>\n",
              "      <th>0</th>\n",
              "      <td>1880</td>\n",
              "      <td>0.000000</td>\n",
              "      <td>-0.952756</td>\n",
              "      <td>0.952756</td>\n",
              "      <td>NaN</td>\n",
              "    </tr>\n",
              "    <tr>\n",
              "      <th>1</th>\n",
              "      <td>1881</td>\n",
              "      <td>0.220472</td>\n",
              "      <td>-0.732283</td>\n",
              "      <td>1.173228</td>\n",
              "      <td>NaN</td>\n",
              "    </tr>\n",
              "    <tr>\n",
              "      <th>2</th>\n",
              "      <td>1882</td>\n",
              "      <td>-0.440945</td>\n",
              "      <td>-1.346457</td>\n",
              "      <td>0.464567</td>\n",
              "      <td>NaN</td>\n",
              "    </tr>\n",
              "    <tr>\n",
              "      <th>3</th>\n",
              "      <td>1883</td>\n",
              "      <td>-0.232283</td>\n",
              "      <td>-1.129921</td>\n",
              "      <td>0.665354</td>\n",
              "      <td>NaN</td>\n",
              "    </tr>\n",
              "    <tr>\n",
              "      <th>4</th>\n",
              "      <td>1884</td>\n",
              "      <td>0.590551</td>\n",
              "      <td>-0.283465</td>\n",
              "      <td>1.464567</td>\n",
              "      <td>NaN</td>\n",
              "    </tr>\n",
              "    <tr>\n",
              "      <th>...</th>\n",
              "      <td>...</td>\n",
              "      <td>...</td>\n",
              "      <td>...</td>\n",
              "      <td>...</td>\n",
              "      <td>...</td>\n",
              "    </tr>\n",
              "    <tr>\n",
              "      <th>129</th>\n",
              "      <td>2009</td>\n",
              "      <td>8.586614</td>\n",
              "      <td>8.311024</td>\n",
              "      <td>8.862205</td>\n",
              "      <td>8.046354</td>\n",
              "    </tr>\n",
              "    <tr>\n",
              "      <th>130</th>\n",
              "      <td>2010</td>\n",
              "      <td>8.901575</td>\n",
              "      <td>8.618110</td>\n",
              "      <td>9.185039</td>\n",
              "      <td>8.122973</td>\n",
              "    </tr>\n",
              "    <tr>\n",
              "      <th>131</th>\n",
              "      <td>2011</td>\n",
              "      <td>8.964567</td>\n",
              "      <td>8.661417</td>\n",
              "      <td>9.267717</td>\n",
              "      <td>8.053065</td>\n",
              "    </tr>\n",
              "    <tr>\n",
              "      <th>132</th>\n",
              "      <td>2012</td>\n",
              "      <td>9.326772</td>\n",
              "      <td>8.992126</td>\n",
              "      <td>9.661417</td>\n",
              "      <td>8.457058</td>\n",
              "    </tr>\n",
              "    <tr>\n",
              "      <th>133</th>\n",
              "      <td>2013</td>\n",
              "      <td>8.980315</td>\n",
              "      <td>8.622047</td>\n",
              "      <td>9.338583</td>\n",
              "      <td>8.546648</td>\n",
              "    </tr>\n",
              "  </tbody>\n",
              "</table>\n",
              "<p>134 rows × 5 columns</p>\n",
              "</div>\n",
              "      <button class=\"colab-df-convert\" onclick=\"convertToInteractive('df-49c62335-bc31-4010-a5d9-5cccd64b31cd')\"\n",
              "              title=\"Convert this dataframe to an interactive table.\"\n",
              "              style=\"display:none;\">\n",
              "        \n",
              "  <svg xmlns=\"http://www.w3.org/2000/svg\" height=\"24px\"viewBox=\"0 0 24 24\"\n",
              "       width=\"24px\">\n",
              "    <path d=\"M0 0h24v24H0V0z\" fill=\"none\"/>\n",
              "    <path d=\"M18.56 5.44l.94 2.06.94-2.06 2.06-.94-2.06-.94-.94-2.06-.94 2.06-2.06.94zm-11 1L8.5 8.5l.94-2.06 2.06-.94-2.06-.94L8.5 2.5l-.94 2.06-2.06.94zm10 10l.94 2.06.94-2.06 2.06-.94-2.06-.94-.94-2.06-.94 2.06-2.06.94z\"/><path d=\"M17.41 7.96l-1.37-1.37c-.4-.4-.92-.59-1.43-.59-.52 0-1.04.2-1.43.59L10.3 9.45l-7.72 7.72c-.78.78-.78 2.05 0 2.83L4 21.41c.39.39.9.59 1.41.59.51 0 1.02-.2 1.41-.59l7.78-7.78 2.81-2.81c.8-.78.8-2.07 0-2.86zM5.41 20L4 18.59l7.72-7.72 1.47 1.35L5.41 20z\"/>\n",
              "  </svg>\n",
              "      </button>\n",
              "      \n",
              "  <style>\n",
              "    .colab-df-container {\n",
              "      display:flex;\n",
              "      flex-wrap:wrap;\n",
              "      gap: 12px;\n",
              "    }\n",
              "\n",
              "    .colab-df-convert {\n",
              "      background-color: #E8F0FE;\n",
              "      border: none;\n",
              "      border-radius: 50%;\n",
              "      cursor: pointer;\n",
              "      display: none;\n",
              "      fill: #1967D2;\n",
              "      height: 32px;\n",
              "      padding: 0 0 0 0;\n",
              "      width: 32px;\n",
              "    }\n",
              "\n",
              "    .colab-df-convert:hover {\n",
              "      background-color: #E2EBFA;\n",
              "      box-shadow: 0px 1px 2px rgba(60, 64, 67, 0.3), 0px 1px 3px 1px rgba(60, 64, 67, 0.15);\n",
              "      fill: #174EA6;\n",
              "    }\n",
              "\n",
              "    [theme=dark] .colab-df-convert {\n",
              "      background-color: #3B4455;\n",
              "      fill: #D2E3FC;\n",
              "    }\n",
              "\n",
              "    [theme=dark] .colab-df-convert:hover {\n",
              "      background-color: #434B5C;\n",
              "      box-shadow: 0px 1px 3px 1px rgba(0, 0, 0, 0.15);\n",
              "      filter: drop-shadow(0px 1px 2px rgba(0, 0, 0, 0.3));\n",
              "      fill: #FFFFFF;\n",
              "    }\n",
              "  </style>\n",
              "\n",
              "      <script>\n",
              "        const buttonEl =\n",
              "          document.querySelector('#df-49c62335-bc31-4010-a5d9-5cccd64b31cd button.colab-df-convert');\n",
              "        buttonEl.style.display =\n",
              "          google.colab.kernel.accessAllowed ? 'block' : 'none';\n",
              "\n",
              "        async function convertToInteractive(key) {\n",
              "          const element = document.querySelector('#df-49c62335-bc31-4010-a5d9-5cccd64b31cd');\n",
              "          const dataTable =\n",
              "            await google.colab.kernel.invokeFunction('convertToInteractive',\n",
              "                                                     [key], {});\n",
              "          if (!dataTable) return;\n",
              "\n",
              "          const docLinkHtml = 'Like what you see? Visit the ' +\n",
              "            '<a target=\"_blank\" href=https://colab.research.google.com/notebooks/data_table.ipynb>data table notebook</a>'\n",
              "            + ' to learn more about interactive tables.';\n",
              "          element.innerHTML = '';\n",
              "          dataTable['output_type'] = 'display_data';\n",
              "          await google.colab.output.renderOutput(dataTable, element);\n",
              "          const docLink = document.createElement('div');\n",
              "          docLink.innerHTML = docLinkHtml;\n",
              "          element.appendChild(docLink);\n",
              "        }\n",
              "      </script>\n",
              "    </div>\n",
              "  </div>\n",
              "  "
            ]
          },
          "metadata": {},
          "execution_count": 21
        }
      ]
    },
    {
      "cell_type": "code",
      "source": [
        "sea_level_predictor.info()"
      ],
      "metadata": {
        "colab": {
          "base_uri": "https://localhost:8080/"
        },
        "id": "Xvpy39vADT9G",
        "outputId": "34457c54-b0f5-47ea-adbf-f2ee03f01fef"
      },
      "execution_count": null,
      "outputs": [
        {
          "output_type": "stream",
          "name": "stdout",
          "text": [
            "<class 'pandas.core.frame.DataFrame'>\n",
            "RangeIndex: 134 entries, 0 to 133\n",
            "Data columns (total 5 columns):\n",
            " #   Column                    Non-Null Count  Dtype  \n",
            "---  ------                    --------------  -----  \n",
            " 0   Year                      134 non-null    int64  \n",
            " 1   CSIRO Adjusted Sea Level  134 non-null    float64\n",
            " 2   Lower Error Bound         134 non-null    float64\n",
            " 3   Upper Error Bound         134 non-null    float64\n",
            " 4   NOAA Adjusted Sea Level   21 non-null     float64\n",
            "dtypes: float64(4), int64(1)\n",
            "memory usage: 5.4 KB\n"
          ]
        }
      ]
    },
    {
      "cell_type": "code",
      "source": [
        "sea_level_predictor.head(20)"
      ],
      "metadata": {
        "colab": {
          "base_uri": "https://localhost:8080/",
          "height": 677
        },
        "id": "Yxr057JCD8wJ",
        "outputId": "da3ded30-da1f-4d03-9c44-13cab2ff7d67"
      },
      "execution_count": null,
      "outputs": [
        {
          "output_type": "execute_result",
          "data": {
            "text/plain": [
              "    Year  CSIRO Adjusted Sea Level  Lower Error Bound  Upper Error Bound  \\\n",
              "0   1880                  0.000000          -0.952756           0.952756   \n",
              "1   1881                  0.220472          -0.732283           1.173228   \n",
              "2   1882                 -0.440945          -1.346457           0.464567   \n",
              "3   1883                 -0.232283          -1.129921           0.665354   \n",
              "4   1884                  0.590551          -0.283465           1.464567   \n",
              "5   1885                  0.531496          -0.330709           1.393701   \n",
              "6   1886                  0.437008          -0.381890           1.255906   \n",
              "7   1887                  0.216535          -0.602362           1.035433   \n",
              "8   1888                  0.299213          -0.519685           1.118110   \n",
              "9   1889                  0.362205          -0.456693           1.181102   \n",
              "10  1890                  0.440945          -0.374016           1.255906   \n",
              "11  1891                  0.374016          -0.440945           1.188976   \n",
              "12  1892                  0.500000          -0.314961           1.314961   \n",
              "13  1893                  0.685039          -0.114173           1.484252   \n",
              "14  1894                  0.303150          -0.547244           1.153543   \n",
              "15  1895                  0.767717          -0.082677           1.618110   \n",
              "16  1896                  0.468504          -0.366142           1.303150   \n",
              "17  1897                  0.673228          -0.145669           1.492126   \n",
              "18  1898                  1.043307           0.267717           1.818898   \n",
              "19  1899                  1.338583           0.574803           2.102362   \n",
              "\n",
              "    NOAA Adjusted Sea Level  \n",
              "0                       NaN  \n",
              "1                       NaN  \n",
              "2                       NaN  \n",
              "3                       NaN  \n",
              "4                       NaN  \n",
              "5                       NaN  \n",
              "6                       NaN  \n",
              "7                       NaN  \n",
              "8                       NaN  \n",
              "9                       NaN  \n",
              "10                      NaN  \n",
              "11                      NaN  \n",
              "12                      NaN  \n",
              "13                      NaN  \n",
              "14                      NaN  \n",
              "15                      NaN  \n",
              "16                      NaN  \n",
              "17                      NaN  \n",
              "18                      NaN  \n",
              "19                      NaN  "
            ],
            "text/html": [
              "\n",
              "  <div id=\"df-aaa14dc7-c71d-4e71-bfe0-438bebbac0ca\">\n",
              "    <div class=\"colab-df-container\">\n",
              "      <div>\n",
              "<style scoped>\n",
              "    .dataframe tbody tr th:only-of-type {\n",
              "        vertical-align: middle;\n",
              "    }\n",
              "\n",
              "    .dataframe tbody tr th {\n",
              "        vertical-align: top;\n",
              "    }\n",
              "\n",
              "    .dataframe thead th {\n",
              "        text-align: right;\n",
              "    }\n",
              "</style>\n",
              "<table border=\"1\" class=\"dataframe\">\n",
              "  <thead>\n",
              "    <tr style=\"text-align: right;\">\n",
              "      <th></th>\n",
              "      <th>Year</th>\n",
              "      <th>CSIRO Adjusted Sea Level</th>\n",
              "      <th>Lower Error Bound</th>\n",
              "      <th>Upper Error Bound</th>\n",
              "      <th>NOAA Adjusted Sea Level</th>\n",
              "    </tr>\n",
              "  </thead>\n",
              "  <tbody>\n",
              "    <tr>\n",
              "      <th>0</th>\n",
              "      <td>1880</td>\n",
              "      <td>0.000000</td>\n",
              "      <td>-0.952756</td>\n",
              "      <td>0.952756</td>\n",
              "      <td>NaN</td>\n",
              "    </tr>\n",
              "    <tr>\n",
              "      <th>1</th>\n",
              "      <td>1881</td>\n",
              "      <td>0.220472</td>\n",
              "      <td>-0.732283</td>\n",
              "      <td>1.173228</td>\n",
              "      <td>NaN</td>\n",
              "    </tr>\n",
              "    <tr>\n",
              "      <th>2</th>\n",
              "      <td>1882</td>\n",
              "      <td>-0.440945</td>\n",
              "      <td>-1.346457</td>\n",
              "      <td>0.464567</td>\n",
              "      <td>NaN</td>\n",
              "    </tr>\n",
              "    <tr>\n",
              "      <th>3</th>\n",
              "      <td>1883</td>\n",
              "      <td>-0.232283</td>\n",
              "      <td>-1.129921</td>\n",
              "      <td>0.665354</td>\n",
              "      <td>NaN</td>\n",
              "    </tr>\n",
              "    <tr>\n",
              "      <th>4</th>\n",
              "      <td>1884</td>\n",
              "      <td>0.590551</td>\n",
              "      <td>-0.283465</td>\n",
              "      <td>1.464567</td>\n",
              "      <td>NaN</td>\n",
              "    </tr>\n",
              "    <tr>\n",
              "      <th>5</th>\n",
              "      <td>1885</td>\n",
              "      <td>0.531496</td>\n",
              "      <td>-0.330709</td>\n",
              "      <td>1.393701</td>\n",
              "      <td>NaN</td>\n",
              "    </tr>\n",
              "    <tr>\n",
              "      <th>6</th>\n",
              "      <td>1886</td>\n",
              "      <td>0.437008</td>\n",
              "      <td>-0.381890</td>\n",
              "      <td>1.255906</td>\n",
              "      <td>NaN</td>\n",
              "    </tr>\n",
              "    <tr>\n",
              "      <th>7</th>\n",
              "      <td>1887</td>\n",
              "      <td>0.216535</td>\n",
              "      <td>-0.602362</td>\n",
              "      <td>1.035433</td>\n",
              "      <td>NaN</td>\n",
              "    </tr>\n",
              "    <tr>\n",
              "      <th>8</th>\n",
              "      <td>1888</td>\n",
              "      <td>0.299213</td>\n",
              "      <td>-0.519685</td>\n",
              "      <td>1.118110</td>\n",
              "      <td>NaN</td>\n",
              "    </tr>\n",
              "    <tr>\n",
              "      <th>9</th>\n",
              "      <td>1889</td>\n",
              "      <td>0.362205</td>\n",
              "      <td>-0.456693</td>\n",
              "      <td>1.181102</td>\n",
              "      <td>NaN</td>\n",
              "    </tr>\n",
              "    <tr>\n",
              "      <th>10</th>\n",
              "      <td>1890</td>\n",
              "      <td>0.440945</td>\n",
              "      <td>-0.374016</td>\n",
              "      <td>1.255906</td>\n",
              "      <td>NaN</td>\n",
              "    </tr>\n",
              "    <tr>\n",
              "      <th>11</th>\n",
              "      <td>1891</td>\n",
              "      <td>0.374016</td>\n",
              "      <td>-0.440945</td>\n",
              "      <td>1.188976</td>\n",
              "      <td>NaN</td>\n",
              "    </tr>\n",
              "    <tr>\n",
              "      <th>12</th>\n",
              "      <td>1892</td>\n",
              "      <td>0.500000</td>\n",
              "      <td>-0.314961</td>\n",
              "      <td>1.314961</td>\n",
              "      <td>NaN</td>\n",
              "    </tr>\n",
              "    <tr>\n",
              "      <th>13</th>\n",
              "      <td>1893</td>\n",
              "      <td>0.685039</td>\n",
              "      <td>-0.114173</td>\n",
              "      <td>1.484252</td>\n",
              "      <td>NaN</td>\n",
              "    </tr>\n",
              "    <tr>\n",
              "      <th>14</th>\n",
              "      <td>1894</td>\n",
              "      <td>0.303150</td>\n",
              "      <td>-0.547244</td>\n",
              "      <td>1.153543</td>\n",
              "      <td>NaN</td>\n",
              "    </tr>\n",
              "    <tr>\n",
              "      <th>15</th>\n",
              "      <td>1895</td>\n",
              "      <td>0.767717</td>\n",
              "      <td>-0.082677</td>\n",
              "      <td>1.618110</td>\n",
              "      <td>NaN</td>\n",
              "    </tr>\n",
              "    <tr>\n",
              "      <th>16</th>\n",
              "      <td>1896</td>\n",
              "      <td>0.468504</td>\n",
              "      <td>-0.366142</td>\n",
              "      <td>1.303150</td>\n",
              "      <td>NaN</td>\n",
              "    </tr>\n",
              "    <tr>\n",
              "      <th>17</th>\n",
              "      <td>1897</td>\n",
              "      <td>0.673228</td>\n",
              "      <td>-0.145669</td>\n",
              "      <td>1.492126</td>\n",
              "      <td>NaN</td>\n",
              "    </tr>\n",
              "    <tr>\n",
              "      <th>18</th>\n",
              "      <td>1898</td>\n",
              "      <td>1.043307</td>\n",
              "      <td>0.267717</td>\n",
              "      <td>1.818898</td>\n",
              "      <td>NaN</td>\n",
              "    </tr>\n",
              "    <tr>\n",
              "      <th>19</th>\n",
              "      <td>1899</td>\n",
              "      <td>1.338583</td>\n",
              "      <td>0.574803</td>\n",
              "      <td>2.102362</td>\n",
              "      <td>NaN</td>\n",
              "    </tr>\n",
              "  </tbody>\n",
              "</table>\n",
              "</div>\n",
              "      <button class=\"colab-df-convert\" onclick=\"convertToInteractive('df-aaa14dc7-c71d-4e71-bfe0-438bebbac0ca')\"\n",
              "              title=\"Convert this dataframe to an interactive table.\"\n",
              "              style=\"display:none;\">\n",
              "        \n",
              "  <svg xmlns=\"http://www.w3.org/2000/svg\" height=\"24px\"viewBox=\"0 0 24 24\"\n",
              "       width=\"24px\">\n",
              "    <path d=\"M0 0h24v24H0V0z\" fill=\"none\"/>\n",
              "    <path d=\"M18.56 5.44l.94 2.06.94-2.06 2.06-.94-2.06-.94-.94-2.06-.94 2.06-2.06.94zm-11 1L8.5 8.5l.94-2.06 2.06-.94-2.06-.94L8.5 2.5l-.94 2.06-2.06.94zm10 10l.94 2.06.94-2.06 2.06-.94-2.06-.94-.94-2.06-.94 2.06-2.06.94z\"/><path d=\"M17.41 7.96l-1.37-1.37c-.4-.4-.92-.59-1.43-.59-.52 0-1.04.2-1.43.59L10.3 9.45l-7.72 7.72c-.78.78-.78 2.05 0 2.83L4 21.41c.39.39.9.59 1.41.59.51 0 1.02-.2 1.41-.59l7.78-7.78 2.81-2.81c.8-.78.8-2.07 0-2.86zM5.41 20L4 18.59l7.72-7.72 1.47 1.35L5.41 20z\"/>\n",
              "  </svg>\n",
              "      </button>\n",
              "      \n",
              "  <style>\n",
              "    .colab-df-container {\n",
              "      display:flex;\n",
              "      flex-wrap:wrap;\n",
              "      gap: 12px;\n",
              "    }\n",
              "\n",
              "    .colab-df-convert {\n",
              "      background-color: #E8F0FE;\n",
              "      border: none;\n",
              "      border-radius: 50%;\n",
              "      cursor: pointer;\n",
              "      display: none;\n",
              "      fill: #1967D2;\n",
              "      height: 32px;\n",
              "      padding: 0 0 0 0;\n",
              "      width: 32px;\n",
              "    }\n",
              "\n",
              "    .colab-df-convert:hover {\n",
              "      background-color: #E2EBFA;\n",
              "      box-shadow: 0px 1px 2px rgba(60, 64, 67, 0.3), 0px 1px 3px 1px rgba(60, 64, 67, 0.15);\n",
              "      fill: #174EA6;\n",
              "    }\n",
              "\n",
              "    [theme=dark] .colab-df-convert {\n",
              "      background-color: #3B4455;\n",
              "      fill: #D2E3FC;\n",
              "    }\n",
              "\n",
              "    [theme=dark] .colab-df-convert:hover {\n",
              "      background-color: #434B5C;\n",
              "      box-shadow: 0px 1px 3px 1px rgba(0, 0, 0, 0.15);\n",
              "      filter: drop-shadow(0px 1px 2px rgba(0, 0, 0, 0.3));\n",
              "      fill: #FFFFFF;\n",
              "    }\n",
              "  </style>\n",
              "\n",
              "      <script>\n",
              "        const buttonEl =\n",
              "          document.querySelector('#df-aaa14dc7-c71d-4e71-bfe0-438bebbac0ca button.colab-df-convert');\n",
              "        buttonEl.style.display =\n",
              "          google.colab.kernel.accessAllowed ? 'block' : 'none';\n",
              "\n",
              "        async function convertToInteractive(key) {\n",
              "          const element = document.querySelector('#df-aaa14dc7-c71d-4e71-bfe0-438bebbac0ca');\n",
              "          const dataTable =\n",
              "            await google.colab.kernel.invokeFunction('convertToInteractive',\n",
              "                                                     [key], {});\n",
              "          if (!dataTable) return;\n",
              "\n",
              "          const docLinkHtml = 'Like what you see? Visit the ' +\n",
              "            '<a target=\"_blank\" href=https://colab.research.google.com/notebooks/data_table.ipynb>data table notebook</a>'\n",
              "            + ' to learn more about interactive tables.';\n",
              "          element.innerHTML = '';\n",
              "          dataTable['output_type'] = 'display_data';\n",
              "          await google.colab.output.renderOutput(dataTable, element);\n",
              "          const docLink = document.createElement('div');\n",
              "          docLink.innerHTML = docLinkHtml;\n",
              "          element.appendChild(docLink);\n",
              "        }\n",
              "      </script>\n",
              "    </div>\n",
              "  </div>\n",
              "  "
            ]
          },
          "metadata": {},
          "execution_count": 4
        }
      ]
    },
    {
      "cell_type": "markdown",
      "source": [
        "The dataframe 'sea_level' has 134 rows and 5 columns ('year', CSRIO Adjusted Sea Level, Lower Error Bound,Upper Error Bound and NOAA Adjusted Sea level). The 'NOAA Adjusted Sea Level' column only contains 21 non-null values compared to the other columns. Hence, for further analysis we will focus on the 'CSIRO Adjusted Sea Level' column. \n"
      ],
      "metadata": {
        "id": "7GZfQ2E9D0Si"
      }
    },
    {
      "cell_type": "markdown",
      "source": [
        "###2.  Calculate some basic statistics on the CSIRO Adjusted level array (e.g. mean, standard deviation, total)\n"
      ],
      "metadata": {
        "id": "Nn-zrIYPKaO3"
      }
    },
    {
      "cell_type": "markdown",
      "source": [
        "Before we calculate some basic statistics we check the statistics by using df.describe()"
      ],
      "metadata": {
        "id": "2TDN7RHULMtg"
      }
    },
    {
      "cell_type": "code",
      "source": [
        "sea_level_predictor.describe()"
      ],
      "metadata": {
        "colab": {
          "base_uri": "https://localhost:8080/",
          "height": 300
        },
        "id": "MajERRqHLcze",
        "outputId": "f6a964bf-3fa1-4808-c1b2-52e5100a4135"
      },
      "execution_count": null,
      "outputs": [
        {
          "output_type": "execute_result",
          "data": {
            "text/plain": [
              "              Year  CSIRO Adjusted Sea Level  Lower Error Bound  \\\n",
              "count   134.000000                134.000000         134.000000   \n",
              "mean   1946.500000                  3.650341           3.204666   \n",
              "std      38.826537                  2.485692           2.663781   \n",
              "min    1880.000000                 -0.440945          -1.346457   \n",
              "25%    1913.250000                  1.632874           1.078740   \n",
              "50%    1946.500000                  3.312992           2.915354   \n",
              "75%    1979.750000                  5.587598           5.329724   \n",
              "max    2013.000000                  9.326772           8.992126   \n",
              "\n",
              "       Upper Error Bound  NOAA Adjusted Sea Level  \n",
              "count         134.000000                21.000000  \n",
              "mean            4.096016                 7.363746  \n",
              "std             2.312581                 0.691038  \n",
              "min             0.464567                 6.297493  \n",
              "25%             2.240157                 6.848690  \n",
              "50%             3.710630                 7.488353  \n",
              "75%             5.845472                 7.907365  \n",
              "max             9.661417                 8.546648  "
            ],
            "text/html": [
              "\n",
              "  <div id=\"df-6e27f659-7b9e-483d-8784-bdcbcf1a1478\">\n",
              "    <div class=\"colab-df-container\">\n",
              "      <div>\n",
              "<style scoped>\n",
              "    .dataframe tbody tr th:only-of-type {\n",
              "        vertical-align: middle;\n",
              "    }\n",
              "\n",
              "    .dataframe tbody tr th {\n",
              "        vertical-align: top;\n",
              "    }\n",
              "\n",
              "    .dataframe thead th {\n",
              "        text-align: right;\n",
              "    }\n",
              "</style>\n",
              "<table border=\"1\" class=\"dataframe\">\n",
              "  <thead>\n",
              "    <tr style=\"text-align: right;\">\n",
              "      <th></th>\n",
              "      <th>Year</th>\n",
              "      <th>CSIRO Adjusted Sea Level</th>\n",
              "      <th>Lower Error Bound</th>\n",
              "      <th>Upper Error Bound</th>\n",
              "      <th>NOAA Adjusted Sea Level</th>\n",
              "    </tr>\n",
              "  </thead>\n",
              "  <tbody>\n",
              "    <tr>\n",
              "      <th>count</th>\n",
              "      <td>134.000000</td>\n",
              "      <td>134.000000</td>\n",
              "      <td>134.000000</td>\n",
              "      <td>134.000000</td>\n",
              "      <td>21.000000</td>\n",
              "    </tr>\n",
              "    <tr>\n",
              "      <th>mean</th>\n",
              "      <td>1946.500000</td>\n",
              "      <td>3.650341</td>\n",
              "      <td>3.204666</td>\n",
              "      <td>4.096016</td>\n",
              "      <td>7.363746</td>\n",
              "    </tr>\n",
              "    <tr>\n",
              "      <th>std</th>\n",
              "      <td>38.826537</td>\n",
              "      <td>2.485692</td>\n",
              "      <td>2.663781</td>\n",
              "      <td>2.312581</td>\n",
              "      <td>0.691038</td>\n",
              "    </tr>\n",
              "    <tr>\n",
              "      <th>min</th>\n",
              "      <td>1880.000000</td>\n",
              "      <td>-0.440945</td>\n",
              "      <td>-1.346457</td>\n",
              "      <td>0.464567</td>\n",
              "      <td>6.297493</td>\n",
              "    </tr>\n",
              "    <tr>\n",
              "      <th>25%</th>\n",
              "      <td>1913.250000</td>\n",
              "      <td>1.632874</td>\n",
              "      <td>1.078740</td>\n",
              "      <td>2.240157</td>\n",
              "      <td>6.848690</td>\n",
              "    </tr>\n",
              "    <tr>\n",
              "      <th>50%</th>\n",
              "      <td>1946.500000</td>\n",
              "      <td>3.312992</td>\n",
              "      <td>2.915354</td>\n",
              "      <td>3.710630</td>\n",
              "      <td>7.488353</td>\n",
              "    </tr>\n",
              "    <tr>\n",
              "      <th>75%</th>\n",
              "      <td>1979.750000</td>\n",
              "      <td>5.587598</td>\n",
              "      <td>5.329724</td>\n",
              "      <td>5.845472</td>\n",
              "      <td>7.907365</td>\n",
              "    </tr>\n",
              "    <tr>\n",
              "      <th>max</th>\n",
              "      <td>2013.000000</td>\n",
              "      <td>9.326772</td>\n",
              "      <td>8.992126</td>\n",
              "      <td>9.661417</td>\n",
              "      <td>8.546648</td>\n",
              "    </tr>\n",
              "  </tbody>\n",
              "</table>\n",
              "</div>\n",
              "      <button class=\"colab-df-convert\" onclick=\"convertToInteractive('df-6e27f659-7b9e-483d-8784-bdcbcf1a1478')\"\n",
              "              title=\"Convert this dataframe to an interactive table.\"\n",
              "              style=\"display:none;\">\n",
              "        \n",
              "  <svg xmlns=\"http://www.w3.org/2000/svg\" height=\"24px\"viewBox=\"0 0 24 24\"\n",
              "       width=\"24px\">\n",
              "    <path d=\"M0 0h24v24H0V0z\" fill=\"none\"/>\n",
              "    <path d=\"M18.56 5.44l.94 2.06.94-2.06 2.06-.94-2.06-.94-.94-2.06-.94 2.06-2.06.94zm-11 1L8.5 8.5l.94-2.06 2.06-.94-2.06-.94L8.5 2.5l-.94 2.06-2.06.94zm10 10l.94 2.06.94-2.06 2.06-.94-2.06-.94-.94-2.06-.94 2.06-2.06.94z\"/><path d=\"M17.41 7.96l-1.37-1.37c-.4-.4-.92-.59-1.43-.59-.52 0-1.04.2-1.43.59L10.3 9.45l-7.72 7.72c-.78.78-.78 2.05 0 2.83L4 21.41c.39.39.9.59 1.41.59.51 0 1.02-.2 1.41-.59l7.78-7.78 2.81-2.81c.8-.78.8-2.07 0-2.86zM5.41 20L4 18.59l7.72-7.72 1.47 1.35L5.41 20z\"/>\n",
              "  </svg>\n",
              "      </button>\n",
              "      \n",
              "  <style>\n",
              "    .colab-df-container {\n",
              "      display:flex;\n",
              "      flex-wrap:wrap;\n",
              "      gap: 12px;\n",
              "    }\n",
              "\n",
              "    .colab-df-convert {\n",
              "      background-color: #E8F0FE;\n",
              "      border: none;\n",
              "      border-radius: 50%;\n",
              "      cursor: pointer;\n",
              "      display: none;\n",
              "      fill: #1967D2;\n",
              "      height: 32px;\n",
              "      padding: 0 0 0 0;\n",
              "      width: 32px;\n",
              "    }\n",
              "\n",
              "    .colab-df-convert:hover {\n",
              "      background-color: #E2EBFA;\n",
              "      box-shadow: 0px 1px 2px rgba(60, 64, 67, 0.3), 0px 1px 3px 1px rgba(60, 64, 67, 0.15);\n",
              "      fill: #174EA6;\n",
              "    }\n",
              "\n",
              "    [theme=dark] .colab-df-convert {\n",
              "      background-color: #3B4455;\n",
              "      fill: #D2E3FC;\n",
              "    }\n",
              "\n",
              "    [theme=dark] .colab-df-convert:hover {\n",
              "      background-color: #434B5C;\n",
              "      box-shadow: 0px 1px 3px 1px rgba(0, 0, 0, 0.15);\n",
              "      filter: drop-shadow(0px 1px 2px rgba(0, 0, 0, 0.3));\n",
              "      fill: #FFFFFF;\n",
              "    }\n",
              "  </style>\n",
              "\n",
              "      <script>\n",
              "        const buttonEl =\n",
              "          document.querySelector('#df-6e27f659-7b9e-483d-8784-bdcbcf1a1478 button.colab-df-convert');\n",
              "        buttonEl.style.display =\n",
              "          google.colab.kernel.accessAllowed ? 'block' : 'none';\n",
              "\n",
              "        async function convertToInteractive(key) {\n",
              "          const element = document.querySelector('#df-6e27f659-7b9e-483d-8784-bdcbcf1a1478');\n",
              "          const dataTable =\n",
              "            await google.colab.kernel.invokeFunction('convertToInteractive',\n",
              "                                                     [key], {});\n",
              "          if (!dataTable) return;\n",
              "\n",
              "          const docLinkHtml = 'Like what you see? Visit the ' +\n",
              "            '<a target=\"_blank\" href=https://colab.research.google.com/notebooks/data_table.ipynb>data table notebook</a>'\n",
              "            + ' to learn more about interactive tables.';\n",
              "          element.innerHTML = '';\n",
              "          dataTable['output_type'] = 'display_data';\n",
              "          await google.colab.output.renderOutput(dataTable, element);\n",
              "          const docLink = document.createElement('div');\n",
              "          docLink.innerHTML = docLinkHtml;\n",
              "          element.appendChild(docLink);\n",
              "        }\n",
              "      </script>\n",
              "    </div>\n",
              "  </div>\n",
              "  "
            ]
          },
          "metadata": {},
          "execution_count": 5
        }
      ]
    },
    {
      "cell_type": "markdown",
      "source": [
        "Having foung the values for mean, standard deviation we can now proceed to calculate these ourselves. \n",
        "\n",
        "1.   First we store columns year and CSIRO columns into two different arrays: year_arr and sea_level_arr\n",
        "2.   Using both arrays we proceed to calculate the mean, standard deviation, total max and minimum value.\n",
        "\n",
        "1.   Use the fact that the arrays are aligned (e.g. the first number in the level array is linked to the first year in the year array and display:\n",
        "\n",
        "*  the year with the biggest rise in level\n",
        "*  the year with the lowest rise in level\n",
        "\n",
        "*(**Hint**:  to do this np.where() can be used)*\n",
        " ```\n",
        "np.where(array == value_to_find)\n",
        "```\n",
        "*There is some reference material [here](https://thispointer.com/find-the-index-of-a-value-in-numpy-array/)*\n",
        "\n",
        "**Note**: ```np.where(...)``` will return a tuple containing all indexes where that value was found.  You can print all, or you can print the first value (it is likely that there will only be one in this case) using [0][0].  *With the correct code you should get an answer of 2012*\n",
        "\n",
        "\n",
        "3.  Calculate the Pearson product-moment correlation coefficient between year and the rise in sea level.  (*Expected output:  0.98 when rounded to 2 decimal places*)\n",
        "\n",
        "\n",
        "\n",
        "\n"
      ],
      "metadata": {
        "id": "SebLmvrMMIGQ"
      }
    },
    {
      "cell_type": "code",
      "source": [
        "\n",
        "\n",
        "def sea_level():\n",
        "  #storing the values of column 'year' and column 'CSIRO Adjusted Sea Level', datatypes:int64, float64\n",
        "  #defining the data types of each array\n",
        "  year_arr=sea_level_predictor[\"Year\"].to_numpy(np.int64)\n",
        "  sea_level_arr=sea_level_predictor[\"CSIRO Adjusted Sea Level\"].to_numpy(np.float64)\n",
        "\n",
        "  #calculating some basic statistics on sea_level_arr\n",
        "  #calculates the mean\n",
        "  average_level=sea_level_arr.mean() \n",
        "  #calculated de standard deviation\n",
        "  SD=sea_level_arr.std()    \n",
        "  #calculating the sum of all sea_level_arr values\n",
        "  total=sea_level_arr.sum() \n",
        "  #calculating the max adjusted sea level\n",
        "  max=sea_level_arr.max()\n",
        "  #calculating the min adjusted sea level\n",
        "  min=sea_level_arr.min()\n",
        "\n",
        "\n",
        "  #return  average_level, SD, total, coeff, max, (year_arr[biggest_year]), (year_arr[lowest_year])\n",
        "  print(\"\\n average:    \", average_level, \"\\n standard deviation:\", SD,\"\\n total:\", total, \"\\n max.\",  max, \"\\n min:\", min)\n",
        "\n",
        "\n",
        "sea_level()"
      ],
      "metadata": {
        "colab": {
          "base_uri": "https://localhost:8080/"
        },
        "id": "j7VBYeOCLFEH",
        "outputId": "8b66623b-ff07-473b-addd-2088429a409e"
      },
      "execution_count": null,
      "outputs": [
        {
          "output_type": "stream",
          "name": "stdout",
          "text": [
            "\n",
            " average:     3.650340811880598 \n",
            " standard deviation: 2.476399631426498 \n",
            " total: 489.1456687920001 \n",
            " max. 9.326771644 \n",
            " min: -0.440944881\n"
          ]
        }
      ]
    },
    {
      "cell_type": "markdown",
      "source": [
        "The basic statistics calculated above on the CSIRO adjusted sea level are the same obtained previously using the df.describe function (see screenshot below.) \n",
        "\n",
        "\n",
        "![image.png](data:image/png;base64,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)"
      ],
      "metadata": {
        "id": "6upCTGTkxUPJ"
      }
    },
    {
      "cell_type": "markdown",
      "source": [
        "###3. Finding out the year with the highest and lowest sea level rise\n",
        "---\n",
        "\n",
        " Using the fact that the arrays are aligned (e.g. the first number in the level array is linked to the first year in the year array and display):\n",
        "\n",
        "*  the year with the biggest rise in level\n",
        "*  the year with the lowest rise in level\n",
        "\n",
        "*(**Hint**:  to do this np.where() can be used)*\n",
        " ```\n",
        "np.where(array == value_to_find)\n",
        "```\n",
        "*There is some reference material [here](https://thispointer.com/find-the-index-of-a-value-in-numpy-array/)*\n",
        "\n",
        "**Note**: ```np.where(...)``` will return a tuple containing all indexes where that value was found.  You can print all, or you can print the first value (it is likely that there will only be one in this case) using [0][0].  *With the correct code you should get an answer of 2012*\n"
      ],
      "metadata": {
        "id": "6qMsizRWzrCQ"
      }
    },
    {
      "cell_type": "code",
      "source": [
        "def sea_level_rise():\n",
        "  #storing the values of column 'year' and column 'CSIRO Adjusted Sea Level', datatypes:int64, float64\n",
        "  #defining the data types of each array\n",
        "  year_arr=sea_level_predictor[\"Year\"].to_numpy(np.int64)\n",
        "  sea_level_arr=sea_level_predictor[\"CSIRO Adjusted Sea Level\"].to_numpy(np.float64)\n",
        "\n",
        "  #Calculating the max sea level\n",
        "  max=sea_level_arr.max()\n",
        "\n",
        "  #Calculating the min sea level\n",
        "  min=sea_level_arr.min()\n",
        " \n",
        "  #Using max and min values to calculate the years in which the sea level rose at its highest and lowest respectively\n",
        "   #here we use the function np.where() to specify what we are looking for in the array\n",
        "  #[0] [0] tell us the position aka the year in which the max. value is found\n",
        "  biggest_year=np.where(sea_level_arr==max)[0][0]\n",
        "  lowest_year=np.where(sea_level_arr==min)[0][0]\n",
        "\n",
        "  #return (year_arr[biggest_year]), (year_arr[lowest_year])\n",
        "  print(\"\\n year with the LOWEST sea_level: \", (year_arr[lowest_year]),\"\\n year with the HIGHEST sea_level: \",  (year_arr[biggest_year]), )\n",
        "\n",
        "\n",
        "sea_level_rise()\n",
        "\n",
        "\n"
      ],
      "metadata": {
        "colab": {
          "base_uri": "https://localhost:8080/"
        },
        "id": "QaaH3Ofn0BMD",
        "outputId": "999ce4d6-6a12-4e2e-8b4a-2f4a3bca2841"
      },
      "execution_count": null,
      "outputs": [
        {
          "output_type": "stream",
          "name": "stdout",
          "text": [
            "\n",
            " year with the LOWEST sea_level:  1882 \n",
            " year with the HIGHEST sea_level:  2012\n"
          ]
        }
      ]
    },
    {
      "cell_type": "markdown",
      "source": [
        "The year with the lowest sea level was 1882 while the highest was 2012. We will now look into the correlation of these variable to see whether the sea level have increase per year."
      ],
      "metadata": {
        "id": "FwiOd_1_3WGy"
      }
    },
    {
      "cell_type": "markdown",
      "source": [
        "###4. Is there a correlation between 'year' and 'sea level' \n",
        "---"
      ],
      "metadata": {
        "id": "qdqdCkaj0EJ7"
      }
    },
    {
      "cell_type": "markdown",
      "source": [
        "The Pearson (product-moment) correlation coefficient is a measure of the linear relationship between two features, in this case time (year) and sea level. It is often denoted with the letter r and called Pearson’s r. The closer the values are to 1 the more positive the correlation between the two features is. The closer to -1 the less correlation there is. Pearson's r can take any value in the range −1 ≤ r ≤ 1."
      ],
      "metadata": {
        "id": "mGyoyc5---Bo"
      }
    },
    {
      "cell_type": "code",
      "source": [
        "def year_sea_correlation():\n",
        "  #storing the values of column 'year' and column 'CSIRO Adjusted Sea Level', datatypes:int64, float64\n",
        "  #defining the data types of each array\n",
        "  year_arr=sea_level_predictor[\"Year\"].to_numpy(np.int64)\n",
        "  sea_level_arr=sea_level_predictor[\"CSIRO Adjusted Sea Level\"].to_numpy(np.float64)\n",
        "\n",
        "  #Calculating the association between variables or features of a dataset.\n",
        "  #In this case we are looking at the correlation between year and sea level.\n",
        "  coeff=np.corrcoef(year_arr, sea_level_arr)\n",
        "\n",
        "  return coeff\n",
        "  \n",
        "year_sea_correlation()\n",
        "\n",
        " \n",
        "  \n",
        "  "
      ],
      "metadata": {
        "colab": {
          "base_uri": "https://localhost:8080/"
        },
        "id": "ECZA_pwx0YgJ",
        "outputId": "8a6b3599-a86f-4307-b0f2-28d4607e1235"
      },
      "execution_count": null,
      "outputs": [
        {
          "output_type": "execute_result",
          "data": {
            "text/plain": [
              "array([[1.        , 0.98475713],\n",
              "       [0.98475713, 1.        ]])"
            ]
          },
          "metadata": {},
          "execution_count": 20
        }
      ]
    },
    {
      "cell_type": "markdown",
      "source": [
        "The Pearson's correlation coefficient (r) for year and sea_level is 0.98 showing a positive correlation between both the sea level and time(year). "
      ],
      "metadata": {
        "id": "iSBYbeCY9bIE"
      }
    },
    {
      "cell_type": "markdown",
      "source": [
        "### 5. Predicting sea levels for 2050\n",
        "---\n"
      ],
      "metadata": {
        "id": "9Wfqm7qqBhW7"
      }
    },
    {
      "cell_type": "code",
      "source": [
        "import seaborn as sns\n",
        "import matplotlib.pyplot as plt\n",
        "\n",
        "\n",
        "def predicting_sea_levels():\n",
        "  #assigning 'Year' to x and 'CSIRO Adjusted Sea Level' to y\n",
        "  x=sea_level_predictor[\"Year\"]\n",
        "  y=sea_level_predictor[\"CSIRO Adjusted Sea Level\"]\n",
        "\n",
        "  #plotting the original data from year 1880 to 2012 with a line of best fit\n",
        "  plt.scatter(x,y)\n",
        "  regression=linregress(x,y)\n",
        "  slope=regression.slope\n",
        "  intercept = regression.intercept\n",
        "  \n",
        "  chart=sns.regplot(x=x, y=y)\n",
        "  chart.set_xlabel('Years')\n",
        "  chart.set_ylabel('CSIRO Adjusted Sea Level')\n",
        "  plt.show()\n",
        "\n",
        "  #predicting sea levels rising to year 2050\n",
        "  plt.scatter(x,y)\n",
        "  regression = linregress(x,y)#THEN ASSIGN RESULT OF REGRESSION TO THE PLOT\n",
        "  slope = regression.slope\n",
        "  intercept = regression.intercept\n",
        "  prediction=np.arange(1880,2051)\n",
        "  plt.plot(prediction, slope*prediction + intercept)#PLOT LINE REGRESSION\n",
        "  chart=sns.regplot(x=x, y=y)\n",
        "  chart.set_xlabel('Years')\n",
        "  chart.set_ylabel('CSIRO Adjusted Sea Level')\n",
        "  plt.show()\n",
        "\n",
        "  \n",
        "  print(regression,\"\\n\", \"slope:\", regression.slope,\"\\n\", \"r square:\", regression.rvalue,\"\\n\", \"y-intercept:\", regression.intercept,\"\\n\",\"p value=\",regression.pvalue)\n",
        "\n",
        "predicting_sea_levels()"
      ],
      "metadata": {
        "id": "6lfaNPsYFy0t",
        "colab": {
          "base_uri": "https://localhost:8080/",
          "height": 648
        },
        "outputId": "bfaa9f61-1b70-48dd-9a76-cf6d1b7ecd41"
      },
      "execution_count": null,
      "outputs": [
        {
          "output_type": "display_data",
          "data": {
            "text/plain": [
              "<Figure size 432x288 with 1 Axes>"
            ],
            "image/png": "[encoded data removed]"
          },
          "metadata": {
            "needs_background": "light"
          }
        },
        {
          "output_type": "display_data",
          "data": {
            "text/plain": [
              "<Figure size 432x288 with 1 Axes>"
            ],
            "image/png": "[encoded data removed]"
          },
          "metadata": {
            "needs_background": "light"
          }
        },
        {
          "output_type": "stream",
          "name": "stdout",
          "text": [
            "LinregressResult(slope=0.0630445840121348, intercept=-119.06594196773978, rvalue=0.984757131182585, pvalue=3.7886969791131554e-102, stderr=0.000969211871328715) \n",
            " slope: 0.0630445840121348 \n",
            " r square: 0.984757131182585 \n",
            " y-intercept: -119.06594196773978 \n",
            " p value= 3.7886969791131554e-102\n"
          ]
        }
      ]
    },
    {
      "cell_type": "markdown",
      "source": [
        "*The top graph shows the linear correlation with a line of best fit up until year 2012. The  bottom graph shows line of best fit up until year 2050. It is clear from the data that there has been a significant (p<0.05) increase in sea levels over the years (r=0.98, slope=0.063) and that the trend will continue for years to come. However, not as it has so far. From year 2000 sea levels have increased steeply. It is therefore necessary to look at the data from 2000 onwards separately, and recalculate a line of best to be able to make a more accurate prediction.*"
      ],
      "metadata": {
        "id": "lyE-n68eSnqV"
      }
    },
    {
      "cell_type": "markdown",
      "source": [
        "**Calculating a line of best fit from year 2000 to year 2050**"
      ],
      "metadata": {
        "id": "1TTfCYEsSXk2"
      }
    },
    {
      "cell_type": "code",
      "source": [
        "def predicting_sea_levels():\n",
        "  x=sea_level_predictor[\"Year\"]\n",
        "  y=sea_level_predictor[\"CSIRO Adjusted Sea Level\"]\n",
        "\n",
        "  #plotting the data  and line of best fit from 1880 to 2012 (blue)\n",
        "  plt.scatter(x,y)\n",
        "  regression=linregress(x,y)\n",
        "  slope=regression.slope\n",
        "  intercept = regression.intercept\n",
        "  #line of best fit from year 2012 to year 2050 (orange)\n",
        "  plt.scatter(x,y)\n",
        "  regression = linregress(x,y)\n",
        "  slope = regression.slope\n",
        "  intercept = regression.intercept\n",
        "  prediction=np.arange(1880,2051)#making the prediction\n",
        "  plt.plot(prediction, slope*prediction + intercept, color='orange')#PLOT LINE REGRESSION\n",
        "  chart=sns.regplot(x=x, y=y)\n",
        "  chart.set_xlabel('Years')\n",
        "  chart.set_ylabel('CSIRO Adjusted Sea Level')\n",
        "  plt.show()#top graph, bottom graph above\n",
        "\n",
        "  #x and y  values from year 2000 onwards to calculate a line of best fit (blue)\n",
        "  x2=sea_level_predictor[sea_level_predictor[\"Year\"]>=2000]['Year']\n",
        "  y2=sea_level_predictor[sea_level_predictor['Year']>=2000][\"CSIRO Adjusted Sea Level\"]\n",
        "\n",
        "  plt.scatter(x2,y2)\n",
        "  regression=linregress(x2,y2)\n",
        "  slope=regression.slope\n",
        "  intercept = regression.intercept\n",
        "  prediction=np.arange(2000,2051)#making the prediction from year 2000 to year 2051\n",
        "  plt.plot(prediction, slope*prediction + intercept, color='green')#PLOT LINE REGRESSION\n",
        "  chart=sns.regplot(x=x, y=y)\n",
        "  chart.set_xlabel('Years')\n",
        "  chart.set_ylabel('CSIRO Adjusted Sea Level')\n",
        "  plt.show()#bottom graph showing how different line of best fits are\n",
        "  print(regression,\"\\n\", \"slope:\", regression.slope,\"\\n\", \"r square:\", regression.rvalue,\"\\n\", \"y-intercept:\", regression.intercept,\"\\n\",\"p value=\",regression.pvalue)\n",
        "predicting_sea_levels()"
      ],
      "metadata": {
        "colab": {
          "base_uri": "https://localhost:8080/",
          "height": 650
        },
        "id": "zuW38yHGKH4V",
        "outputId": "e5875858-2e40-4aeb-efb2-ad7b5491bd47"
      },
      "execution_count": null,
      "outputs": [
        {
          "output_type": "display_data",
          "data": {
            "text/plain": [
              "<Figure size 432x288 with 1 Axes>"
            ],
            "image/png": "[encoded data removed]"
          },
          "metadata": {
            "needs_background": "light"
          }
        },
        {
          "output_type": "display_data",
          "data": {
            "text/plain": [
              "<Figure size 432x288 with 1 Axes>"
            ],
            "image/png": "[encoded data removed]"
          },
          "metadata": {
            "needs_background": "light"
          }
        },
        {
          "output_type": "stream",
          "name": "stdout",
          "text": [
            "LinregressResult(slope=0.1664272733318682, intercept=-325.7934668059649, rvalue=0.9762875716140618, pvalue=2.4388064141618245e-09, stderr=0.010652933111541163) \n",
            " slope: 0.1664272733318682 \n",
            " r square: 0.9762875716140618 \n",
            " y-intercept: -325.7934668059649 \n",
            " p value= 2.4388064141618245e-09\n"
          ]
        }
      ]
    },
    {
      "cell_type": "markdown",
      "source": [
        "*The top graph here is the same as the one created in the previous exercise and is here just for reference (slope=0.063, r=0.984757131182585, p=3.7886969791131554e-102, sd=0.000969). The bottom graph shows how the line of best fit (green) from year 2000 onwards is much steeper (slope=0.166, p< 0.05) than the line (blue) created with data from before year 2000 (slope=0.063). This was expected since the data collected from 2000 onwards indicated a faster increase in sea levels over time. By plotting a line of best fit based on the data from 2000 onwards a more reliable prediction for year 2050 can be made. The results indicate that sea levels may rise much more rapidly than before.*"
      ],
      "metadata": {
        "id": "KqHWyTEJbTGL"
      }
    },
    {
      "cell_type": "markdown",
      "source": [
        "# Conclusion\n",
        "---\n",
        "*The data used in this project has shown that there is a significant correlation between sea level rise and time. Although the rise in sea level has been constant since 1880, from year 2000 the rise has been much faster. Thus in order to make an appropriate prediction about the sea level rise for year 2050 a new line of best fit was calculated using the data from 2000 onwards. Plotting all data together including the appropriate lines of best fits showed how much faster the sea level would rise by 2050. This is in line with a study published back in 2019 in which it was projected that in both low and high emission scenarios the sea level would rise between 30 and 34 cms by 2050 generating in turn a rise in the frequency of coastal floodings leading to the displacement of people among other consequences (L.Bamber, Jonathan; Oppenheimer, Michael; E. Kopp, Robert; P. Aspinall, Willy; M. Cooke, Roger (May 2019). \"Ice sheet contributions to future sea-level rise from structured expert judgment\". Proceedings of the National Academy of Sciences.).*\n"
      ],
      "metadata": {
        "id": "Em7uRO_cjXRp"
      }
    },
    {
      "cell_type": "markdown",
      "metadata": {
        "id": "yQyytEbnZ1lw"
      },
      "source": [
        "# Reflection\n",
        "----\n",
        "\n",
        "## What skills have you demonstrated in completing this notebook?"
      ]
    },
    {
      "cell_type": "markdown",
      "metadata": {
        "id": "MM00hR5aZk1-"
      },
      "source": [
        "Your answer: Transforming datasets into numpy arrays for analysis and making predictions based on available data"
      ]
    },
    {
      "cell_type": "markdown",
      "metadata": {
        "id": "Zgexd27sZ1ly"
      },
      "source": [
        "## What caused you the most difficulty?"
      ]
    },
    {
      "cell_type": "markdown",
      "metadata": {
        "id": "-Y_nrVBwaGXr"
      },
      "source": [
        "Your answer: creating a new line of best fit that would make a more accurate prediction for year 2050. "
      ]
    }
  ]
}
