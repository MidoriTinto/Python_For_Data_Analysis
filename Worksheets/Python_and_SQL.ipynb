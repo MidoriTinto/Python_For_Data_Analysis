{
  "nbformat": 4,
  "nbformat_minor": 0,
  "metadata": {
    "colab": {
      "name": "Python and SQL.ipynb",
      "provenance": [],
      "collapsed_sections": [],
      "include_colab_link": true
    },
    "kernelspec": {
      "name": "python3",
      "display_name": "Python 3"
    },
    "language_info": {
      "name": "python"
    }
  },
  "cells": [
    {
      "cell_type": "markdown",
      "metadata": {
        "id": "view-in-github",
        "colab_type": "text"
      },
      "source": [
        "<a href=\"https://colab.research.google.com/github/MidoriTinto/Python_For_Data_Analysis/blob/main/Worksheets/Python_and_SQL.ipynb\" target=\"_parent\"><img src=\"https://colab.research.google.com/assets/colab-badge.svg\" alt=\"Open In Colab\"/></a>"
      ]
    },
    {
      "cell_type": "markdown",
      "source": [
        "# Using SQL in Python \n",
        "---\n",
        "\n",
        "There are a number of varieties of SQL (Oracle SQL, mySQL, postgreSQL, etc).  Each has slight differences in the language it uses to interrogate databases in it particular format.  \n",
        "\n",
        "Here, a mysql database will be inspect using mySQL."
      ],
      "metadata": {
        "id": "nLBNoVxWJPoC"
      }
    },
    {
      "cell_type": "markdown",
      "metadata": {
        "id": "ROXkJnDKhNP-"
      },
      "source": [
        "### Install the SQL library mysql.connector\n",
        "---\n",
        "\n",
        "\n",
        "Each time you have downloaded this worksheet you will need to re-install the library to allow you to use the mysql.connector library, which will connect to the database and run the queries.  \n",
        "\n",
        "RUN THE CODE IN THE CELL BELOW TO INSTALL mysql.connector"
      ]
    },
    {
      "cell_type": "code",
      "metadata": {
        "id": "jmGMyke9hNP_",
        "colab": {
          "base_uri": "https://localhost:8080/"
        },
        "outputId": "e6dce202-7aad-4392-aed3-040c10744b64"
      },
      "source": [
        "# colab does not have mysql automatically installed, so you must run this code once to install it each time you reopen the colab document\n",
        "!pip install mysql.connector"
      ],
      "execution_count": 1,
      "outputs": [
        {
          "output_type": "stream",
          "name": "stdout",
          "text": [
            "Looking in indexes: https://pypi.org/simple, https://us-python.pkg.dev/colab-wheels/public/simple/\n",
            "Collecting mysql.connector\n",
            "  Downloading mysql-connector-2.2.9.tar.gz (11.9 MB)\n",
            "\u001b[K     |████████████████████████████████| 11.9 MB 5.3 MB/s \n",
            "\u001b[?25hBuilding wheels for collected packages: mysql.connector\n",
            "  Building wheel for mysql.connector (setup.py) ... \u001b[?25l\u001b[?25hdone\n",
            "  Created wheel for mysql.connector: filename=mysql_connector-2.2.9-cp37-cp37m-linux_x86_64.whl size=247965 sha256=788d79f73ae988d54abccc28c0e9518289974820539dd49e39d3875f9177194a\n",
            "  Stored in directory: /root/.cache/pip/wheels/42/2f/c3/692fc7fc1f0d8c06b9175d94f0fc30f4f92348f5df5af1b8b7\n",
            "Successfully built mysql.connector\n",
            "Installing collected packages: mysql.connector\n",
            "Successfully installed mysql.connector-2.2.9\n"
          ]
        }
      ]
    },
    {
      "cell_type": "markdown",
      "source": [
        "Each time you write new code to use the functions of the mysql.connector library, you need to add an import at the top of the code cell\n",
        "\n",
        "`import mysql.connector`\n"
      ],
      "metadata": {
        "id": "yVBxRPuWJ2fM"
      }
    },
    {
      "cell_type": "markdown",
      "metadata": {
        "id": "U9nPTmYhhxNd"
      },
      "source": [
        "### To retrieve a database from host \n",
        "---\n",
        "\n",
        "Use the following with the details of the database you want to retrieve: \n",
        "```\n",
        "mydb = mysql.connector.connect(\n",
        "    host= \"\",\n",
        "    port=\"\",\n",
        "    user=\"\",\n",
        "    password=\"\",\n",
        "    database=\"\",\n",
        "    )\n",
        "```\n",
        "\n",
        "To query your database, this function will run and return the query result, dealing with any errors so that they don't crash the code:\n",
        "\n",
        "```\n",
        "def execute_query(query):\n",
        "  mycursor = mydb.cursor()\n",
        "  mycursor.execute(query)\n",
        "  try:\n",
        "    records = mycursor.fetchall()\n",
        "    return records\n",
        "  except(e):\n",
        "    print(\"An error occurred\" + str(e))\n",
        "    return None\n",
        "```\n",
        "to run the function\n",
        "\n",
        "```execute_query(\"....\")```\n",
        "\n",
        "eg. \n",
        "\n",
        "``` execute_query(\"SELECT * FROM table\")```"
      ]
    },
    {
      "cell_type": "markdown",
      "metadata": {
        "id": "0vQ5L27d71Fb"
      },
      "source": [
        "### Get started with the Sales Database \n",
        "---\n",
        "\n",
        "Let's start by looking at a database of sales information.  \n",
        "\n",
        "![image.png](https://relational.fit.cvut.cz/assets/img/datasets-generated/SalesDB.svg)  \n",
        "\n",
        "Use the code cell below to run a first SQL query on this database, to show the tables it holds.  Executing the SQL query \"SHOW TABLES\" will do this, e.g.:  \n",
        "` execute_query(\"SHOW TABLES\")`  \n",
        "\n",
        "Finish the code in the cell below to show the tables. For help, refer to the demonstration videos.\n",
        "\n"
      ]
    },
    {
      "cell_type": "code",
      "metadata": {
        "id": "P72FWVKaimnr",
        "colab": {
          "base_uri": "https://localhost:8080/"
        },
        "outputId": "a598d86e-84db-4d09-e9c8-20987fab3f8c"
      },
      "source": [
        "import mysql.connector\n",
        "\n",
        "mydb = mysql.connector.connect(\n",
        "  host=\"relational.fit.cvut.cz\",\n",
        "  port=\"3306\",\n",
        "  user =\"guest\",\n",
        "  password =\"relational\",\n",
        "  database=\"SalesDB\"\n",
        ")\n",
        "\n",
        "def execute_query(query):\n",
        "  mycursor = mydb.cursor()#connecting to cursor that does the qyery\n",
        "  mycursor.execute(query)\n",
        "  try:#catch errors\n",
        "    records = mycursor.fetchall()\n",
        "    return records\n",
        "  except:\n",
        "    print(\"An error occurred: \")\n",
        "    return None\n",
        "\n",
        "# add your code here to run the SHOW TABLES query with execute_query and print the result\n",
        "x=execute_query(\"SHOW TABLES\")#execute_query called SHOW TABLE\n",
        "for table in x:\n",
        "  print(table[0])#result is tuples - not able to change it. by entering the first item of the table we are accessing the table\n",
        "\n",
        "\n"
      ],
      "execution_count": 2,
      "outputs": [
        {
          "output_type": "stream",
          "name": "stdout",
          "text": [
            "Customers\n",
            "Employees\n",
            "Products\n",
            "Sales\n"
          ]
        }
      ]
    },
    {
      "cell_type": "markdown",
      "source": [
        "### Finding The Number Of Rows in a Table\n",
        "---\n",
        "\n",
        "This query will return the number of row in a table given the table name\n",
        "\n",
        "`\"SELECT COUNT(*) FROM <<table>>\"`\n",
        "\n",
        "* Run a query to get a count of rows in the Sales table.\n",
        "* Run a query to get a count of rows in the Employees table\n",
        "* Challenging:\n",
        "*  *  Write a for loop that will loop through the tables (from the SHOW TABLES query) and will get a count of the rows for each table.  (_Hint:  you can create a query from \"SELECT COUNT(*) FROM \" + table, this [video](https://www.youtube.com/watch?v=WqW6p8smJAQ) demonstrates how you would do this_)"
      ],
      "metadata": {
        "id": "97i9ev8xQVrD"
      }
    },
    {
      "cell_type": "markdown",
      "source": [
        "***Counting rows in table SALES***"
      ],
      "metadata": {
        "id": "h-nUNi7U572Z"
      }
    },
    {
      "cell_type": "code",
      "source": [
        "def execute_query(query):\n",
        "  mycursor = mydb.cursor()#connecting to cursor that does the query\n",
        "  mycursor.execute(query)\n",
        "  try:#catch errors\n",
        "    records = mycursor.fetchall()\n",
        "    return records\n",
        "  except:\n",
        "    print(\"An error occurred: \")\n",
        "    return None\n",
        "\n",
        "x=execute_query(\"SELECT COUNT(*) FROM Sales\")#execute_query called SHOW TABLE\n",
        "for table in x:\n",
        "  print(table[0])#result is tuples - not able to change it. By entering the first item of the table we are accessing the table"
      ],
      "metadata": {
        "id": "mx_yPkEZmAYM",
        "colab": {
          "base_uri": "https://localhost:8080/"
        },
        "outputId": "c152c10d-d9ab-4e87-eb3a-cbfc28b2f81d"
      },
      "execution_count": 3,
      "outputs": [
        {
          "output_type": "stream",
          "name": "stdout",
          "text": [
            "6715221\n"
          ]
        }
      ]
    },
    {
      "cell_type": "markdown",
      "source": [
        "***Counting rows in table Employees***"
      ],
      "metadata": {
        "id": "HqrmAZbY6JeF"
      }
    },
    {
      "cell_type": "code",
      "source": [
        "def execute_query(query):\n",
        "  mycursor = mydb.cursor()#connecting to cursor that does the query\n",
        "  mycursor.execute(query)\n",
        "  try:#catch errors\n",
        "    records = mycursor.fetchall()\n",
        "    return records\n",
        "  except:\n",
        "    print(\"An error occurred: \")\n",
        "    return None\n",
        "\n",
        "# add your code here to run the SHOW TABLES query with execute_query and print the result\n",
        "x=execute_query(\"SELECT COUNT(*) FROM Employees\")#execute_query called SHOW TABLE\n",
        "for table in x:\n",
        "  print(table[0])#result is tuples - not able to change it. by entering the first item of the table we are accessing the table"
      ],
      "metadata": {
        "colab": {
          "base_uri": "https://localhost:8080/"
        },
        "id": "fv3Uca9bjyAO",
        "outputId": "ec78be43-44f9-4998-ee69-a25348bbffc1"
      },
      "execution_count": null,
      "outputs": [
        {
          "output_type": "stream",
          "name": "stdout",
          "text": [
            "23\n"
          ]
        }
      ]
    },
    {
      "cell_type": "code",
      "source": [
        ""
      ],
      "metadata": {
        "id": "kXDDUtjjkJtg"
      },
      "execution_count": null,
      "outputs": []
    },
    {
      "cell_type": "markdown",
      "source": [
        "### Returning the Numbers of Rows of a Table\n",
        "---\n"
      ],
      "metadata": {
        "id": "h-ghPN0uR2B8"
      }
    },
    {
      "cell_type": "markdown",
      "source": [
        "***Get first ten rows of CUSTOMER table***"
      ],
      "metadata": {
        "id": "jxYAndZ-6nhF"
      }
    },
    {
      "cell_type": "code",
      "source": [
        "def execute_query(query):\n",
        "  mycursor = mydb.cursor()#connecting to cursor that does the qyery\n",
        "  mycursor.execute(query)\n",
        "  try:#catch errors\n",
        "    records = mycursor.fetchall()\n",
        "    return records\n",
        "  except:\n",
        "    print(\"An error occurred: \")\n",
        "    return None\n",
        "\n",
        "# add your code here to run the SHOW TABLES query with execute_query and print the result\n",
        "customers=execute_query(\"SELECT * FROM Customers LIMIT 10\")#execute_query shows the first 10 rows in the Customer Table\n",
        "for customer in customers:\n",
        "  print(customer)#result is tuples - not able to change it. by entering the first item of the table we are accessing the table\n"
      ],
      "metadata": {
        "id": "FYyB0UdqT4so",
        "colab": {
          "base_uri": "https://localhost:8080/"
        },
        "outputId": "39ede2d4-90f0-4f57-d778-c902c23dc5e0"
      },
      "execution_count": null,
      "outputs": [
        {
          "output_type": "stream",
          "name": "stdout",
          "text": [
            "(1, 'Aaron', None, 'Alexander')\n",
            "(2, 'Aaron', None, 'Bryant')\n",
            "(3, 'Aaron', None, 'Butler')\n",
            "(4, 'Aaron', None, 'Chen')\n",
            "(5, 'Aaron', None, 'Coleman')\n",
            "(6, 'Aaron', None, 'Con')\n",
            "(7, 'Aaron', None, 'Edwards')\n",
            "(8, 'Aaron', None, 'Flores')\n",
            "(9, 'Aaron', None, 'Foster')\n",
            "(10, 'Aaron', None, 'Gonzales')\n"
          ]
        }
      ]
    },
    {
      "cell_type": "markdown",
      "source": [
        "***Get first 20 rows of CUSTOMER table***"
      ],
      "metadata": {
        "id": "8wNbufR361oZ"
      }
    },
    {
      "cell_type": "code",
      "source": [
        "def execute_query(query):\n",
        "  mycursor = mydb.cursor()#connecting to cursor that does the qyery\n",
        "  mycursor.execute(query)\n",
        "  try:#catch errors\n",
        "    records = mycursor.fetchall()\n",
        "    return records\n",
        "  except:\n",
        "    print(\"An error occurred: \")\n",
        "    return None\n",
        "\n",
        "\n",
        "products=execute_query(\"SELECT * FROM Products LIMIT 20\")#execute_query shows the first 10 rows in the Customer Table\n",
        "for product in products:\n",
        "  print(product)#result is tuples - not able to change it. by entering the first item of the table we are accessing the table\n"
      ],
      "metadata": {
        "colab": {
          "base_uri": "https://localhost:8080/"
        },
        "id": "gvnKMNbrlGT5",
        "outputId": "a20448d1-c8d3-4bce-af9b-d29be791c342"
      },
      "execution_count": null,
      "outputs": [
        {
          "output_type": "stream",
          "name": "stdout",
          "text": [
            "(1, 'Adjustable Race', Decimal('1.6000'))\n",
            "(2, 'Bearing Ball', Decimal('0.8000'))\n",
            "(3, 'BB Ball Bearing', Decimal('2.4000'))\n",
            "(4, 'Headset Ball Bearings', Decimal('0.0000'))\n",
            "(5, 'Blade', Decimal('189.6000'))\n",
            "(6, 'LL Crankarm', Decimal('380.4000'))\n",
            "(7, 'ML Crankarm', Decimal('190.8000'))\n",
            "(8, 'HL Crankarm', Decimal('319.0000'))\n",
            "(9, 'Chainring Bolts', Decimal('0.0000'))\n",
            "(10, 'Chainring Nut', Decimal('192.6000'))\n",
            "(11, 'Chainring', Decimal('193.2000'))\n",
            "(12, 'Crown Race', Decimal('516.8000'))\n",
            "(13, 'Chain Stays', Decimal('64.8000'))\n",
            "(14, 'Decal 1', Decimal('195.0000'))\n",
            "(15, 'Decal 2', Decimal('130.4000'))\n",
            "(16, 'Down Tube', Decimal('457.8000'))\n",
            "(17, 'Mountain End Caps', Decimal('590.4000'))\n",
            "(18, 'Road End Caps', Decimal('592.2000'))\n",
            "(19, 'Touring End Caps', Decimal('0.0000'))\n",
            "(20, 'Fork End', Decimal('397.2000'))\n"
          ]
        }
      ]
    },
    {
      "cell_type": "markdown",
      "source": [
        "### Finding Field Information in a Given Table\n",
        "---\n",
        "\n",
        "\n"
      ],
      "metadata": {
        "id": "kQdD6Q-aUxqI"
      }
    },
    {
      "cell_type": "markdown",
      "source": [
        "***Field Information in EMPLOYEES table***"
      ],
      "metadata": {
        "id": "7OizvdQh8IXy"
      }
    },
    {
      "cell_type": "code",
      "source": [
        "def execute_query(query):\n",
        "  mycursor = mydb.cursor()#connecting to cursor that does the qyery\n",
        "  mycursor.execute(query)\n",
        "  try:#catch errors\n",
        "    records = mycursor.fetchall()\n",
        "    return records\n",
        "  except:\n",
        "    print(\"An error occurred: \")\n",
        "    return None\n",
        "\n",
        "\n",
        "employees=execute_query(\"DESCRIBE Employees\")#execute_query shows all instances in table called Employees\n",
        "for employee in employees:\n",
        "  print(employee[0])\n"
      ],
      "metadata": {
        "id": "JIpPYkJHRBfh",
        "colab": {
          "base_uri": "https://localhost:8080/"
        },
        "outputId": "572a8d47-4776-4fe6-d237-7418797aa598"
      },
      "execution_count": null,
      "outputs": [
        {
          "output_type": "stream",
          "name": "stdout",
          "text": [
            "EmployeeID\n",
            "FirstName\n",
            "MiddleInitial\n",
            "LastName\n"
          ]
        }
      ]
    },
    {
      "cell_type": "markdown",
      "source": [
        "***Field Information in Products table***"
      ],
      "metadata": {
        "id": "873ESMGq8S-e"
      }
    },
    {
      "cell_type": "code",
      "source": [
        "def execute_query(query):\n",
        "  mycursor = mydb.cursor()#connecting to cursor that does the qyery\n",
        "  mycursor.execute(query)\n",
        "  try:#catch errors\n",
        "    records = mycursor.fetchall()\n",
        "    return records\n",
        "  except:\n",
        "    print(\"An error occurred: \")\n",
        "    return None\n",
        "\n",
        "\n",
        "products=execute_query(\"DESCRIBE Products\")#execute_query shows all instances in table called Products\n",
        "for product in products:\n",
        "  print(product[0])\n"
      ],
      "metadata": {
        "colab": {
          "base_uri": "https://localhost:8080/"
        },
        "id": "YaPBgy9JmJ3k",
        "outputId": "0c282c57-4724-40d1-bb2d-0973aeb4a585"
      },
      "execution_count": null,
      "outputs": [
        {
          "output_type": "stream",
          "name": "stdout",
          "text": [
            "ProductID\n",
            "Name\n",
            "Price\n"
          ]
        }
      ]
    },
    {
      "cell_type": "markdown",
      "metadata": {
        "id": "UKC6Q_6i70V9"
      },
      "source": [
        "# Notes\n",
        "----\n",
        "\n",
        "Combining Python and SQL requires a bit more to get used to. Probability of inserting errors when entering commands is higher due to the combination of languages. "
      ]
    }
  ]
}