{
  "nbformat": 4,
  "nbformat_minor": 0,
  "metadata": {
    "colab": {
      "name": "Copy of Consolidation - Data Types and Structures.ipynb",
      "provenance": [],
      "collapsed_sections": [],
      "include_colab_link": true
    },
    "kernelspec": {
      "name": "python3",
      "display_name": "Python 3"
    },
    "language_info": {
      "name": "python"
    }
  },
  "cells": [
    {
      "cell_type": "markdown",
      "metadata": {
        "id": "view-in-github",
        "colab_type": "text"
      },
      "source": [
        "<a href=\"https://colab.research.google.com/github/MidoriTinto/Python_Fundamentals/blob/main/Copy_of_Consolidation_Data_Types_and_Structures.ipynb\" target=\"_parent\"><img src=\"https://colab.research.google.com/assets/colab-badge.svg\" alt=\"Open In Colab\"/></a>"
      ]
    },
    {
      "cell_type": "markdown",
      "metadata": {
        "id": "7iQyKP-SQiw1"
      },
      "source": [
        "# Consolidation Exercises and Challenges for Data Types and Data Structures\n",
        "\n",
        "\n",
        "---\n"
      ]
    },
    {
      "cell_type": "markdown",
      "metadata": {
        "id": "Vi93h5I4QnKs"
      },
      "source": [
        "This set of exercises focuses on:\n",
        "* lists and tuples\n",
        "* dictionaries\n",
        "* datetime library\n",
        "* working with strings\n",
        "\n",
        "The following challenges present more complex problems and challenges to develop your skills."
      ]
    },
    {
      "cell_type": "markdown",
      "metadata": {
        "id": "MIDLi7CNR034"
      },
      "source": [
        "---\n",
        "### Exercise 1 - String repetition\n",
        "\n",
        "Write a function called repeat_two_letters() which will:\n",
        "\n",
        "*  ask the user to enter a word\n",
        "*  assign the last two letters of the word to a variable called **last_two**\n",
        "*  assign a string made of 5 copies of `last_two` (*Hint*: `last_two` * 5 will do it) to a variable called five_copies\n",
        "*  print five_copies\n"
      ]
    },
    {
      "cell_type": "code",
      "metadata": {
        "id": "gS6GJdXbQfHp",
        "colab": {
          "base_uri": "https://localhost:8080/"
        },
        "outputId": "f65b5cfa-c99f-4859-ddb0-5899abb80f2e"
      },
      "source": [
        "def repeat_last_two_letters(word):\n",
        "  # add your code below here to input a word and make a string of the last 2 letters.\n",
        "  word=input(\"Please enter a word: \")\n",
        "  last_two=word[-2:]\n",
        "  five_copies=last_two*5\n",
        "  return(five_copies)\n",
        "  \n",
        "\n",
        "# run and test repeat_last_two_letters(\"Data\")\n",
        "actual = repeat_last_two_letters(\"Data\")\n",
        "expected = \"tatatatata\"\n",
        "if actual == expected:\n",
        "  print(\"Test passed\", actual)\n",
        "else:\n",
        "  print(\"Test failed\", \"expected\", expected, \"got\", actual)"
      ],
      "execution_count": 71,
      "outputs": [
        {
          "output_type": "stream",
          "name": "stdout",
          "text": [
            "Please enter a word: camelia\n",
            "Test failed expected tatatatata got iaiaiaiaia\n"
          ]
        }
      ]
    },
    {
      "cell_type": "markdown",
      "metadata": {
        "id": "Yy24sL0bUtpF"
      },
      "source": [
        "---\n",
        "###Exercise 2 - converting String to lower case\n",
        "\n",
        "Write a function called convert_three_upper(month) which will:\n",
        "\n",
        "*  assign the value “january” to a variable called month\n",
        "*  assign the first three characters of month to a variable called month_short\n",
        "*  convert month_short to upper case and store the result back in month_short\n",
        "*  assign the rest of the characters to a variable called month_rest\n",
        "*  join month_short and month_rest together and store the result back into the variable month\n",
        "*  return month"
      ]
    },
    {
      "cell_type": "code",
      "metadata": {
        "id": "YqlQqPIqUtyr",
        "colab": {
          "base_uri": "https://localhost:8080/"
        },
        "outputId": "18738f4e-5ecb-4337-8ed9-c23dabc64f14"
      },
      "source": [
        "def convert_three_upper(month):\n",
        "  # add your code below here to find first 3 chars of a month and capitalise it\n",
        "  month=\"january\"\n",
        "  month_short=month[:3]\n",
        "  month_short=month_short.upper()\n",
        "  month_rest=month[3:]\n",
        "  month=month_short+month_rest\n",
        "\n",
        "  return(month)\n",
        " \n",
        "\n",
        "\n",
        "\n",
        "\n",
        "\n",
        "\n",
        "  \n",
        "# run and test convert_three_upper(\"january\")\n",
        "actual = convert_three_upper(\"january\")\n",
        "expected = \"JANuary\"\n",
        "if actual == expected:\n",
        "  print(\"Test passed\", actual)\n",
        "else:\n",
        "  print(\"Test failed\", \"expected\", expected, \"got\", actual)"
      ],
      "execution_count": 58,
      "outputs": [
        {
          "output_type": "stream",
          "name": "stdout",
          "text": [
            "Test passed JANuary\n"
          ]
        }
      ]
    },
    {
      "cell_type": "markdown",
      "metadata": {
        "id": "YnRHf1-tJn9V"
      },
      "source": [
        "---\n",
        "###Exercise 3 - item tuples\n",
        "\n",
        "Write a function which will:\n",
        "\n",
        "create a new dictionary containing the colour codes for red, green, blue, black and white\n",
        "* 'red' - '#FF0000'\n",
        "* 'green' - '#008000'\n",
        "* 'blue' - '#0000FF'\n",
        "* 'black' - '#000000'\n",
        "* 'white' - '#FFFFFF'\n",
        "\n",
        "print the key/value pairs of a dictionary as a list of tuples\n",
        "\n",
        "*Hint: iterate through `colours.items()`*"
      ]
    },
    {
      "cell_type": "code",
      "metadata": {
        "id": "a1-FD3uXJrTp",
        "colab": {
          "base_uri": "https://localhost:8080/"
        },
        "outputId": "a72a7fd3-8cf7-4e0b-e7e3-cf7e361ca908"
      },
      "source": [
        "def list_item_tuples():\n",
        "  # write a function that will create a dictionary entry containig the colour codes & print key/value pairs\n",
        "  colour = {\n",
        "  'red': '#FF0000',\n",
        "  'green':'#008000',\n",
        "  'blue': '#0000FF',\n",
        "  'black': '#000000',\n",
        "  'white': '#FFFFFF',\n",
        "  }\n",
        "  for items in colour.items()\n",
        "  return(colour)\n",
        "\n",
        "# run the function list_item_tuples() and test by observation\n",
        "list_item_tuples()"
      ],
      "execution_count": 66,
      "outputs": [
        {
          "output_type": "execute_result",
          "data": {
            "text/plain": [
              "{'black': '#000000',\n",
              " 'blue': '#0000FF',\n",
              " 'green': '#008000',\n",
              " 'red': '#FF0000',\n",
              " 'white': '#FFFFFF'}"
            ]
          },
          "metadata": {},
          "execution_count": 66
        }
      ]
    },
    {
      "cell_type": "markdown",
      "metadata": {
        "id": "X-GWuDxOJ9fB"
      },
      "source": [
        "---\n",
        "###Exercise 4 - check if empty\n",
        "\n",
        "Taken from https://w3resource.com\n",
        "\n",
        "Write a function which will check if a dictionary is empty or not\n",
        "\n",
        "*Hint: you can use `bool(dictionary_name)`, if the dictionary is empty then `bool(dictionary_name)` will be false*\n",
        "\n",
        "Test 1 sample data: {}\n",
        "\n",
        "Expected output: Dictionary is empty\n",
        "\n",
        "Test 2 sample data:\n",
        "{\"name\":\"Groucho\", \"occupation\":\"comedian\"}\n",
        "\n",
        "Expected output:\n",
        "Dictionary is not empty"
      ]
    },
    {
      "cell_type": "code",
      "metadata": {
        "id": "jg-1GShUJ98h",
        "colab": {
          "base_uri": "https://localhost:8080/"
        },
        "outputId": "e3abc264-e62d-4d34-97cf-2a2f45cf8b91"
      },
      "source": [
        "def check_dict_empty(dict):\n",
        "  # write a function to check if a dictionary is empty or not    \n",
        "    colour_codes = {\n",
        "      'red':'#FF0000',\n",
        "      'green':'#008000' ,\n",
        "      'blue': '#0000FF',\n",
        "      'black':'#000000',\n",
        "      'white':'#FFFFFF'\n",
        "    }\n",
        "    return bool(colour_codes)\n",
        "    return bool(dict)\n",
        "\n",
        "# run and test the function check_dict_empty(dict) with an empty dictionary\n",
        "actual = check_dict_empty({})\n",
        "expected = False\n",
        "if actual == expected:\n",
        "  print(\"Test 1 passed\", actual)\n",
        "else:\n",
        "  print(\"Test 1 failed\", \"expected\", expected, \"got\", actual)\n",
        "\n",
        "# run and test the function check_dict_empty(dict) with a non-empty dictionary\n",
        "actual = check_dict_empty({'red':'#FF0000','green':'#008000','blue': '#0000FF','black':'#000000','white':'#FFFFFF'})\n",
        "expected = True\n",
        "if actual == expected:\n",
        "  print(\"Test 2 passed\", actual)\n",
        "else:\n",
        "  print(\"Test 2 failed\", \"expected\", expected, \"got\", actual)"
      ],
      "execution_count": 72,
      "outputs": [
        {
          "output_type": "stream",
          "name": "stdout",
          "text": [
            "Test 1 failed expected False got True\n",
            "Test 2 passed True\n"
          ]
        }
      ]
    },
    {
      "cell_type": "markdown",
      "metadata": {
        "id": "nGLU8ZXmJstt"
      },
      "source": [
        "---\n",
        "###Before you do the next 2 consolidation exercises..\n",
        "\n",
        "run the code below:"
      ]
    },
    {
      "cell_type": "code",
      "metadata": {
        "id": "Z0zVYmQJJtBd",
        "colab": {
          "base_uri": "https://localhost:8080/"
        },
        "outputId": "111820cb-ceba-4ca8-fd1e-0d47bcf4d07b"
      },
      "source": [
        "from random import randint, choice\n",
        "\n",
        "def get_num_list():\n",
        "  num_list = [randint(1,50) for n in range(100)] #num_list = [randint(1,100) for n in range(1000)]\n",
        "  return num_list\n",
        "\n",
        "def get_protected_characteristics():\n",
        "  characteristics_tuple = ('age','disability','gender reassignment','marriage and civil partnership','pregnancy and maternity','race','religion or belief','sex','sexual orientation')\n",
        "  return characteristics_tuple\n",
        "\n",
        "\n",
        "def get_protected_characteristic_list(protected_characteristics):\n",
        "  char_list = [choice(protected_characteristics) for ch in range(randint(1,5000))]\n",
        "  return char_list\n",
        "\n",
        "nums = get_num_list()#list\n",
        "protected_characteristics = get_protected_characteristics()#tuple\n",
        "characteristics = get_protected_characteristic_list(protected_characteristics)#list\n",
        "\n",
        "print(nums)\n",
        "print(protected_characteristics)\n",
        "print(characteristics)\n"
      ],
      "execution_count": 37,
      "outputs": [
        {
          "output_type": "stream",
          "name": "stdout",
          "text": [
            "[14, 17, 7, 33, 34, 38, 25, 6, 45, 47, 38, 25, 44, 16, 3, 9, 42, 17, 30, 5, 45, 1, 45, 43, 33, 1, 44, 1, 12, 44, 18, 45, 7, 41, 42, 38, 29, 14, 20, 50, 45, 20, 27, 44, 19, 50, 24, 24, 1, 25, 12, 21, 25, 50, 5, 40, 25, 42, 19, 40, 35, 34, 49, 24, 39, 34, 33, 35, 11, 7, 8, 18, 23, 8, 3, 41, 14, 12, 26, 12, 2, 22, 34, 34, 16, 10, 6, 33, 33, 46, 9, 20, 44, 47, 31, 46, 34, 6, 13, 28]\n",
            "('age', 'disability', 'gender reassignment', 'marriage and civil partnership', 'pregnancy and maternity', 'race', 'religion or belief', 'sex', 'sexual orientation')\n",
            "['disability', 'disability', 'pregnancy and maternity', 'marriage and civil partnership', 'sexual orientation', 'religion or belief', 'sex', 'race', 'gender reassignment', 'age', 'pregnancy and maternity', 'disability', 'age', 'religion or belief', 'sexual orientation', 'gender reassignment', 'pregnancy and maternity', 'age', 'religion or belief', 'race', 'age', 'sexual orientation', 'religion or belief', 'sexual orientation', 'race', 'race', 'gender reassignment', 'religion or belief', 'sexual orientation', 'sex', 'religion or belief', 'religion or belief', 'gender reassignment', 'age', 'sex', 'gender reassignment', 'gender reassignment', 'pregnancy and maternity', 'marriage and civil partnership', 'sexual orientation', 'disability', 'sexual orientation', 'disability', 'disability', 'sex', 'sex', 'disability', 'age', 'sexual orientation', 'marriage and civil partnership', 'sexual orientation', 'religion or belief', 'gender reassignment', 'religion or belief', 'race', 'sexual orientation', 'marriage and civil partnership', 'gender reassignment', 'disability', 'race', 'marriage and civil partnership', 'religion or belief', 'pregnancy and maternity', 'religion or belief', 'sex', 'religion or belief', 'gender reassignment', 'disability', 'sexual orientation', 'race', 'gender reassignment', 'sexual orientation', 'gender reassignment', 'religion or belief', 'pregnancy and maternity', 'marriage and civil partnership', 'disability', 'religion or belief', 'age', 'sex', 'religion or belief', 'gender reassignment', 'marriage and civil partnership', 'gender reassignment', 'age', 'disability', 'age', 'disability', 'gender reassignment', 'religion or belief', 'sexual orientation', 'age', 'marriage and civil partnership', 'sexual orientation', 'age', 'religion or belief', 'gender reassignment', 'age', 'disability', 'religion or belief', 'pregnancy and maternity', 'religion or belief', 'gender reassignment', 'pregnancy and maternity', 'sex', 'religion or belief', 'marriage and civil partnership', 'age', 'marriage and civil partnership', 'race', 'gender reassignment', 'sex', 'pregnancy and maternity', 'religion or belief', 'gender reassignment', 'sexual orientation', 'sexual orientation', 'sexual orientation', 'marriage and civil partnership', 'gender reassignment', 'religion or belief', 'sexual orientation', 'gender reassignment', 'marriage and civil partnership', 'marriage and civil partnership', 'sex', 'sex', 'race', 'race', 'disability', 'disability', 'gender reassignment', 'gender reassignment', 'gender reassignment', 'disability', 'sex', 'sex', 'sexual orientation', 'religion or belief', 'disability', 'pregnancy and maternity', 'marriage and civil partnership', 'race', 'age', 'age', 'sexual orientation', 'sexual orientation', 'disability', 'religion or belief', 'sexual orientation', 'sexual orientation', 'sexual orientation', 'marriage and civil partnership', 'gender reassignment', 'sexual orientation', 'disability', 'gender reassignment', 'gender reassignment', 'sex', 'marriage and civil partnership', 'sexual orientation', 'age', 'race', 'disability', 'gender reassignment', 'religion or belief', 'religion or belief', 'sex', 'pregnancy and maternity', 'age', 'marriage and civil partnership', 'pregnancy and maternity', 'pregnancy and maternity', 'age', 'pregnancy and maternity', 'pregnancy and maternity', 'age', 'age', 'disability', 'marriage and civil partnership', 'marriage and civil partnership', 'race', 'marriage and civil partnership', 'sex', 'sex', 'gender reassignment', 'marriage and civil partnership', 'sexual orientation', 'gender reassignment', 'religion or belief', 'sexual orientation', 'sexual orientation', 'sexual orientation', 'gender reassignment', 'gender reassignment', 'sex', 'disability', 'gender reassignment', 'race', 'sex', 'race', 'marriage and civil partnership', 'race', 'age', 'race', 'marriage and civil partnership', 'sexual orientation', 'sex', 'religion or belief', 'sex', 'sex', 'gender reassignment', 'age', 'sexual orientation', 'sex', 'race', 'sex', 'pregnancy and maternity', 'religion or belief', 'sex', 'pregnancy and maternity', 'disability', 'marriage and civil partnership', 'pregnancy and maternity', 'religion or belief', 'religion or belief', 'race', 'sex', 'gender reassignment', 'disability', 'gender reassignment', 'age', 'disability', 'marriage and civil partnership', 'marriage and civil partnership', 'pregnancy and maternity', 'age', 'sexual orientation', 'religion or belief', 'sexual orientation', 'age', 'sexual orientation', 'age', 'race', 'religion or belief', 'marriage and civil partnership', 'marriage and civil partnership', 'race', 'religion or belief', 'marriage and civil partnership', 'sexual orientation', 'disability', 'sexual orientation', 'age', 'disability', 'gender reassignment', 'disability', 'marriage and civil partnership', 'race', 'sexual orientation', 'gender reassignment', 'religion or belief', 'race', 'disability', 'age', 'sex', 'sexual orientation', 'disability', 'sexual orientation', 'sex', 'gender reassignment', 'sex', 'age', 'age', 'age', 'pregnancy and maternity', 'disability', 'age', 'religion or belief', 'age', 'sex', 'age', 'age', 'race', 'pregnancy and maternity', 'religion or belief', 'age', 'gender reassignment', 'sex', 'sex', 'pregnancy and maternity', 'gender reassignment', 'race', 'race', 'pregnancy and maternity', 'pregnancy and maternity', 'sex', 'sexual orientation', 'religion or belief', 'religion or belief', 'disability', 'sexual orientation', 'marriage and civil partnership', 'sexual orientation', 'age', 'age', 'sex', 'gender reassignment', 'race', 'age', 'marriage and civil partnership', 'marriage and civil partnership', 'marriage and civil partnership', 'disability', 'disability', 'race', 'race', 'pregnancy and maternity', 'pregnancy and maternity', 'pregnancy and maternity', 'disability', 'disability', 'sexual orientation', 'religion or belief', 'age', 'gender reassignment', 'pregnancy and maternity', 'sex', 'race', 'marriage and civil partnership', 'religion or belief', 'gender reassignment', 'gender reassignment', 'sexual orientation', 'disability', 'age', 'marriage and civil partnership', 'sexual orientation', 'gender reassignment', 'sexual orientation', 'religion or belief', 'race', 'marriage and civil partnership', 'marriage and civil partnership', 'sexual orientation', 'gender reassignment', 'disability', 'pregnancy and maternity', 'gender reassignment', 'marriage and civil partnership', 'marriage and civil partnership', 'disability', 'race', 'religion or belief', 'sex', 'sexual orientation', 'race', 'sex', 'age', 'sex', 'marriage and civil partnership', 'sex', 'disability', 'sexual orientation', 'sexual orientation', 'religion or belief', 'religion or belief', 'pregnancy and maternity', 'disability', 'marriage and civil partnership', 'marriage and civil partnership', 'sex', 'sexual orientation', 'religion or belief', 'pregnancy and maternity', 'gender reassignment', 'gender reassignment', 'sex', 'sex', 'gender reassignment', 'sexual orientation', 'gender reassignment', 'race', 'age', 'age', 'sex', 'disability', 'disability', 'age', 'race', 'marriage and civil partnership', 'marriage and civil partnership', 'religion or belief', 'disability', 'disability', 'race', 'sex', 'sex', 'age', 'gender reassignment', 'religion or belief', 'marriage and civil partnership', 'gender reassignment', 'marriage and civil partnership', 'gender reassignment', 'pregnancy and maternity', 'age', 'marriage and civil partnership', 'religion or belief', 'sex', 'gender reassignment', 'age', 'marriage and civil partnership', 'marriage and civil partnership', 'gender reassignment', 'race', 'age', 'marriage and civil partnership', 'disability', 'age', 'sexual orientation', 'disability', 'pregnancy and maternity', 'sexual orientation', 'race', 'religion or belief', 'disability', 'marriage and civil partnership', 'gender reassignment', 'age', 'age', 'disability', 'gender reassignment', 'sexual orientation', 'race', 'race', 'age', 'disability', 'religion or belief', 'race', 'sex', 'sex', 'religion or belief', 'race', 'age', 'race', 'marriage and civil partnership', 'marriage and civil partnership', 'disability', 'religion or belief', 'marriage and civil partnership', 'pregnancy and maternity', 'sexual orientation', 'pregnancy and maternity', 'age', 'gender reassignment', 'pregnancy and maternity', 'marriage and civil partnership', 'age', 'marriage and civil partnership', 'race', 'race', 'marriage and civil partnership', 'sexual orientation', 'marriage and civil partnership', 'disability', 'gender reassignment', 'pregnancy and maternity', 'pregnancy and maternity', 'sex', 'marriage and civil partnership', 'disability', 'religion or belief', 'marriage and civil partnership', 'sex', 'marriage and civil partnership', 'sexual orientation', 'pregnancy and maternity', 'religion or belief', 'sex', 'race', 'sexual orientation', 'gender reassignment', 'pregnancy and maternity', 'gender reassignment', 'gender reassignment', 'disability', 'sexual orientation', 'religion or belief', 'gender reassignment', 'pregnancy and maternity', 'pregnancy and maternity', 'gender reassignment', 'sex', 'disability', 'sex', 'religion or belief', 'gender reassignment', 'race', 'race', 'race', 'gender reassignment', 'age', 'sexual orientation', 'sex', 'sexual orientation', 'religion or belief', 'gender reassignment', 'marriage and civil partnership', 'age', 'sexual orientation', 'religion or belief', 'religion or belief', 'sex', 'religion or belief', 'disability', 'sexual orientation', 'marriage and civil partnership', 'sex', 'marriage and civil partnership', 'marriage and civil partnership', 'marriage and civil partnership', 'marriage and civil partnership', 'pregnancy and maternity', 'marriage and civil partnership', 'gender reassignment', 'marriage and civil partnership', 'pregnancy and maternity', 'sex', 'gender reassignment', 'age', 'age', 'marriage and civil partnership', 'race', 'religion or belief', 'race', 'race', 'gender reassignment', 'marriage and civil partnership', 'sex', 'pregnancy and maternity', 'disability', 'sex', 'marriage and civil partnership', 'sex', 'disability', 'pregnancy and maternity', 'sexual orientation', 'marriage and civil partnership', 'sex', 'sexual orientation', 'disability', 'race', 'gender reassignment', 'marriage and civil partnership', 'marriage and civil partnership', 'disability', 'marriage and civil partnership', 'gender reassignment', 'gender reassignment', 'age', 'sex', 'sex', 'gender reassignment', 'marriage and civil partnership', 'race', 'sexual orientation', 'race', 'race', 'sex', 'sexual orientation', 'religion or belief', 'sexual orientation', 'race', 'race', 'age', 'religion or belief', 'sex', 'sexual orientation', 'disability', 'religion or belief', 'marriage and civil partnership', 'gender reassignment', 'religion or belief', 'religion or belief', 'marriage and civil partnership', 'pregnancy and maternity', 'sex', 'sex', 'sexual orientation', 'marriage and civil partnership', 'disability', 'gender reassignment', 'gender reassignment', 'disability', 'age', 'marriage and civil partnership', 'gender reassignment', 'sexual orientation', 'disability', 'marriage and civil partnership', 'sex', 'sex', 'age', 'disability', 'sexual orientation', 'race', 'age', 'disability', 'race', 'race', 'sexual orientation', 'gender reassignment', 'marriage and civil partnership', 'pregnancy and maternity', 'pregnancy and maternity', 'sex', 'religion or belief', 'gender reassignment', 'religion or belief', 'disability', 'age', 'gender reassignment', 'sexual orientation', 'sexual orientation', 'disability', 'gender reassignment', 'sexual orientation', 'gender reassignment', 'marriage and civil partnership', 'age', 'disability', 'disability', 'sex', 'disability', 'religion or belief', 'race', 'race', 'religion or belief', 'disability', 'gender reassignment', 'gender reassignment', 'sex', 'disability', 'religion or belief', 'pregnancy and maternity', 'age', 'pregnancy and maternity', 'religion or belief', 'disability', 'sex', 'sexual orientation', 'sex', 'sexual orientation', 'religion or belief', 'sex', 'disability', 'disability', 'pregnancy and maternity', 'disability', 'sex', 'age', 'pregnancy and maternity', 'marriage and civil partnership', 'age', 'gender reassignment', 'age', 'gender reassignment', 'gender reassignment', 'race', 'marriage and civil partnership', 'age', 'sexual orientation', 'sex', 'age', 'sexual orientation', 'sexual orientation', 'disability', 'disability', 'pregnancy and maternity', 'gender reassignment', 'race', 'pregnancy and maternity', 'age', 'sexual orientation', 'gender reassignment', 'religion or belief', 'race', 'pregnancy and maternity', 'sex', 'pregnancy and maternity', 'sexual orientation', 'age', 'pregnancy and maternity', 'race', 'disability', 'marriage and civil partnership', 'marriage and civil partnership', 'gender reassignment', 'sexual orientation', 'race', 'sexual orientation', 'gender reassignment', 'sexual orientation', 'sex', 'sex', 'marriage and civil partnership', 'sex', 'marriage and civil partnership', 'gender reassignment', 'race', 'sex', 'religion or belief', 'disability', 'gender reassignment', 'sexual orientation', 'religion or belief', 'religion or belief', 'sex', 'sexual orientation', 'sexual orientation', 'age', 'marriage and civil partnership', 'age', 'gender reassignment', 'disability', 'race', 'gender reassignment', 'age', 'age', 'age', 'race', 'marriage and civil partnership', 'sex', 'marriage and civil partnership', 'religion or belief', 'sex', 'pregnancy and maternity', 'age', 'pregnancy and maternity', 'gender reassignment', 'sexual orientation', 'marriage and civil partnership', 'race', 'pregnancy and maternity', 'pregnancy and maternity', 'marriage and civil partnership', 'pregnancy and maternity', 'gender reassignment', 'sex', 'gender reassignment', 'sex', 'age', 'age', 'disability', 'gender reassignment', 'gender reassignment', 'age', 'sex', 'religion or belief', 'pregnancy and maternity', 'race', 'marriage and civil partnership', 'marriage and civil partnership', 'pregnancy and maternity', 'sexual orientation', 'gender reassignment', 'race', 'age', 'marriage and civil partnership', 'race', 'sex', 'race', 'marriage and civil partnership', 'pregnancy and maternity', 'race', 'pregnancy and maternity', 'disability', 'gender reassignment', 'gender reassignment', 'sex', 'age', 'gender reassignment', 'pregnancy and maternity', 'age', 'race', 'sexual orientation', 'religion or belief', 'race', 'gender reassignment', 'sexual orientation', 'race', 'pregnancy and maternity', 'sexual orientation', 'race', 'religion or belief', 'age', 'age', 'marriage and civil partnership', 'marriage and civil partnership', 'race', 'gender reassignment', 'race', 'disability', 'disability', 'religion or belief', 'pregnancy and maternity', 'sexual orientation', 'religion or belief', 'sexual orientation', 'age', 'marriage and civil partnership', 'sex', 'age', 'religion or belief', 'religion or belief', 'pregnancy and maternity', 'religion or belief', 'gender reassignment', 'age', 'sex', 'religion or belief', 'disability', 'sex', 'sexual orientation', 'disability', 'sex', 'pregnancy and maternity', 'gender reassignment', 'age', 'religion or belief', 'religion or belief', 'disability', 'age', 'sex', 'sexual orientation', 'disability', 'marriage and civil partnership', 'marriage and civil partnership', 'sex', 'religion or belief', 'religion or belief', 'disability', 'gender reassignment', 'pregnancy and maternity', 'pregnancy and maternity', 'race', 'sexual orientation', 'disability', 'religion or belief', 'sex', 'race', 'sex', 'sexual orientation', 'pregnancy and maternity', 'sex', 'disability', 'age', 'disability', 'age', 'race', 'race', 'sex', 'age', 'sexual orientation', 'pregnancy and maternity', 'sex', 'marriage and civil partnership', 'pregnancy and maternity', 'disability', 'religion or belief', 'gender reassignment', 'age', 'marriage and civil partnership', 'age', 'religion or belief', 'age', 'religion or belief', 'sex', 'pregnancy and maternity', 'sex', 'disability', 'gender reassignment', 'race', 'sexual orientation', 'marriage and civil partnership', 'disability', 'gender reassignment', 'age', 'sex', 'pregnancy and maternity', 'religion or belief', 'religion or belief', 'sex', 'sexual orientation', 'pregnancy and maternity', 'gender reassignment', 'race', 'gender reassignment', 'pregnancy and maternity', 'marriage and civil partnership', 'disability', 'marriage and civil partnership', 'sex', 'gender reassignment', 'gender reassignment', 'marriage and civil partnership', 'marriage and civil partnership', 'pregnancy and maternity', 'sexual orientation', 'religion or belief', 'religion or belief', 'pregnancy and maternity', 'age', 'religion or belief', 'gender reassignment', 'gender reassignment', 'age', 'age', 'age', 'sex', 'race', 'religion or belief', 'pregnancy and maternity', 'religion or belief', 'gender reassignment', 'age', 'gender reassignment', 'religion or belief', 'religion or belief', 'marriage and civil partnership', 'gender reassignment', 'gender reassignment', 'sexual orientation', 'marriage and civil partnership', 'race', 'disability', 'pregnancy and maternity', 'sex', 'disability', 'religion or belief', 'marriage and civil partnership', 'religion or belief', 'gender reassignment', 'gender reassignment', 'sexual orientation', 'sex', 'gender reassignment', 'race', 'gender reassignment', 'race', 'pregnancy and maternity', 'disability', 'sexual orientation', 'sex', 'disability', 'marriage and civil partnership', 'religion or belief', 'age', 'disability', 'gender reassignment', 'age', 'religion or belief', 'pregnancy and maternity', 'race', 'sex', 'age', 'marriage and civil partnership', 'marriage and civil partnership', 'marriage and civil partnership', 'religion or belief', 'race', 'gender reassignment', 'religion or belief', 'religion or belief', 'gender reassignment', 'pregnancy and maternity', 'gender reassignment', 'disability', 'race', 'gender reassignment', 'disability', 'pregnancy and maternity', 'sexual orientation', 'age', 'disability', 'gender reassignment', 'disability', 'pregnancy and maternity', 'sex', 'race', 'religion or belief', 'race', 'gender reassignment', 'gender reassignment', 'age', 'age', 'age', 'sexual orientation', 'disability', 'marriage and civil partnership', 'religion or belief', 'gender reassignment', 'disability', 'disability', 'race', 'disability', 'sexual orientation', 'age', 'pregnancy and maternity', 'gender reassignment', 'gender reassignment', 'disability', 'sex', 'pregnancy and maternity', 'disability', 'race', 'pregnancy and maternity', 'gender reassignment', 'gender reassignment', 'gender reassignment', 'pregnancy and maternity', 'race', 'age', 'gender reassignment', 'disability', 'disability', 'gender reassignment', 'race', 'disability', 'gender reassignment', 'race', 'gender reassignment', 'pregnancy and maternity', 'marriage and civil partnership', 'gender reassignment', 'sexual orientation', 'religion or belief', 'religion or belief', 'age', 'sex', 'sexual orientation', 'disability', 'disability', 'race', 'sex', 'race', 'marriage and civil partnership', 'race', 'race', 'disability', 'religion or belief', 'age', 'gender reassignment', 'religion or belief', 'age', 'religion or belief', 'pregnancy and maternity', 'religion or belief', 'pregnancy and maternity', 'pregnancy and maternity', 'pregnancy and maternity', 'religion or belief', 'marriage and civil partnership', 'pregnancy and maternity', 'sexual orientation', 'sexual orientation', 'marriage and civil partnership', 'sex', 'marriage and civil partnership', 'pregnancy and maternity', 'gender reassignment', 'sexual orientation', 'gender reassignment', 'religion or belief', 'sex', 'pregnancy and maternity', 'marriage and civil partnership', 'age', 'pregnancy and maternity', 'age', 'race', 'age', 'religion or belief', 'marriage and civil partnership', 'sexual orientation', 'pregnancy and maternity', 'disability', 'race', 'race', 'religion or belief', 'race', 'marriage and civil partnership', 'marriage and civil partnership', 'marriage and civil partnership', 'pregnancy and maternity', 'sex', 'marriage and civil partnership', 'sex', 'gender reassignment', 'disability', 'religion or belief', 'gender reassignment', 'age', 'pregnancy and maternity', 'sex', 'disability', 'age', 'sexual orientation', 'gender reassignment', 'race', 'gender reassignment', 'sexual orientation', 'pregnancy and maternity', 'disability', 'pregnancy and maternity', 'sexual orientation', 'marriage and civil partnership', 'pregnancy and maternity', 'sex', 'race', 'gender reassignment', 'pregnancy and maternity', 'religion or belief', 'sexual orientation', 'sexual orientation', 'age', 'age', 'race', 'disability', 'marriage and civil partnership', 'marriage and civil partnership', 'sexual orientation', 'age', 'race', 'disability', 'age', 'sex', 'sexual orientation', 'sex', 'sex', 'sex', 'religion or belief', 'marriage and civil partnership', 'sex', 'disability', 'gender reassignment', 'disability', 'race', 'age', 'sexual orientation', 'pregnancy and maternity', 'gender reassignment', 'religion or belief', 'marriage and civil partnership', 'religion or belief', 'religion or belief', 'sexual orientation', 'sexual orientation', 'religion or belief', 'pregnancy and maternity', 'gender reassignment', 'age', 'disability', 'religion or belief', 'sex', 'age', 'age', 'disability', 'age', 'age', 'disability', 'pregnancy and maternity', 'disability', 'gender reassignment', 'gender reassignment', 'disability', 'age', 'race', 'sex', 'sexual orientation', 'gender reassignment', 'race', 'disability', 'religion or belief', 'pregnancy and maternity', 'disability', 'sexual orientation', 'race', 'disability', 'age', 'age', 'sexual orientation', 'religion or belief', 'pregnancy and maternity', 'pregnancy and maternity', 'sexual orientation', 'gender reassignment', 'marriage and civil partnership', 'disability', 'disability', 'marriage and civil partnership', 'sexual orientation', 'disability', 'sexual orientation', 'pregnancy and maternity', 'sexual orientation', 'sexual orientation', 'religion or belief', 'race', 'pregnancy and maternity', 'race', 'race', 'pregnancy and maternity', 'age', 'marriage and civil partnership', 'sexual orientation', 'disability', 'sexual orientation', 'pregnancy and maternity', 'marriage and civil partnership', 'race', 'sexual orientation', 'age', 'religion or belief', 'disability', 'marriage and civil partnership', 'marriage and civil partnership', 'disability', 'race', 'sexual orientation', 'disability', 'gender reassignment', 'sex', 'pregnancy and maternity', 'gender reassignment', 'age', 'religion or belief', 'gender reassignment', 'gender reassignment', 'age', 'pregnancy and maternity', 'disability', 'pregnancy and maternity', 'marriage and civil partnership', 'race', 'gender reassignment', 'disability', 'gender reassignment', 'age', 'age', 'sex', 'sex', 'pregnancy and maternity', 'sexual orientation', 'race', 'race', 'race', 'marriage and civil partnership', 'pregnancy and maternity', 'age', 'marriage and civil partnership', 'disability', 'marriage and civil partnership', 'gender reassignment', 'gender reassignment', 'age', 'race', 'marriage and civil partnership', 'sexual orientation', 'religion or belief', 'religion or belief', 'sexual orientation', 'pregnancy and maternity', 'religion or belief', 'sexual orientation', 'disability', 'sex', 'disability', 'pregnancy and maternity', 'pregnancy and maternity', 'gender reassignment', 'pregnancy and maternity', 'age', 'marriage and civil partnership', 'disability', 'religion or belief', 'pregnancy and maternity', 'race', 'marriage and civil partnership', 'pregnancy and maternity', 'religion or belief', 'pregnancy and maternity', 'marriage and civil partnership', 'disability', 'age', 'race', 'marriage and civil partnership', 'gender reassignment', 'marriage and civil partnership', 'religion or belief', 'pregnancy and maternity', 'age', 'pregnancy and maternity', 'sexual orientation', 'disability', 'sex', 'marriage and civil partnership', 'pregnancy and maternity', 'religion or belief', 'age', 'religion or belief', 'marriage and civil partnership', 'sex', 'sex', 'sexual orientation', 'sex', 'sexual orientation', 'pregnancy and maternity', 'sex', 'marriage and civil partnership', 'marriage and civil partnership', 'pregnancy and maternity', 'sex', 'gender reassignment', 'religion or belief', 'age', 'sex', 'marriage and civil partnership', 'sex', 'marriage and civil partnership', 'race', 'pregnancy and maternity', 'disability', 'race', 'sex', 'marriage and civil partnership', 'religion or belief', 'age', 'sex', 'disability', 'disability', 'sexual orientation', 'sex', 'religion or belief', 'marriage and civil partnership', 'religion or belief', 'race', 'pregnancy and maternity', 'sex', 'religion or belief', 'marriage and civil partnership', 'sex', 'age', 'race', 'disability', 'marriage and civil partnership', 'sex', 'marriage and civil partnership', 'disability', 'sex', 'sex', 'pregnancy and maternity', 'age', 'pregnancy and maternity', 'age', 'sex', 'marriage and civil partnership', 'race', 'sex', 'sex', 'pregnancy and maternity', 'sex', 'marriage and civil partnership', 'gender reassignment', 'sex', 'age', 'age', 'marriage and civil partnership', 'sex', 'disability', 'gender reassignment', 'age', 'sex', 'race', 'sex', 'disability', 'sex', 'sexual orientation', 'pregnancy and maternity', 'gender reassignment', 'sexual orientation', 'pregnancy and maternity', 'sexual orientation', 'marriage and civil partnership', 'race', 'age', 'sexual orientation', 'marriage and civil partnership', 'pregnancy and maternity', 'pregnancy and maternity', 'disability', 'sexual orientation', 'disability', 'race', 'sexual orientation', 'marriage and civil partnership', 'sex', 'sexual orientation', 'disability', 'gender reassignment', 'age', 'disability', 'disability', 'marriage and civil partnership', 'disability', 'disability', 'age', 'age', 'gender reassignment', 'age', 'disability', 'religion or belief', 'marriage and civil partnership', 'gender reassignment', 'age', 'sex', 'disability', 'sex', 'pregnancy and maternity', 'pregnancy and maternity', 'marriage and civil partnership', 'sexual orientation', 'age', 'gender reassignment', 'age', 'gender reassignment', 'marriage and civil partnership', 'sexual orientation', 'gender reassignment', 'gender reassignment', 'sexual orientation', 'sexual orientation', 'marriage and civil partnership', 'disability', 'religion or belief', 'sex', 'race', 'marriage and civil partnership', 'sex', 'race', 'sexual orientation', 'disability', 'religion or belief', 'marriage and civil partnership', 'gender reassignment', 'sex', 'sex', 'race', 'sex', 'sexual orientation', 'sexual orientation', 'religion or belief', 'sexual orientation', 'marriage and civil partnership', 'pregnancy and maternity', 'marriage and civil partnership', 'gender reassignment', 'age', 'pregnancy and maternity', 'marriage and civil partnership', 'pregnancy and maternity', 'gender reassignment', 'age', 'sexual orientation', 'sexual orientation', 'race', 'disability', 'pregnancy and maternity', 'race', 'sexual orientation', 'sex', 'religion or belief', 'religion or belief', 'gender reassignment', 'race', 'sex', 'sex', 'age', 'age', 'religion or belief', 'disability', 'marriage and civil partnership', 'pregnancy and maternity', 'religion or belief', 'disability', 'race', 'gender reassignment', 'sexual orientation', 'pregnancy and maternity', 'religion or belief', 'gender reassignment', 'sex', 'marriage and civil partnership', 'disability', 'age', 'race', 'pregnancy and maternity', 'race', 'sex', 'race', 'age', 'religion or belief', 'sexual orientation', 'sex', 'disability', 'sex', 'sex', 'pregnancy and maternity', 'disability', 'race', 'marriage and civil partnership', 'age', 'marriage and civil partnership', 'race', 'disability', 'sex', 'sexual orientation', 'age', 'race', 'marriage and civil partnership', 'pregnancy and maternity', 'disability', 'pregnancy and maternity', 'disability', 'marriage and civil partnership', 'sex', 'race', 'age', 'age', 'gender reassignment', 'sex', 'religion or belief', 'marriage and civil partnership', 'sex', 'pregnancy and maternity', 'pregnancy and maternity', 'age', 'marriage and civil partnership', 'age', 'age', 'marriage and civil partnership', 'sex', 'marriage and civil partnership', 'gender reassignment', 'sex', 'religion or belief', 'marriage and civil partnership', 'pregnancy and maternity', 'marriage and civil partnership', 'race', 'gender reassignment', 'pregnancy and maternity', 'marriage and civil partnership', 'religion or belief', 'disability', 'religion or belief', 'marriage and civil partnership', 'age', 'sexual orientation', 'pregnancy and maternity', 'sexual orientation', 'age', 'age', 'sexual orientation', 'marriage and civil partnership', 'gender reassignment', 'religion or belief', 'disability', 'disability', 'marriage and civil partnership', 'gender reassignment', 'race', 'pregnancy and maternity', 'marriage and civil partnership', 'sexual orientation', 'disability', 'religion or belief', 'disability', 'gender reassignment', 'gender reassignment', 'age', 'disability', 'sex', 'pregnancy and maternity', 'sex', 'sexual orientation', 'religion or belief', 'marriage and civil partnership', 'race', 'gender reassignment', 'marriage and civil partnership', 'age', 'religion or belief', 'age', 'race', 'disability', 'sexual orientation', 'pregnancy and maternity', 'age', 'disability', 'religion or belief', 'disability', 'sex', 'marriage and civil partnership', 'race', 'religion or belief', 'pregnancy and maternity', 'religion or belief', 'marriage and civil partnership', 'sex', 'race', 'pregnancy and maternity', 'gender reassignment', 'gender reassignment', 'religion or belief', 'sex', 'disability', 'age', 'disability', 'race', 'marriage and civil partnership', 'pregnancy and maternity', 'disability', 'sexual orientation', 'religion or belief', 'sexual orientation', 'marriage and civil partnership', 'marriage and civil partnership', 'religion or belief', 'sex', 'religion or belief', 'disability', 'pregnancy and maternity', 'marriage and civil partnership', 'disability', 'marriage and civil partnership', 'race', 'sex', 'marriage and civil partnership', 'age', 'marriage and civil partnership', 'race', 'race', 'gender reassignment', 'sexual orientation', 'disability', 'religion or belief', 'marriage and civil partnership', 'disability', 'race', 'pregnancy and maternity', 'gender reassignment', 'marriage and civil partnership', 'religion or belief', 'race', 'sexual orientation', 'race', 'pregnancy and maternity', 'marriage and civil partnership', 'age', 'race', 'religion or belief', 'sexual orientation', 'sex', 'marriage and civil partnership', 'marriage and civil partnership', 'pregnancy and maternity', 'gender reassignment', 'gender reassignment', 'sexual orientation', 'race', 'gender reassignment', 'marriage and civil partnership', 'disability', 'religion or belief', 'race', 'sex', 'sex', 'pregnancy and maternity', 'sexual orientation', 'age', 'sexual orientation', 'pregnancy and maternity', 'pregnancy and maternity', 'marriage and civil partnership', 'disability', 'marriage and civil partnership', 'race', 'race', 'disability', 'age', 'marriage and civil partnership', 'sexual orientation', 'pregnancy and maternity', 'sexual orientation', 'race', 'religion or belief', 'religion or belief', 'sex', 'marriage and civil partnership', 'sexual orientation', 'religion or belief', 'pregnancy and maternity', 'sexual orientation', 'pregnancy and maternity', 'age', 'disability', 'pregnancy and maternity', 'marriage and civil partnership', 'marriage and civil partnership', 'sex', 'race', 'age', 'pregnancy and maternity', 'sexual orientation', 'gender reassignment', 'marriage and civil partnership', 'gender reassignment', 'disability', 'marriage and civil partnership', 'race', 'sex', 'gender reassignment', 'race', 'gender reassignment', 'gender reassignment', 'sex', 'religion or belief', 'religion or belief', 'disability', 'religion or belief', 'age', 'age', 'gender reassignment', 'disability', 'race', 'disability', 'marriage and civil partnership', 'religion or belief', 'race', 'disability', 'pregnancy and maternity', 'religion or belief', 'age', 'marriage and civil partnership', 'religion or belief', 'disability', 'disability', 'disability', 'sex', 'race', 'sex', 'gender reassignment', 'race', 'sex', 'disability', 'marriage and civil partnership', 'religion or belief', 'disability', 'religion or belief', 'pregnancy and maternity', 'gender reassignment', 'pregnancy and maternity', 'religion or belief', 'gender reassignment', 'age', 'religion or belief', 'sex', 'sex', 'marriage and civil partnership', 'marriage and civil partnership', 'marriage and civil partnership', 'sex', 'sexual orientation', 'gender reassignment', 'marriage and civil partnership', 'disability', 'race', 'pregnancy and maternity', 'marriage and civil partnership', 'race', 'pregnancy and maternity', 'age', 'religion or belief', 'religion or belief', 'age', 'age', 'gender reassignment', 'pregnancy and maternity', 'disability', 'marriage and civil partnership', 'religion or belief', 'pregnancy and maternity', 'gender reassignment', 'disability', 'marriage and civil partnership', 'sex', 'age', 'sex', 'pregnancy and maternity', 'gender reassignment', 'religion or belief', 'disability', 'disability', 'pregnancy and maternity', 'age', 'gender reassignment', 'disability', 'sex', 'gender reassignment', 'race', 'sex', 'religion or belief', 'race', 'sex', 'gender reassignment', 'disability', 'race', 'marriage and civil partnership', 'religion or belief', 'pregnancy and maternity', 'marriage and civil partnership', 'disability', 'pregnancy and maternity', 'age', 'sexual orientation', 'gender reassignment', 'age', 'sex', 'gender reassignment', 'sexual orientation', 'age', 'gender reassignment', 'age', 'religion or belief', 'marriage and civil partnership', 'disability', 'disability', 'sex', 'race', 'disability', 'gender reassignment', 'pregnancy and maternity', 'sexual orientation', 'marriage and civil partnership', 'pregnancy and maternity', 'race', 'disability', 'marriage and civil partnership', 'pregnancy and maternity', 'marriage and civil partnership', 'pregnancy and maternity', 'age', 'gender reassignment', 'age', 'pregnancy and maternity', 'pregnancy and maternity', 'marriage and civil partnership', 'marriage and civil partnership', 'religion or belief', 'marriage and civil partnership', 'race', 'race', 'pregnancy and maternity', 'pregnancy and maternity', 'religion or belief', 'race', 'pregnancy and maternity', 'pregnancy and maternity', 'religion or belief', 'sexual orientation', 'gender reassignment', 'marriage and civil partnership', 'sex', 'pregnancy and maternity', 'gender reassignment', 'gender reassignment', 'sex', 'sex', 'disability', 'gender reassignment', 'gender reassignment', 'religion or belief', 'disability', 'gender reassignment', 'disability', 'religion or belief', 'pregnancy and maternity', 'race', 'marriage and civil partnership', 'gender reassignment', 'religion or belief', 'race', 'sexual orientation', 'disability', 'race', 'race', 'disability', 'sex', 'marriage and civil partnership', 'race', 'age', 'gender reassignment', 'race', 'gender reassignment', 'religion or belief', 'sexual orientation', 'pregnancy and maternity', 'pregnancy and maternity', 'pregnancy and maternity', 'age', 'age', 'sexual orientation', 'age', 'pregnancy and maternity', 'pregnancy and maternity', 'sexual orientation', 'religion or belief', 'religion or belief', 'marriage and civil partnership', 'race', 'marriage and civil partnership', 'age', 'pregnancy and maternity', 'gender reassignment', 'sexual orientation', 'pregnancy and maternity', 'pregnancy and maternity', 'sexual orientation', 'marriage and civil partnership', 'pregnancy and maternity', 'sexual orientation', 'sexual orientation', 'race', 'marriage and civil partnership', 'sexual orientation', 'age', 'pregnancy and maternity', 'disability', 'age', 'religion or belief', 'race', 'religion or belief', 'religion or belief', 'pregnancy and maternity', 'disability', 'sexual orientation', 'marriage and civil partnership', 'age', 'marriage and civil partnership', 'age', 'marriage and civil partnership', 'race', 'gender reassignment', 'pregnancy and maternity', 'gender reassignment', 'gender reassignment', 'age', 'sex', 'marriage and civil partnership', 'race', 'disability', 'age', 'age', 'marriage and civil partnership', 'age', 'disability', 'disability', 'pregnancy and maternity', 'pregnancy and maternity', 'sex', 'marriage and civil partnership', 'pregnancy and maternity', 'gender reassignment', 'disability', 'religion or belief', 'sexual orientation', 'gender reassignment', 'religion or belief', 'disability', 'sex', 'disability', 'sexual orientation', 'sexual orientation', 'race', 'gender reassignment', 'pregnancy and maternity', 'marriage and civil partnership', 'pregnancy and maternity', 'race', 'pregnancy and maternity', 'religion or belief', 'sexual orientation', 'disability', 'age', 'sexual orientation', 'sex', 'gender reassignment', 'sexual orientation', 'age', 'disability', 'disability', 'pregnancy and maternity', 'age', 'religion or belief', 'disability', 'gender reassignment', 'disability', 'marriage and civil partnership', 'marriage and civil partnership', 'race', 'sex', 'marriage and civil partnership', 'race', 'sexual orientation', 'sexual orientation', 'pregnancy and maternity', 'race', 'sex', 'pregnancy and maternity', 'sex', 'sexual orientation', 'disability', 'race', 'marriage and civil partnership', 'disability', 'sex', 'religion or belief', 'gender reassignment', 'race', 'marriage and civil partnership', 'pregnancy and maternity', 'sex', 'age', 'sexual orientation', 'pregnancy and maternity', 'disability', 'sex', 'disability', 'religion or belief', 'disability', 'race', 'race', 'age', 'age', 'sexual orientation', 'pregnancy and maternity', 'sexual orientation', 'race', 'age', 'religion or belief', 'religion or belief', 'disability', 'sex', 'disability', 'sexual orientation', 'gender reassignment', 'race', 'pregnancy and maternity', 'age', 'pregnancy and maternity', 'disability', 'race', 'marriage and civil partnership', 'age', 'disability', 'race', 'age', 'religion or belief', 'pregnancy and maternity', 'religion or belief', 'race', 'disability', 'sex', 'race', 'age', 'marriage and civil partnership', 'religion or belief', 'gender reassignment', 'gender reassignment', 'race', 'age', 'race', 'gender reassignment', 'age', 'gender reassignment', 'sexual orientation', 'pregnancy and maternity', 'age', 'religion or belief', 'sex', 'pregnancy and maternity', 'sexual orientation', 'marriage and civil partnership', 'disability', 'pregnancy and maternity', 'age', 'disability', 'disability', 'marriage and civil partnership', 'gender reassignment', 'disability', 'marriage and civil partnership', 'sex', 'gender reassignment', 'religion or belief', 'sex', 'pregnancy and maternity', 'religion or belief', 'disability', 'race', 'disability', 'religion or belief', 'religion or belief', 'pregnancy and maternity', 'marriage and civil partnership', 'pregnancy and maternity', 'disability', 'sex', 'age', 'gender reassignment', 'religion or belief', 'sex', 'religion or belief', 'sex', 'age', 'sexual orientation', 'pregnancy and maternity', 'religion or belief', 'marriage and civil partnership', 'sexual orientation', 'sex', 'pregnancy and maternity', 'sexual orientation', 'pregnancy and maternity', 'sex', 'sexual orientation', 'age', 'gender reassignment', 'gender reassignment', 'age', 'sex', 'age', 'religion or belief', 'marriage and civil partnership', 'religion or belief', 'sex', 'sexual orientation', 'age', 'race', 'race', 'gender reassignment', 'sexual orientation', 'sex', 'marriage and civil partnership', 'sex', 'sex', 'age', 'gender reassignment', 'marriage and civil partnership', 'disability', 'race', 'marriage and civil partnership', 'pregnancy and maternity', 'sexual orientation', 'pregnancy and maternity', 'age', 'sexual orientation', 'sex', 'pregnancy and maternity', 'marriage and civil partnership', 'sex', 'sexual orientation', 'sexual orientation', 'race', 'marriage and civil partnership', 'marriage and civil partnership', 'pregnancy and maternity', 'race', 'marriage and civil partnership', 'marriage and civil partnership', 'age', 'race', 'pregnancy and maternity', 'sexual orientation', 'pregnancy and maternity', 'age', 'age', 'sexual orientation', 'sex', 'sexual orientation', 'disability', 'sexual orientation', 'marriage and civil partnership', 'sexual orientation', 'gender reassignment', 'age', 'religion or belief', 'gender reassignment', 'sexual orientation', 'sexual orientation', 'religion or belief', 'religion or belief', 'religion or belief', 'race', 'race', 'marriage and civil partnership', 'race', 'sexual orientation', 'pregnancy and maternity', 'sexual orientation', 'race', 'gender reassignment', 'sex', 'sex', 'race', 'disability', 'sexual orientation', 'marriage and civil partnership', 'sex', 'race', 'sexual orientation', 'pregnancy and maternity', 'pregnancy and maternity', 'religion or belief', 'pregnancy and maternity', 'pregnancy and maternity', 'disability', 'age', 'age', 'disability', 'sex', 'marriage and civil partnership', 'sex', 'race', 'sexual orientation', 'age', 'sex', 'sex', 'sexual orientation', 'pregnancy and maternity', 'gender reassignment', 'pregnancy and maternity', 'marriage and civil partnership', 'disability', 'sex', 'age', 'marriage and civil partnership', 'religion or belief', 'sexual orientation', 'gender reassignment', 'disability', 'disability', 'gender reassignment', 'race', 'marriage and civil partnership', 'sexual orientation', 'sexual orientation', 'race', 'age', 'disability', 'marriage and civil partnership', 'disability', 'pregnancy and maternity', 'sex', 'sexual orientation', 'marriage and civil partnership', 'age', 'marriage and civil partnership', 'sexual orientation', 'race', 'sexual orientation', 'gender reassignment', 'sexual orientation', 'race', 'disability', 'sex', 'race', 'pregnancy and maternity', 'religion or belief', 'sexual orientation', 'marriage and civil partnership', 'gender reassignment', 'age', 'marriage and civil partnership', 'marriage and civil partnership', 'pregnancy and maternity', 'race', 'pregnancy and maternity', 'religion or belief', 'pregnancy and maternity', 'marriage and civil partnership', 'marriage and civil partnership', 'religion or belief', 'race', 'marriage and civil partnership', 'gender reassignment', 'gender reassignment', 'religion or belief', 'pregnancy and maternity', 'sexual orientation', 'age', 'sexual orientation', 'disability', 'race', 'gender reassignment', 'religion or belief', 'age', 'sexual orientation', 'disability', 'race', 'race', 'pregnancy and maternity', 'age', 'disability', 'sexual orientation', 'disability', 'age', 'race', 'sex', 'disability', 'sexual orientation', 'pregnancy and maternity', 'disability', 'pregnancy and maternity', 'gender reassignment', 'disability', 'race', 'pregnancy and maternity', 'marriage and civil partnership', 'sexual orientation', 'disability', 'age', 'religion or belief', 'sexual orientation', 'gender reassignment', 'marriage and civil partnership', 'disability', 'sex', 'religion or belief', 'gender reassignment', 'age', 'marriage and civil partnership', 'sex', 'disability', 'religion or belief', 'sexual orientation', 'age', 'sexual orientation', 'race', 'religion or belief', 'marriage and civil partnership', 'marriage and civil partnership', 'age', 'age', 'religion or belief', 'disability', 'disability', 'age', 'marriage and civil partnership', 'race', 'sex', 'marriage and civil partnership', 'race', 'race', 'religion or belief', 'marriage and civil partnership', 'sexual orientation', 'age', 'pregnancy and maternity', 'sexual orientation', 'marriage and civil partnership', 'age', 'sexual orientation', 'disability', 'pregnancy and maternity', 'race', 'race', 'religion or belief', 'sexual orientation', 'gender reassignment', 'age', 'pregnancy and maternity', 'sexual orientation', 'sex', 'religion or belief', 'sexual orientation', 'religion or belief', 'sex', 'pregnancy and maternity', 'race', 'sex', 'religion or belief', 'sex', 'religion or belief', 'marriage and civil partnership', 'marriage and civil partnership', 'disability', 'race', 'sexual orientation', 'race', 'sexual orientation', 'age', 'age', 'race', 'sex', 'disability', 'age', 'religion or belief', 'religion or belief', 'pregnancy and maternity', 'sexual orientation', 'pregnancy and maternity', 'pregnancy and maternity', 'disability', 'age', 'disability', 'sexual orientation', 'religion or belief', 'religion or belief', 'marriage and civil partnership', 'sexual orientation', 'marriage and civil partnership', 'pregnancy and maternity', 'disability', 'gender reassignment', 'disability', 'pregnancy and maternity', 'age', 'marriage and civil partnership', 'gender reassignment', 'religion or belief', 'marriage and civil partnership', 'gender reassignment', 'sexual orientation', 'age', 'sex', 'religion or belief', 'age', 'disability', 'religion or belief', 'gender reassignment', 'sexual orientation', 'sex', 'gender reassignment', 'age', 'gender reassignment', 'disability', 'disability', 'disability', 'gender reassignment', 'marriage and civil partnership', 'pregnancy and maternity', 'sex', 'disability', 'religion or belief', 'gender reassignment', 'pregnancy and maternity', 'gender reassignment', 'marriage and civil partnership', 'race', 'sexual orientation', 'religion or belief', 'religion or belief', 'age', 'disability', 'disability', 'disability', 'race', 'sexual orientation', 'gender reassignment', 'sexual orientation', 'sex', 'marriage and civil partnership', 'gender reassignment', 'race', 'gender reassignment', 'sex', 'sex', 'disability', 'marriage and civil partnership', 'gender reassignment', 'race', 'race', 'pregnancy and maternity', 'age', 'sexual orientation', 'gender reassignment', 'race', 'sex', 'age', 'pregnancy and maternity', 'race', 'gender reassignment', 'sexual orientation', 'pregnancy and maternity', 'age', 'age', 'disability', 'sexual orientation', 'marriage and civil partnership', 'marriage and civil partnership', 'disability', 'age', 'sexual orientation', 'marriage and civil partnership', 'pregnancy and maternity', 'pregnancy and maternity', 'age', 'pregnancy and maternity', 'sex', 'pregnancy and maternity', 'age', 'pregnancy and maternity', 'pregnancy and maternity', 'marriage and civil partnership', 'sexual orientation', 'race', 'disability', 'gender reassignment', 'marriage and civil partnership', 'marriage and civil partnership', 'race', 'race', 'disability', 'marriage and civil partnership', 'sex', 'sexual orientation', 'sexual orientation', 'race', 'race', 'gender reassignment', 'sexual orientation', 'religion or belief', 'marriage and civil partnership', 'age', 'age', 'religion or belief', 'age', 'age', 'religion or belief', 'pregnancy and maternity', 'age', 'race', 'sexual orientation', 'sex', 'disability', 'sex', 'pregnancy and maternity', 'marriage and civil partnership', 'disability', 'sex', 'pregnancy and maternity', 'age', 'disability', 'religion or belief', 'religion or belief', 'religion or belief', 'sexual orientation', 'age', 'sex', 'sexual orientation', 'sexual orientation', 'marriage and civil partnership', 'sex', 'disability', 'religion or belief', 'age', 'age', 'sex', 'age', 'gender reassignment', 'pregnancy and maternity', 'disability', 'sex', 'race', 'race', 'race', 'sex', 'pregnancy and maternity', 'disability', 'religion or belief', 'age', 'disability', 'religion or belief', 'gender reassignment', 'disability', 'pregnancy and maternity', 'marriage and civil partnership', 'disability', 'race', 'age', 'sexual orientation', 'race', 'race', 'marriage and civil partnership', 'sex', 'race', 'religion or belief', 'marriage and civil partnership', 'marriage and civil partnership', 'religion or belief', 'religion or belief', 'pregnancy and maternity', 'disability', 'marriage and civil partnership', 'sexual orientation', 'age', 'religion or belief', 'race', 'religion or belief', 'marriage and civil partnership', 'marriage and civil partnership', 'pregnancy and maternity', 'age', 'gender reassignment', 'marriage and civil partnership', 'age', 'gender reassignment', 'religion or belief', 'age', 'marriage and civil partnership', 'race', 'sex', 'marriage and civil partnership', 'pregnancy and maternity', 'sexual orientation', 'marriage and civil partnership', 'race', 'sexual orientation', 'sexual orientation', 'pregnancy and maternity', 'religion or belief', 'race', 'pregnancy and maternity', 'sex', 'age', 'race', 'race', 'disability', 'marriage and civil partnership', 'disability', 'race', 'religion or belief', 'marriage and civil partnership', 'gender reassignment', 'sex', 'gender reassignment', 'marriage and civil partnership', 'gender reassignment', 'religion or belief', 'race', 'sex', 'sexual orientation', 'religion or belief', 'disability', 'race', 'marriage and civil partnership', 'pregnancy and maternity', 'pregnancy and maternity', 'gender reassignment', 'age', 'marriage and civil partnership', 'religion or belief', 'pregnancy and maternity', 'age', 'age', 'marriage and civil partnership', 'gender reassignment', 'sex', 'disability', 'race', 'age', 'marriage and civil partnership', 'disability', 'pregnancy and maternity', 'pregnancy and maternity', 'religion or belief', 'sexual orientation', 'sexual orientation', 'pregnancy and maternity', 'marriage and civil partnership', 'sex', 'race', 'disability', 'disability', 'disability', 'disability', 'sexual orientation', 'race', 'pregnancy and maternity', 'gender reassignment', 'sex', 'age', 'marriage and civil partnership', 'sexual orientation', 'race', 'religion or belief', 'sex', 'sex', 'religion or belief', 'gender reassignment', 'sex', 'disability', 'disability', 'religion or belief', 'gender reassignment', 'religion or belief', 'sexual orientation', 'marriage and civil partnership', 'gender reassignment', 'age', 'marriage and civil partnership', 'age', 'age', 'sexual orientation', 'race', 'pregnancy and maternity', 'sexual orientation', 'disability', 'race', 'religion or belief', 'disability', 'disability', 'marriage and civil partnership', 'age', 'gender reassignment', 'sexual orientation', 'disability', 'pregnancy and maternity', 'pregnancy and maternity', 'religion or belief', 'disability', 'gender reassignment', 'age', 'pregnancy and maternity', 'religion or belief', 'religion or belief', 'sexual orientation', 'marriage and civil partnership', 'sex', 'religion or belief', 'religion or belief', 'sexual orientation', 'race', 'sexual orientation', 'sex', 'race', 'race', 'disability', 'disability', 'age', 'disability', 'gender reassignment', 'gender reassignment', 'race', 'race', 'marriage and civil partnership', 'religion or belief', 'gender reassignment', 'race', 'gender reassignment', 'gender reassignment', 'race', 'sex', 'sexual orientation', 'race', 'gender reassignment', 'race', 'sex', 'race', 'religion or belief', 'gender reassignment', 'sex', 'gender reassignment', 'religion or belief', 'sexual orientation', 'gender reassignment', 'sex', 'religion or belief', 'race', 'sexual orientation', 'age', 'sexual orientation', 'race', 'disability', 'age', 'gender reassignment', 'pregnancy and maternity', 'sex', 'disability', 'age', 'religion or belief', 'religion or belief', 'marriage and civil partnership', 'race', 'disability', 'sex', 'disability', 'race', 'sexual orientation', 'pregnancy and maternity', 'race', 'disability', 'pregnancy and maternity', 'sex', 'sex', 'religion or belief', 'race', 'gender reassignment', 'race', 'race', 'disability', 'disability', 'pregnancy and maternity', 'race', 'religion or belief', 'religion or belief', 'sex', 'pregnancy and maternity', 'religion or belief', 'gender reassignment', 'sexual orientation', 'marriage and civil partnership', 'religion or belief', 'age', 'disability', 'sexual orientation', 'age', 'age', 'gender reassignment', 'disability', 'pregnancy and maternity', 'age', 'disability', 'religion or belief', 'sexual orientation', 'pregnancy and maternity', 'age', 'marriage and civil partnership', 'disability', 'sex', 'sex', 'religion or belief', 'marriage and civil partnership', 'gender reassignment', 'age', 'race', 'sex', 'age', 'age', 'race', 'sexual orientation', 'marriage and civil partnership', 'marriage and civil partnership', 'sex', 'sex', 'age', 'age', 'gender reassignment', 'marriage and civil partnership', 'race', 'religion or belief', 'marriage and civil partnership', 'race', 'religion or belief', 'sexual orientation', 'religion or belief', 'religion or belief', 'gender reassignment', 'sex', 'marriage and civil partnership', 'religion or belief', 'sex', 'sexual orientation', 'religion or belief', 'pregnancy and maternity', 'religion or belief', 'disability', 'sexual orientation', 'pregnancy and maternity', 'sexual orientation', 'sexual orientation', 'religion or belief', 'sex', 'gender reassignment', 'age', 'sexual orientation', 'sexual orientation', 'disability', 'pregnancy and maternity', 'race', 'sex', 'gender reassignment', 'marriage and civil partnership', 'pregnancy and maternity', 'sexual orientation', 'age', 'disability', 'marriage and civil partnership', 'gender reassignment', 'race', 'gender reassignment', 'age', 'race', 'race', 'religion or belief', 'pregnancy and maternity', 'sex', 'sexual orientation', 'marriage and civil partnership', 'age', 'religion or belief', 'race', 'religion or belief', 'disability', 'gender reassignment', 'pregnancy and maternity', 'sex', 'religion or belief', 'pregnancy and maternity', 'marriage and civil partnership', 'religion or belief', 'sex', 'marriage and civil partnership', 'religion or belief', 'age', 'sexual orientation', 'age', 'disability', 'marriage and civil partnership', 'race', 'sex', 'race', 'disability', 'age', 'sexual orientation', 'sexual orientation', 'disability', 'race', 'sex', 'pregnancy and maternity', 'sexual orientation', 'religion or belief', 'religion or belief', 'race', 'race', 'marriage and civil partnership', 'religion or belief', 'marriage and civil partnership', 'religion or belief', 'disability', 'race', 'age', 'sex', 'sex', 'pregnancy and maternity', 'race', 'race', 'race', 'marriage and civil partnership', 'sexual orientation', 'age', 'gender reassignment', 'sexual orientation', 'sexual orientation', 'marriage and civil partnership', 'sexual orientation', 'sexual orientation', 'disability', 'disability', 'sex', 'sexual orientation', 'age', 'religion or belief', 'sex', 'marriage and civil partnership', 'sexual orientation', 'age', 'sex', 'marriage and civil partnership', 'gender reassignment', 'marriage and civil partnership', 'race', 'sex', 'pregnancy and maternity', 'gender reassignment', 'disability', 'sex', 'sex', 'marriage and civil partnership', 'religion or belief', 'marriage and civil partnership', 'pregnancy and maternity', 'disability', 'religion or belief', 'age', 'pregnancy and maternity', 'religion or belief', 'sexual orientation', 'marriage and civil partnership', 'marriage and civil partnership', 'disability', 'gender reassignment', 'gender reassignment', 'sex', 'religion or belief', 'age', 'pregnancy and maternity', 'religion or belief', 'marriage and civil partnership', 'pregnancy and maternity', 'sexual orientation', 'marriage and civil partnership', 'age', 'disability', 'pregnancy and maternity', 'gender reassignment', 'pregnancy and maternity', 'pregnancy and maternity', 'religion or belief', 'sexual orientation', 'pregnancy and maternity', 'race', 'gender reassignment', 'pregnancy and maternity', 'disability', 'gender reassignment', 'disability', 'religion or belief', 'age', 'pregnancy and maternity', 'religion or belief', 'sex', 'marriage and civil partnership', 'marriage and civil partnership', 'race', 'sexual orientation', 'disability', 'race', 'gender reassignment', 'disability', 'marriage and civil partnership', 'disability', 'sex', 'pregnancy and maternity', 'pregnancy and maternity', 'gender reassignment', 'pregnancy and maternity', 'gender reassignment', 'disability', 'age', 'sex', 'gender reassignment', 'disability', 'sexual orientation', 'gender reassignment', 'age', 'disability', 'disability', 'pregnancy and maternity', 'age', 'disability', 'sex', 'gender reassignment', 'sex', 'religion or belief', 'religion or belief', 'race', 'age', 'sex', 'age', 'gender reassignment', 'age', 'religion or belief', 'pregnancy and maternity', 'sex', 'sex', 'gender reassignment', 'religion or belief', 'age', 'religion or belief', 'religion or belief', 'sex', 'sexual orientation', 'disability', 'marriage and civil partnership', 'gender reassignment', 'gender reassignment', 'sex', 'age', 'gender reassignment', 'sex', 'race', 'age', 'sex', 'sex', 'marriage and civil partnership', 'religion or belief', 'disability', 'gender reassignment', 'disability', 'gender reassignment', 'race', 'marriage and civil partnership', 'sex', 'sexual orientation', 'sexual orientation', 'disability', 'disability', 'pregnancy and maternity', 'race', 'race', 'sex', 'sexual orientation', 'gender reassignment', 'race', 'marriage and civil partnership', 'marriage and civil partnership', 'race', 'age', 'age', 'disability', 'gender reassignment', 'disability', 'age', 'age', 'marriage and civil partnership', 'sexual orientation', 'religion or belief', 'disability', 'disability', 'sexual orientation', 'religion or belief', 'religion or belief', 'age', 'pregnancy and maternity', 'marriage and civil partnership', 'age', 'pregnancy and maternity', 'sexual orientation', 'race', 'marriage and civil partnership', 'gender reassignment', 'age', 'sexual orientation', 'religion or belief', 'pregnancy and maternity', 'sex', 'age', 'sexual orientation', 'race', 'gender reassignment', 'religion or belief', 'race', 'disability', 'pregnancy and maternity', 'disability', 'race', 'marriage and civil partnership', 'pregnancy and maternity', 'marriage and civil partnership', 'race', 'age', 'age', 'age', 'disability', 'race', 'gender reassignment', 'sex', 'pregnancy and maternity', 'age', 'sexual orientation', 'marriage and civil partnership', 'sex', 'sex', 'religion or belief', 'race', 'religion or belief', 'pregnancy and maternity', 'religion or belief', 'race', 'marriage and civil partnership', 'marriage and civil partnership', 'sex', 'religion or belief', 'sexual orientation', 'marriage and civil partnership', 'marriage and civil partnership', 'religion or belief', 'race', 'pregnancy and maternity', 'sexual orientation', 'sex', 'sex', 'pregnancy and maternity', 'disability', 'disability', 'gender reassignment', 'gender reassignment', 'race', 'sex', 'gender reassignment', 'age', 'sexual orientation', 'gender reassignment', 'sex', 'gender reassignment', 'sexual orientation', 'marriage and civil partnership', 'sex', 'pregnancy and maternity', 'sex', 'marriage and civil partnership', 'religion or belief', 'sexual orientation', 'sex', 'age', 'pregnancy and maternity', 'age', 'gender reassignment', 'race', 'religion or belief', 'religion or belief', 'gender reassignment', 'pregnancy and maternity', 'disability', 'sexual orientation', 'age', 'marriage and civil partnership', 'race', 'disability', 'pregnancy and maternity', 'pregnancy and maternity', 'age', 'gender reassignment', 'gender reassignment', 'sex', 'disability', 'race', 'marriage and civil partnership', 'age', 'gender reassignment', 'religion or belief', 'religion or belief', 'sexual orientation', 'gender reassignment', 'race', 'gender reassignment', 'sex', 'gender reassignment', 'pregnancy and maternity', 'gender reassignment', 'age', 'race', 'age', 'disability', 'pregnancy and maternity', 'pregnancy and maternity', 'gender reassignment', 'disability', 'pregnancy and maternity', 'disability', 'disability', 'pregnancy and maternity', 'marriage and civil partnership', 'gender reassignment', 'marriage and civil partnership', 'sex', 'disability', 'sexual orientation', 'marriage and civil partnership', 'religion or belief', 'religion or belief', 'gender reassignment', 'religion or belief', 'marriage and civil partnership', 'pregnancy and maternity', 'age', 'disability', 'sexual orientation', 'gender reassignment', 'gender reassignment', 'race', 'disability', 'religion or belief', 'disability', 'religion or belief', 'age', 'marriage and civil partnership', 'age', 'religion or belief', 'sex', 'gender reassignment', 'age', 'pregnancy and maternity', 'gender reassignment', 'sex', 'sex', 'race', 'sexual orientation', 'marriage and civil partnership', 'religion or belief', 'pregnancy and maternity', 'religion or belief', 'pregnancy and maternity', 'sexual orientation', 'pregnancy and maternity', 'pregnancy and maternity', 'gender reassignment', 'sexual orientation', 'age', 'religion or belief', 'sexual orientation', 'religion or belief', 'age', 'race', 'sexual orientation', 'pregnancy and maternity', 'gender reassignment', 'gender reassignment', 'race', 'race', 'pregnancy and maternity', 'marriage and civil partnership', 'marriage and civil partnership', 'sex', 'sex', 'sexual orientation', 'pregnancy and maternity', 'sex', 'age', 'disability', 'disability', 'gender reassignment', 'age', 'sexual orientation', 'sex', 'sex', 'sex', 'disability', 'pregnancy and maternity', 'sex', 'disability', 'sexual orientation', 'religion or belief', 'religion or belief', 'marriage and civil partnership', 'religion or belief', 'marriage and civil partnership', 'sexual orientation', 'sexual orientation', 'race', 'age', 'sex', 'disability', 'religion or belief', 'gender reassignment', 'age', 'religion or belief', 'sex', 'gender reassignment', 'sexual orientation', 'religion or belief', 'pregnancy and maternity', 'sexual orientation', 'religion or belief', 'religion or belief', 'marriage and civil partnership', 'sex', 'disability', 'race', 'sexual orientation', 'pregnancy and maternity', 'marriage and civil partnership', 'pregnancy and maternity', 'age', 'sexual orientation', 'sexual orientation', 'marriage and civil partnership', 'gender reassignment', 'pregnancy and maternity', 'sex', 'religion or belief', 'sex', 'sex', 'race', 'age', 'religion or belief', 'sexual orientation', 'sexual orientation', 'religion or belief', 'sexual orientation', 'race', 'religion or belief', 'sex', 'sexual orientation', 'race', 'gender reassignment', 'race', 'race', 'religion or belief', 'race', 'marriage and civil partnership', 'sex', 'age', 'gender reassignment', 'sex', 'sex', 'race', 'sexual orientation', 'disability', 'religion or belief', 'religion or belief', 'sexual orientation', 'age', 'age', 'gender reassignment', 'religion or belief', 'disability', 'race', 'sexual orientation', 'marriage and civil partnership', 'race', 'pregnancy and maternity', 'disability', 'age', 'age', 'religion or belief', 'religion or belief', 'age', 'disability', 'age', 'gender reassignment', 'sex', 'pregnancy and maternity', 'disability', 'gender reassignment', 'disability', 'marriage and civil partnership', 'sex', 'gender reassignment', 'marriage and civil partnership', 'sexual orientation', 'religion or belief', 'disability', 'race', 'marriage and civil partnership', 'religion or belief', 'age', 'religion or belief', 'disability', 'disability', 'disability', 'pregnancy and maternity', 'disability', 'sexual orientation', 'religion or belief', 'sex', 'religion or belief', 'pregnancy and maternity', 'disability', 'pregnancy and maternity', 'religion or belief', 'pregnancy and maternity', 'age', 'race', 'pregnancy and maternity', 'age', 'age', 'disability', 'religion or belief', 'gender reassignment', 'age', 'pregnancy and maternity', 'race', 'age', 'race', 'sexual orientation', 'religion or belief', 'sexual orientation', 'sexual orientation', 'sex', 'religion or belief', 'age', 'disability', 'pregnancy and maternity', 'race', 'gender reassignment', 'pregnancy and maternity', 'race', 'gender reassignment', 'gender reassignment', 'religion or belief', 'sex', 'sex', 'age', 'pregnancy and maternity', 'age', 'pregnancy and maternity', 'sexual orientation', 'gender reassignment', 'pregnancy and maternity', 'sex', 'sexual orientation', 'religion or belief', 'age', 'disability', 'sexual orientation', 'age', 'sexual orientation', 'pregnancy and maternity', 'race', 'disability', 'marriage and civil partnership', 'marriage and civil partnership', 'pregnancy and maternity', 'disability', 'religion or belief', 'pregnancy and maternity', 'religion or belief', 'sex', 'race', 'sexual orientation', 'sexual orientation', 'pregnancy and maternity', 'pregnancy and maternity', 'sexual orientation', 'marriage and civil partnership', 'pregnancy and maternity', 'pregnancy and maternity', 'disability', 'sexual orientation', 'age', 'religion or belief', 'gender reassignment', 'age', 'sex', 'gender reassignment', 'age', 'race', 'gender reassignment', 'gender reassignment', 'disability', 'sex', 'sexual orientation', 'disability', 'disability', 'pregnancy and maternity', 'sexual orientation', 'gender reassignment', 'sex', 'sex', 'disability', 'sex', 'sexual orientation', 'sexual orientation', 'pregnancy and maternity', 'religion or belief', 'race', 'marriage and civil partnership', 'gender reassignment', 'disability', 'age', 'marriage and civil partnership', 'race', 'sex', 'sexual orientation', 'sexual orientation', 'pregnancy and maternity', 'age', 'sexual orientation', 'disability', 'gender reassignment', 'pregnancy and maternity', 'pregnancy and maternity', 'religion or belief', 'age', 'age', 'race', 'gender reassignment', 'sex', 'marriage and civil partnership', 'sexual orientation', 'age', 'race', 'race', 'religion or belief', 'religion or belief', 'sex', 'age', 'disability', 'sex', 'marriage and civil partnership', 'age', 'sexual orientation', 'race', 'sex', 'race', 'age', 'disability', 'race', 'age', 'marriage and civil partnership', 'sexual orientation', 'sex', 'disability', 'pregnancy and maternity', 'disability', 'marriage and civil partnership', 'pregnancy and maternity', 'marriage and civil partnership', 'pregnancy and maternity', 'sex', 'sex', 'sexual orientation', 'religion or belief', 'gender reassignment', 'race', 'religion or belief', 'sex', 'religion or belief', 'marriage and civil partnership', 'age', 'sex', 'disability', 'sex', 'pregnancy and maternity', 'gender reassignment', 'disability', 'age', 'disability', 'religion or belief', 'gender reassignment', 'sex', 'disability', 'sexual orientation', 'disability', 'age', 'gender reassignment', 'sexual orientation', 'disability', 'sexual orientation', 'pregnancy and maternity', 'religion or belief', 'sex', 'disability', 'pregnancy and maternity', 'pregnancy and maternity', 'gender reassignment', 'race', 'disability', 'sex', 'gender reassignment', 'age', 'sexual orientation', 'marriage and civil partnership', 'sex', 'gender reassignment', 'sexual orientation', 'religion or belief', 'sexual orientation', 'pregnancy and maternity', 'pregnancy and maternity', 'marriage and civil partnership', 'marriage and civil partnership', 'marriage and civil partnership', 'disability', 'religion or belief', 'age', 'disability', 'sexual orientation', 'marriage and civil partnership', 'age', 'race', 'sex', 'pregnancy and maternity', 'gender reassignment', 'marriage and civil partnership', 'marriage and civil partnership', 'sexual orientation', 'disability', 'disability', 'race', 'sex', 'disability', 'age', 'marriage and civil partnership', 'age', 'gender reassignment', 'disability', 'marriage and civil partnership', 'gender reassignment', 'disability', 'religion or belief', 'gender reassignment', 'age', 'race', 'religion or belief', 'pregnancy and maternity', 'age', 'race', 'race', 'sex', 'marriage and civil partnership', 'religion or belief', 'sexual orientation', 'disability', 'race', 'disability', 'religion or belief', 'age', 'disability', 'sex', 'disability', 'age', 'pregnancy and maternity', 'disability', 'marriage and civil partnership', 'marriage and civil partnership', 'religion or belief', 'age', 'religion or belief', 'sexual orientation', 'disability', 'age', 'age', 'race', 'age', 'gender reassignment', 'marriage and civil partnership', 'pregnancy and maternity', 'disability', 'sexual orientation', 'religion or belief', 'pregnancy and maternity', 'sexual orientation', 'pregnancy and maternity', 'religion or belief', 'pregnancy and maternity', 'race', 'marriage and civil partnership', 'sex', 'pregnancy and maternity', 'race', 'religion or belief', 'race', 'marriage and civil partnership', 'gender reassignment', 'pregnancy and maternity', 'sex', 'age', 'age', 'religion or belief', 'sex', 'gender reassignment', 'age', 'age', 'marriage and civil partnership', 'age', 'sexual orientation', 'age', 'marriage and civil partnership', 'race', 'disability', 'disability', 'sex', 'pregnancy and maternity', 'pregnancy and maternity', 'age', 'gender reassignment', 'pregnancy and maternity', 'race', 'sexual orientation', 'age', 'sex', 'race', 'marriage and civil partnership', 'gender reassignment', 'religion or belief', 'gender reassignment', 'age', 'sexual orientation', 'sexual orientation', 'religion or belief', 'sex', 'religion or belief', 'religion or belief', 'race', 'sex', 'disability', 'race', 'religion or belief', 'marriage and civil partnership', 'sexual orientation', 'race', 'age', 'marriage and civil partnership', 'sexual orientation', 'sex', 'race', 'sex', 'marriage and civil partnership', 'marriage and civil partnership', 'age', 'age', 'sexual orientation', 'pregnancy and maternity', 'race', 'race', 'marriage and civil partnership', 'marriage and civil partnership', 'pregnancy and maternity', 'disability', 'marriage and civil partnership', 'race', 'race', 'sexual orientation', 'religion or belief', 'sex', 'race', 'race', 'pregnancy and maternity', 'disability', 'religion or belief', 'sex', 'age', 'age', 'sexual orientation', 'gender reassignment', 'sexual orientation', 'religion or belief', 'gender reassignment', 'race', 'age', 'age', 'disability', 'age', 'gender reassignment', 'pregnancy and maternity', 'disability', 'gender reassignment', 'sexual orientation', 'age', 'pregnancy and maternity', 'age', 'religion or belief', 'sex', 'religion or belief', 'marriage and civil partnership', 'religion or belief', 'age', 'gender reassignment', 'religion or belief', 'age', 'age', 'religion or belief', 'gender reassignment', 'sexual orientation', 'sexual orientation', 'marriage and civil partnership', 'marriage and civil partnership', 'pregnancy and maternity', 'gender reassignment', 'marriage and civil partnership', 'gender reassignment', 'race', 'sex', 'religion or belief', 'disability', 'marriage and civil partnership', 'religion or belief', 'pregnancy and maternity', 'sex', 'race', 'sexual orientation', 'religion or belief', 'sexual orientation', 'sex', 'sexual orientation', 'sexual orientation', 'age', 'religion or belief', 'disability', 'race', 'sex', 'gender reassignment', 'marriage and civil partnership', 'race', 'gender reassignment', 'gender reassignment', 'religion or belief', 'race', 'sexual orientation', 'sex', 'marriage and civil partnership', 'disability', 'marriage and civil partnership', 'religion or belief', 'gender reassignment', 'sexual orientation', 'race', 'sexual orientation', 'pregnancy and maternity', 'religion or belief', 'sex', 'sexual orientation', 'race', 'sex', 'gender reassignment', 'race', 'age', 'pregnancy and maternity', 'race', 'marriage and civil partnership', 'sex', 'pregnancy and maternity', 'age', 'age', 'disability', 'gender reassignment', 'sexual orientation', 'disability', 'pregnancy and maternity', 'race', 'sex', 'age', 'marriage and civil partnership', 'sexual orientation', 'religion or belief', 'age', 'age', 'disability', 'race', 'sex', 'sexual orientation', 'pregnancy and maternity', 'pregnancy and maternity', 'marriage and civil partnership', 'gender reassignment', 'race', 'religion or belief', 'disability', 'pregnancy and maternity', 'gender reassignment', 'race', 'race', 'religion or belief', 'religion or belief', 'age', 'age', 'gender reassignment', 'sex', 'marriage and civil partnership', 'religion or belief', 'age', 'sexual orientation', 'gender reassignment', 'marriage and civil partnership', 'pregnancy and maternity', 'marriage and civil partnership', 'religion or belief', 'age', 'disability', 'religion or belief', 'disability', 'sexual orientation', 'disability', 'disability', 'race', 'religion or belief', 'marriage and civil partnership', 'religion or belief', 'gender reassignment', 'gender reassignment', 'sex', 'disability', 'sex', 'pregnancy and maternity', 'race', 'race', 'gender reassignment', 'sexual orientation', 'religion or belief', 'sex', 'religion or belief', 'sex', 'marriage and civil partnership', 'sex', 'race', 'religion or belief', 'sex', 'sex', 'sexual orientation', 'age', 'sexual orientation', 'religion or belief', 'sexual orientation', 'sexual orientation', 'race', 'sexual orientation', 'marriage and civil partnership', 'age', 'sexual orientation', 'sexual orientation', 'marriage and civil partnership', 'pregnancy and maternity', 'religion or belief', 'sexual orientation', 'sex', 'gender reassignment', 'pregnancy and maternity', 'race', 'sex', 'age', 'disability', 'religion or belief', 'race', 'gender reassignment', 'religion or belief', 'sex', 'gender reassignment', 'sexual orientation', 'gender reassignment', 'pregnancy and maternity', 'disability', 'sex', 'religion or belief', 'religion or belief', 'marriage and civil partnership', 'sex', 'marriage and civil partnership', 'sex', 'religion or belief', 'marriage and civil partnership', 'gender reassignment', 'race', 'race', 'religion or belief', 'sex', 'race', 'sex', 'race', 'pregnancy and maternity', 'sexual orientation', 'gender reassignment', 'sex', 'religion or belief', 'sex', 'religion or belief', 'marriage and civil partnership', 'sexual orientation', 'pregnancy and maternity', 'marriage and civil partnership', 'gender reassignment', 'race', 'sex', 'disability', 'gender reassignment', 'gender reassignment', 'sexual orientation', 'marriage and civil partnership', 'disability', 'gender reassignment', 'sexual orientation', 'sex', 'sexual orientation', 'disability', 'religion or belief', 'marriage and civil partnership', 'religion or belief', 'marriage and civil partnership', 'religion or belief', 'age', 'age', 'marriage and civil partnership', 'gender reassignment', 'sexual orientation', 'race', 'disability', 'religion or belief', 'marriage and civil partnership', 'sexual orientation', 'race', 'age', 'gender reassignment', 'religion or belief', 'sex', 'age', 'sex', 'pregnancy and maternity', 'religion or belief', 'sexual orientation', 'disability', 'sex', 'sexual orientation', 'pregnancy and maternity', 'pregnancy and maternity', 'race', 'age', 'race', 'gender reassignment', 'disability', 'marriage and civil partnership', 'race', 'gender reassignment', 'marriage and civil partnership', 'pregnancy and maternity', 'pregnancy and maternity', 'age', 'pregnancy and maternity', 'sex', 'gender reassignment', 'gender reassignment', 'gender reassignment', 'race', 'sexual orientation', 'sex', 'marriage and civil partnership', 'marriage and civil partnership', 'religion or belief', 'age', 'marriage and civil partnership', 'race', 'disability', 'marriage and civil partnership', 'age', 'religion or belief', 'age', 'gender reassignment', 'sexual orientation', 'religion or belief', 'religion or belief', 'pregnancy and maternity', 'gender reassignment', 'pregnancy and maternity', 'marriage and civil partnership', 'pregnancy and maternity', 'race', 'marriage and civil partnership', 'age', 'pregnancy and maternity', 'sex', 'race', 'age', 'religion or belief', 'religion or belief', 'marriage and civil partnership', 'age', 'sexual orientation', 'sexual orientation', 'sex', 'gender reassignment', 'religion or belief', 'sexual orientation', 'sexual orientation', 'gender reassignment', 'race', 'race', 'disability', 'sexual orientation', 'race', 'religion or belief', 'age', 'sexual orientation', 'age', 'gender reassignment', 'religion or belief', 'marriage and civil partnership', 'religion or belief', 'race', 'age', 'pregnancy and maternity', 'gender reassignment', 'sex', 'sexual orientation', 'race', 'sexual orientation', 'religion or belief', 'gender reassignment', 'sexual orientation', 'age', 'age', 'religion or belief', 'religion or belief', 'gender reassignment', 'age', 'religion or belief', 'religion or belief', 'disability', 'disability', 'pregnancy and maternity', 'sexual orientation', 'religion or belief', 'disability', 'gender reassignment', 'disability', 'religion or belief', 'sex', 'disability', 'disability', 'disability', 'gender reassignment', 'sex', 'race', 'disability', 'marriage and civil partnership', 'sexual orientation', 'pregnancy and maternity', 'sex', 'sex', 'religion or belief', 'gender reassignment', 'disability', 'religion or belief', 'disability', 'marriage and civil partnership', 'pregnancy and maternity', 'race', 'religion or belief', 'pregnancy and maternity', 'pregnancy and maternity', 'disability', 'religion or belief', 'marriage and civil partnership', 'sex', 'sexual orientation', 'race', 'pregnancy and maternity', 'sex', 'sex', 'pregnancy and maternity', 'age', 'disability', 'marriage and civil partnership', 'religion or belief', 'marriage and civil partnership', 'sexual orientation', 'religion or belief', 'sex', 'pregnancy and maternity', 'sexual orientation', 'sex', 'sexual orientation', 'religion or belief', 'sexual orientation', 'sex', 'disability', 'sex', 'race', 'race', 'age', 'age', 'race', 'sex', 'pregnancy and maternity', 'marriage and civil partnership', 'sexual orientation', 'age', 'marriage and civil partnership', 'marriage and civil partnership', 'race', 'pregnancy and maternity', 'marriage and civil partnership', 'sexual orientation', 'age', 'age', 'disability', 'sexual orientation', 'race', 'age', 'religion or belief', 'sexual orientation', 'religion or belief', 'age', 'race', 'age', 'marriage and civil partnership', 'age', 'religion or belief', 'religion or belief', 'pregnancy and maternity', 'marriage and civil partnership', 'marriage and civil partnership', 'pregnancy and maternity', 'race', 'sex', 'gender reassignment', 'pregnancy and maternity', 'disability', 'pregnancy and maternity', 'pregnancy and maternity', 'disability', 'sex', 'race', 'marriage and civil partnership', 'sexual orientation', 'marriage and civil partnership', 'age', 'marriage and civil partnership', 'religion or belief', 'disability', 'marriage and civil partnership', 'sexual orientation', 'race', 'sex', 'disability', 'disability', 'sex', 'gender reassignment', 'disability', 'sex', 'religion or belief', 'marriage and civil partnership', 'sex', 'sexual orientation', 'religion or belief', 'gender reassignment', 'religion or belief', 'disability', 'disability', 'age', 'religion or belief', 'gender reassignment', 'age', 'disability', 'sexual orientation', 'age', 'gender reassignment', 'sex', 'sex', 'pregnancy and maternity', 'pregnancy and maternity', 'age', 'age', 'sexual orientation', 'sex', 'disability', 'age', 'religion or belief', 'disability', 'sex', 'religion or belief', 'pregnancy and maternity', 'marriage and civil partnership', 'race', 'race', 'gender reassignment', 'age', 'age', 'sex', 'gender reassignment', 'age', 'race', 'sexual orientation', 'gender reassignment', 'religion or belief', 'marriage and civil partnership', 'religion or belief']\n"
          ]
        }
      ]
    },
    {
      "cell_type": "markdown",
      "metadata": {
        "id": "kecDmuKLGTge"
      },
      "source": [
        "---\n",
        "###Exercise 5 - characteristic counts\n",
        "\n",
        "Write a function which will:\n",
        "*  iterate through the `protected_characteristics` tuple and for each **characteristic**:\n",
        "*   *   count the number of occurrences of that `characteristic` in the `characteristics` list\n",
        "*   *   print the `protected_characteristic` and the **count**  \n",
        "\n",
        "**Example expected output**:\n",
        "\n",
        "age 100  \n",
        "disability 120  \n",
        "gender reassignment 120  \n",
        "marriage and civil partnership 111  \n",
        "pregnancy and maternity 103  \n",
        "race 106  \n",
        "religion or belief 95  \n",
        "sex 110  \n",
        "sexual orientation 113  \n",
        "\n",
        "Extra learning:  you can read [here](https://thispointer.com/python-how-to-pad-strings-with-zero-space-or-some-other-character/) how to justify the printed characteristic so that the output is organised into two columns as shown below:  \n",
        "![tabulated output](https://drive.google.com/uc?id=1CCXfX6K5ZeDefnq7vUsqxCDmqvcfY8Mz)\n",
        "\n",
        "\n"
      ]
    },
    {
      "cell_type": "code",
      "metadata": {
        "id": "3B0RaPcDG19c",
        "colab": {
          "base_uri": "https://localhost:8080/"
        },
        "outputId": "1f29431e-ab63-4a0f-f384-3c002bff18de"
      },
      "source": [
        "from random import randint, choice\n",
        "\n",
        "def count_characteristics():\n",
        "  #add code here\n",
        "  \n",
        "  characteristics_tuple = ('age','disability','gender reassignment','marriage and civil partnership','pregnancy and maternity','race','religion or belief','sex','sexual orientation')\n",
        "  for x in characteristics_tuple:\n",
        "\n",
        "    print(x, \" \", characteristics.count(x))\n",
        "\n",
        "\n",
        "\n",
        "# run the count_characteristics() function and observe the result\n",
        "count_characteristics()\n",
        "\n",
        "\n",
        "\n"
      ],
      "execution_count": 51,
      "outputs": [
        {
          "output_type": "stream",
          "name": "stdout",
          "text": [
            "age   499\n",
            "disability   496\n",
            "gender reassignment   471\n",
            "marriage and civil partnership   506\n",
            "pregnancy and maternity   467\n",
            "race   465\n",
            "religion or belief   505\n",
            "sex   474\n",
            "sexual orientation   487\n"
          ]
        }
      ]
    },
    {
      "cell_type": "markdown",
      "metadata": {
        "id": "jDiO1xYYG1iS"
      },
      "source": [
        "---\n",
        "###Exercise 6 - characteristics statistics\n",
        "\n",
        "Assuming that the `characteristics` list may have been taken from a study of cases that have been taken to court in relation to the Equality Act.  \n",
        "\n",
        "Write a function with the parameter characteristic (a single protected characteristic) which will:\n",
        "*   return the characteristic, its frequency and the percentage that this frequency is of the whole population."
      ]
    },
    {
      "cell_type": "code",
      "metadata": {
        "id": "KKAI_tYvGVL9",
        "colab": {
          "base_uri": "https://localhost:8080/"
        },
        "outputId": "67d7856f-deab-469d-f30b-e0ce0a64cdbe"
      },
      "source": [
        "def get_characteristic_frequency(characteristic):\n",
        "  #add code here to find the frequency and percentage of the whole\n",
        "  #characteristic=\"gender reassigment\"\n",
        "\n",
        "  print(characteristic, \" \", characteristics.count('gender reassignment'))\n",
        "  \n",
        "\n",
        "\n",
        "\n",
        "# run the function get_characteristic_frequency(\"gender reassignment\") and observe the results\n",
        "get_characteristic_frequency(\"gender reassignment\")"
      ],
      "execution_count": 59,
      "outputs": [
        {
          "output_type": "stream",
          "name": "stdout",
          "text": [
            "gender reassignment   471\n"
          ]
        }
      ]
    },
    {
      "cell_type": "markdown",
      "metadata": {
        "id": "22Rhwx2Sb1Ey"
      },
      "source": [
        "---\n",
        "### Optional extra practice\n",
        "\n",
        "There are some similar and some more challenging exercises [here](https://www.w3resource.com/python-exercises/date-time-exercise/) if you would like to practice more. The site has its own editor."
      ]
    }
  ]
}
