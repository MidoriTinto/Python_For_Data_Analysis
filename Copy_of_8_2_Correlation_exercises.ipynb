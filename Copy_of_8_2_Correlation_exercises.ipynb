{
  "nbformat": 4,
  "nbformat_minor": 0,
  "metadata": {
    "kernelspec": {
      "display_name": "Python 3",
      "language": "python",
      "name": "python3"
    },
    "language_info": {
      "codemirror_mode": {
        "name": "ipython",
        "version": 3
      },
      "file_extension": ".py",
      "mimetype": "text/x-python",
      "name": "python",
      "nbconvert_exporter": "python",
      "pygments_lexer": "ipython3",
      "version": "3.8.5"
    },
    "colab": {
      "name": "Copy of 8.2. Correlation exercises.ipynb",
      "provenance": [],
      "collapsed_sections": [],
      "include_colab_link": true
    }
  },
  "cells": [
    {
      "cell_type": "markdown",
      "metadata": {
        "id": "view-in-github",
        "colab_type": "text"
      },
      "source": [
        "<a href=\"https://colab.research.google.com/github/MidoriTinto/Python_Fundamentals/blob/main/Copy_of_8_2_Correlation_exercises.ipynb\" target=\"_parent\"><img src=\"https://colab.research.google.com/assets/colab-badge.svg\" alt=\"Open In Colab\"/></a>"
      ]
    },
    {
      "cell_type": "markdown",
      "metadata": {
        "id": "7raIDLBmCVNJ"
      },
      "source": [
        "# Describing the data relatively\n",
        "---\n",
        "This worksheet has a set of exercises for practising using the linregress function.  The function will run a linear regression algorithm (or model) to produce data that can be used for predictions."
      ]
    },
    {
      "cell_type": "markdown",
      "metadata": {
        "id": "DVgw-x5VCVNN"
      },
      "source": [
        "### Exercise 1 - Clean the data \n",
        "---\n",
        "Using the positive psychology dataset - \"https://github.com/lilaceri/Working-with-data-/blob/b157a2feceb7709cf82426932385706d65446270/Data%20Sets%20for%20code%20divisio/Positive_Psychology_2017.csv?raw=true\"\n",
        "* Read the data and display info \n",
        "* Visually check the summary to see which columns have null values\n",
        "* Remove columns with a significant number of null values\n",
        "\n",
        "**Expected Output**\n",
        "```\n",
        "<class 'pandas.core.frame.DataFrame'>\n",
        "RangeIndex: 44 entries, 0 to 43\n",
        "Data columns (total 13 columns):\n",
        " #   Column       Non-Null Count  Dtype  \n",
        "---  ------       --------------  -----  \n",
        " 0   Age          44 non-null     int64  \n",
        " 1   English      44 non-null     object \n",
        " 2   sex          44 non-null     object \n",
        " 3   origin       44 non-null     object \n",
        " 4   Ukresidence  44 non-null     float64\n",
        " 5   MAAS         44 non-null     float64\n",
        " 6   Resilliance  44 non-null     int64  \n",
        " 7   Wellbeing    44 non-null     int64  \n",
        " 8   Stress       44 non-null     int64  \n",
        " 9   selfesteem   44 non-null     int64  \n",
        " 10  LoC          44 non-null     int64  \n",
        " 11  sleep        44 non-null     int64  \n",
        " 12  Year         44 non-null     int64  \n",
        "dtypes: float64(2), int64(8), object(3)\n",
        "memory usage: 4.6+ KB\n",
        "```"
      ]
    },
    {
      "cell_type": "code",
      "metadata": {
        "id": "_U5CsP0ECVNO",
        "colab": {
          "base_uri": "https://localhost:8080/"
        },
        "outputId": "0cd31845-c99f-48ca-ac04-1cf744bce81d"
      },
      "source": [
        "import pandas as pd\n",
        "\n",
        "url=\"https://github.com/lilaceri/Working-with-data-/blob/b157a2feceb7709cf82426932385706d65446270/Data%20Sets%20for%20code%20divisio/Positive_Psychology_2017.csv?raw=true\"\n",
        "psych=pd.read_csv(url)\n",
        "#psych\n",
        "#firstlanguage has to be dropped because of null values\n",
        "language_drop=psych.drop(columns=['firstlanguage'], axis=0)\n",
        "language_drop.info()"
      ],
      "execution_count": 1,
      "outputs": [
        {
          "output_type": "stream",
          "name": "stdout",
          "text": [
            "<class 'pandas.core.frame.DataFrame'>\n",
            "RangeIndex: 44 entries, 0 to 43\n",
            "Data columns (total 13 columns):\n",
            " #   Column       Non-Null Count  Dtype  \n",
            "---  ------       --------------  -----  \n",
            " 0   Age          44 non-null     int64  \n",
            " 1   English      44 non-null     object \n",
            " 2   sex          44 non-null     object \n",
            " 3   origin       44 non-null     object \n",
            " 4   Ukresidence  44 non-null     float64\n",
            " 5   MAAS         44 non-null     float64\n",
            " 6   Resilliance  44 non-null     int64  \n",
            " 7   Wellbeing    44 non-null     int64  \n",
            " 8   Stress       44 non-null     int64  \n",
            " 9   selfesteem   44 non-null     int64  \n",
            " 10  LoC          44 non-null     int64  \n",
            " 11  sleep        44 non-null     int64  \n",
            " 12  Year         44 non-null     int64  \n",
            "dtypes: float64(2), int64(8), object(3)\n",
            "memory usage: 4.6+ KB\n"
          ]
        }
      ]
    },
    {
      "cell_type": "markdown",
      "metadata": {
        "id": "w5_G1iWYCVNP"
      },
      "source": [
        "### Exercise 2 - Check for outliers \n",
        "---\n",
        "We briefly mentioned outliers in the R and stats presentation. An outlier is an abnormal value in the data that is either extremely high or low compared to the rest of the data. Outliers can skew results. \n",
        "\n",
        "A value is considered to be an outlier if it is any of:\n",
        "*  greater than `Q3 + 1.5 * interquartile_range`\n",
        "*  less than `Q1 - 1.5 * interquartile_range`\n",
        "*  more than 2 standard deviations from the mean\n",
        "\n",
        "Q3 = value at 75% of data, Q1 = value at 25% of the data, IQR is the interquartile range, the difference between Q3 and Q1.  \n",
        "\n",
        "We can check for outliers using a Box plot, in which:\n",
        "\n",
        "*  the upper line on the boxplots arm (whisker) is `Q3 + 1.5 * IQR`\n",
        "*  the lower line on the boxplots arm (whisker) is `Q1 - 1.5 * IQR`\n",
        "*  the middle line of the box is the median\n",
        "*  the top of the box is Q3\n",
        "*  the bottom of the box is Q1\n",
        "*  outliers are shown as circles or dots, either above or below the whiskers\n",
        "\n",
        "1. Using either matplotlib or Seaborn, create a boxplot of `Wellbeing` and a separate boxplot of `selfesteem`\n",
        "2. use `plt.show()` to separate the graphs \n",
        "3. Can you see any outliers? Are they high or low?\n",
        "\n",
        "**Expected Output**\n",
        "\n",
        "https://docs.google.com/presentation/d/e/2PACX-1vQBji5MrvtdeXCtP2PJzhPLKqXXuLMYjy4nCIzXpJLoye38IzetN5amZd6pU9e4io3bTUvE6Slg_hIk/pub?start=false&loop=false&delayms=3000\n"
      ]
    },
    {
      "cell_type": "code",
      "metadata": {
        "id": "sLT4pozqCVNQ",
        "colab": {
          "base_uri": "https://localhost:8080/",
          "height": 513
        },
        "outputId": "e3dbf15c-2f70-4e67-cc49-f0b353a67692"
      },
      "source": [
        "import matplotlib.pyplot as plt\n",
        "\n",
        "wellbeing=language_drop[\"Wellbeing\"]\n",
        "#wellbeing\n",
        "labels=[\"Wellbeing\"]\n",
        "#labels\n",
        "plt.boxplot(wellbeing, labels=labels)\n",
        "plt.show()\n",
        "\n",
        "wellbeing=language_drop[\"selfesteem\"]\n",
        "#wellbeing\n",
        "labels=[\"Selfesteem\"]\n",
        "#labels\n",
        "plt.boxplot(wellbeing, labels=labels)\n",
        "plt.show()\n",
        "\n"
      ],
      "execution_count": null,
      "outputs": [
        {
          "output_type": "display_data",
          "data": {
            "image/png": "[encoded data removed]",
            "text/plain": [
              "<Figure size 432x288 with 1 Axes>"
            ]
          },
          "metadata": {
            "needs_background": "light"
          }
        },
        {
          "output_type": "display_data",
          "data": {
            "image/png": "[encoded data removed]",
            "text/plain": [
              "<Figure size 432x288 with 1 Axes>"
            ]
          },
          "metadata": {
            "needs_background": "light"
          }
        }
      ]
    },
    {
      "cell_type": "markdown",
      "source": [
        "Because of the whiskers being long in both sets of data outliers can be expected."
      ],
      "metadata": {
        "id": "wR_Sn--9_GSL"
      }
    },
    {
      "cell_type": "markdown",
      "metadata": {
        "id": "8VCT8LnOCVNQ"
      },
      "source": [
        "### Exercise 3 - Removing outliers\n",
        "---\n",
        "Create a function called `remove_outliers(df, column)` to remove outliers from a given column in a given dataframe.  Use the function to remove outliers from the `Wellbeing` column.  Then use the function to remove the outliers from the `selfesteem` columns. \n",
        "\n",
        "The function will:\n",
        "\n",
        "1. Store the values for Q1 and Q3 in 2 separate variables   *Hint: you can use `.quantile(0.75)` and `.quantile(0.25)` to get Q3 and Q1 respectively*  \n",
        "2. Calculate the interquartile range(IQR) using `Q3` - `Q1`  \n",
        "3. Create a variable which will store the value for the `upper_limit` (`Q3 + 1.5 * IQR`)  \n",
        "4. Create another variable which assigns the value for the `lower_limit` (`Q1  - 1.5 * IQR`)  \n",
        "5. Filter all rows where values are NOT outliers into a new dataframe called `df_normal`\n",
        "6. Return `df_normal`\n",
        "\n",
        "Run the function twice, once for each column.\n",
        "Show the info for the resulting dataframe\n",
        "\n",
        "**Test output**:  \n",
        "```\n",
        "<class 'pandas.core.frame.DataFrame'>\n",
        "Int64Index: 41 entries, 0 to 43\n",
        "Data columns (total 13 columns):\n",
        " #   Column       Non-Null Count  Dtype  \n",
        "---  ------       --------------  -----  \n",
        " 0   Age          41 non-null     int64  \n",
        " 1   English      41 non-null     object \n",
        " 2   sex          41 non-null     object \n",
        " 3   origin       41 non-null     object \n",
        " 4   Ukresidence  41 non-null     float64\n",
        " 5   MAAS         41 non-null     float64\n",
        " 6   Resilliance  41 non-null     int64  \n",
        " 7   Wellbeing    41 non-null     int64  \n",
        " 8   Stress       41 non-null     int64  \n",
        " 9   selfesteem   41 non-null     int64  \n",
        " 10  LoC          41 non-null     int64  \n",
        " 11  sleep        41 non-null     int64  \n",
        " 12  Year         41 non-null     int64  \n",
        "dtypes: float64(2), int64(8), object(3)\n",
        "memory usage: 4.5+ KB\n",
        "```\n"
      ]
    },
    {
      "cell_type": "code",
      "metadata": {
        "id": "wFvT_TtjCVNR",
        "colab": {
          "base_uri": "https://localhost:8080/"
        },
        "outputId": "87920760-b3c0-444f-cdb6-ee322de55aff"
      },
      "source": [
        "import matplotlib.pyplot as plt\n",
        "import pandas as pd\n",
        "\n",
        "url=\"https://github.com/lilaceri/Working-with-data-/blob/b157a2feceb7709cf82426932385706d65446270/Data%20Sets%20for%20code%20divisio/Positive_Psychology_2017.csv?raw=true\"\n",
        "psych=pd.read_csv(url)\n",
        "#psych\n",
        "#firstlanguage was dropped because of null values\n",
        "language_drop=psych.drop(columns=['firstlanguage'], axis=0)\n",
        "#language_drop.info() # to check column has been dropped\n",
        "\n",
        "\n",
        "column=\"selfesteem\", \"Wellbeing\"\n",
        "\n",
        "def remove_outliers():\n",
        "\n",
        "  wellbeingQ1=language_drop[\"Wellbeing\"].quantile(0.25)#need to specify the column otherwise the whole dataframe is affected\n",
        "  wellbeingQ3=language_drop[\"Wellbeing\"].quantile(0.75)\n",
        "  IQR=wellbeingQ3-wellbeingQ1\n",
        "\n",
        "  upper_limit=wellbeingQ3 + 1.5 * IQR #defining upper and lower limit\n",
        "  lower_limit=wellbeingQ1 - 1.5 * IQR\n",
        "\n",
        "  df_normal=language_drop[(language_drop[\"Wellbeing\"] > (lower_limit)) & (language_drop[\"Wellbeing\"] < (upper_limit))]#dataframe after dropping null values from column Wellbeing\n",
        "\n",
        "  return df_normal.info()\n",
        "\n",
        "\n",
        "remove_outliers()"
      ],
      "execution_count": 3,
      "outputs": [
        {
          "output_type": "stream",
          "name": "stdout",
          "text": [
            "<class 'pandas.core.frame.DataFrame'>\n",
            "Int64Index: 43 entries, 0 to 43\n",
            "Data columns (total 13 columns):\n",
            " #   Column       Non-Null Count  Dtype  \n",
            "---  ------       --------------  -----  \n",
            " 0   Age          43 non-null     int64  \n",
            " 1   English      43 non-null     object \n",
            " 2   sex          43 non-null     object \n",
            " 3   origin       43 non-null     object \n",
            " 4   Ukresidence  43 non-null     float64\n",
            " 5   MAAS         43 non-null     float64\n",
            " 6   Resilliance  43 non-null     int64  \n",
            " 7   Wellbeing    43 non-null     int64  \n",
            " 8   Stress       43 non-null     int64  \n",
            " 9   selfesteem   43 non-null     int64  \n",
            " 10  LoC          43 non-null     int64  \n",
            " 11  sleep        43 non-null     int64  \n",
            " 12  Year         43 non-null     int64  \n",
            "dtypes: float64(2), int64(8), object(3)\n",
            "memory usage: 4.7+ KB\n"
          ]
        }
      ]
    },
    {
      "cell_type": "markdown",
      "source": [
        "Exercise above, outliers have been removed in column WELLBEING ONLY...hence 43 non-null instead of the expected 41"
      ],
      "metadata": {
        "id": "Gqm15ky_GDH7"
      }
    },
    {
      "cell_type": "markdown",
      "source": [
        "The Code Cell below shows outliers eliminated in columns Wellbeing and Selfesteem simultaneously (look at df_normal). This seems to be causing issues since 40 non-null are eliminated instead of the 41 expected (see expected output). It seems that by doing it this way a value extra is eliminated from column Wellbeing.Hence 40 and not 41."
      ],
      "metadata": {
        "id": "KQU0_M0wGZq4"
      }
    },
    {
      "cell_type": "code",
      "source": [
        "import matplotlib.pyplot as plt\n",
        "import pandas as pd\n",
        "import seaborn as sns\n",
        "\n",
        "url=\"https://github.com/lilaceri/Working-with-data-/blob/b157a2feceb7709cf82426932385706d65446270/Data%20Sets%20for%20code%20divisio/Positive_Psychology_2017.csv?raw=true\"\n",
        "psych=pd.read_csv(url)\n",
        "#psych\n",
        "#firstlanguage has to be dropped because of null values\n",
        "language_drop=psych.drop(columns=['firstlanguage'], axis=0)\n",
        "#language_drop.info()\n",
        "\n",
        "df=language_drop\n",
        "#column=\"selfesteem\", \"Wellbeing\"\n",
        "\n",
        "def remove_outliers():\n",
        "  #removing outliers on wellbeing column\n",
        "  wellbeingQ1=df[\"Wellbeing\"].quantile(0.25)#need to specify the column otherwise the whole dataframe is affected\n",
        "  wellbeingQ3=df[\"Wellbeing\"].quantile(0.75)\n",
        "  IQR=wellbeingQ3-wellbeingQ1\n",
        "\n",
        "  upper_limit_w =wellbeingQ3 + 1.5 * IQR\n",
        "  lower_limit_w =wellbeingQ1 - 1.5 * IQR\n",
        "\n",
        "  #removign outliers on selfesteem column\n",
        "  selfesteemQ1=df[\"selfesteem\"].quantile(0.25)\n",
        "  selfesteemQ3=df[\"selfesteem\"].quantile(0.75)\n",
        "  IQR2=selfesteemQ3-selfesteemQ1\n",
        "\n",
        "  lower_limit =selfesteemQ1 - 1.5 * IQR2\n",
        "  upper_limit =selfesteemQ3 + 1.5 * IQR2\n",
        "\n",
        "  df_normal=df[(df[\"Wellbeing\"] > (lower_limit_w)) & (df[\"Wellbeing\"] < (upper_limit_w)) & (df[\"selfesteem\"] > (lower_limit)) & (df[\"selfesteem\"] < (upper_limit)) ]\n",
        "  #df_normal contains all columns apart from \"firstlanguage\" and all null values have been dropped in both column Wellbeing and selfesteem simultaneously\n",
        "\n",
        "  #return df_normal.info()\n",
        " \n",
        "  #checking for normality\n",
        "  wellbeing=df_normal[\"Wellbeing\"]\n",
        "  #wellbeing\n",
        "  labels=[\"Wellbeing\"]\n",
        "  #labels\n",
        "  chart=sns.distplot(df_normal[\"Wellbeing\"])\n",
        "  chart.set_xticklabels(labels)\n",
        "  chart\n",
        "\n",
        "remove_outliers()"
      ],
      "metadata": {
        "colab": {
          "base_uri": "https://localhost:8080/",
          "height": 325
        },
        "id": "YNq6TiMMERfe",
        "outputId": "212cb222-17e5-4bec-93ba-06d311642316"
      },
      "execution_count": 9,
      "outputs": [
        {
          "output_type": "stream",
          "name": "stderr",
          "text": [
            "/usr/local/lib/python3.7/dist-packages/seaborn/distributions.py:2619: FutureWarning: `distplot` is a deprecated function and will be removed in a future version. Please adapt your code to use either `displot` (a figure-level function with similar flexibility) or `histplot` (an axes-level function for histograms).\n",
            "  warnings.warn(msg, FutureWarning)\n"
          ]
        },
        {
          "output_type": "display_data",
          "data": {
            "image/png": "[encoded data removed]",
            "text/plain": [
              "<Figure size 432x288 with 1 Axes>"
            ]
          },
          "metadata": {
            "needs_background": "light"
          }
        }
      ]
    },
    {
      "cell_type": "code",
      "source": [
        "#LILA's CODE VERs.1 showing that when outliers are removed first in one column and then in the other column the result is as expected\n",
        "import pandas as pd\n",
        "url = \"https://github.com/lilaceri/Working-with-data-/blob/b157a2feceb7709cf82426932385706d65446270/Data%20Sets%20for%20code%20divisio/Positive_Psychology_2017.csv?raw=true\"\n",
        "df = pd.read_csv(url)\n",
        "def remove_outliers(df, column):\n",
        "  q1 = df[column].quantile(0.25)\n",
        "  q3 = df[column].quantile(0.75)\n",
        "  iqr = q3-q1\n",
        "  upper = q3 + 1.5*iqr\n",
        "  lower = q1-1.5*iqr\n",
        "  df_normal = df[(df[column] < upper) & (df[column] > lower)]\n",
        "  return df_normal\n",
        "wellbeing_outliers_removed = remove_outliers(df, \"Wellbeing\")\n",
        "df_no_outliers = remove_outliers(wellbeing_outliers_removed, \"selfesteem\")\n",
        "\n",
        "df_no_outliers.info()\n",
        "\n"
      ],
      "metadata": {
        "colab": {
          "base_uri": "https://localhost:8080/"
        },
        "id": "iXlcIGczSP76",
        "outputId": "5dfa231e-85af-419d-c447-a5c20c081e5a"
      },
      "execution_count": null,
      "outputs": [
        {
          "output_type": "stream",
          "name": "stdout",
          "text": [
            "<class 'pandas.core.frame.DataFrame'>\n",
            "Int64Index: 41 entries, 0 to 43\n",
            "Data columns (total 14 columns):\n",
            " #   Column         Non-Null Count  Dtype  \n",
            "---  ------         --------------  -----  \n",
            " 0   Age            41 non-null     int64  \n",
            " 1   English        41 non-null     object \n",
            " 2   firstlanguage  18 non-null     object \n",
            " 3   sex            41 non-null     object \n",
            " 4   origin         41 non-null     object \n",
            " 5   Ukresidence    41 non-null     float64\n",
            " 6   MAAS           41 non-null     float64\n",
            " 7   Resilliance    41 non-null     int64  \n",
            " 8   Wellbeing      41 non-null     int64  \n",
            " 9   Stress         41 non-null     int64  \n",
            " 10  selfesteem     41 non-null     int64  \n",
            " 11  LoC            41 non-null     int64  \n",
            " 12  sleep          41 non-null     int64  \n",
            " 13  Year           41 non-null     int64  \n",
            "dtypes: float64(2), int64(8), object(4)\n",
            "memory usage: 4.8+ KB\n"
          ]
        }
      ]
    },
    {
      "cell_type": "code",
      "source": [
        "import seaborn as sns\n",
        "#checking for normality LILA's code Vers.1\n",
        "wellbeing=df_no_outliers[\"Wellbeing\"]\n",
        "  #wellbeing\n",
        "labels=[\"Wellbeing\"]\n",
        "  #labels\n",
        "chart=sns.distplot(df_no_outliers[\"Wellbeing\"])\n",
        "chart.set_xticklabels(labels)\n",
        "chart\n"
      ],
      "metadata": {
        "colab": {
          "base_uri": "https://localhost:8080/",
          "height": 341
        },
        "id": "BF69aB8Ib1S-",
        "outputId": "afca4a0d-c844-446e-e6c8-2917484dd60d"
      },
      "execution_count": null,
      "outputs": [
        {
          "output_type": "stream",
          "name": "stderr",
          "text": [
            "/usr/local/lib/python3.7/dist-packages/seaborn/distributions.py:2619: FutureWarning: `distplot` is a deprecated function and will be removed in a future version. Please adapt your code to use either `displot` (a figure-level function with similar flexibility) or `histplot` (an axes-level function for histograms).\n",
            "  warnings.warn(msg, FutureWarning)\n"
          ]
        },
        {
          "output_type": "execute_result",
          "data": {
            "text/plain": [
              "<matplotlib.axes._subplots.AxesSubplot at 0x7efc4accbc10>"
            ]
          },
          "metadata": {},
          "execution_count": 10
        },
        {
          "output_type": "display_data",
          "data": {
            "image/png": "[encoded data removed]",
            "text/plain": [
              "<Figure size 432x288 with 1 Axes>"
            ]
          },
          "metadata": {
            "needs_background": "light"
          }
        }
      ]
    },
    {
      "cell_type": "code",
      "source": [
        "#LILA's CODE VERS. 2 - replicating what I did on exercise 3 i.e removing outliers in both columns simultaneously, results is then also 40 non-null\n",
        "def remove_outliers2():\n",
        "  q1_w = df[\"Wellbeing\"].quantile(0.25)\n",
        "  q3_w = df[\"Wellbeing\"].quantile(0.75)\n",
        "  iqr_w = q3_w-q1_w\n",
        "  upper_w = q3_w + 1.5*iqr_w\n",
        "  lower_w = q1_w-1.5*iqr_w\n",
        "  q1_s = df[\"selfesteem\"].quantile(0.25)\n",
        "  q3_s = df[\"selfesteem\"].quantile(0.75)\n",
        "  iqr_s = q3_s-q1_s\n",
        "  upper_s = q3_s + 1.5*iqr_s\n",
        "  lower_s = q1_s-1.5*iqr_s\n",
        "  df_normal2 = df[((df[\"Wellbeing\"] < upper_w) & (df[\"Wellbeing\"] > lower_w)) & ((df[\"selfesteem\"] < upper_s)& (df[\"selfesteem\"]>lower_s))]\n",
        "  return df_normal2.info()\n",
        "  \n",
        "remove_outliers2()\n"
      ],
      "metadata": {
        "colab": {
          "base_uri": "https://localhost:8080/"
        },
        "id": "86eUOEDwTGl2",
        "outputId": "4a5a8227-d670-4151-c4a9-2ca5d4ccf105"
      },
      "execution_count": null,
      "outputs": [
        {
          "output_type": "stream",
          "name": "stdout",
          "text": [
            "<class 'pandas.core.frame.DataFrame'>\n",
            "Int64Index: 40 entries, 0 to 43\n",
            "Data columns (total 14 columns):\n",
            " #   Column         Non-Null Count  Dtype  \n",
            "---  ------         --------------  -----  \n",
            " 0   Age            40 non-null     int64  \n",
            " 1   English        40 non-null     object \n",
            " 2   firstlanguage  17 non-null     object \n",
            " 3   sex            40 non-null     object \n",
            " 4   origin         40 non-null     object \n",
            " 5   Ukresidence    40 non-null     float64\n",
            " 6   MAAS           40 non-null     float64\n",
            " 7   Resilliance    40 non-null     int64  \n",
            " 8   Wellbeing      40 non-null     int64  \n",
            " 9   Stress         40 non-null     int64  \n",
            " 10  selfesteem     40 non-null     int64  \n",
            " 11  LoC            40 non-null     int64  \n",
            " 12  sleep          40 non-null     int64  \n",
            " 13  Year           40 non-null     int64  \n",
            "dtypes: float64(2), int64(8), object(4)\n",
            "memory usage: 4.7+ KB\n"
          ]
        }
      ]
    },
    {
      "cell_type": "code",
      "source": [
        "#Looking at the normality of the data - Lila's code vers.1\n",
        "import seaborn as sns\n",
        "q1_w = df[\"Wellbeing\"].quantile(0.25)\n",
        "q3_w = df[\"Wellbeing\"].quantile(0.75)\n",
        "iqr_w = q3_w-q1_w\n",
        "upper_w = q3_w + 1.5*iqr_w\n",
        "lower_w = q1_w-1.5*iqr_w\n",
        "q1_s = df[\"selfesteem\"].quantile(0.25)\n",
        "q3_s = df[\"selfesteem\"].quantile(0.75)\n",
        "iqr_s = q3_s-q1_s\n",
        "upper_s = q3_s + 1.5*iqr_s\n",
        "lower_s = q1_s-1.5*iqr_s\n",
        "df_normal2 = df[((df[\"Wellbeing\"] < upper_w) & (df[\"Wellbeing\"] > lower_w)) & ((df[\"selfesteem\"] < upper_s)& (df[\"selfesteem\"]>lower_s))]\n",
        "wellbeing=df_normal2[\"Wellbeing\"]\n",
        "#wellbeing\n",
        "labels=[\"Wellbeing\"]\n",
        "  #labels\n",
        "chart=sns.distplot(df_normal2[\"Wellbeing\"])\n",
        "chart.set_xticklabels(labels)\n",
        "chart\n",
        "\n"
      ],
      "metadata": {
        "colab": {
          "base_uri": "https://localhost:8080/",
          "height": 342
        },
        "id": "yzAq0WJqDsa5",
        "outputId": "c95b4c40-0447-43b2-950f-6598bde34133"
      },
      "execution_count": null,
      "outputs": [
        {
          "output_type": "stream",
          "name": "stderr",
          "text": [
            "/usr/local/lib/python3.7/dist-packages/seaborn/distributions.py:2619: FutureWarning: `distplot` is a deprecated function and will be removed in a future version. Please adapt your code to use either `displot` (a figure-level function with similar flexibility) or `histplot` (an axes-level function for histograms).\n",
            "  warnings.warn(msg, FutureWarning)\n"
          ]
        },
        {
          "output_type": "execute_result",
          "data": {
            "text/plain": [
              "<matplotlib.axes._subplots.AxesSubplot at 0x7efc487dc610>"
            ]
          },
          "metadata": {},
          "execution_count": 20
        },
        {
          "output_type": "display_data",
          "data": {
            "image/png": "[encoded data removed]",
            "text/plain": [
              "<Figure size 432x288 with 1 Axes>"
            ]
          },
          "metadata": {
            "needs_background": "light"
          }
        }
      ]
    },
    {
      "cell_type": "code",
      "source": [
        "\n"
      ],
      "metadata": {
        "id": "iwWumLKKT2mi"
      },
      "execution_count": null,
      "outputs": []
    },
    {
      "cell_type": "markdown",
      "metadata": {
        "id": "wRs6sfE-CVNR"
      },
      "source": [
        "### Exercise 4 - Checking for normality\n",
        "---\n",
        "\n",
        "Linear regressions assume that the data is normally distributed (Gaussian) and therefore has the bell curved shape and a similar mean and median (this would be true if the mean was centred like it is in Gaussian data). \n",
        "\n",
        "1. Use Seaborn's **distplot** to check the shape of the `Wellbeing` and `selfesteem` columns.  Do they look normally distributed (Gaussian)?\n",
        "\n",
        "`sns.distplot(dataframe['column'])`\n",
        "\n",
        "*Hint: if you add, `bins= ...` as a parameter, you can set the number of bins (bars) in your chart*\n",
        "\n",
        "2. Compare the mean and median of `Wellbeing` - are they similar? \n",
        "3. Compare the mean and median of `selfesteem` - are they similar?\n",
        "\n",
        "\n",
        "\n"
      ]
    },
    {
      "cell_type": "code",
      "metadata": {
        "id": "HOxGYfg-CVNS",
        "colab": {
          "base_uri": "https://localhost:8080/",
          "height": 358
        },
        "outputId": "9649a746-ca63-4c2c-a312-313da26e5497"
      },
      "source": [
        "import seaborn as sns\n",
        "import matplotlib.pyplot as plt\n",
        "import pandas as pd\n",
        "\n",
        "url=\"https://github.com/lilaceri/Working-with-data-/blob/b157a2feceb7709cf82426932385706d65446270/Data%20Sets%20for%20code%20divisio/Positive_Psychology_2017.csv?raw=true\"\n",
        "psych=pd.read_csv(url)\n",
        "#psych\n",
        "#firstlanguage has to be dropped because of null values\n",
        "language_drop=psych.drop(columns=['firstlanguage'], axis=0)\n",
        "#language_drop.info()\n",
        "\n",
        "df=language_drop\n",
        "#column=\"selfesteem\", \"Wellbeing\"\n",
        "\n",
        "def remove_outliers():\n",
        "  #removing outliers on wellbeing column\n",
        "  wellbeingQ1=df[\"Wellbeing\"].quantile(0.25)#need to specify the column otherwise the whole dataframe is affected\n",
        "  wellbeingQ3=df[\"Wellbeing\"].quantile(0.75)\n",
        "  IQR=wellbeingQ3-wellbeingQ1\n",
        "\n",
        "  upper_limit_w =wellbeingQ3 + 1.5 * IQR\n",
        "  lower_limit_w =wellbeingQ1 - 1.5 * IQR\n",
        "\n",
        "  #removign outliers on selfesteem column\n",
        "  selfesteemQ1=df[\"selfesteem\"].quantile(0.25)\n",
        "  selfesteemQ3=df[\"selfesteem\"].quantile(0.75)\n",
        "  IQR2=selfesteemQ3-selfesteemQ1\n",
        "\n",
        "  lower_limit =selfesteemQ1 - 1.5 * IQR2\n",
        "  upper_limit =selfesteemQ3 + 1.5 * IQR2\n",
        "\n",
        "  df_normal=df[(df[\"Wellbeing\"] > (lower_limit_w)) & (df[\"Wellbeing\"] < (upper_limit_w)) & (df[\"selfesteem\"] > (lower_limit)) & (df[\"selfesteem\"] < (upper_limit)) ]\n",
        "\n",
        "\n",
        "  #return df_normal.info()\n",
        "\n",
        "  wellbeing=df_normal[\"Wellbeing\"]\n",
        "  #wellbeing\n",
        "  labels=[\"Wellbeing\"]\n",
        "  #labels\n",
        "  chart=sns.distplot(df_normal[\"Wellbeing\"])\n",
        "  chart.set_xticklabels(labels)\n",
        "  chart\n",
        "\n",
        "  wellbeing=df_normal[\"selfesteem\"]\n",
        "  #wellbeing\n",
        "  labels=[\"selfesteem\"]\n",
        "  #labels\n",
        "  chart=sns.distplot(df_normal[\"selfesteem\"])\n",
        "  chart.set_xticklabels(labels)\n",
        "  chart\n",
        "\n",
        "remove_outliers()\n",
        "#sns.distplot(dataframe['column'])"
      ],
      "execution_count": 12,
      "outputs": [
        {
          "output_type": "stream",
          "name": "stderr",
          "text": [
            "/usr/local/lib/python3.7/dist-packages/seaborn/distributions.py:2619: FutureWarning: `distplot` is a deprecated function and will be removed in a future version. Please adapt your code to use either `displot` (a figure-level function with similar flexibility) or `histplot` (an axes-level function for histograms).\n",
            "  warnings.warn(msg, FutureWarning)\n",
            "/usr/local/lib/python3.7/dist-packages/seaborn/distributions.py:2619: FutureWarning: `distplot` is a deprecated function and will be removed in a future version. Please adapt your code to use either `displot` (a figure-level function with similar flexibility) or `histplot` (an axes-level function for histograms).\n",
            "  warnings.warn(msg, FutureWarning)\n"
          ]
        },
        {
          "output_type": "display_data",
          "data": {
            "image/png": "[encoded data removed]",
            "text/plain": [
              "<Figure size 432x288 with 1 Axes>"
            ]
          },
          "metadata": {
            "needs_background": "light"
          }
        }
      ]
    },
    {
      "cell_type": "markdown",
      "metadata": {
        "id": "9nIUQF5TCVNT"
      },
      "source": [
        "### Exercise 5 - Check which variables are most highly correlated\n",
        "---\n",
        "Using the `dataframe.corr()` function and Seaborn's heatmap, create a correlation heatmap matrix to check which variables are most highly correlated.\n",
        "\n",
        "A correlation matrix finds the correlation coefficient between every variable pair combination in a set of variables.  A correlation heatmap shows the degree of correlation between variables using a colour scale.\n",
        "\n",
        "*The matrix and heatmap will always show the correlation coefficients between each variable and itself, which will have a correlation coefficient of 1.*\n",
        "  \n",
        "Values closest to 1 mean the variables are positively correlated with each other with 1 meaning 100% correlated\n",
        "\n",
        "\n",
        "Values close to -1 mean the variables are negatively correlated with each other with -1 meaning 100% negatively correlated\n",
        "\n",
        "1. create the correlation matrix assigning it to a variable called **correlation_matrix** using the .corr() function and rounding to 2 decimal places:\n",
        "\n",
        "  `correlation_matrix = dataframe.corr().round(2)`\n",
        "\n",
        "*This will create a matrix similar to the linear regression matrix created in the numpy worksheet, but with more than two variables.*\n",
        "\n",
        "2. create a heatmap of the correlation matrix using:\n",
        "\n",
        " `sns.heatmap(data=data_variable, annot=True)`\n",
        "\n",
        "*Hint: Use `annot = True` to print the correlation values inside the square*\n",
        "\n",
        "3. Which variables are the most highly correlated with each other (closest to 1 or -1)?"
      ]
    },
    {
      "cell_type": "code",
      "metadata": {
        "id": "GyYYASZvCVNT",
        "colab": {
          "base_uri": "https://localhost:8080/",
          "height": 321
        },
        "outputId": "e5014097-46be-4f97-92c3-a360172c21e9"
      },
      "source": [
        "import seaborn as sns\n",
        "import matplotlib.pyplot as plt\n",
        "import pandas as pd\n",
        "\n",
        "url=\"https://github.com/lilaceri/Working-with-data-/blob/b157a2feceb7709cf82426932385706d65446270/Data%20Sets%20for%20code%20divisio/Positive_Psychology_2017.csv?raw=true\"\n",
        "psych=pd.read_csv(url)\n",
        "#psych\n",
        "#firstlanguage has to be dropped because of null values\n",
        "language_drop=psych.drop(columns=['firstlanguage'], axis=0)\n",
        "#language_drop.info()\n",
        "\n",
        "df=language_drop\n",
        "#column=\"selfesteem\", \"Wellbeing\"\n",
        "\n",
        "def remove_outliers():\n",
        "  #removing outliers on wellbeing column\n",
        "  wellbeingQ1=df[\"Wellbeing\"].quantile(0.25)#need to specify the column otherwise the whole dataframe is affected\n",
        "  wellbeingQ3=df[\"Wellbeing\"].quantile(0.75)\n",
        "  IQR=wellbeingQ3-wellbeingQ1\n",
        "\n",
        "  upper_limit_w =wellbeingQ3 + 1.5 * IQR\n",
        "  lower_limit_w =wellbeingQ1 - 1.5 * IQR\n",
        "\n",
        "  #removign outliers on selfesteem column\n",
        "  selfesteemQ1=df[\"selfesteem\"].quantile(0.25)\n",
        "  selfesteemQ3=df[\"selfesteem\"].quantile(0.75)\n",
        "  IQR2=selfesteemQ3-selfesteemQ1\n",
        "\n",
        "  lower_limit =selfesteemQ1 - 1.5 * IQR2\n",
        "  upper_limit =selfesteemQ3 + 1.5 * IQR2\n",
        "  df_normal=df[(df[\"Wellbeing\"] > (lower_limit_w)) & (df[\"Wellbeing\"] < (upper_limit_w)) & (df[\"selfesteem\"] > (lower_limit)) & (df[\"selfesteem\"] < (upper_limit)) ]\n",
        "  \n",
        "  correlation_matrix=df_normal.corr().round(2)\n",
        "  sns.heatmap(data=correlation_matrix, annot=True)\n",
        "\n",
        "remove_outliers()"
      ],
      "execution_count": null,
      "outputs": [
        {
          "output_type": "display_data",
          "data": {
            "image/png": "[encoded data removed]",
            "text/plain": [
              "<Figure size 432x288 with 2 Axes>"
            ]
          },
          "metadata": {
            "needs_background": "light"
          }
        }
      ]
    },
    {
      "cell_type": "markdown",
      "source": [
        "Variable most correlated with each other:\n",
        "Wellbeing - Selfesteem (positive corr 0.64)\n",
        "Stress-Wellbeing (negative -0.62)\n",
        "Selfesteem - Stress (negative - 0.65)\n",
        "Stress - Resiliance (negative -0.55)"
      ],
      "metadata": {
        "id": "GpH0DklmOKHQ"
      }
    },
    {
      "cell_type": "markdown",
      "metadata": {
        "id": "jZgZHqbHCVNU"
      },
      "source": [
        "### Exercise 6 - Linear regression \n",
        "---\n",
        "Using the `linregress` function, perform a linear regression on the Wellbeing and selfesteem columns   \n",
        "To do this:\n",
        "\n",
        "1. `from scipy.stats import linregress`\n",
        "2. create a variable 'x' which stores the Wellbeing column\n",
        "3. create a variable 'y' which stores the selfesteem column\n",
        "4. create a variable called regression and assign the result of running the linregress function with x, y as its parameters ( linregress(x,y) )\n",
        "5. display the regression\n",
        "6. display the slope (regression.slope)\n",
        "7. display the y-intercept\n",
        "8. display the r^2 value (rvalue**2)\n",
        "9. display the pvalue \n"
      ]
    },
    {
      "cell_type": "code",
      "metadata": {
        "id": "5SpVEyHZCVNU",
        "colab": {
          "base_uri": "https://localhost:8080/"
        },
        "outputId": "01269b07-5db3-4eea-bd9a-3ee5a2a7b0ca"
      },
      "source": [
        "from scipy.stats import linregress\n",
        "import seaborn as sns\n",
        "import matplotlib.pyplot as plt\n",
        "import pandas as pd\n",
        "\n",
        "url=\"https://github.com/lilaceri/Working-with-data-/blob/b157a2feceb7709cf82426932385706d65446270/Data%20Sets%20for%20code%20divisio/Positive_Psychology_2017.csv?raw=true\"\n",
        "psych=pd.read_csv(url)\n",
        "#psych\n",
        "#firstlanguage has to be dropped because of null values\n",
        "language_drop=psych.drop(columns=['firstlanguage'], axis=0)\n",
        "#language_drop.info()\n",
        "\n",
        "df=language_drop\n",
        "#column=\"selfesteem\", \"Wellbeing\"\n",
        "\n",
        "def remove_outliers():\n",
        "  #removing outliers on wellbeing column\n",
        "  wellbeingQ1=df[\"Wellbeing\"].quantile(0.25)#need to specify the column otherwise the whole dataframe is affected\n",
        "  wellbeingQ3=df[\"Wellbeing\"].quantile(0.75)\n",
        "  IQR=wellbeingQ3-wellbeingQ1\n",
        "\n",
        "  upper_limit_w =wellbeingQ3 + 1.5 * IQR\n",
        "  lower_limit_w =wellbeingQ1 - 1.5 * IQR\n",
        "\n",
        "  #removign outliers on selfesteem column\n",
        "  selfesteemQ1=df[\"selfesteem\"].quantile(0.25)\n",
        "  selfesteemQ3=df[\"selfesteem\"].quantile(0.75)\n",
        "  IQR2=selfesteemQ3-selfesteemQ1\n",
        "\n",
        "  lower_limit =selfesteemQ1 - 1.5 * IQR2\n",
        "  upper_limit =selfesteemQ3 + 1.5 * IQR2\n",
        "  df_normal=df[(df[\"Wellbeing\"] > (lower_limit_w)) & (df[\"Wellbeing\"] < (upper_limit_w)) & (df[\"selfesteem\"] > (lower_limit)) & (df[\"selfesteem\"] < (upper_limit)) ]\n",
        "  \n",
        "\n",
        "  x=df_normal[\"Wellbeing\"]\n",
        "  y=df_normal[\"selfesteem\"]\n",
        "\n",
        "  regression=linregress(x,y)\n",
        "  print(regression,\"\\n\", \"slope:\", regression.slope,\"\\n\", \"r square:\", regression.rvalue,\"\\n\", \"y-intercept:\", regression.intercept,\"\\n\",\"p value=\",regression.pvalue)\n",
        "\n",
        "remove_outliers()\n"
      ],
      "execution_count": null,
      "outputs": [
        {
          "output_type": "stream",
          "name": "stdout",
          "text": [
            "LinregressResult(slope=0.4548393197957324, intercept=8.565226362213933, rvalue=0.6420102771261641, pvalue=7.99794978586635e-06, stderr=0.08811451151517669) \n",
            " slope: 0.4548393197957324 \n",
            " r square: 0.6420102771261641 \n",
            " y-intercept: 8.565226362213933 \n",
            " p value= 7.99794978586635e-06\n"
          ]
        }
      ]
    },
    {
      "cell_type": "markdown",
      "metadata": {
        "id": "ordhi_WUCVNU"
      },
      "source": [
        "### Exercise 7 - understanding the output \n",
        "---\n",
        "The r^2 value (rvalue**2) helps us understand how much our independent variable (x) is predicting our dependent variable (y). The closer to 1 the rvalue is the more  the change in Y is explained by X. So an rvalue of 0.7 means that 70% of Y's variance can be explained by X. \n",
        "\n",
        "Our pvalue shows how significant our model is, if the pvalue is < 0.05 then the model is significant. \n",
        "\n",
        "On this basis, write below the findings of the above regression.\n",
        "* is the model significant?\n",
        "* how much is the change in y explained by x? "
      ]
    },
    {
      "cell_type": "markdown",
      "metadata": {
        "id": "wVCxB73eCVNV"
      },
      "source": [
        "**Write about the findings here**: The change in y (self esteem) explained by x (wellbeing) is given by the  slope which in this case is positive (slope=0.454, r=0.64)and shows a positive correlation. The correlation between wellbeing and self esteem is significant as shown by the p<0.05 (p=7.99794978586635e-06)."
      ]
    },
    {
      "cell_type": "markdown",
      "metadata": {
        "id": "z7TcYPrOCVNV"
      },
      "source": [
        "### Exercise 8 - Linear regression with other variables \n",
        "---\n",
        "\n",
        "Referring back to the correlation heatmap..  \n",
        "*  Repeat Exercise 6 but with the variables that were the most highly correlated according to the heatmap.   \n",
        "* write a comment comparing the results of this regression with the one you created in exercise 6"
      ]
    },
    {
      "cell_type": "code",
      "metadata": {
        "id": "WHJi2r8zCVNV",
        "colab": {
          "base_uri": "https://localhost:8080/"
        },
        "outputId": "b1d6c7ae-056c-4541-ca88-fb77b8574dd9"
      },
      "source": [
        "from scipy.stats import linregress\n",
        "import seaborn as sns\n",
        "import matplotlib.pyplot as plt\n",
        "import pandas as pd\n",
        "\n",
        "url=\"https://github.com/lilaceri/Working-with-data-/blob/b157a2feceb7709cf82426932385706d65446270/Data%20Sets%20for%20code%20divisio/Positive_Psychology_2017.csv?raw=true\"\n",
        "psych=pd.read_csv(url)\n",
        "#psych\n",
        "#firstlanguage has to be dropped because of null values\n",
        "language_drop=psych.drop(columns=['firstlanguage'], axis=0)\n",
        "#language_drop.info()\n",
        "\n",
        "df=language_drop\n",
        "\n",
        "\n",
        "def remove_outliers():\n",
        "  #removing outliers on wellbeing column\n",
        "  wellbeingQ1=df[\"Wellbeing\"].quantile(0.25)#need to specify the column otherwise the whole dataframe is affected\n",
        "  wellbeingQ3=df[\"Wellbeing\"].quantile(0.75)\n",
        "  IQR=wellbeingQ3-wellbeingQ1\n",
        "\n",
        "  upper_limit_w =wellbeingQ3 + 1.5 * IQR\n",
        "  lower_limit_w =wellbeingQ1 - 1.5 * IQR\n",
        "\n",
        "  #removign outliers on selfesteem column\n",
        "  selfesteemQ1=df[\"selfesteem\"].quantile(0.25)\n",
        "  selfesteemQ3=df[\"selfesteem\"].quantile(0.75)\n",
        "  IQR2=selfesteemQ3-selfesteemQ1\n",
        "\n",
        "  lower_limit =selfesteemQ1 - 1.5 * IQR2\n",
        "  upper_limit =selfesteemQ3 + 1.5 * IQR2\n",
        "  df_normal=df[(df[\"Wellbeing\"] > (lower_limit_w)) & (df[\"Wellbeing\"] < (upper_limit_w)) & (df[\"selfesteem\"] > (lower_limit)) & (df[\"selfesteem\"] < (upper_limit)) ]\n",
        "  \n",
        "\n",
        "  x=df_normal[\"Wellbeing\"]\n",
        "  y=df_normal[\"Resilliance\"]\n",
        "\n",
        "  regression=linregress(x,y)\n",
        "\n",
        "  print(regression,\"\\n\", \"slope:\", regression.slope,\"\\n\", \"r square:\", regression.rvalue,\"\\n\", \"y-intercept:\", regression.intercept,\"\\n\",\"p value=\",regression.pvalue)\n",
        "remove_outliers()"
      ],
      "execution_count": null,
      "outputs": [
        {
          "output_type": "stream",
          "name": "stdout",
          "text": [
            "LinregressResult(slope=0.51761550232982, intercept=22.187864303031343, rvalue=0.5056502920089705, pvalue=0.0008736353489593725, stderr=0.1432664208945804) \n",
            " slope: 0.51761550232982 \n",
            " r square: 0.5056502920089705 \n",
            " y-intercept: 22.187864303031343 \n",
            " p value= 0.0008736353489593725\n"
          ]
        }
      ]
    },
    {
      "cell_type": "code",
      "source": [
        "from scipy.stats import linregress\n",
        "import seaborn as sns\n",
        "import matplotlib.pyplot as plt\n",
        "import pandas as pd\n",
        "\n",
        "url=\"https://github.com/lilaceri/Working-with-data-/blob/b157a2feceb7709cf82426932385706d65446270/Data%20Sets%20for%20code%20divisio/Positive_Psychology_2017.csv?raw=true\"\n",
        "psych=pd.read_csv(url)\n",
        "#psych\n",
        "#firstlanguage has to be dropped because of null values\n",
        "language_drop=psych.drop(columns=['firstlanguage'], axis=0)\n",
        "#language_drop.info()\n",
        "\n",
        "df=language_drop\n",
        "\n",
        "\n",
        "def remove_outliers():\n",
        "  #removing outliers on wellbeing column\n",
        "  wellbeingQ1=df[\"Wellbeing\"].quantile(0.25)#need to specify the column otherwise the whole dataframe is affected\n",
        "  wellbeingQ3=df[\"Wellbeing\"].quantile(0.75)\n",
        "  IQR=wellbeingQ3-wellbeingQ1\n",
        "\n",
        "  upper_limit_w =wellbeingQ3 + 1.5 * IQR\n",
        "  lower_limit_w =wellbeingQ1 - 1.5 * IQR\n",
        "\n",
        "  #removign outliers on selfesteem column\n",
        "  selfesteemQ1=df[\"selfesteem\"].quantile(0.25)\n",
        "  selfesteemQ3=df[\"selfesteem\"].quantile(0.75)\n",
        "  IQR2=selfesteemQ3-selfesteemQ1\n",
        "\n",
        "  lower_limit =selfesteemQ1 - 1.5 * IQR2\n",
        "  upper_limit =selfesteemQ3 + 1.5 * IQR2\n",
        "  df_normal=df[(df[\"Wellbeing\"] > (lower_limit_w)) & (df[\"Wellbeing\"] < (upper_limit_w)) & (df[\"selfesteem\"] > (lower_limit)) & (df[\"selfesteem\"] < (upper_limit)) ]\n",
        "  \n",
        "\n",
        "  x=df_normal[\"selfesteem\"]\n",
        "  y=df_normal[\"Stress\"]\n",
        "\n",
        "  regression=linregress(x,y)\n",
        "\n",
        "  print(regression,\"\\n\", \"slope:\", regression.slope,\"\\n\", \"r square:\", regression.rvalue,\"\\n\", \"y-intercept:\", regression.intercept,\"\\n\",\"p value=\",regression.pvalue)\n",
        "remove_outliers()"
      ],
      "metadata": {
        "colab": {
          "base_uri": "https://localhost:8080/"
        },
        "id": "RlQ-fO4KdsT_",
        "outputId": "db58e3f9-e1c0-439f-b763-4aba14a6ac14"
      },
      "execution_count": null,
      "outputs": [
        {
          "output_type": "stream",
          "name": "stdout",
          "text": [
            "LinregressResult(slope=-1.161453872769004, intercept=44.232331883114654, rvalue=-0.6547457501063074, pvalue=4.5727891714734265e-06, stderr=0.21750669720833493) \n",
            " slope: -1.161453872769004 \n",
            " r square: -0.6547457501063074 \n",
            " y-intercept: 44.232331883114654 \n",
            " p value= 4.5727891714734265e-06\n"
          ]
        }
      ]
    },
    {
      "cell_type": "code",
      "source": [
        "from scipy.stats import linregress\n",
        "import seaborn as sns\n",
        "import matplotlib.pyplot as plt\n",
        "import pandas as pd\n",
        "\n",
        "url=\"https://github.com/lilaceri/Working-with-data-/blob/b157a2feceb7709cf82426932385706d65446270/Data%20Sets%20for%20code%20divisio/Positive_Psychology_2017.csv?raw=true\"\n",
        "psych=pd.read_csv(url)\n",
        "#psych\n",
        "#firstlanguage has to be dropped because of null values\n",
        "language_drop=psych.drop(columns=['firstlanguage'], axis=0)\n",
        "#language_drop.info()\n",
        "\n",
        "df=language_drop\n",
        "\n",
        "\n",
        "def remove_outliers():\n",
        "  #removing outliers on wellbeing column\n",
        "  wellbeingQ1=df[\"Wellbeing\"].quantile(0.25)#need to specify the column otherwise the whole dataframe is affected\n",
        "  wellbeingQ3=df[\"Wellbeing\"].quantile(0.75)\n",
        "  IQR=wellbeingQ3-wellbeingQ1\n",
        "\n",
        "  upper_limit_w =wellbeingQ3 + 1.5 * IQR\n",
        "  lower_limit_w =wellbeingQ1 - 1.5 * IQR\n",
        "\n",
        "  #removign outliers on selfesteem column\n",
        "  selfesteemQ1=df[\"selfesteem\"].quantile(0.25)\n",
        "  selfesteemQ3=df[\"selfesteem\"].quantile(0.75)\n",
        "  IQR2=selfesteemQ3-selfesteemQ1\n",
        "\n",
        "  lower_limit =selfesteemQ1 - 1.5 * IQR2\n",
        "  upper_limit =selfesteemQ3 + 1.5 * IQR2\n",
        "  df_normal=df[(df[\"Wellbeing\"] > (lower_limit_w)) & (df[\"Wellbeing\"] < (upper_limit_w)) & (df[\"selfesteem\"] > (lower_limit)) & (df[\"selfesteem\"] < (upper_limit)) ]\n",
        "  \n",
        "\n",
        "  x=df_normal[\"Stress\"]\n",
        "  y=df_normal[\"Wellbeing\"]\n",
        "\n",
        "  regression=linregress(x,y)\n",
        "\n",
        "  print(regression,\"\\n\", \"slope:\", regression.slope,\"\\n\", \"r square:\", regression.rvalue,\"\\n\", \"y-intercept:\", regression.intercept,\"\\n\",\"p value=\",regression.pvalue)\n",
        "remove_outliers()"
      ],
      "metadata": {
        "colab": {
          "base_uri": "https://localhost:8080/"
        },
        "id": "vMO4oTKiePDO",
        "outputId": "2cd92bba-f610-42d0-d230-0915b43474f8"
      },
      "execution_count": null,
      "outputs": [
        {
          "output_type": "stream",
          "name": "stdout",
          "text": [
            "LinregressResult(slope=-0.4946002438599547, intercept=35.81268507228705, rvalue=-0.6215837119476934, pvalue=1.8625416061211117e-05, stderr=0.10111544548700478) \n",
            " slope: -0.4946002438599547 \n",
            " r square: -0.6215837119476934 \n",
            " y-intercept: 35.81268507228705 \n",
            " p value= 1.8625416061211117e-05\n"
          ]
        }
      ]
    },
    {
      "cell_type": "markdown",
      "metadata": {
        "id": "SaFhxdjEzKNL"
      },
      "source": [
        "**Comment here**: For practice sake I picked another three variables which according to the heatmap were as correlated as Wellbeing is to Self esteem These were:\n",
        "\n",
        "1.   Wellbeing-Resiliance (rsqr=0.51)\n",
        "2.   Selfesteem-Stress (rsqr=-0.65)\n",
        "\n",
        "1.   Stress-Wellbeing (rsqr=-0.621)\n",
        "\n",
        "A linear regression done on the variables mentioned above showed a significant correlation between them (pvalue<0.05). For comparison against the correlation between Wellbeing and self esteem (exercise 6) the negative correlation with the negative value farthest from 1 was chosen(Selfesteem - Stress, r=-065). The slope in this correlation tells us that self esteem may be affected by stress levels (slope=-1.161). The correlation seen between these variables is significant (p<0.05). \n",
        "Looking at the positive correlation between Wellbeing and Selfesteem (rvalue=0.642) it could be say that self esteem levels may be sligthly affected by wellbeing (slope=0.642). The correlation between these two variable was significant (p<0.05). In summary, these data may tell us that Stress and Wellbeing may play an important role in the self esteem of a person. \n",
        "\n",
        "\n",
        "\n"
      ]
    },
    {
      "cell_type": "markdown",
      "metadata": {
        "id": "dvvgY68hCVNW"
      },
      "source": [
        "### Exercise 9 - Plotting a line of best fit \n",
        "---\n",
        "To create a line of best fit we use y = slope\\*x + intercept. \n",
        "\n",
        "Using matplotlib (dont forget to import it):\n",
        "\n",
        "* create a scatter graph between Wellbeing and selfesteem \n",
        "* plot a line of best fit using the results in exercise 6  (y = slope * x + intercept)  "
      ]
    },
    {
      "cell_type": "code",
      "metadata": {
        "id": "KVT8QqYCCVNW",
        "colab": {
          "base_uri": "https://localhost:8080/",
          "height": 386
        },
        "outputId": "ecb93edd-3d54-47b7-c349-93d9a07368cc"
      },
      "source": [
        "from scipy.stats import linregress\n",
        "#import seaborn as sns\n",
        "import matplotlib.pyplot as plt\n",
        "import pandas as pd\n",
        "\n",
        "url=\"https://github.com/lilaceri/Working-with-data-/blob/b157a2feceb7709cf82426932385706d65446270/Data%20Sets%20for%20code%20divisio/Positive_Psychology_2017.csv?raw=true\"\n",
        "psych=pd.read_csv(url)\n",
        "#psych\n",
        "#firstlanguage has to be dropped because of null values\n",
        "language_drop=psych.drop(columns=['firstlanguage'], axis=0)\n",
        "#language_drop.info()\n",
        "\n",
        "df=language_drop\n",
        "\n",
        "\n",
        "def remove_outliers():\n",
        "  #removing outliers on wellbeing column\n",
        "  wellbeingQ1=df[\"Wellbeing\"].quantile(0.25)#need to specify the column otherwise the whole dataframe is affected\n",
        "  wellbeingQ3=df[\"Wellbeing\"].quantile(0.75)\n",
        "  IQR=wellbeingQ3-wellbeingQ1\n",
        "\n",
        "  upper_limit_w =wellbeingQ3 + 1.5 * IQR\n",
        "  lower_limit_w =wellbeingQ1 - 1.5 * IQR\n",
        "\n",
        "  #removign outliers on selfesteem column\n",
        "  selfesteemQ1=df[\"selfesteem\"].quantile(0.25)\n",
        "  selfesteemQ3=df[\"selfesteem\"].quantile(0.75)\n",
        "  IQR2=selfesteemQ3-selfesteemQ1\n",
        "\n",
        "  lower_limit =selfesteemQ1 - 1.5 * IQR2\n",
        "  upper_limit =selfesteemQ3 + 1.5 * IQR2\n",
        "  df_normal=df[(df[\"Wellbeing\"] > (lower_limit_w)) & (df[\"Wellbeing\"] < (upper_limit_w)) & (df[\"selfesteem\"] > (lower_limit)) & (df[\"selfesteem\"] < (upper_limit)) ]\n",
        "  \n",
        "\n",
        "  x=df_normal[\"Wellbeing\"]\n",
        "  y=df_normal[\"selfesteem\"]\n",
        "  plt.scatter(x,y)\n",
        "  regression=linregress(x,y)\n",
        "  slope=regression.slope\n",
        "  intercept = regression.intercept\n",
        "\n",
        "\n",
        "  #y=slope*x+intercept\n",
        "  plt.plot(x, slope*x + intercept)#PLOT LINE REGRESSION\n",
        "\n",
        "\n",
        "  plt.xlabel('Wellbeing')#ADD LABELS\n",
        "  plt.ylabel('Selfesteem')\n",
        "  plt.show()\n",
        "\n",
        "  print(regression,\"\\n\", \"slope:\", regression.slope,\"\\n\", \"r square:\", regression.rvalue,\"\\n\", \"y-intercept:\", regression.intercept,\"\\n\",\"p value=\",regression.pvalue)\n",
        "remove_outliers()\n"
      ],
      "execution_count": null,
      "outputs": [
        {
          "output_type": "display_data",
          "data": {
            "image/png": "[encoded data removed]",
            "text/plain": [
              "<Figure size 432x288 with 1 Axes>"
            ]
          },
          "metadata": {
            "needs_background": "light"
          }
        },
        {
          "output_type": "stream",
          "name": "stdout",
          "text": [
            "LinregressResult(slope=0.4548393197957324, intercept=8.565226362213933, rvalue=0.6420102771261641, pvalue=7.99794978586635e-06, stderr=0.08811451151517669) \n",
            " slope: 0.4548393197957324 \n",
            " r square: 0.6420102771261641 \n",
            " y-intercept: 8.565226362213933 \n",
            " p value= 7.99794978586635e-06\n"
          ]
        }
      ]
    },
    {
      "cell_type": "markdown",
      "metadata": {
        "id": "-KcUIkXHCVNW"
      },
      "source": [
        "### Exercise 10 - using Seaborn to plot a regression line \n",
        "---\n",
        "\n",
        "Use Seaborn's `regplot` function to create a scatter graph with line of best fit of the variables you used in Exercise 8.\n",
        "\n",
        "* Compare the 'Wellbeing' and 'selfesteem' graph to the graph you created in Exercise 9"
      ]
    },
    {
      "cell_type": "code",
      "metadata": {
        "id": "-xVsVD4GCVNX",
        "colab": {
          "base_uri": "https://localhost:8080/",
          "height": 386
        },
        "outputId": "b6581dde-09ba-427b-e441-9e462a357a80"
      },
      "source": [
        "from scipy.stats import linregress\n",
        "import seaborn as sns\n",
        "#import matplotlib.pyplot as plt\n",
        "import pandas as pd\n",
        "\n",
        "url=\"https://github.com/lilaceri/Working-with-data-/blob/b157a2feceb7709cf82426932385706d65446270/Data%20Sets%20for%20code%20divisio/Positive_Psychology_2017.csv?raw=true\"\n",
        "psych=pd.read_csv(url)\n",
        "#psych\n",
        "#firstlanguage has to be dropped because of null values\n",
        "language_drop=psych.drop(columns=['firstlanguage'], axis=0)\n",
        "#language_drop.info()\n",
        "\n",
        "df=language_drop\n",
        "\n",
        "\n",
        "def remove_outliers():\n",
        "  #removing outliers on wellbeing column\n",
        "  wellbeingQ1=df[\"Wellbeing\"].quantile(0.25)#need to specify the column otherwise the whole dataframe is affected\n",
        "  wellbeingQ3=df[\"Wellbeing\"].quantile(0.75)\n",
        "  IQR=wellbeingQ3-wellbeingQ1\n",
        "\n",
        "  upper_limit_w =wellbeingQ3 + 1.5 * IQR\n",
        "  lower_limit_w =wellbeingQ1 - 1.5 * IQR\n",
        "\n",
        "  #removign outliers on selfesteem column\n",
        "  selfesteemQ1=df[\"selfesteem\"].quantile(0.25)\n",
        "  selfesteemQ3=df[\"selfesteem\"].quantile(0.75)\n",
        "  IQR2=selfesteemQ3-selfesteemQ1\n",
        "\n",
        "  lower_limit =selfesteemQ1 - 1.5 * IQR2\n",
        "  upper_limit =selfesteemQ3 + 1.5 * IQR2\n",
        "  df_normal=df[(df[\"Wellbeing\"] > (lower_limit_w)) & (df[\"Wellbeing\"] < (upper_limit_w)) & (df[\"selfesteem\"] > (lower_limit)) & (df[\"selfesteem\"] < (upper_limit)) ]\n",
        "  \n",
        "\n",
        "  x=df_normal[\"selfesteem\"]\n",
        "  y=df_normal[\"Stress\"]\n",
        "  plt.scatter(x,y)\n",
        "  regression=linregress(x,y)\n",
        "  slope=regression.slope\n",
        "  intercept = regression.intercept\n",
        "\n",
        "#chart=sns.scatterplot(x=x,y=y)#normal scatterplot\n",
        "  chart=sns.regplot(x=x, y=y)\n",
        "  chart.set_xlabel('selfesteem')\n",
        "  chart.set_ylabel('Stress')\n",
        "  print(regression,\"\\n\", \"slope:\", regression.slope,\"\\n\", \"r square:\", regression.rvalue,\"\\n\", \"y-intercept:\", regression.intercept,\"\\n\",\"p value=\",regression.pvalue)\n",
        "remove_outliers()"
      ],
      "execution_count": null,
      "outputs": [
        {
          "output_type": "stream",
          "name": "stdout",
          "text": [
            "LinregressResult(slope=-1.161453872769004, intercept=44.232331883114654, rvalue=-0.6547457501063074, pvalue=4.5727891714734265e-06, stderr=0.21750669720833493) \n",
            " slope: -1.161453872769004 \n",
            " r square: -0.6547457501063074 \n",
            " y-intercept: 44.232331883114654 \n",
            " p value= 4.5727891714734265e-06\n"
          ]
        },
        {
          "output_type": "display_data",
          "data": {
            "image/png": "[encoded data removed]",
            "text/plain": [
              "<Figure size 432x288 with 1 Axes>"
            ]
          },
          "metadata": {
            "needs_background": "light"
          }
        }
      ]
    }
  ]
}